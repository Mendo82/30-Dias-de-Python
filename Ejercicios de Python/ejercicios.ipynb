{
 "cells": [
  {
   "cell_type": "markdown",
   "metadata": {},
   "source": [
    "<font size=6 color=red>Ejercicios Python</font>\n",
    "\n",
    "---\n"
   ]
  },
  {
   "cell_type": "markdown",
   "metadata": {},
   "source": [
    "Escribir una función que tome un carácter y devuelva True si es una vocal, de lo contrario devuelve False."
   ]
  },
  {
   "cell_type": "code",
   "execution_count": null,
   "metadata": {},
   "outputs": [],
   "source": [
    "def es_vocal(x):\n",
    "    vocales = ('a', 'e', 'i', 'o', 'u')\n",
    "    if x in vocales:\n",
    "        return True\n",
    "    else:\n",
    "        return False\n",
    "        \n",
    "print(es_vocal('r'))"
   ]
  },
  {
   "cell_type": "markdown",
   "metadata": {},
   "source": [
    "---\n",
    "\n",
    "Escribir una función sum() y una función multip() que sumen y multipliquen respectivamente todos los números de una lista. Por ejemplo: sum([1,2,3,4]) debería devolver 10 y multip([1,2,3,4]) debería devolver 24.\n"
   ]
  },
  {
   "cell_type": "code",
   "execution_count": null,
   "metadata": {},
   "outputs": [],
   "source": [
    "def suma(lista):\n",
    "    return sum(lista)\n",
    "\n",
    "def multiplicacion(lista):\n",
    "    resultado = 1\n",
    "    for numero in lista:\n",
    "        resultado *= numero # resultado = resultado * i \"1*1= 1\" \"1*2=2\" \"2*3=6\" \"6*4=24\"\n",
    "    return resultado\n",
    "\n",
    "print(multiplicacion([1,2,3,4]))"
   ]
  },
  {
   "cell_type": "markdown",
   "metadata": {},
   "source": [
    "---\n",
    "\n",
    "Definir una función inversa() que calcule la inversión de una cadena. Por ejemplo la cadena \"estoy probando\" debería devolver la cadena \"odnaborp yotse\"\n"
   ]
  },
  {
   "cell_type": "code",
   "execution_count": null,
   "metadata": {},
   "outputs": [],
   "source": [
    "def inversa(cadena):\n",
    "    cadena = cadena[::-1]\n",
    "    return cadena\n",
    "\n",
    "print(inversa(\"Me llamo pepe\"))\n"
   ]
  },
  {
   "cell_type": "markdown",
   "metadata": {},
   "source": [
    "---\n",
    "\n",
    "Definir una función es_palindromo() que reconoce palíndromos (es decir, palabras que tienen el mismo aspecto escritas invertidas), ejemplo: es_palindromo (\"radar\") tendría que devolver True.\n"
   ]
  },
  {
   "cell_type": "code",
   "execution_count": null,
   "metadata": {},
   "outputs": [],
   "source": [
    "def es_palindromo(cadena):\n",
    "    \n",
    "    return cadena == cadena[::-1]\n",
    "       \n",
    "print(es_palindromo('radar'))"
   ]
  },
  {
   "cell_type": "markdown",
   "metadata": {},
   "source": [
    "---\n",
    "\n",
    "Definir una función superposicion() que tome dos listas y devuelva True si tienen al menos 1 miembro en común o devuelva False de lo contrario. Escribir la función usando el bucle for anidado.\n"
   ]
  },
  {
   "cell_type": "code",
   "execution_count": null,
   "metadata": {},
   "outputs": [],
   "source": [
    "def superposicion(list1, list2):\n",
    "    for elemento in list1:\n",
    "        if elemento in list2:\n",
    "            return True\n",
    "        else:\n",
    "            return False\n",
    "            \n",
    "print(superposicion([1,2,3,4], [5,6,7,1]))\n"
   ]
  },
  {
   "cell_type": "markdown",
   "metadata": {},
   "source": [
    "---\n",
    "\n",
    "Definir una función generar_n_caracteres() que tome un entero n y devuelva el caracter multiplicado por n. Por ejemplo: generar_n_caracteres(5, \"x\") debería devolver \"xxxxx\".\n"
   ]
  },
  {
   "cell_type": "code",
   "execution_count": null,
   "metadata": {},
   "outputs": [],
   "source": [
    "def generar_n_caracteres(n, c):\n",
    "    return n * c\n",
    "\n",
    "print(generar_n_caracteres(10, 'x'))"
   ]
  },
  {
   "cell_type": "markdown",
   "metadata": {},
   "source": [
    "---\n",
    "\n",
    "Definir un histograma procedimiento() que tome una lista de números enteros e imprima un histograma en la pantalla. Ejemplo: procedimiento([4, 9, 7]) debería imprimir lo siguiente:\n"
   ]
  },
  {
   "cell_type": "code",
   "execution_count": null,
   "metadata": {},
   "outputs": [],
   "source": [
    "def histograma(lista):\n",
    "    for elemento in lista:\n",
    "        print(elemento * '*')\n",
    "        \n",
    "histograma([1,2,10])"
   ]
  },
  {
   "cell_type": "markdown",
   "metadata": {},
   "source": [
    "---\n",
    "\n",
    "Escribir un programa que pida al usuario un número entero y muestre por pantalla un triángulo rectángulo como el de más abajo.\n"
   ]
  },
  {
   "cell_type": "code",
   "execution_count": null,
   "metadata": {},
   "outputs": [],
   "source": [
    "def triangulo_rectangulo(numero):\n",
    "    for i in range(1, numero+1 ,2):\n",
    "        for x in range(i, 0, -2):\n",
    "            print(x, end=\" \")\n",
    "        print('')\n",
    "\n",
    "        \n",
    "triangulo_rectangulo(30)"
   ]
  },
  {
   "cell_type": "markdown",
   "metadata": {},
   "source": [
    "---\n",
    "\n",
    "Escribir un programa que almacene la cadena de caracteres contraseña en una variable, pregunte al usuario por la contraseña hasta que introduzca la contraseña correcta.\n"
   ]
  },
  {
   "cell_type": "code",
   "execution_count": null,
   "metadata": {},
   "outputs": [],
   "source": [
    "contraseña = \"2475\"\n",
    "introduce_contraseña = \"\"\n",
    "\n",
    "while contraseña != introduce_contraseña:\n",
    "    introduce_contraseña = input('Introduce la contraseña para acceder: ')\n",
    "    if introduce_contraseña != contraseña:\n",
    "       print('Contraseña incorrecta.') \n",
    "    else:\n",
    "        print('Estas dentro del sistema!!')"
   ]
  },
  {
   "cell_type": "markdown",
   "metadata": {},
   "source": [
    "---\n",
    "\n",
    "Escribir un programa en el que se pregunte al usuario por una frase y una letra, y muestre por pantalla el número de veces que aparece la letra en la frase.\n"
   ]
  },
  {
   "cell_type": "code",
   "execution_count": null,
   "metadata": {},
   "outputs": [],
   "source": [
    "frase = input('Introduce una frase:')\n",
    "letra = input('introduce una letra: ')\n",
    "contador = 0\n",
    "for i in frase:\n",
    "    if i == letra:\n",
    "        contador += 1\n",
    "    \n",
    "print('La letra:', letra, ',aparece', contador, 'veces en la frase:', frase)\n"
   ]
  },
  {
   "cell_type": "markdown",
   "metadata": {},
   "source": [
    "---\n",
    "\n",
    "Escribir un programa que muestre el eco de todo lo que el usuario introduzca hasta que el usuario escriba “salir” que terminará.\n"
   ]
  },
  {
   "cell_type": "code",
   "execution_count": null,
   "metadata": {},
   "outputs": [],
   "source": [
    "while True:\n",
    "    entrada_de_texto = input('Introduce un texto: ')\n",
    "    if entrada_de_texto == \"salir\":\n",
    "        break\n",
    "    else:\n",
    "        print(entrada_de_texto)\n"
   ]
  }
 ],
 "metadata": {
  "language_info": {
   "name": "python"
  }
 },
 "nbformat": 4,
 "nbformat_minor": 2
}
