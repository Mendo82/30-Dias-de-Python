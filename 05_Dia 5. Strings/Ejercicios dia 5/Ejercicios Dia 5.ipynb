{
 "cells": [
  {
   "cell_type": "markdown",
   "metadata": {},
   "source": [
    "\n",
    "<span style='font-size: 2em; color: red'>Ejercicios - Dia 5</span>\n",
    "\n",
    "---\n",
    "\n",
    "Concatene la cadena 'Treinta', 'Días', 'De', 'Python' en una sola cadena,\n",
    "'Treinta días de Python'."
   ]
  },
  {
   "cell_type": "code",
   "execution_count": null,
   "metadata": {},
   "outputs": [],
   "source": [
    "texto_1 = 'Treinta'\n",
    "texto_2 = 'Dias'\n",
    "texto_3 = 'De'\n",
    "texto_4 = 'Python'\n",
    "\n",
    "concatenar = \" \".join([texto_1, texto_2, texto_3, texto_4])\n",
    "\n",
    "print(concatenar)"
   ]
  },
  {
   "cell_type": "markdown",
   "metadata": {},
   "source": [
    "---\n",
    "\n",
    "Concatene la cadena 'Codificación', 'Para', 'Todos' en una sola cadena, 'Codificación para todos'."
   ]
  },
  {
   "cell_type": "code",
   "execution_count": null,
   "metadata": {},
   "outputs": [],
   "source": [
    "texto_1 = 'Codificacion'\n",
    "texto_2 = 'Para'\n",
    "texto_3 = 'Todos'\n",
    "concatenar = \" \".join([texto_1, texto_2, texto_3]).capitalize()\n",
    "\n",
    "print(concatenar)"
   ]
  },
  {
   "cell_type": "markdown",
   "metadata": {},
   "source": [
    "---\n",
    "\n",
    "Declare una variable llamada empresa y asígnele un valor inicial \"Codificación para todos\"."
   ]
  },
  {
   "cell_type": "code",
   "execution_count": null,
   "metadata": {},
   "outputs": [],
   "source": [
    "empresa = 'Codificacion para todos'\n",
    "\n",
    "# Imprime la empresa variable usando print().\n",
    "print(empresa)"
   ]
  },
  {
   "cell_type": "markdown",
   "metadata": {},
   "source": [
    "Imprima la longitud de la cadena de caracteres de la empresa utilizando el método `len()` e `print()`."
   ]
  },
  {
   "cell_type": "code",
   "execution_count": null,
   "metadata": {},
   "outputs": [],
   "source": [
    "print(len(empresa))\n",
    "\n",
    "# Cambie todos los caracteres a letras mayúsculas usando el método upper().\n",
    "print(empresa.upper())\n",
    "\n",
    "# Cambie todos los caracteres a letras minúsculas usando el método lower().\n",
    "print(empresa.lower())\n"
   ]
  },
  {
   "cell_type": "markdown",
   "metadata": {},
   "source": [
    "---\n",
    "\n",
    "Use los métodos capitalize(), title(), swapcase() para formatear el valor de la cadena Codificacion para todos."
   ]
  },
  {
   "cell_type": "code",
   "execution_count": null,
   "metadata": {},
   "outputs": [],
   "source": [
    "empresa = 'Codificacion para todos'\n",
    "\n",
    "print(empresa.capitalize())\n",
    "print(empresa.title())\n",
    "print(empresa.swapcase())\n",
    "\n",
    "# Corte (rebanar) la primera palabra de la cadena Coding For All.\n",
    "print(empresa[0:13])"
   ]
  },
  {
   "cell_type": "markdown",
   "metadata": {},
   "source": [
    "---\n",
    "\n",
    "Verifique si la cadena Coding For All contiene una palabra Coding usando el método index, find u otros métodos."
   ]
  },
  {
   "cell_type": "code",
   "execution_count": null,
   "metadata": {},
   "outputs": [],
   "source": [
    "empresa = 'Coding For All'\n",
    "\n",
    "print(empresa.index('Coding'))\n",
    "print(empresa.find('Coding'))"
   ]
  },
  {
   "cell_type": "markdown",
   "metadata": {},
   "source": [
    "---\n",
    "\n",
    "Reemplace la palabra codificación en la cadena 'Codificación para todos' por Python."
   ]
  },
  {
   "cell_type": "code",
   "execution_count": null,
   "metadata": {},
   "outputs": [],
   "source": [
    "empresa = 'Codificacion para todos'\n",
    "\n",
    "print(empresa.replace('Codificacion', 'Python'))\n",
    "print('Codificacion para todos'.replace('Codificacion', 'Python'))"
   ]
  },
  {
   "cell_type": "markdown",
   "metadata": {},
   "source": [
    "---\n",
    "\n",
    "Cambie Python para todos a Python para todo usando el método de reemplazo u otros métodos."
   ]
  },
  {
   "cell_type": "code",
   "execution_count": null,
   "metadata": {},
   "outputs": [],
   "source": [
    "texto = 'Python para todos'\n",
    "print(texto.replace('todos', 'todo'))"
   ]
  },
  {
   "cell_type": "markdown",
   "metadata": {},
   "source": [
    "---\n",
    "\n",
    "Divida la cadena 'Codificación para todos' usando el espacio como separador split()."
   ]
  },
  {
   "cell_type": "code",
   "execution_count": null,
   "metadata": {},
   "outputs": [],
   "source": [
    "texto = 'Codificación para todos'\n",
    "print(texto.split(\" \"))"
   ]
  },
  {
   "cell_type": "markdown",
   "metadata": {},
   "source": [
    "---\n",
    "\n",
    "\"Facebook, Google, Microsoft, Apple, IBM, Oracle, Amazon\" divide la cadena en la coma."
   ]
  },
  {
   "cell_type": "code",
   "execution_count": null,
   "metadata": {},
   "outputs": [],
   "source": [
    "texto = \"Facebook, Google, Microsoft, Apple, IBM, Oracle, Amazon\"\n",
    "print(texto.split(','))"
   ]
  },
  {
   "cell_type": "markdown",
   "metadata": {},
   "source": [
    "---\n",
    "\n",
    "¿Cuál es el carácter en el índice 0 en la cadena Coding For All?"
   ]
  },
  {
   "cell_type": "code",
   "execution_count": null,
   "metadata": {},
   "outputs": [],
   "source": [
    "texto = 'Coding For All'\n",
    "print(texto[0])\n",
    "\n",
    "# ¿Cuál es el carácter en el índice 0 en la cadena Coding For All?\n",
    "\n",
    "texto = 'Coding For All'\n",
    "print(texto[0])\n",
    "\n",
    "# ¿Cuál es el último índice de la cadena Coding For All?\n",
    "\n",
    "print(texto[-1])\n",
    "\n",
    "# Qué carácter está en el índice 10 en la cadena \"Codificación para todos\".\n",
    "\n",
    "texto = \"Codificación para todos\"\n",
    "print(texto[10])"
   ]
  },
  {
   "cell_type": "markdown",
   "metadata": {},
   "source": [
    "---\n",
    "\n",
    "Cree un acrónimo o una abreviatura para el nombre 'Python For Everyone'."
   ]
  },
  {
   "cell_type": "code",
   "execution_count": null,
   "metadata": {},
   "outputs": [],
   "source": [
    "texto = input('Introduce una frase: ')\n",
    "texto = texto.split()\n",
    "siglas = []\n",
    "palabras = ['en', 'un', 'de', 'la', 'el']\n",
    "for palabra in texto:\n",
    "    if palabra not in palabras:\n",
    "        siglas.append(palabra[0])\n",
    "\n",
    "siglas = ''.join(siglas).upper()\n",
    "\n",
    "print(siglas)"
   ]
  },
  {
   "cell_type": "markdown",
   "metadata": {},
   "source": [
    "---\n",
    "\n",
    "Use index para determinar la posición de la primera aparición de C en Coding For All."
   ]
  },
  {
   "cell_type": "code",
   "execution_count": null,
   "metadata": {},
   "outputs": [],
   "source": [
    "texto = 'Coding For All'\n",
    "print(texto.index('C'))\n",
    "\n",
    "# Utilice el índice para determinar la posición de la primera aparición de F en Coding For All.\n",
    "\n",
    "print(texto.index('F'))\n",
    "\n",
    "# Use rfind para determinar la posición de la última aparición de l en Coding For All People.\n",
    "\n",
    "texto = 'Coding For All People'\n",
    "posicion = texto.rfind('l')\n",
    "print(posicion)"
   ]
  },
  {
   "cell_type": "markdown",
   "metadata": {},
   "source": [
    "---\n",
    "\n",
    "Use index o find para encontrar la posición de la primera aparición de la palabra 'porque' en la siguiente oración: 'No puede terminar una oración con porque porque porque es una conjunción'."
   ]
  },
  {
   "cell_type": "code",
   "execution_count": null,
   "metadata": {},
   "outputs": [],
   "source": [
    "texto = \"No puede terminar una oración con porque porque porque es una conjunción\"\n",
    "\n",
    "print(texto.index('porque'))\n",
    "print(texto.find('porque'))"
   ]
  },
  {
   "cell_type": "markdown",
   "metadata": {},
   "source": [
    "---\n",
    "\n",
    "Use rindex para encontrar la posición de la última aparición de la palabra porque en la siguiente oración: 'No puede terminar una oración con porque porque porque es una conjunción'."
   ]
  },
  {
   "cell_type": "code",
   "execution_count": null,
   "metadata": {},
   "outputs": [],
   "source": [
    "texto = \"No puede terminar una oración con porque porque porque es una conjunción\"\n",
    "posicion = texto.rindex('porque')\n",
    "print(posicion)"
   ]
  },
  {
   "cell_type": "markdown",
   "metadata": {},
   "source": [
    "---\n",
    "\n",
    "Corta la frase 'porque porque porque' en la siguiente oración:\n",
    "\n",
    "```text\n",
    "'No puedes terminar una oración con porque porque porque es una conjunción'\n",
    "```\n"
   ]
  },
  {
   "cell_type": "code",
   "execution_count": null,
   "metadata": {},
   "outputs": [],
   "source": [
    "texto = \"No puede terminar una oración con porque porque porque es una conjunción\"\n",
    "nuevo_texto = texto.replace('porque porque porque', '')\n",
    "\n",
    "print(nuevo_texto)"
   ]
  },
  {
   "cell_type": "markdown",
   "metadata": {},
   "source": [
    "---\n",
    "\n",
    "¿'Coding For All' comienza con una subcadena Coding ?"
   ]
  },
  {
   "cell_type": "code",
   "execution_count": null,
   "metadata": {},
   "outputs": [],
   "source": [
    "texto = 'Coding For All'\n",
    "resultado = texto.startswith('Coding')\n",
    "print(resultado)  # True"
   ]
  },
  {
   "cell_type": "markdown",
   "metadata": {},
   "source": [
    "---\n",
    "\n",
    "¿'Codificación para todos' termina con una codificación de subcadena?"
   ]
  },
  {
   "cell_type": "code",
   "execution_count": null,
   "metadata": {},
   "outputs": [],
   "source": [
    "texto = 'Coding For All'\n",
    "resultado = texto.endswith('coding')\n",
    "print(resultado)  # False"
   ]
  },
  {
   "cell_type": "markdown",
   "metadata": {},
   "source": [
    "---\n",
    "\n",
    "' Codificación para todos ', elimine los espacios finales izquierdo y derecho en la cadena dada."
   ]
  },
  {
   "cell_type": "code",
   "execution_count": null,
   "metadata": {},
   "outputs": [],
   "source": [
    "texto = ' Codificación para todos '\n",
    "texto_limpio = texto.strip()\n",
    "print(texto_limpio)\n",
    "\n",
    "texto = ' Codificación para todos '\n",
    "texto = texto[1:]\n",
    "texto = texto[:-1]\n",
    "print(texto)"
   ]
  },
  {
   "cell_type": "markdown",
   "metadata": {},
   "source": [
    "---\n",
    "\n",
    "¿Cuál de las siguientes variables devuelve True cuando usamos el método isidentifier():\n",
    "\n",
    "```text\n",
    "- 30DíasDePython\n",
    "- treinta_dias_de_python\n",
    "```"
   ]
  },
  {
   "cell_type": "code",
   "execution_count": null,
   "metadata": {},
   "outputs": [],
   "source": [
    "texto_1 = '30DíasDePython'\n",
    "print(texto_1.isidentifier())\n",
    "\n",
    "texto_2 = 'treinta_dias_de_python'\n",
    "print(texto_2.isidentifier())"
   ]
  },
  {
   "cell_type": "markdown",
   "metadata": {},
   "source": [
    "---\n",
    "\n",
    "La siguiente lista contiene los nombres de algunas de las bibliotecas de Python:\n",
    "\n",
    "```python\n",
    "['Django', 'Flask', 'Bottle', 'Pyramid', 'Falcon']\n",
    "```\n",
    "\n",
    "\n",
    "Únase a la lista con un hash con cadena de espacio."
   ]
  },
  {
   "cell_type": "code",
   "execution_count": null,
   "metadata": {},
   "outputs": [],
   "source": [
    "lista = ['Django', 'Flask', 'Bottle', 'Pyramid', 'Falcon']\n",
    "string = ' '.join(lista)\n",
    "\n",
    "print(string)"
   ]
  },
  {
   "cell_type": "markdown",
   "metadata": {},
   "source": [
    "---\n",
    "\n",
    "Use la secuencia de escape de nueva línea para separar las siguientes oraciones:\n",
    "\n",
    "```text\n",
    "I am enjoying this challenge.\n",
    "I just wonder what is next.\n",
    "```\n"
   ]
  },
  {
   "cell_type": "code",
   "execution_count": null,
   "metadata": {},
   "outputs": [],
   "source": [
    "print('I am enjoying this challenge.\\nI just wonder what is next.')"
   ]
  },
  {
   "cell_type": "markdown",
   "metadata": {},
   "source": [
    "---\n",
    "\n",
    "Use una secuencia de escape de tabulación para escribir las siguientes líneas:\n",
    "\n",
    "```text\n",
    "Name      Age     Country   City\n",
    "Asabeneh  250     Finland   Helsinki\n",
    "```\n"
   ]
  },
  {
   "cell_type": "code",
   "execution_count": null,
   "metadata": {},
   "outputs": [],
   "source": [
    "print('Name\\t\\tAge\\t\\tCountry\\t\\tCity')\n",
    "print('Asabeneh\\t250\\t\\tFinland\\t\\tHelsinki')"
   ]
  },
  {
   "cell_type": "markdown",
   "metadata": {},
   "source": [
    "---\n",
    "\n",
    "Utilice el método de formato de cadena para mostrar lo siguiente:\n",
    "\n",
    "```text\n",
    "radio = 10\n",
    "area = 3.14 * radio ** 2\n",
    "El area de un círculo con radio 10 es de 314 metros cuadrados.\n",
    "```"
   ]
  },
  {
   "cell_type": "code",
   "execution_count": null,
   "metadata": {},
   "outputs": [],
   "source": [
    "radio = 10\n",
    "area = 3.14 * radio ** 2\n",
    "\n",
    "print(f'El area de un circulo radio 10 es {area} metros cuadrados')"
   ]
  }
 ],
 "metadata": {
  "kernelspec": {
   "display_name": "Python 3",
   "language": "python",
   "name": "python3"
  },
  "language_info": {
   "codemirror_mode": {
    "name": "ipython",
    "version": 3
   },
   "file_extension": ".py",
   "mimetype": "text/x-python",
   "name": "python",
   "nbconvert_exporter": "python",
   "pygments_lexer": "ipython3",
   "version": "3.11.7"
  }
 },
 "nbformat": 4,
 "nbformat_minor": 2
}
