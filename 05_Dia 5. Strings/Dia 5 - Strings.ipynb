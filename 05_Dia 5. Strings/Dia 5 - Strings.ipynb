{
 "cells": [
  {
   "cell_type": "markdown",
   "metadata": {},
   "source": [
    "<font size=6 color='red'>30 días de Python: Día 5 - Strings</font>\n",
    "\n",
    "---\n",
    "\n",
    "<span style=\"font-size: 1.5em; color: red\">Strings</span>\n",
    "\n",
    "El texto es un tipo de datos string. Cualquier tipo de datos escrito como texto es un string. Todos los datos entre comillas simples, \n",
    "dobles o triples son cadenas (`string`). Existen diferentes métodos de string y funciones integradas para manejar tipos de datos de \n",
    "cadena (`string`). Para verificar la longitud de una cadena, use el método `len()`.\n",
    "\n",
    "<span style=\"font-size: 1.5em; color: grey\">Crear un string</span>"
   ]
  },
  {
   "cell_type": "code",
   "execution_count": null,
   "metadata": {},
   "outputs": [],
   "source": [
    "letra = 'P'                # La cadena puede ser un solo carácter o un montón de textos\n",
    "print(letra)               # P\n",
    "print(len(letra))          # 1\n",
    "\n",
    "saludo = 'Hello, World!'   # La cadena se puede hacer usando una comilla simple o doble, \"¡Hola, mundo!\"\n",
    "print(saludo)              # Hello, World!\n",
    "print(len(saludo))         # 13\n",
    "\n",
    "oracion = \"I hope you are enjoying 30 days of Python Challenge\"\n",
    "print(oracion)"
   ]
  },
  {
   "cell_type": "markdown",
   "metadata": {},
   "source": [
    "*Salida:*\n",
    "\n",
    "```text\n",
    "P\n",
    "1\n",
    "Hello, World!\n",
    "13\n",
    "I hope you are enjoying 30 days of Python Challenge\n",
    "```\n"
   ]
  },
  {
   "cell_type": "markdown",
   "metadata": {},
   "source": [
    "La cadena multilínea se crea usando comillas triples simples (''') o triples dobles (\"\"). Consulte el ejemplo a continuación."
   ]
  },
  {
   "cell_type": "code",
   "execution_count": null,
   "metadata": {},
   "outputs": [],
   "source": [
    "multiline_string = '''I am a teacher and enjoy teaching.\n",
    "I didn't find anything as rewarding as empowering people.\n",
    "That is why I created 30 days of python.'''\n",
    "\n",
    "print(multiline_string)"
   ]
  },
  {
   "cell_type": "markdown",
   "metadata": {},
   "source": [
    "*Salida:*\n",
    "\n",
    "```text\n",
    "I am a teacher and enjoy teaching.\n",
    "I didn't find anything as rewarding as empowering people.\n",
    "That is why I created 30 days of python.\n",
    "```\n"
   ]
  },
  {
   "cell_type": "markdown",
   "metadata": {},
   "source": [
    "<span style=\"font-size: 1.5em; color: grey\">Otra forma de hacer lo mismo</span>"
   ]
  },
  {
   "cell_type": "code",
   "execution_count": null,
   "metadata": {},
   "outputs": [],
   "source": [
    "multiline_string = \"\"\"I am a teacher and enjoy teaching.\n",
    "I didn't find anything as rewarding as empowering people.\n",
    "That is why I created 30 days of python.\"\"\"\n",
    "\n",
    "print(multiline_string)"
   ]
  },
  {
   "cell_type": "markdown",
   "metadata": {},
   "source": [
    "*Salida:*\n",
    "\n",
    "```text\n",
    "I am a teacher and enjoy teaching.\n",
    "I didn't find anything as rewarding as empowering people.\n",
    "That is why I created 30 days of python.\n",
    "```\n"
   ]
  },
  {
   "cell_type": "markdown",
   "metadata": {},
   "source": [
    "---\n",
    "\n",
    "<span style=\"font-size: 1.5em; color: grey\">Concatenación de cadenas</span>\n",
    "\n",
    "Podemos conectar cuerdas juntas. Combinar o conectar cadenas se llama concatenación. Vea el ejemplo a continuación:"
   ]
  },
  {
   "cell_type": "code",
   "execution_count": null,
   "metadata": {},
   "outputs": [],
   "source": [
    "nombre = 'Asabeneh'\n",
    "apellido = 'Yetayeh'\n",
    "espacio = ' '\n",
    "mombre_completo = nombre + espacio + apellido\n",
    "\n",
    "print(mombre_completo)  # Asabeneh Yetayeh"
   ]
  },
  {
   "cell_type": "markdown",
   "metadata": {},
   "source": [
    "*Salida:*\n",
    "\n",
    "```text\n",
    "Asabeneh Yetayeh\n",
    "```\n"
   ]
  },
  {
   "cell_type": "markdown",
   "metadata": {},
   "source": [
    "---\n",
    "\n",
    "<span style=\"font-size: 1.5em; color: grey\">Verificando la longitud de una cadena usando la función incorporada len()</span>\n",
    "\n",
    "*Ejemplo:*"
   ]
  },
  {
   "cell_type": "code",
   "execution_count": null,
   "metadata": {},
   "outputs": [],
   "source": [
    "print(len(nombre))                 # 8\n",
    "print(len(apellido))               # 7\n",
    "print(len(nombre) > len(apellido)) # True\n",
    "print(len(mombre_completo))        # 16"
   ]
  },
  {
   "cell_type": "markdown",
   "metadata": {},
   "source": [
    "---\n",
    "\n",
    "<span style=\"font-size: 1.5em; color: grey\">Secuencias de escape en cadenas</span>\n",
    "\n",
    "En Python y otros lenguajes de programación el simbolo \"`\\`\" seguido de un carácter es una secuencia de escape.\n",
    "Veamos los caracteres de escape más comunes: \n",
    "\n",
    "```text\n",
    "\\n: nueva línea\n",
    "\\t: Tabulador significa (8 espacios)\n",
    "\\\\: barra invertida\n",
    "\\': Una frase (')\n",
    "\\\": comillas dobles (\")\n",
    "```\n",
    "\n",
    "\n",
    "Ahora, veamos el uso de las secuencias de escape anteriores con ejemplos."
   ]
  },
  {
   "cell_type": "code",
   "execution_count": null,
   "metadata": {},
   "outputs": [],
   "source": [
    "print('I hope everyone is enjoying the Python Challenge.\\nAre you ?')  # Salto de línea\n",
    "print('Days\\tTopics\\tExercises') # Agregando espacio de tabulación o 4 espacios \n",
    "print('Day 1\\t3\\t5')\n",
    "print('Day 2\\t3\\t5')\n",
    "print('Day 3\\t3\\t5')\n",
    "print('Day 4\\t3\\t5')\n",
    "print('This is a backslash symbol (\\\\)') # Para escribir una barra invertida\n",
    "print('In every programming language it starts with \\\"Hello, World!\\\"') # Escribir una comilla doble dentro de una comilla simple"
   ]
  },
  {
   "cell_type": "markdown",
   "metadata": {},
   "source": [
    "*Salida:*\n",
    "\n",
    "```text\n",
    "I hope every one is enjoying the Python Challenge.\n",
    "Are you ?\n",
    "Days\tTopics\tExercises\n",
    "Day 1\t5\t    5\n",
    "Day 2\t6\t    20\n",
    "Day 3\t5\t    23\n",
    "Day 4\t1\t    35\n",
    "This is a backslash  symbol (\\)\n",
    "In every programming language it starts with \"Hello, World!\"\n",
    "```\n"
   ]
  },
  {
   "cell_type": "markdown",
   "metadata": {},
   "source": [
    "---\n",
    "\n",
    "<span style=\"font-size: 1.5em; color: grey\">Formato de cadena</span>\n",
    "\n",
    "Formato de cadena de estilo antiguo (% operador).\n",
    "En Python hay muchas formas de formatear cadenas. En esta sección, cubriremos algunos de ellos.\n",
    "El operador \"`%`\" se utiliza para formatear un conjunto de variables encerradas en una \"`tupla`\" (una lista de tamaño fijo), junto con \n",
    "una cadena de formato, que contiene texto normal junto con \"`especificadores de argumento`\", símbolos especiales como \"`%s`\" , \"`%d`\", \n",
    "\"`%f`\", \"`%.número de dígitos`\".\n",
    "\n",
    "```text\n",
    "%s - Cadena (o cualquier objeto con una representación de cadena, como números)\n",
    "%d - Enteros\n",
    "%f - Números de punto flotante\n",
    "\"%.numero de digitos\" - Números de punto flotante con precisión fija\n",
    "```\n"
   ]
  },
  {
   "cell_type": "markdown",
   "metadata": {},
   "source": [
    "<span style=\"font-size: 1.5em; color: grey\">Solo Strings</span>"
   ]
  },
  {
   "cell_type": "code",
   "execution_count": null,
   "metadata": {},
   "outputs": [],
   "source": [
    "nombre = 'Asabeneh'\n",
    "apellido = 'Yetayeh'\n",
    "lenguaje = 'Python'\n",
    "cadena_formateada = 'I am %s %s. I teach %s' %(nombre, apellido, lenguaje)\n",
    "\n",
    "print(cadena_formateada)"
   ]
  },
  {
   "cell_type": "markdown",
   "metadata": {},
   "source": [
    "*Salida:*\n",
    "\n",
    "```text\n",
    "I am Asabeneh Yetayeh. I teach Python\n",
    "```\n"
   ]
  },
  {
   "cell_type": "markdown",
   "metadata": {},
   "source": [
    "<span style=\"font-size: 1.5em; color: grey\">Strings y numeros</span>"
   ]
  },
  {
   "cell_type": "code",
   "execution_count": null,
   "metadata": {},
   "outputs": [],
   "source": [
    "radio = 10\n",
    "pi = 3.14\n",
    "area = pi * radio ** 2\n",
    "cadena_formateada = 'The area of circle with a radio %d is %.2f.' %(radio, area) # 2 se refiere a los 2 dígitos significativos después del punto\n",
    "\n",
    "python_libraries = ['Django', 'Flask', 'NumPy', 'Matplotlib', 'Pandas']\n",
    "cadena_formateada = 'The following are python libraries:%s' % (python_libraries)\n",
    "print(cadena_formateada)  # \"The following are python libraries:['Django', 'Flask', 'NumPy', 'Matplotlib', 'Pandas']\""
   ]
  },
  {
   "cell_type": "markdown",
   "metadata": {},
   "source": [
    "*Salida:*\n",
    "\n",
    "```text\n",
    "The following are python libraries:['Django', 'Flask', 'NumPy', 'Matplotlib', 'Pandas']\n",
    "```\n",
    "\n"
   ]
  },
  {
   "cell_type": "markdown",
   "metadata": {},
   "source": [
    "<span style=\"font-size: 1.5em; color: grey\">Nuevo formato de cadena de estilo (str.format)</span>\n",
    "\n",
    "Este formato se introdujo en la versión 3 de Python."
   ]
  },
  {
   "cell_type": "code",
   "execution_count": null,
   "metadata": {},
   "outputs": [],
   "source": [
    "nombre = 'Asabeneh'\n",
    "apellido = 'Yetayeh'\n",
    "lenguaje = 'Python'\n",
    "cadena_formateada = 'I am {} {}. I teach {}'.format(nombre, apellido, lenguaje)\n",
    "print(cadena_formateada)\n",
    "\n",
    "a = 4\n",
    "b = 3\n",
    "\n",
    "print('{} + {} = {}'.format(a, b, a + b))\n",
    "print('{} - {} = {}'.format(a, b, a - b))\n",
    "print('{} * {} = {}'.format(a, b, a * b))\n",
    "print('{} / {} = {:.2f}'.format(a, b, a / b))  # Lo limita a dos dígitos después del decimal\n",
    "print('{} % {} = {}'.format(a, b, a % b))\n",
    "print('{} // {} = {}'.format(a, b, a // b))\n",
    "print('{} ** {} = {}'.format(a, b, a ** b))"
   ]
  },
  {
   "cell_type": "markdown",
   "metadata": {},
   "source": [
    "*Salida:*\n",
    "\n",
    "```text\n",
    "4 + 3 = 7\n",
    "4 - 3 = 1\n",
    "4 * 3 = 12\n",
    "4 / 3 = 1.33\n",
    "4 % 3 = 1\n",
    "4 // 3 = 1\n",
    "4 ** 3 = 64\n",
    "```"
   ]
  },
  {
   "cell_type": "markdown",
   "metadata": {},
   "source": [
    "<span style=\"font-size: 1.5em; color: grey\">Interpolación de cadenas / cadenas f (Python 3.6+)</span>\n",
    "\n",
    "Otro nuevo formato de cadena es la interpolación de cadenas, `f-strings`.\n",
    "Las cadenas comienzan con `f` y podemos inyectar los datos en sus posiciones correspondientes.\n",
    "\n",
    "*Ejemplo:*"
   ]
  },
  {
   "cell_type": "code",
   "execution_count": null,
   "metadata": {},
   "outputs": [],
   "source": [
    "a = 4\n",
    "b = 3\n",
    "\n",
    "print(f'{a} + {b} = {a +b}')\n",
    "print(f'{a} - {b} = {a - b}')\n",
    "print(f'{a} * {b} = {a * b}')\n",
    "print(f'{a} / {b} = {a / b:.2f}')\n",
    "print(f'{a} % {b} = {a % b}')\n",
    "print(f'{a} // {b} = {a // b}')\n",
    "print(f'{a} ** {b} = {a ** b}')"
   ]
  },
  {
   "cell_type": "markdown",
   "metadata": {},
   "source": [
    "*Salida:*\n",
    "\n",
    "```text\n",
    "4 + 3 = 7\n",
    "4 - 3 = 1\n",
    "4 * 3 = 12\n",
    "4 / 3 = 1.33\n",
    "4 % 3 = 1\n",
    "4 // 3 = 1\n",
    "4 ** 3 = 64\n",
    "```\n"
   ]
  },
  {
   "cell_type": "markdown",
   "metadata": {},
   "source": [
    "---\n",
    "\n",
    "<span style=\"font-size: 1.5em; color: grey\">Cadenas de Python como secuencias de caracteres</span>\n",
    "\n",
    "Las cadenas de Python son secuencias de caracteres y comparten sus métodos básicos de acceso con otras secuencias de objetos \n",
    "ordenadas de Python: listas y tuplas. La forma más sencilla de extraer caracteres individuales de cadenas y miembros individuales de \n",
    "cualquier secuencia es descomprimirlos en las variables correspondientes.\n",
    "\n",
    "*Ejemplo:*"
   ]
  },
  {
   "cell_type": "code",
   "execution_count": null,
   "metadata": {},
   "outputs": [],
   "source": [
    "lenguaje = 'Python'\n",
    "a,b,c,d,e,f = lenguaje  # Desempaquetar caracteres de secuencia en variables\n",
    "\n",
    "print(a) # P\n",
    "print(b) # y\n",
    "print(c) # t\n",
    "print(d) # h\n",
    "print(e) # o\n",
    "print(f) # n"
   ]
  },
  {
   "cell_type": "markdown",
   "metadata": {},
   "source": [
    "*Salida:*\n",
    "\n",
    "```text\n",
    "P\n",
    "y\n",
    "t\n",
    "h\n",
    "o\n",
    "n\n",
    "```\n"
   ]
  },
  {
   "cell_type": "markdown",
   "metadata": {},
   "source": [
    "---\n",
    "\n",
    "<span style=\"font-size: 1.5em; color: grey\">Acceso a caracteres en cadenas por índice</span>\n",
    "\n",
    "En la programación, el conteo comienza desde cero. Por lo tanto, la primera letra de una cadena tiene un índice cero y la última \n",
    "letra de una cadena es la longitud de una cadena menos uno."
   ]
  },
  {
   "cell_type": "code",
   "execution_count": null,
   "metadata": {},
   "outputs": [],
   "source": [
    "lenguaje = 'Python'\n",
    "primera_letra = lenguaje[0]\n",
    "print(primera_letra)     # P\n",
    "\n",
    "segunda_letra = lenguaje[1]\n",
    "print(segunda_letra)    # y\n",
    "\n",
    "ultimo_indice = len(lenguaje) - 1\n",
    "ultima_letra = lenguaje[ultimo_indice]\n",
    "print(ultima_letra)     # n"
   ]
  },
  {
   "cell_type": "markdown",
   "metadata": {},
   "source": [
    "*Salida:*\n",
    "\n",
    "```text\n",
    "P\n",
    "y\n",
    "n\n",
    "```\n"
   ]
  },
  {
   "cell_type": "markdown",
   "metadata": {},
   "source": [
    "Si queremos comenzar desde el extremo derecho, podemos usar la indexación negativa. -1 es el último índice."
   ]
  },
  {
   "cell_type": "code",
   "execution_count": null,
   "metadata": {},
   "outputs": [],
   "source": [
    "lenguaje = 'Python'\n",
    "ultima_letra = lenguaje[-1]\n",
    "print(ultima_letra) # n\n",
    "\n",
    "penultimo = lenguaje[-2]\n",
    "print(penultimo)    # o"
   ]
  },
  {
   "cell_type": "markdown",
   "metadata": {},
   "source": [
    "*Salida:*\n",
    "\n",
    "```text\n",
    "n\n",
    "o\n",
    "```\n"
   ]
  },
  {
   "cell_type": "markdown",
   "metadata": {},
   "source": [
    "---\n",
    "\n",
    "<span style=\"font-size: 1.5em; color: grey\">Cortar cadenas en Python</span>\n",
    "\n",
    "En python podemos dividir cadenas en subcadenas."
   ]
  },
  {
   "cell_type": "code",
   "execution_count": null,
   "metadata": {},
   "outputs": [],
   "source": [
    "lenguaje = 'Python'\n",
    "los_tres_primeros = lenguaje[0:3]  # Comienza en el índice cero y hasta 3 pero no incluye 3\n",
    "print(los_tres_primeros)           #Pyt\n",
    "\n",
    "los_ultimos_tres = lenguaje[3:6]\n",
    "print(los_ultimos_tres)            # hon"
   ]
  },
  {
   "cell_type": "markdown",
   "metadata": {},
   "source": [
    "*Salida:*\n",
    "\n",
    "```text\n",
    "Pyt\n",
    "hon\n",
    "```\n"
   ]
  },
  {
   "cell_type": "markdown",
   "metadata": {},
   "source": [
    "<span style=\"font-size: 1.5em; color: grey\">De otra manera</span>"
   ]
  },
  {
   "cell_type": "code",
   "execution_count": null,
   "metadata": {},
   "outputs": [],
   "source": [
    "los_ultimos_tres = lenguaje[-3:]\n",
    "print(los_ultimos_tres)   # hon\n",
    "\n",
    "los_ultimos_tres = lenguaje[3:]\n",
    "print(los_ultimos_tres)   # hon"
   ]
  },
  {
   "cell_type": "markdown",
   "metadata": {},
   "source": [
    "*Salida:*\n",
    "\n",
    "```text\n",
    "hon\n",
    "hon\n",
    "```\n",
    "\n"
   ]
  },
  {
   "cell_type": "markdown",
   "metadata": {},
   "source": [
    "---\n",
    "\n",
    "<span style=\"font-size: 1.5em; color: grey\">Invertir una cadena</span>\n",
    "\n",
    "Podemos invertir cadenas fácilmente en python."
   ]
  },
  {
   "cell_type": "code",
   "execution_count": null,
   "metadata": {},
   "outputs": [],
   "source": [
    "saludo = 'Hello, World!'\n",
    "print(saludo[::-1]) # !dlroW ,olleH"
   ]
  },
  {
   "cell_type": "markdown",
   "metadata": {},
   "source": [
    "*Salida:*\n",
    "\n",
    "```text\n",
    "!dlroW ,olleH\n",
    "```\n"
   ]
  },
  {
   "cell_type": "markdown",
   "metadata": {},
   "source": [
    "---\n",
    "\n",
    "<span style=\"font-size: 1.5em; color: grey\">Saltar caracteres al cortar</span>\n",
    "\n",
    "Es posible omitir caracteres durante el corte pasando el argumento de paso al método de corte."
   ]
  },
  {
   "cell_type": "code",
   "execution_count": null,
   "metadata": {},
   "outputs": [],
   "source": [
    "lenguaje = 'Python'\n",
    "pto = lenguaje[0:6:2]\n",
    "\n",
    "print(pto) # Pto"
   ]
  },
  {
   "cell_type": "markdown",
   "metadata": {},
   "source": [
    "*Salida:*\n",
    "\n",
    "```text\n",
    "Pto\n",
    "```\n"
   ]
  },
  {
   "cell_type": "markdown",
   "metadata": {},
   "source": [
    "\n",
    "---\n",
    "\n",
    "<span style=\"font-size: 2em; color: grey\">Metodos de cadena</span>\n",
    "\n",
    "Hay muchos métodos de cadena que nos permiten formatear cadenas. Vea algunos de los métodos de cadena en los siguientes ejemplos:"
   ]
  },
  {
   "cell_type": "markdown",
   "metadata": {},
   "source": [
    "<span style=\"font-size: 1.5em; color: grey\">capitalize():</span>\n",
    "\n",
    "Convierte el primer carácter de la cadena en letra mayúscula."
   ]
  },
  {
   "cell_type": "code",
   "execution_count": null,
   "metadata": {},
   "outputs": [],
   "source": [
    "desafio = 'thirty days of python'\n",
    "\n",
    "print(desafio.capitalize()) # 'Thirty days of python'"
   ]
  },
  {
   "cell_type": "markdown",
   "metadata": {},
   "source": [
    "*Salida:*\n",
    "\n",
    "```text\n",
    "Thirty days of python\n",
    "```\n"
   ]
  },
  {
   "cell_type": "markdown",
   "metadata": {},
   "source": [
    "---\n",
    "\n",
    "<span style=\"font-size: 1.5em; color: grey\">count():</span>\n",
    "\n",
    "Devuelve ocurrencias de subcadena en cadena, cuenta(subcadena, inicio=.., final=..). El inicio es una indexación inicial para contar \n",
    "y el final es el último índice para contar."
   ]
  },
  {
   "cell_type": "code",
   "execution_count": null,
   "metadata": {},
   "outputs": [],
   "source": [
    "desafio = 'thirty days of python'\n",
    "\n",
    "print(desafio.count('y'))         # 3\n",
    "print(desafio.count('y', 7, 14))  # 1\n",
    "print(desafio.count('th'))        # 2"
   ]
  },
  {
   "cell_type": "markdown",
   "metadata": {},
   "source": [
    "*Salida:*\n",
    "\n",
    "```text\n",
    "3\n",
    "1\n",
    "2\n",
    "```\n"
   ]
  },
  {
   "cell_type": "markdown",
   "metadata": {},
   "source": [
    "---\n",
    "\n",
    "<span style=\"font-size: 1.5em; color: grey\">endswith():</span>\n",
    "\n",
    "Comprueba si una cadena termina con un final específico."
   ]
  },
  {
   "cell_type": "code",
   "execution_count": null,
   "metadata": {},
   "outputs": [],
   "source": [
    "desafio = 'thirty days of python'\n",
    "\n",
    "print(desafio.endswith('on'))   # True\n",
    "print(desafio.endswith('tion')) # False"
   ]
  },
  {
   "cell_type": "markdown",
   "metadata": {},
   "source": [
    "*Salida:*\n",
    "\n",
    "```text\n",
    "True\n",
    "False\n",
    "```\n"
   ]
  },
  {
   "cell_type": "markdown",
   "metadata": {},
   "source": [
    "---\n",
    "\n",
    "<span style=\"font-size: 1.5em; color: grey\">expandtabs():</span>\n",
    "\n",
    "Reemplaza el carácter de tabulación con espacios, el tamaño de tabulación predeterminado es 8. Toma el argumento de tamaño de \n",
    "tabulación."
   ]
  },
  {
   "cell_type": "code",
   "execution_count": null,
   "metadata": {},
   "outputs": [],
   "source": [
    "desafio = 'thirty\\tdays\\tof\\tpython'\n",
    "\n",
    "print(desafio.expandtabs())   # 'thirty  days    of      python'\n",
    "print(desafio.expandtabs(10)) # 'thirty    days      of        python'"
   ]
  },
  {
   "cell_type": "markdown",
   "metadata": {},
   "source": [
    "*Salida:*\n",
    "\n",
    "```text\n",
    "thirty  days    of      python\n",
    "thirty    days      of        python\n",
    "```\n"
   ]
  },
  {
   "cell_type": "markdown",
   "metadata": {},
   "source": [
    "---\n",
    "\n",
    "<span style=\"font-size: 1.5em; color: grey\">find():</span>\n",
    "\n",
    "Devuelve el índice de la primera aparición de una subcadena, si no se encuentra devuelve -1."
   ]
  },
  {
   "cell_type": "code",
   "execution_count": null,
   "metadata": {},
   "outputs": [],
   "source": [
    "desafio = 'thirty days of python'\n",
    "\n",
    "print(desafio.find('y'))   # 5\n",
    "print(desafio.find('th'))  # 0"
   ]
  },
  {
   "cell_type": "markdown",
   "metadata": {},
   "source": [
    "*Salida:*\n",
    "\n",
    "```text\n",
    "5\n",
    "0\n",
    "```\n"
   ]
  },
  {
   "cell_type": "markdown",
   "metadata": {},
   "source": [
    "---\n",
    "\n",
    "<span style=\"font-size: 1.5em; color: grey\">rfind():</span>\n",
    "\n",
    "Devuelve el índice de la última aparición de una subcadena, si no se encuentra devuelve -1."
   ]
  },
  {
   "cell_type": "code",
   "execution_count": null,
   "metadata": {},
   "outputs": [],
   "source": [
    "desafio = 'thirty days of python'\n",
    "\n",
    "print(desafio.rfind('y'))  # 16\n",
    "print(desafio.rfind('th')) # 17"
   ]
  },
  {
   "cell_type": "markdown",
   "metadata": {},
   "source": [
    "*Salida:*\n",
    "\n",
    "```text\n",
    "16\n",
    "17\n",
    "```\n"
   ]
  },
  {
   "cell_type": "markdown",
   "metadata": {},
   "source": [
    "---\n",
    "\n",
    "<span style=\"font-size: 1.5em; color: grey\">format():</span>\n",
    "\n",
    "Formatea la cadena en una salida más agradable."
   ]
  },
  {
   "cell_type": "code",
   "execution_count": null,
   "metadata": {},
   "outputs": [],
   "source": [
    "nombre = 'Asabeneh'\n",
    "apellido = 'Yetayeh'\n",
    "edad = 250\n",
    "trabajo = 'teacher'\n",
    "pais = 'Finland'\n",
    "oracion = 'I am {} {}. I am a {}. I am {} years old. I live in {}.'.format(nombre, apellido, edad, trabajo, pais)\n",
    "\n",
    "print(oracion)  # I am Asabeneh Yetayeh. I am 250 years old. I am a teacher. I live in Finland.\n",
    "\n",
    "radio = 10\n",
    "pi = 3.14\n",
    "area = pi * radio ** 2\n",
    "resultado = 'El area de un circulo con radio {} es {}'.format(str(radio), str(area))\n",
    "\n",
    "print(resultado) # El area de un circulo con radio 10 es 314.0"
   ]
  },
  {
   "cell_type": "markdown",
   "metadata": {},
   "source": [
    "*Salida:*\n",
    "\n",
    "```text\n",
    "I am Asabeneh Yetayeh. I am a 250. I am teacher years old. I live in Finland.\n",
    "El area de un circulo con radio 10 es 314.0\n",
    "```\n"
   ]
  },
  {
   "cell_type": "markdown",
   "metadata": {},
   "source": [
    "---\n",
    "\n",
    "<span style=\"font-size: 1.5em; color: grey\">index():</span>\n",
    "\n",
    "Devuelve el índice más bajo de una subcadena, los argumentos adicionales indican el índice inicial y final (predeterminado 0 y \n",
    "longitud de cadena - 1). Si no se encuentra la subcadena, genera un valueError."
   ]
  },
  {
   "cell_type": "code",
   "execution_count": null,
   "metadata": {},
   "outputs": [],
   "source": [
    "desafio = 'thirty days of python'\n",
    "sub_string = 'da'\n",
    "\n",
    "print(desafio.index(sub_string))      # 7\n",
    "print(desafio.index(sub_string, 9))   # Error"
   ]
  },
  {
   "cell_type": "markdown",
   "metadata": {},
   "source": [
    "*Salida:*\n",
    "\n",
    "```python\n",
    "7\n",
    "\n",
    "ValueError                                Traceback (most recent call last)\n",
    "Cell In[22], line 4\n",
    "      2 sub_string = 'da'\n",
    "      3 print(desafio.index(sub_string))      # 7\n",
    "----> 4 print(desafio.index(sub_string, 9))   # Error\n",
    "\n",
    "ValueError: substring not found\n",
    "```\n"
   ]
  },
  {
   "cell_type": "markdown",
   "metadata": {},
   "source": [
    "---\n",
    "\n",
    "<span style=\"font-size: 1.5em; color: grey\">rindex():</span>\n",
    "\n",
    "Devuelve el índice más alto de una subcadena, los argumentos adicionales indican el índice inicial y final (predeterminado 0 y \n",
    "longitud de la cadena - 1)."
   ]
  },
  {
   "cell_type": "code",
   "execution_count": null,
   "metadata": {},
   "outputs": [],
   "source": [
    "desafio = 'thirty days of python'\n",
    "sub_string = 'da'\n",
    "\n",
    "print(desafio.rindex(sub_string))     # 7\n",
    "print(desafio.rindex(sub_string, 9))  # Error"
   ]
  },
  {
   "cell_type": "markdown",
   "metadata": {},
   "source": [
    "*Salida:*\n",
    "\n",
    "```python\n",
    "7\n",
    "---------------------------------------------------------------------------\n",
    "ValueError                                Traceback (most recent call last)\n",
    "Cell In[24], line 4\n",
    "      2 sub_string = 'da'\n",
    "      3 print(desafio.rindex(sub_string))     # 8\n",
    "----> 4 print(desafio.rindex(sub_string, 9))  # Error\n",
    "\n",
    "ValueError: substring not found\n",
    "```\n"
   ]
  },
  {
   "cell_type": "markdown",
   "metadata": {},
   "source": [
    "---\n",
    "\n",
    "<span style=\"font-size: 1.5em; color: grey\">isalnum():</span>\n",
    "\n",
    "Comprueba el carácter alfanumérico."
   ]
  },
  {
   "cell_type": "code",
   "execution_count": null,
   "metadata": {},
   "outputs": [],
   "source": [
    "desafio = 'ThirtyDaysPython'\n",
    "print(desafio.isalnum())  # True\n",
    "\n",
    "desafio = '30DaysPython'\n",
    "print(desafio.isalnum())  # True\n",
    "\n",
    "desafio = 'thirty days of python'\n",
    "print(desafio.isalnum())  # False, el espacio no es un carácter alfanumérico\n",
    "\n",
    "desafio = 'thirty days of python 2019'\n",
    "print(desafio.isalnum()) # False"
   ]
  },
  {
   "cell_type": "markdown",
   "metadata": {},
   "source": [
    "*Salida:*\n",
    "\n",
    "```text\n",
    "True\n",
    "True\n",
    "False\n",
    "False\n",
    "```\n"
   ]
  },
  {
   "cell_type": "markdown",
   "metadata": {},
   "source": [
    "---\n",
    "\n",
    "<span style=\"font-size: 1.5em; color: grey\">isalpha():</span>\n",
    "\n",
    "Comprueba si todos los elementos de cadena son caracteres alfabéticos (az y AZ)."
   ]
  },
  {
   "cell_type": "code",
   "execution_count": null,
   "metadata": {},
   "outputs": [],
   "source": [
    "desafio = 'thirty days of python'\n",
    "print(desafio.isalpha())  # False, el espacio vuelve a quedar excluido\n",
    "\n",
    "desafio = 'ThirtyDaysPython'\n",
    "print(desafio.isalpha())  # True\n",
    "\n",
    "num = '123'\n",
    "print(num.isalpha())      # False"
   ]
  },
  {
   "cell_type": "markdown",
   "metadata": {},
   "source": [
    "*Salida:*\n",
    "\n",
    "```text\n",
    "False\n",
    "True\n",
    "False\n",
    "```\n"
   ]
  },
  {
   "cell_type": "markdown",
   "metadata": {},
   "source": [
    "---\n",
    "\n",
    "<span style=\"font-size: 1.5em; color: grey\">isdecimal():</span>\n",
    "\n",
    "Comprueba si todos los caracteres de una cadena son decimales (0-9)."
   ]
  },
  {
   "cell_type": "code",
   "execution_count": null,
   "metadata": {},
   "outputs": [],
   "source": [
    "desafio = 'thirty days of python'\n",
    "print(desafio.isdecimal())  # False\n",
    "\n",
    "desafio = '123'\n",
    "print(desafio.isdecimal())  # True\n",
    "\n",
    "desafio = '\\u00B2'\n",
    "print(desafio.isdigit())    # False\n",
    "\n",
    "desafio = '12 3'\n",
    "print(desafio.isdecimal())  # False, espacio no permitido"
   ]
  },
  {
   "cell_type": "markdown",
   "metadata": {},
   "source": [
    "*Salida:*\n",
    "\n",
    "```text\n",
    "False\n",
    "True\n",
    "True\n",
    "False\n",
    "```\n"
   ]
  },
  {
   "cell_type": "markdown",
   "metadata": {},
   "source": [
    "---\n",
    "\n",
    "<span style=\"font-size: 1.5em; color: grey\">isdigit():</span>\n",
    "\n",
    "Comprueba si todos los caracteres de una cadena son números (0-9 y algunos otros caracteres Unicode para números)."
   ]
  },
  {
   "cell_type": "code",
   "execution_count": null,
   "metadata": {},
   "outputs": [],
   "source": [
    "desafio = 'Thirty'\n",
    "print(desafio.isdigit())   # False\n",
    "\n",
    "desafio = '30'\n",
    "print(desafio.isdigit())   # True\n",
    "\n",
    "desafio = '\\u00B2'\n",
    "print(desafio.isdigit())   # True"
   ]
  },
  {
   "cell_type": "markdown",
   "metadata": {},
   "source": [
    "*Salida:*\n",
    "\n",
    "```text\n",
    "False\n",
    "True\n",
    "True\n",
    "```\n"
   ]
  },
  {
   "cell_type": "markdown",
   "metadata": {},
   "source": [
    "---\n",
    "\n",
    "<span style=\"font-size: 1.5em; color: grey\">isnumeric():</span>\n",
    "\n",
    "Comprueba si todos los caracteres de una cadena son números o están relacionados con números (al igual que isdigit(), solo acepta más \n",
    "símbolos, como ½)."
   ]
  },
  {
   "cell_type": "code",
   "execution_count": null,
   "metadata": {},
   "outputs": [],
   "source": [
    "num = '10'\n",
    "print(num.isnumeric())  # True\n",
    "\n",
    "num = '\\u00BD' # ½\n",
    "print(num.isnumeric())  # True\n",
    "\n",
    "num = '10.5'\n",
    "print(num.isnumeric())  # False"
   ]
  },
  {
   "cell_type": "markdown",
   "metadata": {},
   "source": [
    "*Salida:*\n",
    "\n",
    "```text\n",
    "True\n",
    "True\n",
    "False\n",
    "```\n"
   ]
  },
  {
   "cell_type": "markdown",
   "metadata": {},
   "source": [
    "---\n",
    "\n",
    "<span style=\"font-size: 1.5em; color: grey\">isidentifier():</span>\n",
    "\n",
    "Busca un identificador válido; verifica si una cadena es un nombre de variable válido."
   ]
  },
  {
   "cell_type": "code",
   "execution_count": null,
   "metadata": {},
   "outputs": [],
   "source": [
    "desafio = '30DaysOfPython'\n",
    "print(desafio.isidentifier()) # False, porque empieza con un numero\n",
    "\n",
    "desafio = 'thirty_days_of_python'\n",
    "print(desafio.isidentifier()) # True"
   ]
  },
  {
   "cell_type": "markdown",
   "metadata": {},
   "source": [
    "*Salida:*\n",
    "\n",
    "```text\n",
    "False\n",
    "True\n",
    "```\n"
   ]
  },
  {
   "cell_type": "markdown",
   "metadata": {},
   "source": [
    "---\n",
    "\n",
    "<span style=\"font-size: 1.5em; color: grey\">islower():</span>\n",
    "\n",
    "Comprueba si todos los caracteres del alfabeto en la cadena están en minúsculas."
   ]
  },
  {
   "cell_type": "code",
   "execution_count": null,
   "metadata": {},
   "outputs": [],
   "source": [
    "desafio = 'thirty days of python'\n",
    "print(desafio.islower())  # True\n",
    "\n",
    "desafio = 'Thirty days of python'\n",
    "print(desafio.islower())  # False"
   ]
  },
  {
   "cell_type": "markdown",
   "metadata": {},
   "source": [
    "*Salida:*\n",
    "\n",
    "```text\n",
    "True\n",
    "False\n",
    "```\n"
   ]
  },
  {
   "cell_type": "markdown",
   "metadata": {},
   "source": [
    "---\n",
    "\n",
    "<span style=\"font-size: 1.5em; color: grey\">isupper():</span>\n",
    "\n",
    "Comprueba si todos los caracteres del alfabeto en la cadena están en mayúsculas."
   ]
  },
  {
   "cell_type": "code",
   "execution_count": null,
   "metadata": {},
   "outputs": [],
   "source": [
    "desafio = 'thirty days of python'\n",
    "print(desafio.isupper())  #  False\n",
    "\n",
    "desafio = 'THIRTY DAYS OF PYTHON'\n",
    "print(desafio.isupper())  # True"
   ]
  },
  {
   "cell_type": "markdown",
   "metadata": {},
   "source": [
    "*Salida:*\n",
    "\n",
    "```text\n",
    "False\n",
    "True\n",
    "```\n"
   ]
  },
  {
   "cell_type": "markdown",
   "metadata": {},
   "source": [
    "---\n",
    "\n",
    "<span style=\"font-size: 1.5em; color: grey\">join():</span>\n",
    "\n",
    "Devuelve una cadena concatenada."
   ]
  },
  {
   "cell_type": "code",
   "execution_count": null,
   "metadata": {},
   "outputs": [],
   "source": [
    "web_tech = ['HTML', 'CSS', 'JavaScript', 'React']\n",
    "resultado = ' '.join(web_tech)\n",
    "print(resultado)  # 'HTML CSS JavaScript React'\n",
    "\n",
    "web_tech = ['HTML', 'CSS', 'JavaScript', 'React']\n",
    "resultado = '# '.join(web_tech)\n",
    "print(resultado)  # 'HTML# CSS# JavaScript# React'"
   ]
  },
  {
   "cell_type": "markdown",
   "metadata": {},
   "source": [
    "*Salida:*\n",
    "\n",
    "```text\n",
    "HTML CSS JavaScript React\n",
    "HTML# CSS# JavaScript# React\n",
    "```\n"
   ]
  },
  {
   "cell_type": "markdown",
   "metadata": {},
   "source": [
    "---\n",
    "\n",
    "<span style=\"font-size: 1.5em; color: grey\">strip():</span>\n",
    "\n",
    "Elimina todos los caracteres dados desde el principio y el final de la cadena."
   ]
  },
  {
   "cell_type": "code",
   "execution_count": null,
   "metadata": {},
   "outputs": [],
   "source": [
    "desafio = 'thirty days of pythoonnn'\n",
    "\n",
    "print(desafio.strip('noth')) # 'irty days of py'"
   ]
  },
  {
   "cell_type": "markdown",
   "metadata": {},
   "source": [
    "*Salida:*\n",
    "\n",
    "```text\n",
    "irty days of py\n",
    "```\n"
   ]
  },
  {
   "cell_type": "markdown",
   "metadata": {},
   "source": [
    "---\n",
    "\n",
    "<span style=\"font-size: 1.5em; color: grey\">replace():</span>\n",
    "\n",
    "Reemplaza la subcadena con una cadena dada."
   ]
  },
  {
   "cell_type": "code",
   "execution_count": null,
   "metadata": {},
   "outputs": [],
   "source": [
    "desafio = 'thirty days of python'\n",
    "\n",
    "print(desafio.replace('python', 'coding'))  # 'thirty days of coding'"
   ]
  },
  {
   "cell_type": "markdown",
   "metadata": {},
   "source": [
    "*Salida:*\n",
    "\n",
    "```text\n",
    "thirty days of coding\n",
    "```\n"
   ]
  },
  {
   "cell_type": "markdown",
   "metadata": {},
   "source": [
    "---\n",
    "\n",
    "<span style=\"font-size: 1.5em; color: grey\">split():</span>\n",
    "\n",
    "Divide la cadena, utilizando la cadena dada o el espacio como separador."
   ]
  },
  {
   "cell_type": "code",
   "execution_count": null,
   "metadata": {},
   "outputs": [],
   "source": [
    "desafio = 'thirty days of python'\n",
    "print(desafio.split()) # ['thirty', 'days', 'of', 'python']\n",
    "\n",
    "desafio = 'thirty, days, of, python'\n",
    "print(desafio.split(', '))  # ['thirty', 'days', 'of', 'python']"
   ]
  },
  {
   "cell_type": "markdown",
   "metadata": {},
   "source": [
    "*Salida:*\n",
    "\n",
    "```text\n",
    "['thirty', 'days', 'of', 'python']\n",
    "['thirty', 'days', 'of', 'python']\n",
    "```\n"
   ]
  },
  {
   "cell_type": "markdown",
   "metadata": {},
   "source": [
    "---\n",
    "\n",
    "<span style=\"font-size: 1.5em; color: grey\">title():</span>\n",
    "\n",
    "Devuelve una cadena de título en mayúsculas."
   ]
  },
  {
   "cell_type": "code",
   "execution_count": null,
   "metadata": {},
   "outputs": [],
   "source": [
    "desafio = 'thirty days of python'\n",
    "\n",
    "print(desafio.title())  # Thirty Days Of Python"
   ]
  },
  {
   "cell_type": "markdown",
   "metadata": {},
   "source": [
    "*Salida:*\n",
    "\n",
    "```text\n",
    "Thirty Days Of Python\n",
    "```\n"
   ]
  },
  {
   "cell_type": "markdown",
   "metadata": {},
   "source": [
    "---\n",
    "\n",
    "<span style=\"font-size: 1.5em; color: grey\">swapcase():</span>\n",
    "\n",
    "Convierte todos los caracteres en mayúsculas a minúsculas y todos los caracteres en minúsculas a caracteres en mayúsculas."
   ]
  },
  {
   "cell_type": "code",
   "execution_count": null,
   "metadata": {},
   "outputs": [],
   "source": [
    "desafio = 'thirty days of python'\n",
    "print(desafio.swapcase())   # THIRTY DAYS OF PYTHON\n",
    "\n",
    "desafio = 'Thirty Days Of Python'\n",
    "print(desafio.swapcase())   # tHIRTY dAYS oF pYTHON"
   ]
  },
  {
   "cell_type": "markdown",
   "metadata": {},
   "source": [
    "*Salida:*\n",
    "\n",
    "```text\n",
    "THIRTY DAYS OF PYTHON\n",
    "tHIRTY dAYS oF pYTHON\n",
    "```\n"
   ]
  },
  {
   "cell_type": "markdown",
   "metadata": {},
   "source": [
    "---\n",
    "\n",
    "<span style=\"font-size: 1.5em; color: grey\">startswith():</span>\n",
    "\n",
    "Comprueba si la cadena comienza con la cadena especificada."
   ]
  },
  {
   "cell_type": "code",
   "execution_count": null,
   "metadata": {},
   "outputs": [],
   "source": [
    "desafio = 'thirty days of python'\n",
    "print(desafio.startswith('thirty')) # True\n",
    "\n",
    "desafio = '30 days of python'\n",
    "print(desafio.startswith('thirty')) # False"
   ]
  },
  {
   "cell_type": "markdown",
   "metadata": {},
   "source": [
    "*Salida:*\n",
    "\n",
    "```text\n",
    "True\n",
    "False\n",
    "```\n"
   ]
  }
 ],
 "metadata": {
  "kernelspec": {
   "display_name": "Python 3",
   "language": "python",
   "name": "python3"
  },
  "language_info": {
   "codemirror_mode": {
    "name": "ipython",
    "version": 3
   },
   "file_extension": ".py",
   "mimetype": "text/x-python",
   "name": "python",
   "nbconvert_exporter": "python",
   "pygments_lexer": "ipython3",
   "version": "3.11.7"
  },
  "orig_nbformat": 4
 },
 "nbformat": 4,
 "nbformat_minor": 2
}
