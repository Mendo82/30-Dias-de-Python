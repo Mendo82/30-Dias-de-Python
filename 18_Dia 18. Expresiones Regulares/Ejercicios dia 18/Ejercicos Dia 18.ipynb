{
 "cells": [
  {
   "cell_type": "markdown",
   "metadata": {},
   "source": [
    "<font size=6 color=red>Ejercicios - Día 18</font>\n",
    "\n",
    "---\n",
    "\n",
    "1. ¿Cuál es la palabra más frecuente en el siguiente párrafo?\n",
    "\n",
    "    ```python\n",
    "    texto = 'uno dos dos tres tres tres cuatro cuatro cuatro cuatro cinco cinco cinco cinco cinco'\n",
    "    ```"
   ]
  },
  {
   "cell_type": "code",
   "execution_count": null,
   "metadata": {},
   "outputs": [],
   "source": [
    "def palabra_mas_frecuente(texto):\n",
    "    palabras = texto.split()\n",
    "    palabra_contadas = {}\n",
    "    \n",
    "    for palabra in palabras:\n",
    "        if palabra in palabra_contadas:\n",
    "            palabra_contadas[palabra] += 1\n",
    "        else:\n",
    "            palabra_contadas[palabra] = 1\n",
    "    \n",
    "    return max(palabra_contadas, key=palabra_contadas.get)\n",
    "\n",
    "texto = 'uno dos dos tres tres tres cuatro cuatro cuatro cuatro cinco cinco cinco cinco cinco'\n",
    "\n",
    "palabra_mas_frecuente = palabra_mas_frecuente(texto)\n",
    "\n",
    "print(\"La palabra más frecuente es:\", palabra_mas_frecuente)\n"
   ]
  },
  {
   "cell_type": "markdown",
   "metadata": {},
   "source": [
    "Este código divide el texto en palabras utilizando el método split(), luego utiliza un diccionario word_counts para almacenar la frecuencia de cada palabra. Por último, devuelve la palabra con la frecuencia más alta utilizando el método max() con la función word_counts.get como argumento de key.\n",
    "\n",
    "__Sin funcion:__"
   ]
  },
  {
   "cell_type": "code",
   "execution_count": null,
   "metadata": {},
   "outputs": [],
   "source": [
    "texto = 'uno dos dos tres tres tres cuatro cuatro cuatro cuatro cinco cinco cinco cinco cinco'\n",
    "\n",
    "palabras = texto.split()\n",
    "palabra_contadas = {}\n",
    "\n",
    "for palabra in palabras:\n",
    "    if palabra in palabra_contadas:\n",
    "        palabra_contadas[palabra] += 1\n",
    "    else:\n",
    "        palabra_contadas[palabra] = 1\n",
    "\n",
    "mas = (max(palabra_contadas, key=palabra_contadas.get))\n",
    "\n",
    "print(f\"La palabra: {max(palabra_contadas, key=palabra_contadas.get)}, es la que mas se repite, con un total de: {palabra_contadas.get(mas)} veces.\")\n"
   ]
  },
  {
   "cell_type": "markdown",
   "metadata": {},
   "source": [
    "---\n",
    "\n",
    "2. La posición de algunas partículas en el eje x horizontal son -12, -4, -3 y -1 en la dirección negativa, 0 en el origen, 4 y 8 en la dirección positiva.\n",
    "Extraiga estos números de todo este texto y encuentre la distancia entre las dos partículas más lejanas."
   ]
  },
  {
   "cell_type": "code",
   "execution_count": null,
   "metadata": {},
   "outputs": [],
   "source": [
    "points = [-12, -4, -3, -1, 0, 2, 4, 8]\n",
    "sorted_points = sorted(points)\n",
    "distance = sorted_points[-1] - sorted_points[0]\n",
    "\n",
    "print(\"La distancia entre las dos partículas más lejanas es:\", distance)\n"
   ]
  },
  {
   "cell_type": "markdown",
   "metadata": {},
   "source": [
    "Este programa primero crea una lista llamada points con las posiciones de las partículas en el eje x. Luego, utiliza la función sorted para ordenar la lista y guardarla en la variable sorted_points. Finalmente, se calcula la distancia entre las dos partículas más lejanas tomando el último elemento de la lista ordenada (el más grande) y restándolo del primer elemento (el más pequeño). El resultado se imprime utilizando la función print."
   ]
  }
 ],
 "metadata": {
  "language_info": {
   "name": "python"
  }
 },
 "nbformat": 4,
 "nbformat_minor": 2
}
