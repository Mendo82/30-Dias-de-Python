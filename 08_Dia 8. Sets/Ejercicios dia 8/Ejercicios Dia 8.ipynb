{
 "cells": [
  {
   "cell_type": "markdown",
   "metadata": {},
   "source": [
    "<font size=6 color=red>Ejercicios - Día 8</font>\n",
    "\n",
    "---"
   ]
  },
  {
   "cell_type": "markdown",
   "metadata": {},
   "source": [
    "Sets (conjuntos)"
   ]
  },
  {
   "cell_type": "code",
   "execution_count": null,
   "metadata": {},
   "outputs": [],
   "source": [
    "it_companies = {\n",
    "    'Facebook',\n",
    "    'Google', \n",
    "    'Microsoft', \n",
    "    'Apple', \n",
    "    'IBM', \n",
    "    'Oracle', \n",
    "    'Amazon'\n",
    "}\n",
    "A = {19, 22, 24, 20, 25, 26}\n",
    "B = {19, 22, 20, 25, 26, 24, 28, 27}\n",
    "age = {22, 19, 24, 25, 26, 24, 25, 24}"
   ]
  },
  {
   "cell_type": "markdown",
   "metadata": {},
   "source": [
    "---\n",
    "\n",
    "Encuentre la longitud del conjunto it_companies"
   ]
  },
  {
   "cell_type": "code",
   "execution_count": null,
   "metadata": {},
   "outputs": [],
   "source": [
    "it_companies = {\n",
    "    'Facebook',\n",
    "    'Google', \n",
    "    'Microsoft', \n",
    "    'Apple', \n",
    "    'IBM', \n",
    "    'Oracle', \n",
    "    'Amazon'\n",
    "}\n",
    "\n",
    "print(len(it_companies))\n"
   ]
  },
  {
   "cell_type": "markdown",
   "metadata": {},
   "source": [
    "---\n",
    "\n",
    "Agregar 'Twitter' a it_companies"
   ]
  },
  {
   "cell_type": "code",
   "execution_count": null,
   "metadata": {},
   "outputs": [],
   "source": [
    "it_companies = {\n",
    "    'Facebook',\n",
    "    'Google', \n",
    "    'Microsoft', \n",
    "    'Apple', \n",
    "    'IBM', \n",
    "    'Oracle', \n",
    "    'Amazon'\n",
    "}\n",
    "\n",
    "it_companies.add('Twitter')\n",
    "\n",
    "print(it_companies)"
   ]
  },
  {
   "cell_type": "markdown",
   "metadata": {},
   "source": [
    "---\n",
    "\n",
    "Inserte varias empresas de TI a la vez en el conjunto it_companies."
   ]
  },
  {
   "cell_type": "code",
   "execution_count": null,
   "metadata": {},
   "outputs": [],
   "source": [
    "it_companies = {\n",
    "    'Facebook',\n",
    "    'Google', \n",
    "    'Microsoft', \n",
    "    'Apple', \n",
    "    'IBM', \n",
    "    'Oracle', \n",
    "    'Amazon'\n",
    "}\n",
    "\n",
    "otras_compañias = ('Movistart', 'Vodafone')\n",
    "it_companies.update(otras_compañias)\n",
    "\n",
    "print(it_companies)"
   ]
  },
  {
   "cell_type": "markdown",
   "metadata": {},
   "source": [
    "---\n",
    "\n",
    "Eliminar una de las empresas del conjunto it_companies"
   ]
  },
  {
   "cell_type": "code",
   "execution_count": null,
   "metadata": {},
   "outputs": [],
   "source": [
    "it_companies = {\n",
    "    'Facebook',\n",
    "    'Google', \n",
    "    'Microsoft', \n",
    "    'Apple', \n",
    "    'IBM', \n",
    "    'Oracle', \n",
    "    'Amazon'\n",
    "}\n",
    "\n",
    "it_companies.remove('Movistart')\n",
    "print(it_companies)"
   ]
  },
  {
   "cell_type": "markdown",
   "metadata": {},
   "source": [
    "---\n",
    "\n",
    "¿Cuál es la diferencia entre eliminar y descartar?"
   ]
  },
  {
   "cell_type": "markdown",
   "metadata": {},
   "source": [
    "La diferencia entre \"eliminar\" y \"descartar\" en un conjunto en Python es que \"eliminar\" elimina un elemento específico del conjunto, mientras que \"descartar\" elimina un elemento específico del conjunto si existe, pero no genera un error si el elemento no está presente en el conjunto.\n",
    "\n",
    "Por ejemplo, si tenemos un conjunto llamado \"mi_conjunto\" y queremos eliminar el elemento \"x\" de ese conjunto, podríamos usar el método \"remove\" de la siguiente manera:\n",
    "\n",
    "```python\n",
    "it_companies.remove('x')\n",
    "```\n",
    "\n",
    "Si el elemento \"x\" no está en el conjunto, esto generará un error \"KeyError\". Por otro lado, si queremos descartar el elemento \"x\" de un conjunto, podríamos usar el método \"discard\" de la siguiente manera:\n",
    "\n",
    "```python\n",
    "it_companies.discard('x')\n",
    "print(it_companies)\n",
    "```\n"
   ]
  },
  {
   "cell_type": "markdown",
   "metadata": {},
   "source": [
    "---\n",
    "\n",
    "Une A y B"
   ]
  },
  {
   "cell_type": "code",
   "execution_count": null,
   "metadata": {},
   "outputs": [],
   "source": [
    "A = {19, 22, 24, 20, 25, 26}\n",
    "B = {19, 22, 20, 25, 26, 24, 28, 27}\n",
    "\n",
    "A.union(B)\n",
    "\n",
    "print(A)"
   ]
  },
  {
   "cell_type": "markdown",
   "metadata": {},
   "source": [
    "---\n",
    "\n",
    "Encuentra una intersección B"
   ]
  },
  {
   "cell_type": "code",
   "execution_count": null,
   "metadata": {},
   "outputs": [],
   "source": [
    "A = {19, 22, 24, 20, 25, 26}\n",
    "B = {19, 22, 20, 25, 26, 24, 28, 27}\n",
    "\n",
    "A.intersection(B)\n",
    "\n",
    "print(A)\n"
   ]
  },
  {
   "cell_type": "markdown",
   "metadata": {},
   "source": [
    "---\n",
    "\n",
    "Es un subconjunto de B"
   ]
  },
  {
   "cell_type": "code",
   "execution_count": null,
   "metadata": {},
   "outputs": [],
   "source": [
    "A = {19, 22, 24, 20, 25, 26}\n",
    "B = {19, 22, 20, 25, 26, 24, 28, 27}\n",
    "\n",
    "print(A.issubset(B))\n",
    "print(B.issuperset(A))\n",
    "print(A.issuperset(B))"
   ]
  },
  {
   "cell_type": "markdown",
   "metadata": {},
   "source": [
    "---\n",
    "\n",
    "¿Son A y B conjuntos disjuntos?"
   ]
  },
  {
   "cell_type": "code",
   "execution_count": null,
   "metadata": {},
   "outputs": [],
   "source": [
    "A = {19, 22, 24, 20, 25, 26}\n",
    "B = {19, 22, 20, 25, 26, 24, 28, 27}\n",
    "\n",
    "print(A.difference(B))\n",
    "print(B.difference(A))"
   ]
  },
  {
   "cell_type": "markdown",
   "metadata": {},
   "source": [
    "---\n",
    "\n",
    "Verifica si los dos conjuntos son disjuntos o no"
   ]
  },
  {
   "cell_type": "code",
   "execution_count": null,
   "metadata": {},
   "outputs": [],
   "source": [
    "A = {19, 22, 24, 20, 25, 26}\n",
    "B = {19, 22, 20, 25, 26, 24, 28, 27}\n",
    "\n",
    "print(A.isdisjoint(B))\n",
    "print(B.isdisjoint(A))"
   ]
  },
  {
   "cell_type": "markdown",
   "metadata": {},
   "source": [
    "---\n",
    "\n",
    "¿Cuál es la diferencia simétrica entre A y B?\n"
   ]
  },
  {
   "cell_type": "code",
   "execution_count": null,
   "metadata": {},
   "outputs": [],
   "source": [
    "A = {19, 22, 24, 20, 25, 26}\n",
    "B = {19, 22, 20, 25, 26, 24, 28, 27}\n",
    "\n",
    "print(A.symmetric_difference(B))"
   ]
  },
  {
   "cell_type": "markdown",
   "metadata": {},
   "source": [
    "---\n",
    "\n",
    "Eliminar los conjuntos por completo"
   ]
  },
  {
   "cell_type": "code",
   "execution_count": null,
   "metadata": {},
   "outputs": [],
   "source": [
    "A = {19, 22, 24, 20, 25, 26}\n",
    "B = {19, 22, 20, 25, 26, 24, 28, 27}\n",
    "\n",
    "del A\n",
    "del B"
   ]
  },
  {
   "cell_type": "markdown",
   "metadata": {},
   "source": [
    "---\n",
    "\n",
    "Convierta las edades en un conjunto y compare la longitud de la lista y el conjunto, ¿cuál es más grande?"
   ]
  },
  {
   "cell_type": "code",
   "execution_count": null,
   "metadata": {},
   "outputs": [],
   "source": [
    "age = [22, 19, 24, 25, 26, 24, 25, 24]\n",
    "print(len(age))\n",
    "age = set(age)\n",
    "print(len(age))\n",
    "print(age)"
   ]
  },
  {
   "cell_type": "markdown",
   "metadata": {},
   "source": [
    "---\n",
    "\n",
    "Explique la diferencia entre los siguientes tipos de datos: cadena, lista, tupla y conjunto."
   ]
  },
  {
   "cell_type": "markdown",
   "metadata": {},
   "source": [
    "En Python, existen varios tipos de datos que se utilizan para almacenar y manipular información.\n",
    "A continuación, se describen las principales diferencias entre cuatro de ellos: cadena, lista, tupla y conjunto.\n",
    "\n",
    "- `Cadena (String)`: Una cadena es una secuencia de caracteres. Se pueden crear utilizando comillas simples ('...') o comillas dobles (\"...\"). Por ejemplo: \"Hola mundo\"\n",
    "o '123'. Las cadenas son inmutables, lo que significa que una vez creadas, no se pueden modificar.\n",
    "\n",
    "- `Lista`: Una lista es una colección ordenada de elementos, pueden ser de cualquier tipo. Se pueden crear utilizando corchetes [...]. Por ejemplo:\n",
    "\n",
    "```python\n",
    "[1, 2, 3]\n",
    "\n",
    "[\"perro\", \"gato\", \"ratón\"]\n",
    "```\n",
    "\n",
    "Las listas son mutables, lo que significa que se pueden modificar después de ser creadas, agregando, eliminando o modificando elementos.\n",
    "\n",
    "- `Tupla`: Una tupla es similar a una lista, pero es inmutable. Se pueden crear utilizando paréntesis (...). Por ejemplo:\n",
    "\n",
    "```python  \n",
    "(1, 2, 3)\n",
    "\n",
    "(\"perro\", \"gato\", \"ratón\")\n",
    "```\n",
    "\n",
    "\n",
    "Una vez creadas, no se pueden modificar las tuplas.\n",
    "\n",
    "- `Conjunto`: Un conjunto es una colección de elementos no ordenados, sin elementos repetidos. Se pueden crear utilizando llaves {...} o la función set(). Por ejemplo: {1, 2, 3} o set([1, 2, 3]). Los conjuntos son mutables, lo que significa que se pueden agregar o eliminar elementos después de ser creados.\n",
    "\n",
    "En resumen: las cadenas son inmutables y son secuencia de caracteres, las listas son mutables y son una colección ordenada de elementos, las tuplas son inmutables y son una colección ordenada de elementos, y los conjuntos son mutables y son una colección de elementos no ordenados sin elementos repetidos."
   ]
  },
  {
   "cell_type": "markdown",
   "metadata": {},
   "source": [
    "---\n",
    "\n",
    "Soy profesora y me encanta inspirar y enseñar a la gente.\n",
    "\n",
    "¿Cuántas palabras únicas se han usado en la oración? Use los métodos de división y configure para obtener las palabras únicas.\n"
   ]
  },
  {
   "cell_type": "markdown",
   "metadata": {},
   "source": [
    "Para obtener las palabras únicas de una oración en Python, se pueden usar los métodos de división y configuración. Una forma de hacerlo es dividir la oración en una lista de palabras utilizando el método de división de cadenas \"split()\", y luego convertir esa lista en un conjunto utilizando el método \"set()\". El conjunto eliminará automáticamente las palabras repetidas.\n",
    "\n",
    "En este caso la oración es: \"Soy profesora y me encanta inspirar y enseñar a la gente.\"\n",
    "\n",
    "El código sería el siguiente:"
   ]
  },
  {
   "cell_type": "code",
   "execution_count": null,
   "metadata": {},
   "outputs": [],
   "source": [
    "frase = \"Soy profesora y me encanta inspirar y enseñar a la gente.\"\n",
    "lista_de_palabras = frase.split()\n",
    "palabras_unicas = set(lista_de_palabras)\n",
    "print('Hay', len(palabras_unicas), 'palabras unicas')"
   ]
  }
 ],
 "metadata": {
  "language_info": {
   "name": "python"
  }
 },
 "nbformat": 4,
 "nbformat_minor": 2
}
