{
 "cells": [
  {
   "cell_type": "markdown",
   "metadata": {},
   "source": [
    "<font size=6 color='red'>30 días de Python: Día 17 - Manejo de excepciones</font>\n",
    "\n",
    "---\n",
    "\n",
    "<span style=\"font-size: 1.5em; color: red\">Manejo de excepciones</span>\n",
    "\n",
    "Python usa `try` y `except` para manejar los errores con elegancia. Una salida elegante (o manejo elegante) de errores es un lenguaje \n",
    "de programación simple: un programa detecta una condición de error grave y, como resultado, \"sale con elegancia\", de manera \n",
    "controlada. \n",
    "A menudo, el programa imprime un mensaje de error descriptivo en un terminal o registro como parte de la salida ordenada, esto hace \n",
    "que nuestra aplicación sea más robusta. La causa de una excepción suele ser externa al propio programa. Un ejemplo de excepciones \n",
    "podría ser una entrada incorrecta, un nombre de archivo incorrecto, no poder encontrar un archivo, un dispositivo IO que no funciona \n",
    "correctamente. El manejo elegante de los errores evita que nuestras aplicaciones se bloqueen.\n",
    "\n",
    "Hemos cubierto los diferentes tipos de errores de Python en la sección anterior. Si usamos `try` y `except` en nuestro programa, \n",
    "entonces no generará errores en esos bloques.\n",
    "\n",
    "```python\n",
    "try:\n",
    "    código en este bloque si las cosas van bien\n",
    "except:\n",
    "    el código en este bloque se ejecuta si las cosas van mal"
   ]
  },
  {
   "cell_type": "markdown",
   "metadata": {},
   "source": [
    "![](https://raw.githubusercontent.com/Asabeneh/30-Days-Of-Python/master/images/try_except.png)\n"
   ]
  },
  {
   "cell_type": "markdown",
   "metadata": {},
   "source": [
    "*Ejemplo:*\n",
    "\n",
    "```python\n",
    "try:\n",
    "    print(10 + '5')\n",
    "except:\n",
    "    print('Algo fue mal')\n",
    "```\n",
    "\n",
    "En el ejemplo anterior, el segundo operando es una cadena. Podríamos cambiarlo a float o int para agregarlo con el número para que funcione. Pero \n",
    "sin ningún cambio, se ejecutará el segundo bloque, except."
   ]
  },
  {
   "cell_type": "code",
   "execution_count": null,
   "metadata": {},
   "outputs": [],
   "source": [
    "try:\n",
    "    name = input('Introduce tu nombre: ')\n",
    "    year_born = input('Introduce tu año de nacimiento: ')\n",
    "    age = 2023 - year_born\n",
    "    print(f'Tu es {name}. Y tus años son {age}.')\n",
    "except:\n",
    "    print('Algo fue mal')"
   ]
  },
  {
   "cell_type": "markdown",
   "metadata": {},
   "source": [
    "En el ejemplo anterior, el bloque de excepción se ejecutará y no conocemos exactamente el problema. Para analizar el problema, podemos usar los \n",
    "diferentes tipos de error con excepción.\n",
    "\n",
    "En el siguiente ejemplo, manejará el error y también nos dirá el tipo de error generado.\n",
    "\n",
    "*Ejemplo:*"
   ]
  },
  {
   "cell_type": "code",
   "execution_count": null,
   "metadata": {},
   "outputs": [],
   "source": [
    "try:\n",
    "    name = input('Enter your name:')\n",
    "    year_born = input('Year you were born:')\n",
    "    age = 2019 - year_born\n",
    "    print(f'You are {name}. And your age is {age}.')\n",
    "except TypeError:\n",
    "    print('Type error occured')\n",
    "except ValueError:\n",
    "    print('Value error occured')\n",
    "except ZeroDivisionError:\n",
    "    print('zero division error occured')\n"
   ]
  },
  {
   "cell_type": "markdown",
   "metadata": {},
   "source": [
    "En el código anterior, la salida será `TypeError`. Ahora, agreguemos un bloque adicional:"
   ]
  },
  {
   "cell_type": "code",
   "execution_count": null,
   "metadata": {},
   "outputs": [],
   "source": [
    "try:\n",
    "    name = input('Enter your name:')\n",
    "    year_born = input('Year you born:')\n",
    "    age = 2019 - int(year_born)\n",
    "    print(f'You are {name}. And your age is {age}.')\n",
    "except TypeError:\n",
    "    print('Type error occur')\n",
    "except ValueError:\n",
    "    print('Value error occur')\n",
    "except ZeroDivisionError:\n",
    "    print('zero division error occur')\n",
    "else:\n",
    "    print('I usually run with the try block')\n",
    "finally:\n",
    "    print('I alway run.')\n"
   ]
  },
  {
   "cell_type": "markdown",
   "metadata": {},
   "source": [
    "También se acorta el código anterior de la siguiente manera:"
   ]
  },
  {
   "cell_type": "code",
   "execution_count": 5,
   "metadata": {},
   "outputs": [
    {
     "name": "stdout",
     "output_type": "stream",
     "text": [
      "You are {name}. And your age is {age}.\n"
     ]
    }
   ],
   "source": [
    "try:\n",
    "    name = input('Enter your name:')\n",
    "    year_born = input('Year you born:')\n",
    "    age = 2019 - int(year_born)\n",
    "    print(f'You are {name}. And your age is {age}.')\n",
    "except Exception as e:\n",
    "    print(e)"
   ]
  },
  {
   "cell_type": "markdown",
   "metadata": {},
   "source": [
    "---\n",
    "\n",
    "<span style=\"font-size: 1.5em; color: grey\">Empaquetar y desempaquetar argumentos en Python</span>\n",
    "\n",
    "Usamos dos operadores:\n",
    "\n",
    "```text\n",
    "1. * para tuplas\n",
    "2. ** para diccionarios\n",
    "```\n",
    "\n",
    "Tomemos como ejemplo a continuación. Solo necesita argumentos, pero tenemos una lista. Podemos descomprimir la lista y cambiar \n",
    "el argumento.\n",
    "\n",
    "---\n",
    "\n",
    "<span style=\"font-size: 1.5em; color: grey\">Desembalaje</span>\n",
    "\n",
    "*Listas de desembalaje*\n",
    "\n",
    "*Ejemplo:*"
   ]
  },
  {
   "cell_type": "code",
   "execution_count": null,
   "metadata": {},
   "outputs": [],
   "source": [
    "def sum_of_five_nums(a, b, c, d, e):\n",
    "    \n",
    "    return a + b + c + d + e\n",
    "\n",
    "lst = [1, 2, 3, 4, 5]\n",
    "\n",
    "print(sum_of_five_nums(lst)) # TypeError: sum_of_five_nums() missing 4 required positional arguments: 'b', 'c', 'd', and 'e'\n"
   ]
  },
  {
   "cell_type": "markdown",
   "metadata": {},
   "source": [
    "Cuando ejecutamos este código, genera un error, porque esta función toma números (no una lista) como argumentos. \n",
    "Descomprimamos/desestructuramos la lista.\n",
    "\n",
    "*Ejemplo:*"
   ]
  },
  {
   "cell_type": "code",
   "execution_count": null,
   "metadata": {},
   "outputs": [],
   "source": [
    "def sum_of_five_nums(a, b, c, d, e):\n",
    "    \n",
    "    return a + b + c + d + e\n",
    "\n",
    "\n",
    "lst = [1, 2, 3, 4, 5]\n",
    "\n",
    "print(sum_of_five_nums(*lst))  # 15"
   ]
  },
  {
   "cell_type": "markdown",
   "metadata": {},
   "source": [
    "También podemos usar el desempaquetado en la función incorporada de rango que espera un comienzo y un final.\n",
    "\n",
    "*Ejemplo:*"
   ]
  },
  {
   "cell_type": "code",
   "execution_count": null,
   "metadata": {},
   "outputs": [],
   "source": [
    "numbers = range(2, 7)   # normal call with separate arguments\n",
    "print(list(numbers))    # [2, 3, 4, 5, 6]\n",
    "args = [2, 7]\n",
    "numbers = range(*args)  # call with arguments unpacked from a list\n",
    "print(numbers)          # [2, 3, 4, 5, 6]"
   ]
  },
  {
   "cell_type": "markdown",
   "metadata": {},
   "source": [
    "Una lista o una tupla también se pueden descomprimir así:"
   ]
  },
  {
   "cell_type": "code",
   "execution_count": null,
   "metadata": {},
   "outputs": [],
   "source": [
    "countries = ['Finland', 'Sweden', 'Norway', 'Denmark', 'Iceland']\n",
    "fin, sw, nor, *rest = countries\n",
    "print(fin, sw, nor, rest)       # Finland Sweden Norway ['Denmark', 'Iceland']\n",
    "numbers = [1, 2, 3, 4, 5, 6, 7]\n",
    "one, *middle, last = numbers\n",
    "print(one, middle, last)        #  1 [2, 3, 4, 5, 6] 7"
   ]
  },
  {
   "cell_type": "markdown",
   "metadata": {},
   "source": [
    "<font size=5 color=grey>Desempaquetar diccionarios</font>"
   ]
  },
  {
   "cell_type": "code",
   "execution_count": null,
   "metadata": {},
   "outputs": [],
   "source": [
    "def unpacking_person_info(name, country, city, age):\n",
    "    \n",
    "    return f'{name} lives in {country}, {city}. He is {age} year old.'\n",
    "\n",
    "dct = {'name':'Asabeneh', 'country':'Finland', 'city':'Helsinki', 'age':250}\n",
    "print(unpacking_person_info(**dct)) # Asabeneh lives in Finland, Helsinki. He is 250 years old."
   ]
  },
  {
   "cell_type": "markdown",
   "metadata": {},
   "source": [
    "<font size=5 color=grey>Embalaje</font>\n",
    "\n",
    "A veces, nunca sabemos cuántos argumentos se deben pasar a una función de Python. Podemos usar el método de empaquetamiento para permitir que nuestra función tome un número ilimitado o un número arbitrario de argumentos.\n",
    "\n",
    "<font size=5 color=grey>Listas de embalaje</font>\n",
    "\n",
    "*Ejemplo:*"
   ]
  },
  {
   "cell_type": "code",
   "execution_count": null,
   "metadata": {},
   "outputs": [],
   "source": [
    "def sum_all(*args):\n",
    "    s = 0\n",
    "    for i in args:\n",
    "        s += i\n",
    "    \n",
    "    return s\n",
    "\n",
    "print(sum_all(1, 2, 3))              # 6\n",
    "print(sum_all(1, 2, 3, 4, 5, 6, 7))  # 28"
   ]
  },
  {
   "cell_type": "markdown",
   "metadata": {},
   "source": [
    "<font size=5 color=grey>Diccionarios de embalaje</font>\n",
    "\n",
    "*Ejemplo:*"
   ]
  },
  {
   "cell_type": "code",
   "execution_count": null,
   "metadata": {},
   "outputs": [],
   "source": [
    "def packing_person_info(**kwargs):\n",
    "    # check the type of kwargs and it is a dict type\n",
    "    # print(type(kwargs))\n",
    "\t# Printing dictionary items\n",
    "    for key in kwargs:\n",
    "        print(\"{key} = {kwargs[key]}\")\n",
    "    return kwargs\n",
    "\n",
    "print(packing_person_info(name=\"Asabeneh\",\n",
    "      country=\"Finland\", city=\"Helsinki\", age=250))"
   ]
  },
  {
   "cell_type": "markdown",
   "metadata": {},
   "source": [
    "*Salida:*\n",
    "\n",
    "```python\n",
    "name = Asabeneh\n",
    "country = Finland\n",
    "city = Helsinki\n",
    "age = 250\n",
    "{'name': 'Asabeneh', 'country': 'Finland', 'city': 'Helsinki', 'age': 250}\n",
    "```"
   ]
  },
  {
   "cell_type": "markdown",
   "metadata": {},
   "source": [
    "<font size=5 color=grey>Difundir en Python</font>\n",
    "\n",
    "Al igual que en JavaScript, la propagación es posible en Python.\n",
    "\n",
    "*Ejemplo:*"
   ]
  },
  {
   "cell_type": "code",
   "execution_count": null,
   "metadata": {},
   "outputs": [],
   "source": [
    "lst_one = [1, 2, 3]\n",
    "lst_two = [4, 5, 6, 7]\n",
    "lst = [0, *lst_one, *lst_two]\n",
    "\n",
    "print(lst)          # [0, s1, 2, 3, 4, 5, 6, 7]\n",
    "\n",
    "country_lst_one = ['Finland', 'Sweden', 'Norway']\n",
    "country_lst_two = ['Denmark', 'Iceland']\n",
    "nordic_countries = [*country_lst_one, *country_lst_two]\n",
    "\n",
    "print(nordic_countries)  # ['Finland', 'Sweden', 'Norway', 'Denmark', 'Iceland']"
   ]
  },
  {
   "cell_type": "markdown",
   "metadata": {},
   "source": [
    "<font size=5 color=grey>Enumerar</font>\n",
    "\n",
    "Si estamos interesados en el índice de una lista, usamos la función integrada de enumeración '`enumerate()`' para obtener el índice de cada elemento de la lista.\n",
    "\n",
    "*Ejemplo:*"
   ]
  },
  {
   "cell_type": "code",
   "execution_count": null,
   "metadata": {},
   "outputs": [],
   "source": [
    "for index, item in enumerate([20, 30, 40]):\n",
    "    print(index, item)\n",
    "    \n",
    "countries = ['Finland', 'Sweden', 'Norway', 'Denmark', 'Iceland']\n",
    "\n",
    "for index, i in enumerate(countries):\n",
    "    print('hi')\n",
    "    if i == 'Finland':\n",
    "        print(f'The country {i} has been found at index {index}')"
   ]
  },
  {
   "cell_type": "markdown",
   "metadata": {},
   "source": [
    "*Salida:*\n",
    "\n",
    "```python\n",
    "The country Finland has been found at index 0.\n",
    "```"
   ]
  },
  {
   "cell_type": "markdown",
   "metadata": {},
   "source": [
    "<font size=5 color=grey>Cremallera</font>\n",
    "\n",
    "A veces nos gustaría combinar listas al recorrerlas.\n",
    "\n",
    "*Ejemplo:*"
   ]
  },
  {
   "cell_type": "code",
   "execution_count": null,
   "metadata": {},
   "outputs": [],
   "source": [
    "fruits = ['banana', 'orange', 'mango', 'lemon', 'lime']                    \n",
    "vegetables = ['Tomato', 'Potato', 'Cabbage','Onion', 'Carrot']\n",
    "fruits_and_veges = []\n",
    "\n",
    "for f, v in zip(fruits, vegetables):\n",
    "    fruits_and_veges.append({'fruit':f, 'veg':v})\n",
    "\n",
    "print(fruits_and_veges)"
   ]
  },
  {
   "cell_type": "markdown",
   "metadata": {},
   "source": [
    "*Salida:*\n",
    "\n",
    "```python\n",
    "[{'fruit': 'banana', 'veg': 'Tomato'}, {'fruit': 'orange', 'veg': 'Potato'}, {'fruit': 'mango', 'veg': 'Cabbage'}, {'fruit': 'lemon', 'veg': 'Onion'}, {'fruit': 'lime', 'veg': 'Carrot'}]\n",
    "```"
   ]
  }
 ],
 "metadata": {
  "kernelspec": {
   "display_name": "Unidad5",
   "language": "python",
   "name": "python3"
  },
  "language_info": {
   "codemirror_mode": {
    "name": "ipython",
    "version": 3
   },
   "file_extension": ".py",
   "mimetype": "text/x-python",
   "name": "python",
   "nbconvert_exporter": "python",
   "pygments_lexer": "ipython3",
   "version": "3.11.6"
  }
 },
 "nbformat": 4,
 "nbformat_minor": 2
}
