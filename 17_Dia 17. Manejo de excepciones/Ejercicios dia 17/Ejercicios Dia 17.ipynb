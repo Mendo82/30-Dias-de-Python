{
 "cells": [
  {
   "cell_type": "markdown",
   "metadata": {},
   "source": [
    "<font size=6 color=red>Ejercicios - Día 17</font>\n",
    "\n",
    "---\n",
    "\n",
    "1. nombres = ['Finlandia', 'Suecia', 'Noruega', 'Dinamarca', 'Islandia', 'Estonia', 'Rusia'].\n",
    "\n",
    "Descomprima los primeros cinco países y guárdelos en una variable nordic_countries, almacene Estonia y Rusia en es y ru respectivamente."
   ]
  },
  {
   "cell_type": "code",
   "execution_count": null,
   "metadata": {},
   "outputs": [],
   "source": [
    "nombres = ['Finlandia', 'Suecia', 'Noruega', 'Dinamarca', 'Islandia', 'Estonia', 'Rusia']\n",
    "\n",
    "nordic_countries, es, ru = nombres[:5], nombres[5], nombres[6]\n",
    "\n",
    "print(nordic_countries)\n",
    "print(es)\n",
    "print(ru)"
   ]
  }
 ],
 "metadata": {
  "language_info": {
   "name": "python"
  }
 },
 "nbformat": 4,
 "nbformat_minor": 2
}
