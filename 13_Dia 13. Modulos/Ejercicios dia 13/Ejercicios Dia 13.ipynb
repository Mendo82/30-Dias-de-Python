{
 "cells": [
  {
   "cell_type": "markdown",
   "metadata": {},
   "source": [
    "<font size=6 color=red>Ejercicios - Dia 13</font>\n",
    "\n",
    "---\n",
    "\n",
    "### Ejercicios: Nivel 1\n",
    "\n",
    "1. Escriba una función que genere un id_usuario_aleatorio de seis dígitos/caracteres."
   ]
  },
  {
   "cell_type": "code",
   "execution_count": null,
   "metadata": {},
   "outputs": [],
   "source": [
    "import random\n",
    "import string\n",
    "\n",
    "def id_usuario_aleatorio():\n",
    "    user_id = ''.join(random.choices(string.ascii_letters + string.digits, k=6))\n",
    "    return user_id\n",
    "\n",
    "print(id_usuario_aleatorio())\n"
   ]
  },
  {
   "cell_type": "markdown",
   "metadata": {},
   "source": [
    "La función id_usuario_aleatorio() utiliza la biblioteca random para generar una cadena aleatoria de seis caracteres utilizando la función random.choices.\n",
    "La cadena se compone de letras mayúsculas y minúsculas del alfabeto (string.ascii_letters) y dígitos (string.digits). El parámetro k especifica la longitud de la cadena generada. La función devuelve la cadena generada como un ID de usuario."
   ]
  },
  {
   "cell_type": "markdown",
   "metadata": {},
   "source": [
    "---\n",
    "\n",
    "2. Modificar la tarea anterior. Declare una función llamada id_usuario_aleatorio(). No toma ningún parámetro, pero toma dos entradas usando input(). Una de las entradas es la cantidad de caracteres y la segunda entrada es la cantidad de ID que se supone que se generarán.\n",
    "\n",
    "    ```python\n",
    "    print(id_usuario_aleatorio()) # user input: 5 5\n",
    "    #output:\n",
    "    #kcsy2\n",
    "    #SMFYb\n",
    "    #bWmeq\n",
    "    #ZXOYh\n",
    "    #2Rgxf\n",
    "\n",
    "    print(user_id_gen_by_user()) # 16 5\n",
    "    #1GCSgPLMaBAVQZ26\n",
    "    #YD7eFwNQKNs7qXaT\n",
    "    #ycArC5yrRupyG00S\n",
    "    #UbGxOFI7UXSWAyKN\n",
    "    #dIV0SSUTgAdKwStr\n",
    "    ```\n",
    "    "
   ]
  },
  {
   "cell_type": "code",
   "execution_count": null,
   "metadata": {},
   "outputs": [],
   "source": [
    "import random\n",
    "import string\n",
    "\n",
    "def id_usuario_aleatorio():\n",
    "    cantidad_caracteres = int(input('Introduce la catidad de caracteres que tendra el id_usuario: '))\n",
    "    cantidad_id_usuarios = int(input('Introduce la cantidad de usuarios que quieres generar: '))\n",
    "\n",
    "    lista_id = []\n",
    "\n",
    "    for i in range(cantidad_id_usuarios):\n",
    "        user_id = ''.join(random.choices(string.ascii_letters + string.digits, k=cantidad_caracteres))\n",
    "        lista_id.append(user_id)\n",
    "        \n",
    "    return lista_id\n",
    "\n",
    "print(id_usuario_aleatorio())\n"
   ]
  },
  {
   "cell_type": "markdown",
   "metadata": {},
   "source": [
    "---\n",
    "\n",
    "3. Escribe una función llamada rgb_color_gen. Generará colores rgb (3 valores que van de 0 a 255 cada uno).\n",
    "\n",
    "    ```python\n",
    "    print(rgb_color_gen())\n",
    "    # rgb(125,244,255) - the output should be in this form\n",
    "    ```\n"
   ]
  },
  {
   "cell_type": "code",
   "execution_count": null,
   "metadata": {},
   "outputs": [],
   "source": [
    "import random\n",
    "\n",
    "def rgb_color_gen():\n",
    "    red = random.randint(0, 255)\n",
    "    green = random.randint(0, 255)\n",
    "    blue = random.randint(0, 255)\n",
    "    \n",
    "    return (red, green, blue)\n",
    "\n",
    "\n",
    "print(rgb_color_gen())"
   ]
  },
  {
   "cell_type": "markdown",
   "metadata": {},
   "source": [
    "---\n",
    "\n",
    "### Ejercicios: Nivel 2\n",
    "\n",
    "1. Escriba una función list_of_hexa_colors que devuelva cualquier cantidad de colores hexadecimales en una matriz (seis números hexadecimales escritos\n",
    "después de `#`. El sistema de numeración hexadecimal está formado por 16 símbolos, 0-9 y las primeras 6 letras del alfabeto, af. Verifique la tarea 6 para ejemplos de salida)."
   ]
  },
  {
   "cell_type": "code",
   "execution_count": null,
   "metadata": {},
   "outputs": [],
   "source": [
    "import random\n",
    "import string\n",
    "\n",
    "def list_of_hexa_colors(n):  \n",
    "    hexa_colors = []\n",
    "    \n",
    "    for i in range(n):\n",
    "        color = \"#\" + ''.join(random.choices(string.hexdigits, k=6))\n",
    "        hexa_colors.append(color)\n",
    "    \n",
    "    return hexa_colors\n",
    "\n",
    "\n",
    "print(list_of_hexa_colors(10))"
   ]
  },
  {
   "cell_type": "markdown",
   "metadata": {},
   "source": [
    "La función list_of_hexa_colors toma un parámetro n que especifica la cantidad de colores hexadecimales que se deben generar. La función utiliza un ciclo for\n",
    "para generar la cantidad especificada de colores utilizando la función random.choices para generar una cadena aleatoria de seis caracteres utilizando\n",
    "sólo los dígitos hexadecimales (string.hexdigits). Cada color generado se concatena con \"#\" al principio y se agrega a una lista. La función devuelve la\n",
    "lista de colores hexadecimales."
   ]
  },
  {
   "cell_type": "markdown",
   "metadata": {},
   "source": [
    "---\n",
    "\n",
    "2.Escriba una función list_of_rgb_colors que devuelva cualquier número de colores RGB en una matriz."
   ]
  },
  {
   "cell_type": "code",
   "execution_count": null,
   "metadata": {},
   "outputs": [],
   "source": [
    "import random\n",
    "\n",
    "def list_of_rgb_colors(n):  \n",
    "    colors = []\n",
    "    \n",
    "    for i in range(n):\n",
    "        r = int(random.random() * 256)\n",
    "        g = int(random.random() * 256)\n",
    "        b = int(random.random() * 256)\n",
    "        colors.append((r, g, b))\n",
    "    \n",
    "    return colors\n",
    "\n",
    "\n",
    "print(list_of_rgb_colors(10))\n"
   ]
  },
  {
   "cell_type": "markdown",
   "metadata": {},
   "source": [
    "La función anterior genera una lista de tuplas con valores aleatorios de R, G y B dentro del rango de 0 a 255. El parámetro \"n\" indica cuántos colores se deben generar."
   ]
  },
  {
   "cell_type": "markdown",
   "metadata": {},
   "source": [
    "---\n",
    "\n",
    "3. Escriba una función generar_colores que pueda generar cualquier número de colores hexa o rgb.\n",
    "\n",
    "    ```python\n",
    "    generate_colors('hexa', 3) # ['#a3e12f','#03ed55','#eb3d2b']\n",
    "    generate_colors('hexa', 1) # ['#b334ef']\n",
    "    generate_colors('rgb', 3)  # ['rgb(5, 55, 175','rgb(50, 105, 100','rgb(15, 26, 80']\n",
    "    generate_colors('rgb', 1)  # ['rgb(33,79, 176)']\n",
    "    ```\n",
    "    "
   ]
  },
  {
   "cell_type": "code",
   "execution_count": null,
   "metadata": {},
   "outputs": [],
   "source": [
    "import random\n",
    "import string\n",
    "\n",
    "def generate_colors(color_type, n):   \n",
    "    colors = []\n",
    "    \n",
    "    for i in range(n):\n",
    "        if color_type == 'hexa':\n",
    "            color = '#'\n",
    "            for j in range(6):\n",
    "                color += random.choice(string.hexdigits)\n",
    "            colors.append(color)\n",
    "        elif color_type == 'rgb':\n",
    "            r = str(int(random.random() * 256))\n",
    "            g = str(int(random.random() * 256))\n",
    "            b = str(int(random.random() * 256))\n",
    "            color = \"rgb(\" + r + \", \" + g + \", \" + b + \")\"\n",
    "            colors.append(color)\n",
    "    \n",
    "    return colors"
   ]
  },
  {
   "cell_type": "markdown",
   "metadata": {},
   "source": [
    "---\n",
    "\n",
    "La función anterior genera una lista de colores en el formato especificado en el primer parámetro ('hexa' o 'rgb') y el número de colores especificado en el\n",
    "segundo parámetro. El color hexadecimal se genera mediante la selección aleatoria de 6 dígitos hexadecimales, mientras que el color RGB se genera mediante la selección aleatoria de valores para los canales rojo, verde y azul dentro del rango de 0 a 255."
   ]
  },
  {
   "cell_type": "markdown",
   "metadata": {},
   "source": [
    "---\n",
    "\n",
    "### Ejercicios: Nivel 3\n",
    "\n",
    "1. Llame a su función shuffle_list, toma una lista como parámetro y devuelve una lista mezclada."
   ]
  },
  {
   "cell_type": "code",
   "execution_count": null,
   "metadata": {},
   "outputs": [],
   "source": [
    "import random\n",
    "\n",
    "def shuffle_list(list):\n",
    "    random.shuffle(list)\n",
    "    \n",
    "    return list"
   ]
  },
  {
   "cell_type": "markdown",
   "metadata": {},
   "source": [
    "2. Escriba una función que devuelva una matriz de siete números aleatorios en un rango de 0-9. Todos los números deben ser únicos."
   ]
  },
  {
   "cell_type": "code",
   "execution_count": null,
   "metadata": {},
   "outputs": [],
   "source": [
    "import random\n",
    "\n",
    "\n",
    "def unique_randoms():\n",
    "    randoms = random.sample(range(10), 7)\n",
    "    \n",
    "    return randoms\n"
   ]
  },
  {
   "cell_type": "markdown",
   "metadata": {},
   "source": [
    "La función anterior utiliza la función \"sample\" de la biblioteca \"random\" para generar una matriz de siete números aleatorios únicos en el rango de 0 a 9. La\n",
    "función devuelve la matriz de números aleatorios únicos.\n",
    "\n",
    "Nota: Si esta función es llamada varias veces se obtendrá una lista diferente cada vez."
   ]
  }
 ],
 "metadata": {
  "kernelspec": {
   "display_name": "Python 3",
   "language": "python",
   "name": "python3"
  },
  "language_info": {
   "codemirror_mode": {
    "name": "ipython",
    "version": 3
   },
   "file_extension": ".py",
   "mimetype": "text/x-python",
   "name": "python",
   "nbconvert_exporter": "python",
   "pygments_lexer": "ipython3",
   "version": "3.11.8"
  }
 },
 "nbformat": 4,
 "nbformat_minor": 2
}
