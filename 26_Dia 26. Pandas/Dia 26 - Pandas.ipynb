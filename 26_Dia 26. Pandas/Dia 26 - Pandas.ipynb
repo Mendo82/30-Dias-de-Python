{
 "cells": [
  {
   "cell_type": "markdown",
   "metadata": {},
   "source": [
    "<font size=6 color=red>30 días de Python: Día 25 - Pandas</font>\n",
    "\n",
    "---\n",
    "\n",
    "## Pandas\n",
    "\n",
    "Pandas es una estructura de datos y herramientas de análisis de datos de código abierto, alto rendimiento y fácil de usar para el lenguaje de programación Python. Pandas agrega estructuras de datos y herramientas diseñadas para trabajar con datos similares a tablas, que son Series y Data Frames . Pandas proporciona herramientas para la manipulación de datos:\n",
    "\n",
    "* reorganización\n",
    "* fusionando\n",
    "* clasificación\n",
    "* rebanar\n",
    "* agregación\n",
    "* imputación Si está utilizando anaconda, no tiene que instalar pandas.\n"
   ]
  },
  {
   "cell_type": "markdown",
   "metadata": {},
   "source": [
    "---\n",
    "\n",
    "## Instalando pandas\n",
    "\n",
    "Para Mac:\n",
    "\n",
    "```bash\n",
    "pip install conda\n",
    "conda install pandas\n",
    "```\n",
    "\n",
    "Para Windows:\n",
    "\n",
    "```bash\n",
    "pip install conda\n",
    "pip install pandas\n",
    "```\n",
    "\n",
    "La estructura de datos de Pandas se basa en Series y DataFrames.\n",
    "\n",
    "Una serie es una columna y un DataFrame es una tabla multidimensional compuesta por una colección de series . Para crear una serie de pandas, debemos usar numpy para crear matrices unidimensionales o una lista de python. Veamos un ejemplo de una serie:\n",
    "\n",
    "__Series de Nombres__\n",
    "\n",
    "https://github.com/Asabeneh/30-Days-Of-Python/blob/master/images/pandas-series-1.png\n",
    "\n",
    "<img src='Imagenes/imagen_1.png'>\n",
    "\n",
    "__Series de países__\n",
    "\n",
    "https://github.com/Asabeneh/30-Days-Of-Python/blob/master/images/pandas-series-2.png\n",
    "\n",
    "<img src='Imagenes/imagen_2.png'>\n",
    "\n",
    "__Series de ciudades__\n",
    "\n",
    "https://github.com/Asabeneh/30-Days-Of-Python/blob/master/images/pandas-series-3.png\n",
    "\n",
    "<img src='Imagenes/imagen_3.png'>\n",
    "\n",
    "Como puede ver, la serie pandas es solo una columna de datos. Si queremos tener varias columnas, usamos marcos de datos. El siguiente ejemplo muestra pandas DataFrames.\n",
    "\n",
    "Veamos un ejemplo de un marco de datos de pandas:\n",
    "\n",
    "https://github.com/Asabeneh/30-Days-Of-Python/blob/master/images/pandas-dataframe-1.png\n",
    "\n",
    "<img src='Imagenes/imagen_4.png'>\n",
    "\n",
    "El marco de datos es una colección de filas y columnas. Mire la tabla a continuación; tiene muchas más columnas que el ejemplo anterior:\n",
    "\n",
    "https://github.com/Asabeneh/30-Days-Of-Python/blob/master/images/pandas-dataframe-2.png\n",
    "\n",
    "<img src='Imagenes/imagen_5.png'>\n",
    "\n",
    "A continuación, veremos cómo importar pandas y cómo crear Series y DataFrames usando pandas.\n"
   ]
  },
  {
   "cell_type": "markdown",
   "metadata": {},
   "source": [
    "---\n",
    "\n",
    "## Importación de pandas\n",
    "\n",
    "```python\n",
    "import pandas as pd # importing pandas as pd\n",
    "import numpy  as np # importing numpy as np\n",
    "```"
   ]
  },
  {
   "cell_type": "markdown",
   "metadata": {},
   "source": [
    "---\n",
    "\n",
    "## Creación de series Pandas con índice predeterminado"
   ]
  },
  {
   "cell_type": "code",
   "execution_count": null,
   "metadata": {},
   "outputs": [],
   "source": [
    "import pandas as pd\n",
    "\n",
    "nums = [1, 2, 3, 4,5]\n",
    "s = pd.Series(nums)\n",
    "print(s)"
   ]
  },
  {
   "cell_type": "markdown",
   "metadata": {},
   "source": [
    "*Salida:*\n",
    "\n",
    "```text\n",
    "    0    1\n",
    "    1    2\n",
    "    2    3\n",
    "    3    4\n",
    "    4    5\n",
    "    dtype: int64\n",
    "```"
   ]
  },
  {
   "cell_type": "markdown",
   "metadata": {},
   "source": [
    "---\n",
    "\n",
    "## Creación de series Pandas con índice personalizado"
   ]
  },
  {
   "cell_type": "code",
   "execution_count": null,
   "metadata": {},
   "outputs": [],
   "source": [
    "import pandas as pd\n",
    "\n",
    "nums = [1, 2, 3, 4, 5]\n",
    "s = pd.Series(nums, index=[1, 2, 3, 4, 5])\n",
    "print(s)"
   ]
  },
  {
   "cell_type": "markdown",
   "metadata": {},
   "source": [
    "*Salida:*\n",
    "\n",
    "```text\n",
    "    1    1\n",
    "    2    2\n",
    "    3    3\n",
    "    4    4\n",
    "    5    5\n",
    "    dtype: int64\n",
    "```\n",
    "\n"
   ]
  },
  {
   "cell_type": "code",
   "execution_count": null,
   "metadata": {},
   "outputs": [],
   "source": [
    "import pandas as pd\n",
    "\n",
    "fruits = ['Orange', 'Banana', 'Mango']\n",
    "fruits = pd.Series(fruits, index=[1, 2, 3])\n",
    "print(fruits)"
   ]
  },
  {
   "cell_type": "markdown",
   "metadata": {},
   "source": [
    "*Salida:*\n",
    "\n",
    "```text\n",
    "    1    Orange\n",
    "    2    Banana\n",
    "    3    Mango\n",
    "    dtype: object\n",
    "```\n"
   ]
  },
  {
   "cell_type": "markdown",
   "metadata": {},
   "source": [
    "---\n",
    "\n",
    "## Creación de series Pandas a partir de un diccionario"
   ]
  },
  {
   "cell_type": "code",
   "execution_count": null,
   "metadata": {},
   "outputs": [],
   "source": [
    "import pandas as pd\n",
    "\n",
    "dct = {'name':'Asabeneh','country':'Finland','city':'Helsinki'}\n",
    "\n",
    "s = pd.Series(dct)\n",
    "print(s)"
   ]
  },
  {
   "cell_type": "markdown",
   "metadata": {},
   "source": [
    "*Salida:*\n",
    "\n",
    "\n",
    "```text\n",
    "    name       Asabeneh\n",
    "    country     Finland\n",
    "    city       Helsinki\n",
    "    dtype: object\n",
    "```\n"
   ]
  },
  {
   "cell_type": "markdown",
   "metadata": {},
   "source": [
    "---\n",
    "\n",
    "## Crear una serie de pandas constantes"
   ]
  },
  {
   "cell_type": "code",
   "execution_count": null,
   "metadata": {},
   "outputs": [],
   "source": [
    "import pandas as pd\n",
    "\n",
    "s = pd.Series(10, index = [1, 2, 3])\n",
    "print(s)"
   ]
  },
  {
   "cell_type": "markdown",
   "metadata": {},
   "source": [
    "*Salida:*\n",
    "\n",
    "```text\n",
    "    1    10\n",
    "    2    10\n",
    "    3    10\n",
    "    dtype: int64\n",
    "```\n"
   ]
  },
  {
   "cell_type": "markdown",
   "metadata": {},
   "source": [
    "---\n",
    "\n",
    "## Creando una Serie Pandas Usando Linspace"
   ]
  },
  {
   "cell_type": "code",
   "execution_count": null,
   "metadata": {},
   "outputs": [],
   "source": [
    "import pandas as pd\n",
    "\n",
    "s = pd.Series(np.linspace(5, 20, 10)) # linspace(starting, end, items)\n",
    "print(s)"
   ]
  },
  {
   "cell_type": "markdown",
   "metadata": {},
   "source": [
    "*Salida:*\n",
    "\n",
    "```text\n",
    "    0     5.000000\n",
    "    1     6.666667\n",
    "    2     8.333333\n",
    "    3    10.000000\n",
    "    4    11.666667\n",
    "    5    13.333333\n",
    "    6    15.000000\n",
    "    7    16.666667\n",
    "    8    18.333333\n",
    "    9    20.000000\n",
    "    dtype: float64\n",
    "    ```\n",
    "    "
   ]
  },
  {
   "cell_type": "markdown",
   "metadata": {},
   "source": [
    "---\n",
    "\n",
    "## Marcos de datos\n",
    "\n",
    "Los marcos de datos de Pandas se pueden crear de diferentes maneras.\n",
    "\n",
    "__Creación de tramas de datos a partir de una lista de listas__"
   ]
  },
  {
   "cell_type": "code",
   "execution_count": null,
   "metadata": {},
   "outputs": [],
   "source": [
    "import pandas as pd\n",
    "\n",
    "data = [\n",
    "    ['Asabeneh', 'Finland', 'Helsink'], \n",
    "    ['David', 'UK', 'London'],\n",
    "    ['John', 'Sweden', 'Stockholm']\n",
    "]\n",
    "\n",
    "df = pd.DataFrame(data, columns=['Names','Country','City'])\n",
    "\n",
    "print(df)"
   ]
  },
  {
   "cell_type": "markdown",
   "metadata": {},
   "source": [
    "*Salida:*\n",
    "\n",
    "```text\n",
    "    nombres     País            Ciudad\n",
    "0   Asabeneh    Finlandia       Helsink\n",
    "1   David       Reino Unido     Londres\n",
    "2   John        Suecia\t        Estocolmo\n",
    "```\n",
    "\n",
    "___Creación de DataFrame usando el diccionario___\n",
    "\n"
   ]
  },
  {
   "cell_type": "code",
   "execution_count": null,
   "metadata": {},
   "outputs": [],
   "source": [
    "import pandas as pd\n",
    "\n",
    "data = {'Name': ['Asabeneh', 'David', 'John'], 'Country':[\n",
    "    'Finland', 'UK', 'Sweden'], 'City': ['Helsiki', 'London', 'Stockholm']}\n",
    "\n",
    "df = pd.DataFrame(data)\n",
    "\n",
    "print(df)"
   ]
  },
  {
   "cell_type": "markdown",
   "metadata": {},
   "source": [
    "*Salida:*\n",
    "\n",
    "```text\n",
    "    nombres     País            Ciudad\n",
    "0   Asabeneh    Finlandia       Helsink\n",
    "1   David       Reino Unido     Londres\n",
    "2   John        Suecia          Estocolmo\n",
    "```"
   ]
  },
  {
   "cell_type": "markdown",
   "metadata": {},
   "source": [
    "__Crear tramas de datos a partir de una lista de diccionarios__"
   ]
  },
  {
   "cell_type": "code",
   "execution_count": null,
   "metadata": {},
   "outputs": [],
   "source": [
    "import pandas as pd\n",
    "\n",
    "data = [\n",
    "    {'Name': 'Asabeneh', 'Country': 'Finland', 'City': 'Helsinki'},\n",
    "    {'Name': 'David', 'Country': 'UK', 'City': 'London'},\n",
    "    {'Name': 'John', 'Country': 'Sweden', 'City': 'Stockholm'}]\n",
    "\n",
    "df = pd.DataFrame(data)\n",
    "\n",
    "print(df)"
   ]
  },
  {
   "cell_type": "markdown",
   "metadata": {},
   "source": [
    "*Salida:*\n",
    "\n",
    "```text\n",
    "    nombres     País            Ciudad\n",
    "0   Asabeneh    Finlandia       Helsink\n",
    "1   David       Reino Unido     Londres\n",
    "2   John        Suecia          Estocolmo\n",
    "```\n"
   ]
  },
  {
   "cell_type": "markdown",
   "metadata": {},
   "source": [
    "---\n",
    "\n",
    "## Leer archivo CSV usando Pandas\n",
    "\n",
    "Para descargar el archivo CSV, lo que se necesita en este ejemplo, consola/línea de comando es suficiente:\n",
    "\n",
    "curl -O https://raw.githubusercontent.com/Asabeneh/30-Days-Of-Python/master/data/weight-height.csv\n",
    "\n",
    "Coloque el archivo descargado en su directorio de trabajo.\n"
   ]
  },
  {
   "cell_type": "code",
   "execution_count": null,
   "metadata": {},
   "outputs": [],
   "source": [
    "import pandas as pd\n",
    "\n",
    "df = pd.read_csv('weight-height.csv')\n",
    "print(df)"
   ]
  },
  {
   "cell_type": "markdown",
   "metadata": {},
   "source": [
    "---\n",
    "\n",
    "## Exploración de datos\n",
    "\n",
    "Leamos solo las primeras 5 filas usando head() \n",
    "\n",
    "```python\n",
    "print(df.head()) # Dar cinco filas podemos aumentar el número de filas pasando el argumento al método head()\n",
    "```\n",
    "*Salida:*\n",
    "\n",
    "```text\n",
    "    Género\t      Altura\t   Peso\n",
    "0\tMasculino\t73.847017\t241.893563\n",
    "1\tMasculino\t68.781904\t162.310473\n",
    "2\tMasculino\t74.110105\t212.740856\n",
    "3\tMasculino\t71.730978\t220.042470\n",
    "4\tMasculino\t69.881796\t206.349801\n",
    "```\n",
    "\n",
    "Exploremos también las últimas grabaciones del dataframe usando los métodos tail(). \n",
    "\n",
    "```python\n",
    "# La función 'tail' muestra las últimas cinco filas, podemos aumentar el número de filas pasando un argumento al método 'tail'.\n",
    "print(df.tail()) \n",
    "```\n",
    "*Salida:*\n",
    "\n",
    "```text\n",
    "         Género\t     Altura\t       Peso\n",
    "9995\tFemenino\t66.172652\t136.777454\n",
    "9996\tFemenino\t67.067155\t170.867906\n",
    "9997\tFemenino\t63.867992\t128.475319\n",
    "9998\tFemenino\t69.034243\t163.852461\n",
    "9999\tFemenino\t61.944246\t113.649103\n",
    "```\n",
    "\n",
    "Como puede ver, el archivo csv tiene tres filas: Género, Altura y Peso. Si el DataFrame tuviera filas largas, sería difícil conocer todas las columnas. Por lo tanto, debemos usar un método para conocer las columnas. no sabemos el número de filas. Usemos el método de forma.\n",
    "\n",
    "```python\n",
    "print(df.shape) # as you can see 10000 rows and three columns\n",
    "```\n",
    "*Salida:*\n",
    "\n",
    "```text\n",
    " (10000, 3) \n",
    "```\n",
    "\n",
    "Obtengamos todas las columnas usando columnas. \n",
    "\n",
    "```python\n",
    "print(df.columns)\n",
    "```\n",
    "*Salida:*\n",
    "\n",
    "```text\n",
    "Index(['Gender', 'Height', 'Weight'], dtype='object') \n",
    "```\n",
    "\n",
    "Ahora, obtengamos una columna específica usando la clave de columna.\n",
    "\n",
    "```python\n",
    "heights = df['Height'] # this is now a series\n",
    "print(heights)\n",
    "```\n",
    "*Salida:*\n",
    "\n",
    "\n",
    "```text\n",
    "    0       73.847017\n",
    "    1       68.781904\n",
    "    2       74.110105\n",
    "    3       71.730978\n",
    "    4       69.881796\n",
    "              ...    \n",
    "    9995    66.172652\n",
    "    9996    67.067155\n",
    "    9997    63.867992\n",
    "    9998    69.034243\n",
    "    9999    61.944246\n",
    "    Name: Height, Length: 10000, dtype: float64\n",
    "```\n",
    "\n",
    "```python\n",
    "weights = df['Weight'] # this is now a series\n",
    "print(weights)\n",
    "```\n",
    "*Salida:*\n",
    "\n",
    "```text\n",
    "    0       241.893563\n",
    "    1       162.310473\n",
    "    2       212.740856\n",
    "    3       220.042470\n",
    "    4       206.349801\n",
    "               ...    \n",
    "    9995    136.777454\n",
    "    9996    170.867906\n",
    "    9997    128.475319\n",
    "    9998    163.852461\n",
    "    9999    113.649103\n",
    "    Name: Weight, Length: 10000, dtype: float64\n",
    "```\n",
    "\n",
    "```python\n",
    "print(len(heights) == len(weights))\n",
    "```\n",
    "*Salida:*\n",
    "\n",
    "```python\n",
    "True \n",
    "```\n",
    "\n",
    "El método describe() proporciona valores estadísticos descriptivos de un conjunto de datos. \n",
    "\n",
    "```python\n",
    "print(heights.describe())  # Proporciona información estadística sobre los datos de altura.\n",
    "```\n",
    "*Salida:*\n",
    "\n",
    "```text\n",
    "    count    10000.000000\n",
    "    mean        66.367560\n",
    "    std          3.847528\n",
    "    min         54.263133\n",
    "    25%         63.505620\n",
    "    50%         66.318070\n",
    "    75%         69.174262\n",
    "    max         78.998742\n",
    "    Name: Height, dtype: float64\n",
    "```\n",
    "\n",
    "```python\n",
    "print(weights.describe())\n",
    "```\n",
    "*Salida:*\n",
    "\n",
    "```text\n",
    "    count    10000.000000\n",
    "    mean       161.440357\n",
    "    std         32.108439\n",
    "    min         64.700127\n",
    "    25%        135.818051\n",
    "    50%        161.212928\n",
    "    75%        187.169525\n",
    "    max        269.989699\n",
    "    Name: Weight, dtype: float64\n",
    "```\n",
    "\n",
    "```python\n",
    "print(df.describe())  # La función 'describe' también puede proporcionar información estadística de un DataFrame.\n",
    "```\n",
    "*Salida:*\n",
    "\n",
    "```text\n",
    "                    Altura          Peso\n",
    "count               10000.000000    10000.000000\n",
    "mean                66.367560       161.440357\n",
    "std                 3.847528        32.108439\n",
    "min                 54.263133       64.700127\n",
    "25%                 63.505620       135.818051\n",
    "50%                 66.318070       161.212928\n",
    "75%                 69.174262       187.169525\n",
    "máximo              78.998742       269.989699\n",
    "```\n",
    "\n",
    "\n",
    "\n",
    "Similar a describe(), el método info() también brinda información sobre el conjunto de datos. "
   ]
  },
  {
   "cell_type": "markdown",
   "metadata": {},
   "source": [
    "---\n",
    "\n",
    "## Modificación de un marco de datos\n",
    "\n",
    "*Modificando un DataFrame:* \n",
    "\n",
    "* Podemos crear un nuevo DataFrame \n",
    "* Podemos crear una nueva columna y agregarla al DataFrame\n",
    "* Podemos eliminar una columna existente de un DataFrame\n",
    "* Podemos modificar una columna existente en un DataFrame\n",
    "* Podemos cambiar el tipo de datos de los valores de columna en el DataFrame"
   ]
  },
  {
   "cell_type": "markdown",
   "metadata": {},
   "source": [
    "---\n",
    "\n",
    "## Creación de un marco de datos\n",
    "\n",
    "Como siempre, primero importamos los paquetes necesarios. Ahora, importemos pandas y numpy, dos mejores amigos de todos los tiempos.\n"
   ]
  },
  {
   "cell_type": "code",
   "execution_count": null,
   "metadata": {},
   "outputs": [],
   "source": [
    "import pandas as pd\n",
    "import numpy as np\n",
    "\n",
    "\n",
    "data = [\n",
    "    {\"Name\": \"Asabeneh\", \"Country\":\"Finland\",\"City\":\"Helsinki\"},\n",
    "    {\"Name\": \"David\", \"Country\":\"UK\",\"City\":\"London\"},\n",
    "    {\"Name\": \"John\", \"Country\":\"Sweden\",\"City\":\"Stockholm\"}]\n",
    "\n",
    "df = pd.DataFrame(data)\n",
    "print(df)"
   ]
  },
  {
   "cell_type": "markdown",
   "metadata": {},
   "source": [
    "*Salida:*\n",
    "\n",
    "```text\n",
    "       Name  Country       City\n",
    "0  Asabeneh  Finland   Helsinki\n",
    "1     David       UK     London\n",
    "2      John   Sweden  Stockholm\n",
    "```\n",
    "Agregar una columna a un DataFrame es como agregar una clave a un diccionario.\n",
    "\n",
    "Primero, usemos el ejemplo anterior para crear un DataFrame. Después de crear el DataFrame, comenzaremos a modificar las columnas y los valores de las columnas.\n",
    "\n",
    "__Agregar una nueva columna__\n",
    "\n",
    "Agreguemos una columna de peso en el DataFrame"
   ]
  },
  {
   "cell_type": "code",
   "execution_count": null,
   "metadata": {},
   "outputs": [],
   "source": [
    "import pandas as pd\n",
    "import numpy as np\n",
    "\n",
    "\n",
    "data = [\n",
    "    {\"Name\": \"Asabeneh\", \"Country\":\"Finland\",\"City\":\"Helsinki\"},\n",
    "    {\"Name\": \"David\", \"Country\":\"UK\",\"City\":\"London\"},\n",
    "    {\"Name\": \"John\", \"Country\":\"Sweden\",\"City\":\"Stockholm\"}]\n",
    "\n",
    "df = pd.DataFrame(data)\n",
    "\n",
    "weights = [74, 78, 69]\n",
    "df['Weight'] = weights\n",
    "print(df)"
   ]
  },
  {
   "cell_type": "markdown",
   "metadata": {},
   "source": [
    "*Salida:*\n",
    "\n",
    "```text\n",
    "        Name  Country       City  Weight\n",
    "0  Asabeneh  Finland   Helsinki      74\n",
    "1     David       UK     London      78\n",
    "2      John   Sweden  Stockholm      69\n",
    "```\n",
    "Agreguemos también una columna de altura en el DataFrame"
   ]
  },
  {
   "cell_type": "code",
   "execution_count": null,
   "metadata": {},
   "outputs": [],
   "source": [
    "import pandas as pd\n",
    "import numpy as np\n",
    "\n",
    "\n",
    "data = [\n",
    "    {\"Name\": \"Asabeneh\", \"Country\":\"Finland\",\"City\":\"Helsinki\"},\n",
    "    {\"Name\": \"David\", \"Country\":\"UK\",\"City\":\"London\"},\n",
    "    {\"Name\": \"John\", \"Country\":\"Sweden\",\"City\":\"Stockholm\"}]\n",
    "\n",
    "df = pd.DataFrame(data)\n",
    "\n",
    "weights = [74, 78, 69]\n",
    "df['Weight'] = weights\n",
    "\n",
    "heights = [173, 175, 169]\n",
    "df['Height'] = heights\n",
    "\n",
    "print(df)"
   ]
  },
  {
   "cell_type": "markdown",
   "metadata": {},
   "source": [
    "*Salida:*\n",
    "\n",
    "```text\n",
    "       Name  Country       City  Weight  Height\n",
    "0  Asabeneh  Finland   Helsinki      74     173\n",
    "1     David       UK     London      78     175\n",
    "2      John   Sweden  Stockholm      69     169\n",
    "```\n",
    "Como puede ver en el DataFrame anterior, agregamos nuevas columnas, Peso y Altura. Agreguemos una columna adicional llamada IMC (índice de masa corporal) calculando su IMC usando su masa y altura. El IMC es la masa dividida por la altura al cuadrado (en metros) - Peso/Altura * Altura.\n",
    "\n",
    "Como puede ver, la altura está en centímetros, por lo que debemos cambiarla a metros. Modifiquemos la fila de altura.\n",
    "\n",
    "__Modificar valores de columna__\n",
    "\n",
    "```python\n",
    "df['Height'] = df['Height'] * 0.01\n",
    "```\n"
   ]
  },
  {
   "cell_type": "code",
   "execution_count": null,
   "metadata": {},
   "outputs": [],
   "source": [
    "import pandas as pd\n",
    "import numpy as np\n",
    "\n",
    "\n",
    "data = [\n",
    "    {\"Name\": \"Asabeneh\", \"Country\":\"Finland\",\"City\":\"Helsinki\"},\n",
    "    {\"Name\": \"David\", \"Country\":\"UK\",\"City\":\"London\"},\n",
    "    {\"Name\": \"John\", \"Country\":\"Sweden\",\"City\":\"Stockholm\"}]\n",
    "\n",
    "df = pd.DataFrame(data)\n",
    "\n",
    "weights = [74, 78, 69]\n",
    "df['Weight'] = weights\n",
    "\n",
    "heights = [173, 175, 169]\n",
    "df['Height'] = heights\n",
    "df['Height'] = df['Height'] * 0.01\n",
    "\n",
    "print(df)"
   ]
  },
  {
   "cell_type": "markdown",
   "metadata": {},
   "source": [
    "*Salida:*\n",
    "\n",
    "```text\n",
    "       Name  Country       City  Weight  Height\n",
    "0  Asabeneh  Finland   Helsinki      74    1.73\n",
    "1     David       UK     London      78    1.75\n",
    "2      John   Sweden  Stockholm      69    1.69\n",
    "```\n",
    "\n",
    "__Usar funciones hace que nuestro código sea más limpio, pero puedes calcular el IMC (Índice de Masa Corporal) sin utilizar una función.__"
   ]
  },
  {
   "cell_type": "code",
   "execution_count": null,
   "metadata": {},
   "outputs": [],
   "source": [
    "def calculate_bmi ():\n",
    "    weights = df['Weight']\n",
    "    heights = df['Height']\n",
    "    bmi = []\n",
    "    \n",
    "    for w,h in zip(weights, heights):\n",
    "        b = w/(h*h)\n",
    "        bmi.append(b)\n",
    "    \n",
    "    return bmi\n",
    "    \n",
    "bmi = calculate_bmi()\n",
    "\n",
    "df['BMI'] = bmi\n",
    "print(df)"
   ]
  },
  {
   "cell_type": "markdown",
   "metadata": {},
   "source": [
    "*Salida:*\n",
    "\n",
    "```text\n",
    "      Name  Country       City  Weight  Height        BMI\n",
    "0  Asabeneh  Finland   Helsinki      74    1.73  24.725183\n",
    "1     David       UK     London      78    1.75  25.469388\n",
    "2      John   Sweden  Stockholm      69    1.69  24.158818\n",
    "```\n"
   ]
  },
  {
   "cell_type": "markdown",
   "metadata": {},
   "source": [
    "---\n",
    "\n",
    "## Formateo de columnas de DataFrame\n",
    "\n",
    "Los valores de la columna BMI del DataFrame son flotantes con muchos dígitos significativos después del decimal. \n",
    "Cambiémoslo a un dígito significativo después del punto.\n"
   ]
  },
  {
   "cell_type": "code",
   "execution_count": null,
   "metadata": {},
   "outputs": [],
   "source": [
    "df['BMI'] = round(df['BMI'], 1)\n",
    "print(df)"
   ]
  },
  {
   "cell_type": "markdown",
   "metadata": {},
   "source": [
    "*Salida:*\n",
    "\n",
    "```text\n",
    "       Name  Country       City  Weight  Height   BMI\n",
    "0  Asabeneh  Finland   Helsinki      74    1.73  24.7\n",
    "1     David       UK     London      78    1.75  25.5\n",
    "2      John   Sweden  Stockholm      69    1.69  24.2\n",
    "```\n"
   ]
  },
  {
   "cell_type": "markdown",
   "metadata": {},
   "source": [
    "La información en el DataFrame parece no estar aún completa, agreguemos las columnas año de nacimiento y año actual.\n"
   ]
  },
  {
   "cell_type": "code",
   "execution_count": null,
   "metadata": {},
   "outputs": [],
   "source": [
    "birth_year = ['1769', '1985', '1990']\n",
    "current_year = pd.Series(2020, index=[0, 1,2])\n",
    "df['Birth Year'] = birth_year\n",
    "df['Current Year'] = current_year\n",
    "print(df)"
   ]
  },
  {
   "cell_type": "markdown",
   "metadata": {},
   "source": [
    "*Salida:*\n",
    "\n",
    "```text\n",
    "       Name  Country       City  Weight  Height   BMI Birth Year  Current Year\n",
    "0  Asabeneh  Finland   Helsinki      74    1.73  24.7       1769          2020\n",
    "1     David       UK     London      78    1.75  25.5       1985          2020\n",
    "2      John   Sweden  Stockholm      69    1.69  24.2       1990          2020\n",
    "```\n"
   ]
  },
  {
   "cell_type": "markdown",
   "metadata": {},
   "source": [
    "---\n",
    "\n",
    "## Comprobación de tipos de datos de valores de columna"
   ]
  },
  {
   "cell_type": "code",
   "execution_count": null,
   "metadata": {},
   "outputs": [],
   "source": [
    "print(df.Weight.dtype)  # dtype('int64')\n",
    "\n",
    "df['Birth Year'].dtype # Devuelve un objeto de tipo cadena, deberíamos cambiar esto a un número\n",
    "\n",
    "df['Birth Year'] = df['Birth Year'].astype('int')\n",
    "print(df['Birth Year'].dtype) # Vamos a comprobar el tipo de datos ahora"
   ]
  },
  {
   "cell_type": "markdown",
   "metadata": {},
   "source": [
    "*Salida:*\n",
    "\n",
    "```text\n",
    "int64\n",
    "int64\n",
    "```\n"
   ]
  },
  {
   "cell_type": "markdown",
   "metadata": {},
   "source": [
    "Ahora mismo para el año en curso:"
   ]
  },
  {
   "cell_type": "code",
   "execution_count": null,
   "metadata": {},
   "outputs": [],
   "source": [
    "df['Current Year'] = df['Current Year'].astype('int')\n",
    "df['Current Year'].dtype"
   ]
  },
  {
   "cell_type": "markdown",
   "metadata": {},
   "source": [
    "*Salida:*\n",
    "\n",
    "```text\n",
    "dtype('int64')\n",
    "```\n"
   ]
  },
  {
   "cell_type": "markdown",
   "metadata": {},
   "source": [
    "Ahora, los valores de las columnas del año de nacimiento y el año actual son números enteros. Podemos calcular la edad."
   ]
  },
  {
   "cell_type": "code",
   "execution_count": null,
   "metadata": {},
   "outputs": [],
   "source": [
    "ages = df['Current Year'] - df['Birth Year']\n",
    "print(ages)"
   ]
  },
  {
   "cell_type": "markdown",
   "metadata": {},
   "source": [
    "*Salida:*\n",
    "\n",
    "```text\n",
    "0    251\n",
    "1     35\n",
    "2     30\n",
    "dtype: int64\n",
    "```\n"
   ]
  },
  {
   "cell_type": "code",
   "execution_count": null,
   "metadata": {},
   "outputs": [],
   "source": [
    "df['Ages'] = ages\n",
    "print(df)"
   ]
  },
  {
   "cell_type": "markdown",
   "metadata": {},
   "source": [
    "*Salida:*\n",
    "\n",
    "```text\n",
    "       Name  Country       City  Weight  Height   BMI  Birth Year  \\\n",
    "0  Asabeneh  Finland   Helsinki      74    1.73  24.7        1769   \n",
    "1     David       UK     London      78    1.75  25.5        1985   \n",
    "2      John   Sweden  Stockholm      69    1.69  24.2        1990   \n",
    "\n",
    "   Current Year  Ages  \n",
    "0          2020   251  \n",
    "1          2020    35  \n",
    "2          2020    30  \n",
    "```\n"
   ]
  },
  {
   "cell_type": "markdown",
   "metadata": {},
   "source": [
    "La persona de la primera fila vivió hasta ahora durante 251 años. Es poco probable que alguien viva tanto tiempo. \n",
    "O es un error tipográfico o los datos están manipulados. Entonces, llenemos esos datos con el promedio de las columnas sin incluir valores atípicos.\n"
   ]
  },
  {
   "cell_type": "code",
   "execution_count": null,
   "metadata": {},
   "outputs": [],
   "source": [
    "media = (35 + 30) / 2\n",
    "mean = (35 + 30) / 2\n",
    "\n",
    "print('Mean: ', mean)  # Es bueno agregar alguna descripción a la salida, para que sepamos qué es qué."
   ]
  },
  {
   "cell_type": "markdown",
   "metadata": {},
   "source": [
    "*Salida:*\n",
    "\n",
    "```text\n",
    "Mean:  32.5\n",
    "```\n"
   ]
  },
  {
   "cell_type": "markdown",
   "metadata": {},
   "source": [
    "---\n",
    "\n",
    "## Indexación booleana\n",
    "\n",
    "```python\n",
    "print(df[df['Ages'] > 120])\n",
    "```\n",
    "\n",
    "\n",
    "Esta línea imprime un subconjunto de un DataFrame (df) que cumple una condición específica.\n",
    "\n",
    "```text\n",
    "* df es el DataFrame que contiene tus datos.\n",
    "* ['Ages'] se refiere a la columna 'Ages' en el DataFrame.\n",
    "* > 120 es la condición que se aplica a la columna 'Ages'.\n",
    "```\n",
    "\n",
    "\n",
    "Juntos, df['Ages'] > 120 seleccionan solo las filas del DataFrame en las que los valores de la columna 'Ages' son mayores que 120.\n",
    "\n",
    "Al imprimir df[df['Ages'] > 120], se mostrarán solo las filas del DataFrame que cumplan la condición df['Ages'] > 120. En otras palabras, esta línea de código te permite filtrar y visualizar solo las filas de tu DataFrame en las que la edad es mayor que 120."
   ]
  },
  {
   "cell_type": "code",
   "execution_count": null,
   "metadata": {},
   "outputs": [],
   "source": [
    "print(df[df['Ages'] > 120])"
   ]
  },
  {
   "cell_type": "markdown",
   "metadata": {},
   "source": [
    "*Salida:*\n",
    "\n",
    "```text\n",
    "       Name  Country      City  Weight  Height   BMI  Birth Year  \\\n",
    "0  Asabeneh  Finland  Helsinki      74    1.73  24.7        1769   \n",
    "\n",
    "   Current Year  Ages  \n",
    "0          2020   251 \n",
    "```\n"
   ]
  }
 ],
 "metadata": {
  "kernelspec": {
   "display_name": "Python 3",
   "language": "python",
   "name": "python3"
  },
  "language_info": {
   "codemirror_mode": {
    "name": "ipython",
    "version": 3
   },
   "file_extension": ".py",
   "mimetype": "text/x-python",
   "name": "python",
   "nbconvert_exporter": "python",
   "pygments_lexer": "ipython3",
   "version": "3.11.8"
  }
 },
 "nbformat": 4,
 "nbformat_minor": 2
}
