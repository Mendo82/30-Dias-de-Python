{
 "cells": [
  {
   "cell_type": "markdown",
   "metadata": {},
   "source": [
    "<font size=6 color=red>Ejercicios Día 25</font>\n",
    "\n",
    "---\n",
    "\n",
    "1. Lea el archivo hacker_news.csv del directorio de datos"
   ]
  },
  {
   "cell_type": "code",
   "execution_count": null,
   "metadata": {},
   "outputs": [],
   "source": [
    "with open('Archivos/hacker_news.csv', newline='') as archico_csv:\n",
    "    lector_csv = csv.reader(archico_csv, delimiter=',')\n",
    "    for fila in lector_csv:\n",
    "        print(fila)"
   ]
  },
  {
   "cell_type": "markdown",
   "metadata": {},
   "source": [
    "Para leer un archivo CSV en Python, puede utilizar la biblioteca csv incluida en la biblioteca estándar de Python.\n",
    "\n",
    "El código anterior abrirá el archivo hacker_news.csv en modo de lectura, creará un objeto csv.reader y lo utilizará para leer las filas del archivo. El parámetro delimiter especifica que el delimitador de campos en el archivo es la coma.\n",
    "\n",
    "El parámetro newline='' se utiliza para que Python maneje el final de línea de forma automática."
   ]
  },
  {
   "cell_type": "markdown",
   "metadata": {},
   "source": [
    "---\n",
    "\n",
    "2. Obtener las primeras cinco filas\n"
   ]
  },
  {
   "cell_type": "code",
   "execution_count": null,
   "metadata": {},
   "outputs": [],
   "source": [
    "import pandas as pd\n",
    "\n",
    "# Lee el archivo CSV y almacena los datos en un DataFrame de Pandas\n",
    "df = pd.read_csv('Archivos/hacker_news.csv')\n",
    "\n",
    "# Imprime las primeras 5 filas del DataFrame\n",
    "print(df.head(5))"
   ]
  },
  {
   "cell_type": "markdown",
   "metadata": {},
   "source": [
    "* El método read_csv() de Pandas se utiliza para leer el archivo CSV y almacenar los datos en un objeto DataFrame de Pandas. \n",
    "* El método head() se utiliza para obtener las primeras 5 filas del DataFrame.\n"
   ]
  },
  {
   "cell_type": "markdown",
   "metadata": {},
   "source": [
    "---\n",
    "\n",
    "3. Obtener las últimas cinco filas"
   ]
  },
  {
   "cell_type": "code",
   "execution_count": null,
   "metadata": {},
   "outputs": [],
   "source": [
    "import pandas as pd\n",
    "\n",
    "# Lee el archivo CSV y almacena los datos en un DataFrame de Pandas\n",
    "df = pd.read_csv('Archivos/hacker_news.csv')\n",
    "\n",
    "# Imprime las últimas 5 filas del DataFrame\n",
    "print(df.tail(5))"
   ]
  },
  {
   "cell_type": "markdown",
   "metadata": {},
   "source": [
    "El método tail() de Pandas se utiliza para obtener las últimas filas del DataFrame. En este caso, se llama al método tail(5) para obtener las últimas 5 filas del DataFrame."
   ]
  },
  {
   "cell_type": "markdown",
   "metadata": {},
   "source": [
    "---\n",
    "\n",
    "4. Obtener la columna de título como serie pandas"
   ]
  },
  {
   "cell_type": "code",
   "execution_count": null,
   "metadata": {},
   "outputs": [],
   "source": [
    "# Obtener la columna de título como serie pandas\n",
    "\n",
    "import pandas as pd\n",
    "\n",
    "# Lee el archivo CSV y almacena los datos en un DataFrame de Pandas\n",
    "df = pd.read_csv('Archivos/hacker_news.csv')\n",
    "\n",
    "# Obtén la columna de títulos como una Serie de Pandas\n",
    "columna_titulos = df['title']\n",
    "\n",
    "# Imprime la Serie de títulos\n",
    "print(columna_titulos)"
   ]
  },
  {
   "cell_type": "markdown",
   "metadata": {},
   "source": [
    "En este ejemplo, el DataFrame df contiene la columna de títulos etiquetada como 'title'. Al indexar el DataFrame con la etiqueta de columna 'title', se obtiene la Serie de Pandas que representa la columna de títulos. Luego, se puede imprimir la Serie usando la función print().\n"
   ]
  },
  {
   "cell_type": "markdown",
   "metadata": {},
   "source": [
    "---\n",
    "\n",
    "5. Contar el número de filas y columnas"
   ]
  },
  {
   "cell_type": "code",
   "execution_count": null,
   "metadata": {},
   "outputs": [],
   "source": [
    "import pandas as pd\n",
    "\n",
    "# Lee el archivo CSV y almacena los datos en un DataFrame de Pandas\n",
    "df = pd.read_csv('Archivos/hacker_news.csv')\n",
    "\n",
    "# Cuenta el número de filas y columnas del DataFrame\n",
    "num_filas = df.shape[0]\n",
    "num_columnas = df.shape[1]\n",
    "\n",
    "# Imprime el número de filas y columnas del DataFrame\n",
    "print('Número de filas:', num_filas)\n",
    "print('Número de columnas:', num_columnas)"
   ]
  },
  {
   "cell_type": "markdown",
   "metadata": {},
   "source": [
    "Para contar el número de filas y columnas de un DataFrame de Pandas, puede utilizar el atributo shape. \n",
    "El atributo shape devuelve una tupla que contiene el número de filas y columnas del DataFrame en ese orden.\n",
    "\n",
    "En este ejemplo, se utiliza el método read_csv() de Pandas para leer el archivo CSV y almacenar los datos en un objeto DataFrame de Pandas llamado df. Luego, se utilizan los atributos shape[0] y shape[1] para obtener el número de filas y columnas del DataFrame, respectivamente. Finalmente, se imprimen estos valores utilizando la función print()."
   ]
  },
  {
   "cell_type": "markdown",
   "metadata": {},
   "source": [
    "---\n",
    "\n",
    "5.1 Filtra los títulos que contienen python"
   ]
  },
  {
   "cell_type": "code",
   "execution_count": null,
   "metadata": {},
   "outputs": [],
   "source": [
    "import pandas as pd\n",
    "\n",
    "# Lee el archivo CSV y almacena los datos en un DataFrame de Pandas\n",
    "df = pd.read_csv('Archivos/hacker_news.csv')\n",
    "\n",
    "# Filtra las filas que contienen la palabra 'python' en la columna 'title'\n",
    "filtro = df.loc[df['title'].str.contains('python')]\n",
    "\n",
    "# Imprime el resultado del filtro\n",
    "print(filtro)"
   ]
  },
  {
   "cell_type": "markdown",
   "metadata": {},
   "source": [
    "Para filtrar las filas que contienen una palabra específica en una columna determinada de un DataFrame de Pandas, puede utilizar la función str.contains() y la función loc[] de Pandas.\n",
    "\n",
    "La función str.contains() se utiliza para buscar una subcadena en una Serie de Pandas. La función loc[] de Pandas se utiliza para filtrar las filas de un DataFrame según una condición dada.\n",
    "\n",
    "Por ejemplo, supongamos que tiene un DataFrame llamado df con una columna llamada 'title', y desea filtrar las filas que contienen la palabra 'python' en la columna 'title'.\n",
    "\n",
    "En este ejemplo, se utiliza la función loc[] para filtrar las filas del DataFrame df que contienen la palabra 'python' en la columna 'title'. La expresión df['title'].str.contains('python') devuelve una Serie de Pandas de valores booleanos que indican si cada fila de la columna 'title' contiene la subcadena 'python'. Luego, la función loc[] se utiliza para seleccionar solo las filas donde la Serie de valores booleanos es True. El resultado del filtro se almacena en el objeto filtro, y luego se imprime utilizando la función print()."
   ]
  },
  {
   "cell_type": "markdown",
   "metadata": {},
   "source": [
    "---\n",
    "\n",
    "5.2 Filtra los títulos que contienen JavaScript"
   ]
  },
  {
   "cell_type": "code",
   "execution_count": null,
   "metadata": {},
   "outputs": [],
   "source": [
    "import pandas as pd\n",
    "\n",
    "# Lee el archivo CSV y almacena los datos en un DataFrame de Pandas\n",
    "df = pd.read_csv('Archivos/hacker_news.csv')\n",
    "\n",
    "# Filtra las filas que contienen la palabra 'python' en la columna 'texto'\n",
    "filtro = df.loc[df['title'].str.contains('JavaScript')]\n",
    "\n",
    "# Imprime el resultado del filtro\n",
    "print(filtro)\n",
    "\n",
    "# 5.3 Explorar los datos y darles sentido\n",
    "\n",
    "import pandas as pd\n",
    "import matplotlib.pyplot as plt\n",
    "\n",
    "# Lee el archivo CSV y almacena los datos en un DataFrame de Pandas\n",
    "df = pd.read_csv('hacker_news.csv')\n",
    "\n",
    "# Muestra las primeras 5 filas del DataFrame\n",
    "print(df.head())\n",
    "\n",
    "# Muestra información sobre las columnas del DataFrame\n",
    "print(df.info())\n",
    "\n",
    "# Muestra estadísticas resumidas de las columnas numéricas del DataFrame\n",
    "print(df.describe())\n",
    "\n",
    "# Cuenta los valores únicos en la columna 'sexo'\n",
    "print(df['author'].value_counts())\n",
    "\n",
    "# Encuentra las filas con valores nulos en el DataFrame\n",
    "print(df.isnull().sum())"
   ]
  },
  {
   "cell_type": "markdown",
   "metadata": {},
   "source": [
    "Para explorar los datos y darles sentido en un DataFrame de Pandas, es útil utilizar una variedad de funciones y métodos disponibles en Pandas y en Python en general. A continuación, se presentan algunas técnicas comunes que se pueden utilizar para explorar los datos en un DataFrame de Pandas:\n",
    "\n",
    "1. Utilice el método `head()` o `tail()` para examinar las primeras o últimas filas del DataFrame.\n",
    "\n",
    "2. Utilice el método `info()` para obtener información sobre las columnas del DataFrame, como el nombre de la columna, \n",
    "el tipo de datos y el número de valores no nulos.\n",
    "\n",
    "3. Utilice el método `describe()` para obtener estadísticas resumidas de las columnas numéricas del DataFrame, \n",
    "como el recuento, la media, la desviación estándar, el mínimo y el máximo.\n",
    "\n",
    "4. Utilice la función `value_counts()` para contar los valores únicos en una columna del DataFrame.\n",
    "\n",
    "5. Utilice la función `isnull()` para encontrar filas con valores nulos y la función `fillna()` para llenar los valores nulos con valores predeterminados.\n",
    "\n",
    "6. Utilice el método `groupby()` para agrupar el DataFrame por una o más columnas y aplicar una función de agregación, como la suma, el recuento o la media, a las columnas agrupadas.\n",
    "\n",
    "7. Utilice la función `corr()` para calcular la correlación entre las columnas numéricas del DataFrame.\n",
    "\n",
    "8. Utilice gráficos y visualizaciones para explorar las relaciones y patrones en los datos, utilizando bibliotecas como Matplotlib o Seaborn.\n",
    "\n",
    "Estas son solo algunas técnicas comunes que se pueden utilizar para explorar y dar sentido a los datos en un DataFrame de Pandas. \n",
    "La elección de técnicas específicas dependerá de los objetivos y el contexto de análisis de datos."
   ]
  }
 ],
 "metadata": {
  "language_info": {
   "name": "python"
  }
 },
 "nbformat": 4,
 "nbformat_minor": 2
}
