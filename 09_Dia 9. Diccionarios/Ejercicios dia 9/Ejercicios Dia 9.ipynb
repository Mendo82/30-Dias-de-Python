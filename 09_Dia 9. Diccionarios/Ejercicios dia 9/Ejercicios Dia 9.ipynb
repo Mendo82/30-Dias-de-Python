{
 "cells": [
  {
   "cell_type": "markdown",
   "metadata": {},
   "source": [
    "<font size=6 color=red>Ejercicios - Día 9</font>\n",
    "\n",
    "---\n",
    "\n",
    "Crea un diccionario vacío llamado perro."
   ]
  },
  {
   "cell_type": "code",
   "execution_count": 1,
   "metadata": {},
   "outputs": [],
   "source": [
    "perro = {}"
   ]
  },
  {
   "cell_type": "markdown",
   "metadata": {},
   "source": [
    "---\n",
    "\n",
    "Agregue nombre, color, raza, patas, edad al diccionario de perros."
   ]
  },
  {
   "cell_type": "code",
   "execution_count": 2,
   "metadata": {},
   "outputs": [],
   "source": [
    "perro = {\n",
    "    'nombre': 'Haku',\n",
    "    'color': 'blanco',\n",
    "    'raza': ['labrador', 'pastor aleman', 'pinche', 'boxer', 'doverman'],\n",
    "    'patas': 4,\n",
    "    'edad': [1, 2, 3, 4, 5, 6, 7, 8, 9, 10]\n",
    "}"
   ]
  },
  {
   "cell_type": "markdown",
   "metadata": {},
   "source": [
    "---\n",
    "\n",
    "Cree un diccionario para estudiantes y agregue nombre, apellido, sexo, edad, estado civil, habilidades, país, ciudad y dirección como claves para \n",
    "el diccionario."
   ]
  },
  {
   "cell_type": "code",
   "execution_count": 3,
   "metadata": {},
   "outputs": [],
   "source": [
    "estudiantes = {\n",
    "    'Enrique': {\n",
    "        'apellido': 'Jimenez',\n",
    "        'sexo': 'hombre',\n",
    "        'edad': 47,\n",
    "        'estado_civil': 'casado',\n",
    "        'habilidad': ['informatica', 'quimica', 'redes'],\n",
    "        'pais': 'España',\n",
    "        'ciudad': 'Cordoba',\n",
    "        'direccion': 'Avenida Noreña'\n",
    "    },\n",
    "    'Pedro': {\n",
    "        'apellido': 'Gomez',\n",
    "        'sexo': 'hombre',\n",
    "        'edad': 35,\n",
    "        'estado_civil': 'casado',\n",
    "        'habilidad': ['ingeniero', 'idiomas', 'primeros auxilios'],\n",
    "        'pais': 'España',\n",
    "        'ciudad': 'Malaga',\n",
    "        'direccion': 'Avenida Doctor Fleming'\n",
    "    },\n",
    "    'Leticia': {\n",
    "        'apellido': 'Mohedano',\n",
    "        'sexo': 'Mujer',\n",
    "        'edad': 39,\n",
    "        'estado_civil': 'divorciada',\n",
    "        'habilidad': ['electronica', 'historia', 'matematicas'],\n",
    "        'pais': 'España',\n",
    "        'ciudad': 'Sevilla',\n",
    "        'direccion': 'Plaza Vista Alegre'\n",
    "    }\n",
    "}"
   ]
  },
  {
   "cell_type": "markdown",
   "metadata": {},
   "source": [
    "---\n",
    "\n",
    "Obtener la longitud del diccionario del estudiante."
   ]
  },
  {
   "cell_type": "code",
   "execution_count": null,
   "metadata": {},
   "outputs": [],
   "source": [
    "print(len(estudiantes))\n",
    "print(len(estudiantes['Enrique']))\n",
    "print(len(estudiantes['Pedro']))\n",
    "print(len(estudiantes['Leticia']))"
   ]
  },
  {
   "cell_type": "markdown",
   "metadata": {},
   "source": [
    "---\n",
    "\n",
    "Obtenga el valor de las habilidades y verifique el tipo de datos, debe ser una lista."
   ]
  },
  {
   "cell_type": "code",
   "execution_count": null,
   "metadata": {},
   "outputs": [],
   "source": [
    "print(estudiantes['Enrique']['habilidad'])          # ['informatica', 'quimica', 'redes']\n",
    "print(estudiantes['Pedro']['habilidad'])            # ['ingeniero', 'idiomas', 'primeros auxilios']\n",
    "print(estudiantes['Leticia']['habilidad'])          # ['electronica', 'historia', 'matematicas']\n",
    "\n",
    "print(type(estudiantes['Enrique']['habilidad']))    # <class 'list'>\n",
    "print(type(estudiantes['Pedro']['habilidad']))      # <class 'list'>\n",
    "print(type(estudiantes['Leticia']['habilidad']))    # <class 'list'>"
   ]
  },
  {
   "cell_type": "markdown",
   "metadata": {},
   "source": [
    "---\n",
    "\n",
    "Modifique los valores de las habilidades agregando una o dos habilidades."
   ]
  },
  {
   "cell_type": "code",
   "execution_count": null,
   "metadata": {},
   "outputs": [],
   "source": [
    "estudiantes['Enrique']['habilidad'].append('Tecnologia')\n",
    "print(estudiantes['Enrique']['habilidad'])"
   ]
  },
  {
   "cell_type": "markdown",
   "metadata": {},
   "source": [
    "---\n",
    "\n",
    "Obtenga las claves del diccionario como una lista."
   ]
  },
  {
   "cell_type": "code",
   "execution_count": null,
   "metadata": {},
   "outputs": [],
   "source": [
    "keys = estudiantes.keys()\n",
    "print('\\n')\n",
    "print(keys)  # dict_keys(['Enrique', 'Pedro', 'Leticia'])"
   ]
  },
  {
   "cell_type": "markdown",
   "metadata": {},
   "source": [
    "---\n",
    "\n",
    "Obtenga los valores del diccionario como una lista."
   ]
  },
  {
   "cell_type": "code",
   "execution_count": null,
   "metadata": {},
   "outputs": [],
   "source": [
    "values_enrique = estudiantes['Enrique'].values()\n",
    "print('\\n')\n",
    "print(values_enrique)\n",
    "\n",
    "values_pedro = estudiantes['Pedro'].values()\n",
    "print('\\n')\n",
    "print(values_pedro)\n",
    "\n",
    "values_leticia = estudiantes['Leticia'].values()\n",
    "print('\\n')\n",
    "print(values_leticia)"
   ]
  },
  {
   "cell_type": "markdown",
   "metadata": {},
   "source": [
    "---\n",
    "\n",
    "Cambie el diccionario a una lista de tuplas usando el método items()."
   ]
  },
  {
   "cell_type": "code",
   "execution_count": null,
   "metadata": {},
   "outputs": [],
   "source": [
    "print('\\n')\n",
    "print(estudiantes.items())"
   ]
  },
  {
   "cell_type": "markdown",
   "metadata": {},
   "source": [
    "---\n",
    "\n",
    "Eliminar uno de los elementos del diccionario."
   ]
  },
  {
   "cell_type": "code",
   "execution_count": null,
   "metadata": {},
   "outputs": [],
   "source": [
    "del estudiantes['Enrique']\n",
    "print('\\n')\n",
    "print(estudiantes)\n",
    "\n",
    "estudiantes.pop('Pedro')\n",
    "print('\\n')\n",
    "print(estudiantes)\n",
    "\n",
    "estudiantes.popitem()\n",
    "print('\\n')\n",
    "print(estudiantes)"
   ]
  },
  {
   "cell_type": "markdown",
   "metadata": {},
   "source": [
    "---\n",
    "\n",
    "Eliminar uno de los diccionarios."
   ]
  },
  {
   "cell_type": "code",
   "execution_count": null,
   "metadata": {},
   "outputs": [],
   "source": [
    "del estudiantes"
   ]
  }
 ],
 "metadata": {
  "kernelspec": {
   "display_name": "Python 3",
   "language": "python",
   "name": "python3"
  },
  "language_info": {
   "codemirror_mode": {
    "name": "ipython",
    "version": 3
   },
   "file_extension": ".py",
   "mimetype": "text/x-python",
   "name": "python",
   "nbconvert_exporter": "python",
   "pygments_lexer": "ipython3",
   "version": "3.11.5"
  }
 },
 "nbformat": 4,
 "nbformat_minor": 2
}
