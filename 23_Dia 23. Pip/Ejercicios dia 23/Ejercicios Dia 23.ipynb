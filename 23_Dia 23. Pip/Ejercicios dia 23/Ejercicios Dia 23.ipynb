{
 "cells": [
  {
   "cell_type": "markdown",
   "metadata": {},
   "source": [
    "<font size=6 color=red>Ejercicios - Día 23</font>\n",
    "\n",
    "---"
   ]
  },
  {
   "cell_type": "markdown",
   "metadata": {},
   "source": [
    "### 1. Lee esta url y encuentra las 10 palabras más frecuentes:\n",
    "\n",
    "https://www.gutenberg.org/cache/epub/1777/pg1777-images.html"
   ]
  },
  {
   "cell_type": "code",
   "execution_count": null,
   "metadata": {},
   "outputs": [],
   "source": [
    "# Cargamos la librerias\n",
    "import urllib.request\n",
    "import urllib.error\n",
    "import urllib.parse\n",
    "\n",
    "# Declaramos una variable que apunta a la Url\n",
    "url = 'https://www.gutenberg.org/cache/epub/1777/pg1777-images.html'\n",
    "# Declaramos una variable que abra la Url\n",
    "respuesta = urllib.request.urlopen(url)\n",
    "# Declaramos una variable que lea el contenido de la Url\n",
    "contenido_web = respuesta.read().decode('UTF-8')\n",
    "# Creamos un fichero\n",
    "fichero = open('Archivos/romeo_y_julieta.txt', 'w')\n",
    "# Escribimos en el fichero el contenido de la Url\n",
    "fichero.write(contenido_web)\n",
    "# Cerramos el fichero\n",
    "fichero.close\n",
    "\n",
    "# Primero, lee el archivo de texto en una cadena\n",
    "with open('Archivos/romeo_y_julieta.txt', 'r') as file:\n",
    "    romeo_y_julieta = file.read()\n",
    "\n",
    "# Convierte todo a minúsculas para que las palabras en mayúsculas no se cuenten por separado\n",
    "romeo_y_julieta = romeo_y_julieta.lower()\n",
    "\n",
    "# Separa la cadena en palabras\n",
    "palabras = romeo_y_julieta.split()\n",
    "\n",
    "# Crea un diccionario vacío para contar las palabras\n",
    "frecuencia = {}\n",
    "\n",
    "# Cuenta cada palabra en el diccionario\n",
    "for palabra in palabras:\n",
    "    if palabra in frecuencia:\n",
    "        frecuencia[palabra] += 1\n",
    "    else:\n",
    "        frecuencia[palabra] = 1\n",
    "\n",
    "# Ordena el diccionario por frecuencia\n",
    "frecuencia_ordenada = sorted(frecuencia.items(), key=lambda x: x[1], reverse=True)\n",
    "\n",
    "# Imprime las 10 palabras más frecuentes\n",
    "for palabra, frecuencia in frecuencia_ordenada[:10]:\n",
    "    print(palabra, frecuencia)\n"
   ]
  },
  {
   "cell_type": "markdown",
   "metadata": {},
   "source": [
    "---\n",
    "\n",
    "### 2. Lea la API de gatos y cats_api = 'https://api.thecatapi.com/v1/breeds' y busque:\n",
    "\n",
    "```text\n",
    "El mínimo, máximo, media, mediana, desviación estándar del peso de los gatos en unidades métricas.\n",
    "```\n",
    "    "
   ]
  },
  {
   "cell_type": "code",
   "execution_count": null,
   "metadata": {},
   "outputs": [],
   "source": [
    "import requests\n",
    "import statistics\n",
    "\n",
    "# Definimos la URL de la API de gatos\n",
    "cats_api = 'https://api.thecatapi.com/v1/breeds'\n",
    "\n",
    "# Hacemos una solicitud GET a la API\n",
    "response = requests.get(cats_api)\n",
    "\n",
    "# Comprobamos que la solicitud se realizó correctamente\n",
    "if response.status_code == 200:\n",
    "    # Convertimos la respuesta en un diccionario Python\n",
    "    breeds = response.json()\n",
    "\n",
    "    # Extraemos los pesos de los gatos y los convertimos a unidades métricas\n",
    "    weights = [float(breed['weight']['metric'].split()[0]) for breed in breeds]\n",
    "\n",
    "    # Calculamos el mínimo, máximo, media, mediana y desviación estándar de los pesos\n",
    "    min_weight = min(weights)\n",
    "    max_weight = max(weights)\n",
    "    mean_weight = sum(weights) / len(weights)\n",
    "    median_weight = statistics.median(weights)\n",
    "    std_dev_weight = statistics.stdev(weights)\n",
    "\n",
    "    # Imprimimos los resultados\n",
    "    print(\"Mínimo peso: {:.2f} kg\".format(min_weight))\n",
    "    print(\"Máximo peso: {:.2f} kg\".format(max_weight))\n",
    "    print(\"Media de peso: {:.2f} kg\".format(mean_weight))\n",
    "    print(\"Mediana de peso: {:.2f} kg\".format(median_weight))\n",
    "    print(\"Desviación estándar de peso: {:.2f} kg\".format(std_dev_weight))\n",
    "\n",
    "else:\n",
    "    # Si hay algún error en la solicitud, imprimimos el código de error\n",
    "    print(\"Error al obtener los datos. Código de error:\", response.status_code)\n"
   ]
  },
  {
   "cell_type": "markdown",
   "metadata": {},
   "source": [
    "Este código utiliza la biblioteca requests para hacer una solicitud GET a la API de gatos y obtener la lista de razas de gatos. Luego, extrae los pesos de\n",
    "los gatos de la lista y los convierte a unidades métricas (kilogramos).\n",
    "\n",
    "Finalmente, calcula el mínimo, máximo, media, mediana y desviación estándar de los pesos y los imprime en la consola."
   ]
  },
  {
   "cell_type": "markdown",
   "metadata": {},
   "source": [
    "---\n",
    "\n",
    "### El mínimo, máximo, media, mediana, desviación estándar de la vida útil de los gatos en años."
   ]
  },
  {
   "cell_type": "code",
   "execution_count": null,
   "metadata": {},
   "outputs": [],
   "source": [
    "import requests\n",
    "import json\n",
    "import statistics\n",
    "\n",
    "# URL de la API de gatos\n",
    "url = \"https://api.thecatapi.com/v1/breeds\"\n",
    "\n",
    "# Hacer la solicitud GET a la API\n",
    "response = requests.get(url)\n",
    "\n",
    "# Analizar la respuesta JSON\n",
    "data = json.loads(response.text)\n",
    "\n",
    "# Mostrar la información de cada raza de gato\n",
    "for breed in data:\n",
    "    print(\"Nombre: \", breed['name'])\n",
    "    print(\"ID: \", breed['id'])\n",
    "    print(\"Origen: \", breed['origin'])\n",
    "    print(\"Temperamento: \", breed['temperament'])\n",
    "    print(\"Vida media: \", breed['life_span'])\n",
    "    print(\"Descripción: \", breed['description'])\n",
    "    print(\"-----------------------------\")\n",
    "\n",
    "# Hacer una solicitud GET a la API de gatos\n",
    "cats_api = 'https://api.thecatapi.com/v1/breeds'\n",
    "response = requests.get(cats_api)\n",
    "\n",
    "# Convertir la respuesta en formato JSON\n",
    "data = response.json()\n",
    "\n",
    "# Crear una lista vacía para almacenar las edades de los gatos\n",
    "ages = []\n",
    "\n",
    "# Recorrer cada objeto de gato en la lista de datos\n",
    "for cat in data:\n",
    "    # Si el objeto de gato tiene información sobre la vida útil, añadirla a la lista\n",
    "    if 'life_span' in cat:\n",
    "        age_str = cat['life_span'].split()[0]  # Extraer el primer número en la cadena\n",
    "        try:\n",
    "            age = int(age_str)  # Convertir el número a un entero\n",
    "            ages.append(age)  # Añadir la edad a la lista\n",
    "        except ValueError:\n",
    "            pass  # Ignorar valores no numéricos\n",
    "\n",
    "# Calcular las estadísticas solicitadas\n",
    "min_age = min(ages)\n",
    "max_age = max(ages)\n",
    "mean_age = statistics.mean(ages)\n",
    "median_age = statistics.median(ages)\n",
    "stdev_age = statistics.stdev(ages)\n",
    "\n",
    "# Imprimir los resultados\n",
    "print(f'Minimum age: {min_age} years')\n",
    "print(f'Maximum age: {max_age} years')\n",
    "print(f'Mean age: {mean_age:.2f} years')\n",
    "print(f'Median age: {median_age} years')\n",
    "print(f'Standard deviation of age: {stdev_age:.2f} years')\n"
   ]
  },
  {
   "cell_type": "markdown",
   "metadata": {},
   "source": [
    "---\n",
    "\n",
    "### Crear una tabla de frecuencias de país y raza de gatos."
   ]
  },
  {
   "cell_type": "code",
   "execution_count": null,
   "metadata": {},
   "outputs": [],
   "source": [
    "import requests\n",
    "\n",
    "# Hacer una solicitud GET a la API de gatos\n",
    "cats_api = 'https://api.thecatapi.com/v1/breeds'\n",
    "response = requests.get(cats_api)\n",
    "\n",
    "# Convertir la respuesta en formato JSON\n",
    "data = response.json()\n",
    "\n",
    "# Crear un diccionario vacío para almacenar la frecuencia de cada país y raza de gatos\n",
    "freq_table = {}\n",
    "\n",
    "# Recorrer cada objeto de gato en la lista de datos\n",
    "for cat in data:\n",
    "    # Si el objeto de gato tiene información sobre el país y la raza, actualizar la tabla de frecuencias\n",
    "    if 'country_code' in cat and 'name' in cat:\n",
    "        country = cat['country_code']\n",
    "        breed = cat['name']\n",
    "        # Si el país no está en la tabla de frecuencias, añadirlo con un diccionario vacío\n",
    "        if country not in freq_table:\n",
    "            freq_table[country] = {}\n",
    "        # Si la raza no está en la tabla de frecuencias para ese país, añadirla con una frecuencia de 1\n",
    "        if breed not in freq_table[country]:\n",
    "            freq_table[country][breed] = 1\n",
    "        # Si la raza ya está en la tabla de frecuencias para ese país, aumentar la frecuencia en 1\n",
    "        else:\n",
    "            freq_table[country][breed] += 1\n",
    "\n",
    "# Imprimir la tabla de frecuencias\n",
    "print('FREQUENCY TABLE OF COUNTRY AND BREED OF CATS\\n')\n",
    "print('Country\\tBreed\\tFrequency')\n",
    "for country in freq_table:\n",
    "    for breed in freq_table[country]:\n",
    "        freq = freq_table[country][breed]\n",
    "        print(f'{country}\\t{breed}\\t{freq}')\n"
   ]
  },
  {
   "cell_type": "markdown",
   "metadata": {},
   "source": [
    "---\n",
    "\n",
    "### Lee la API de países https://restpaises.com/v3.1/all y encuentra:\n",
    "\n",
    "1. Los 10 paises mas grandes"
   ]
  },
  {
   "cell_type": "code",
   "execution_count": 5,
   "metadata": {},
   "outputs": [
    {
     "name": "stdout",
     "output_type": "stream",
     "text": [
      "Russia: 17098242.0 km²\n",
      "Antarctica: 14000000.0 km²\n",
      "Canada: 9984670.0 km²\n",
      "China: 9706961.0 km²\n",
      "United States: 9372610.0 km²\n",
      "Brazil: 8515767.0 km²\n",
      "Australia: 7692024.0 km²\n",
      "India: 3287590.0 km²\n",
      "Argentina: 2780400.0 km²\n",
      "Kazakhstan: 2724900.0 km²\n"
     ]
    }
   ],
   "source": [
    "import requests\n",
    "\n",
    "url = 'https://restcountries.com/v3.1/all'\n",
    "respuesta = requests.get(url)\n",
    "\n",
    "datos = respuesta.json()\n",
    "\n",
    "paises = [(pais['name']['common'], pais['area']) for pais in datos]\n",
    "\n",
    "paises.sort(key=lambda x: x[1], reverse=True)\n",
    "\n",
    "for nombre, area in paises[:10]:\n",
    "    print(f'{nombre}: {area} km²')"
   ]
  },
  {
   "cell_type": "markdown",
   "metadata": {},
   "source": [
    "Para obtener los 10 países más grandes a partir de la API\n",
    "\n",
    "https://restpaises.com/v3.1/all\n",
    "\n",
    "Podemos hacer lo siguiente en Python:\n",
    "\n",
    "1. Primero, utilizamos el módulo requests para hacer una solicitud HTTP a la URL de la API. Podemos instalarlo usando el siguiente comando:\n",
    "\n",
    "    ```bash\n",
    "    pip install requests\n",
    "    ```\n",
    "\n",
    "\n",
    "1. Luego, convertimos la respuesta JSON en un diccionario de Python utilizando el método json().\n",
    "\n",
    "2. Después, creamos una lista de tuplas que contienen el nombre del país y su área en km².\n",
    "\n",
    "3. Ordenamos la lista en orden descendente según el área.\n",
    "\n",
    "4. Finalmente, imprimimos los 10 primeros elementos de la lista, que son los 10 países más grandes."
   ]
  },
  {
   "cell_type": "markdown",
   "metadata": {},
   "source": [
    "---\n",
    "\n",
    "### 2. Los 10 idiomas mas hablados"
   ]
  },
  {
   "cell_type": "code",
   "execution_count": null,
   "metadata": {},
   "outputs": [],
   "source": [
    "import requests\n",
    "from collections import Counter\n",
    "\n",
    "respuesta = requests.get('https://restcountries.com/v3.1/all')\n",
    "\n",
    "paises = respuesta.json()\n",
    "\n",
    "todos_los_lenguajes = []\n",
    "for pais in paises:\n",
    "    lenguajes = pais.get(\"languages\", set())\n",
    "    todos_los_lenguajes.extend(lenguajes)\n",
    "\n",
    "contar_lenguajes = Counter(todos_los_lenguajes)\n",
    "\n",
    "lenguajes_mas_hablados = contar_lenguajes.most_common(10)\n",
    "\n",
    "print(\"Los 10 idiomas más hablados según la API de países son:\")\n",
    "for lenguaje, cantidad in lenguajes_mas_hablados:\n",
    "    print(f\"{lenguaje}: {cantidad}\")"
   ]
  },
  {
   "cell_type": "markdown",
   "metadata": {},
   "source": [
    "En este ejemplo, se usa el método \"get\" para obtener el conjunto de idiomas del diccionario \"country\", o un conjunto vacío si la clave \"languages\" no existe en\n",
    "el diccionario. Esto garantiza que no se produzca una excepción KeyError al intentar acceder a la clave \"languages\". Luego, los idiomas se agregan a la\n",
    "lista \"todos_los_lenguajes\"."
   ]
  },
  {
   "cell_type": "markdown",
   "metadata": {},
   "source": [
    "---\n",
    "\n",
    "### El número total de idiomas en la API de países"
   ]
  },
  {
   "cell_type": "code",
   "execution_count": null,
   "metadata": {},
   "outputs": [],
   "source": [
    "import requests\n",
    "import json\n",
    "\n",
    "url = 'https://restcountries.com/v3.1/all'\n",
    "\n",
    "response = requests.get(url)\n",
    "data = json.loads(response.text)\n",
    "\n",
    "idiomas = set()\n",
    "\n",
    "for pais in data:\n",
    "    if 'languages' in pais:\n",
    "        for idioma in pais['languages']:\n",
    "            idiomas.add(idioma)\n",
    "\n",
    "print(f'El numero total de idiomas en al API de paieses es de: {len(idiomas)}')\n"
   ]
  },
  {
   "cell_type": "markdown",
   "metadata": {},
   "source": [
    "Este código hará una solicitud GET a la URL proporcionada y luego analizará la respuesta JSON para extraer todos los idiomas que aparecen en los datos. Luego,\n",
    "el código imprimirá el número total de idiomas únicos que se encontraron. Tenga en cuenta que la respuesta de la API puede cambiar con el tiempo, lo que podría\n",
    "afectar la cantidad de idiomas que se devuelven."
   ]
  }
 ],
 "metadata": {
  "kernelspec": {
   "display_name": "Python 3",
   "language": "python",
   "name": "python3"
  },
  "language_info": {
   "codemirror_mode": {
    "name": "ipython",
    "version": 3
   },
   "file_extension": ".py",
   "mimetype": "text/x-python",
   "name": "python",
   "nbconvert_exporter": "python",
   "pygments_lexer": "ipython3",
   "version": "3.11.8"
  }
 },
 "nbformat": 4,
 "nbformat_minor": 2
}
