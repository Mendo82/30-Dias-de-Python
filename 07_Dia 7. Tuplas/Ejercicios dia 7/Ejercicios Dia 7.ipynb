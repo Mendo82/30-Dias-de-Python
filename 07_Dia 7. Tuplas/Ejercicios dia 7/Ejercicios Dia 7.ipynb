{
 "cells": [
  {
   "cell_type": "markdown",
   "metadata": {},
   "source": [
    "<font size=6 color=red>Ejercicios - Dia 7</font>\n",
    "\n",
    "---"
   ]
  },
  {
   "cell_type": "markdown",
   "metadata": {},
   "source": [
    "Crear una tupla vacía."
   ]
  },
  {
   "cell_type": "code",
   "execution_count": null,
   "metadata": {},
   "outputs": [],
   "source": [
    "tupla = ()"
   ]
  },
  {
   "cell_type": "markdown",
   "metadata": {},
   "source": [
    "---\n",
    "\n",
    "Crea una tupla que contenga los nombres de tus hermanas y tus hermanos (los hermanos imaginarios están bien)"
   ]
  },
  {
   "cell_type": "code",
   "execution_count": null,
   "metadata": {},
   "outputs": [],
   "source": [
    "hermanos = ('Rafael', 'Andres', 'Victor', 'Marmen', 'Susana', 'Leticia')"
   ]
  },
  {
   "cell_type": "markdown",
   "metadata": {},
   "source": [
    "---\n",
    "\n",
    "Unir tuplas de hermanos y hermanas y asignarlas a hermanos."
   ]
  },
  {
   "cell_type": "code",
   "execution_count": null,
   "metadata": {},
   "outputs": [],
   "source": [
    "nombre_hermanos = ('Rafael', 'Andres', 'Victor')\n",
    "nombre_hermanas = ('Marmen', 'Susana', 'Leticia')\n",
    "nombre_hermanos = nombre_hermanos + nombre_hermanas\n",
    "\n",
    "print(nombre_hermanos)\n",
    "\n",
    "# ¿Cuántos hermanos tiene usted?\n",
    "\n",
    "print('Tienes', len(nombre_hermanos), 'hermanos.')"
   ]
  },
  {
   "cell_type": "markdown",
   "metadata": {},
   "source": [
    "---\n",
    "\n",
    "Modifique la tupla de hermanos y agregue el nombre de su padre y madre y asígnelo a family_members"
   ]
  },
  {
   "cell_type": "code",
   "execution_count": null,
   "metadata": {},
   "outputs": [],
   "source": [
    "hermanos = ('Antonio', 'Andres', 'Victor', 'Marmen', 'Susana', 'Leticia')\n",
    "family_members = hermanos + ('Rafael', 'Maricarmen')\n",
    "\n",
    "print(family_members)"
   ]
  },
  {
   "cell_type": "markdown",
   "metadata": {},
   "source": [
    "---\n",
    "\n",
    "Desempaquetar hermanos y padres de family_members"
   ]
  },
  {
   "cell_type": "code",
   "execution_count": null,
   "metadata": {},
   "outputs": [],
   "source": [
    "family_members = (\n",
    "    'Antonio',\n",
    "    'Andres',\n",
    "    'Victor',\n",
    "    'Marmen',\n",
    "    'Susana',\n",
    "    'Leticia',\n",
    "    'Rafael',\n",
    "    'Maricarmen'\n",
    ")\n",
    "\n",
    "elemento_1, elemento_2, elemento_3, elemento_4, elemento_5, elemento_6, elemento_7, elemento_8 = family_members\n",
    "\n",
    "print(elemento_1)\n",
    "print(elemento_2)\n",
    "print(elemento_3)\n",
    "print(elemento_4)\n",
    "print(elemento_5)\n",
    "print(elemento_6)\n",
    "print(elemento_7)\n",
    "print(elemento_8)\n"
   ]
  },
  {
   "cell_type": "markdown",
   "metadata": {},
   "source": [
    "---\n",
    "\n",
    "Cree tuplas de frutas, verduras y productos animales. Une las tres tuplas y asígnalas a una variable llamada productos_alimenticios_tupla."
   ]
  },
  {
   "cell_type": "code",
   "execution_count": null,
   "metadata": {},
   "outputs": [],
   "source": [
    "frutas = ('platano', 'uvas', 'manzana', 'sandia')\n",
    "verduras = ('tomates', 'lechuga', 'zanahorias')\n",
    "productos_derivados_animales = ('huevos', 'carnes', 'pescado')\n",
    "productos_alimenticios_tupla = frutas + verduras + productos_derivados_animales\n",
    "\n",
    "print(productos_alimenticios_tupla)"
   ]
  },
  {
   "cell_type": "markdown",
   "metadata": {},
   "source": [
    "---\n",
    "\n",
    "Cambie la tupla productos_alimenticios_tupla a una lista productos_alimenticios_lista"
   ]
  },
  {
   "cell_type": "code",
   "execution_count": null,
   "metadata": {},
   "outputs": [],
   "source": [
    "productos_alimenticios_tupla = (\n",
    "    'platano',\n",
    "    'uvas',\n",
    "    'manzana',\n",
    "    'sandia',\n",
    "    'tomates',\n",
    "    'lechuga',\n",
    "    'zanahorias',\n",
    "    'huevos',\n",
    "    'carnes',\n",
    "    'pescado'\n",
    ")\n",
    "\n",
    "productos_alimenticios_lista = list(productos_alimenticios_tupla)\n",
    "\n",
    "print(productos_alimenticios_lista)"
   ]
  },
  {
   "cell_type": "markdown",
   "metadata": {},
   "source": [
    "---\n",
    "\n",
    "Rebane el artículo o artículos del medio de la tupla productos_alimenticios_tupla o la lista productos_alimenticios_lista."
   ]
  },
  {
   "cell_type": "code",
   "execution_count": null,
   "metadata": {},
   "outputs": [],
   "source": [
    "mitad = (len(productos_alimenticios_lista) // 2)\n",
    "print('Primera mitad:', productos_alimenticios_lista[:mitad])\n",
    "print('Segunda mitad:', productos_alimenticios_lista[mitad:])\n",
    "\n",
    "productos_alimenticios_tupla = (\n",
    "    'platano',\n",
    "    'uvas',\n",
    "    'manzana',\n",
    "    'sandia',\n",
    "    'tomates',\n",
    "    'lechuga',\n",
    "    'zanahorias',\n",
    "    'huevos',\n",
    "    'carnes',\n",
    "    'pescado'\n",
    ")\n",
    "\n",
    "mitad = (len(productos_alimenticios_tupla) // 2)\n",
    "\n",
    "print('Primera mitad:', productos_alimenticios_tupla[:mitad])\n",
    "print('Segunda mitad:', productos_alimenticios_tupla[mitad:])\n"
   ]
  },
  {
   "cell_type": "markdown",
   "metadata": {},
   "source": [
    "---\n",
    "\n",
    "Cortar los primeros tres elementos y los últimos tres elementos de la lista food_staff_lt"
   ]
  },
  {
   "cell_type": "code",
   "execution_count": null,
   "metadata": {},
   "outputs": [],
   "source": [
    "productos_alimenticios_lista = [\n",
    "    'platano',\n",
    "    'uvas',\n",
    "    'manzana',\n",
    "    'sandia',\n",
    "    'tomates',\n",
    "    'lechuga',\n",
    "    'zanahorias',\n",
    "    'huevos',\n",
    "    'carnes',\n",
    "    'pescado'\n",
    "]\n",
    "\n",
    "print(productos_alimenticios_lista[:3])\n",
    "print(productos_alimenticios_lista[-3:])"
   ]
  },
  {
   "cell_type": "markdown",
   "metadata": {},
   "source": [
    "---\n",
    "\n",
    "Eliminar completamente la tupla productos_alimenticios_tupla\n"
   ]
  },
  {
   "cell_type": "code",
   "execution_count": null,
   "metadata": {},
   "outputs": [],
   "source": [
    "productos_alimenticios_tupla = (\n",
    "    'platano',\n",
    "    'uvas',\n",
    "    'manzana',\n",
    "    'sandia',\n",
    "    'tomates',\n",
    "    'lechuga',\n",
    "    'zanahorias',\n",
    "    'huevos',\n",
    "    'carnes',\n",
    "    'pescado'\n",
    ")\n",
    "\n",
    "del productos_alimenticios_tupla"
   ]
  },
  {
   "cell_type": "markdown",
   "metadata": {},
   "source": [
    "---\n",
    "\n",
    "Comprobar si 'Estonia' es un país nórdico."
   ]
  },
  {
   "cell_type": "code",
   "execution_count": null,
   "metadata": {},
   "outputs": [],
   "source": [
    "nordic_countries = ('Denmark', 'Finland', 'Iceland', 'Norway', 'Sweden')\n",
    "\n",
    "if 'Estonia' in nordic_countries:\n",
    "    print('Estonia es un pais nordico')\n",
    "else:\n",
    "    print('Estonia no es un pais nordico')"
   ]
  },
  {
   "cell_type": "markdown",
   "metadata": {},
   "source": [
    "---\n",
    "\n",
    "Comprobar si 'Iceland' es un país nórdico"
   ]
  },
  {
   "cell_type": "code",
   "execution_count": null,
   "metadata": {},
   "outputs": [],
   "source": [
    "nordic_countries = ('Denmark', 'Finland', 'Iceland', 'Norway', 'Sweden')\n",
    "if 'Iceland' in nordic_countries:\n",
    "    print('Iceland es un pais nordico')\n",
    "else:\n",
    "    print('Iceland no es un pais nordico')"
   ]
  }
 ],
 "metadata": {
  "language_info": {
   "name": "python"
  }
 },
 "nbformat": 4,
 "nbformat_minor": 2
}
