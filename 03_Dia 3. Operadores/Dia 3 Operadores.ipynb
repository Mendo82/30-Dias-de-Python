{
 "cells": [
  {
   "cell_type": "markdown",
   "metadata": {},
   "source": [
    "<span style=\"font-size: 2em; color: red\">30 días de Python: Día 3 - Operadores</span>\n",
    "\n",
    "---\n",
    "\n",
    "<span style=\"font-size: 1.5em; color: red\">Opereaciones Aritmeticas en Python</span>\n",
    "\n",
    "Los operadores en Python son símbolos que indican al intérprete que realice una operación específica, como aritmética, comparación, lógica, etc.\n",
    "\n",
    "<span style=\"font-size: 1.5em; color: grey\">Booleano</span>\n",
    "\n",
    "Un tipo de datos booleano representa uno de los dos valores: `True` o `False`. El uso de estos tipos de datos \n",
    "quedará claro una vez que comencemos a usar el operador de comparación. La primera letra T para Verdadero y F para Falso debe ser mayúscula a \n",
    "diferencia de JavaScript.\n",
    "\n",
    "<span style=\"font-size: 1.5em; color: grey\">Valores booleanos</span>\n",
    "\n",
    "*Ejemplo:*"
   ]
  },
  {
   "cell_type": "code",
   "execution_count": null,
   "metadata": {},
   "outputs": [],
   "source": [
    "print(True)\n",
    "print(False)"
   ]
  },
  {
   "cell_type": "markdown",
   "metadata": {},
   "source": [
    "---\n",
    "\n",
    "<span style=\"font-size: 2em; color: red\">Operadores</span>\n",
    "\n",
    "El lenguaje Python admite varios tipos de operadores. En esta sección, nos centraremos en algunos de ellos.\n",
    "\n",
    "---\n",
    "\n",
    "<span style=\"font-size: 1.5em; color: grey\">Operadores de asignación</span>\n",
    "\n",
    "Los operadores de asignación se utilizan para asignar valores a las variables. Tomemos = como ejemplo. El signo igual en matemáticas muestra que \n",
    "dos valores son iguales, sin embargo, en Python significa que estamos almacenando un valor en una determinada variable y lo llamamos asignación o \n",
    "asignación de valor a una variable. La siguiente tabla muestra los diferentes tipos de operadores de asignación de Python, tomados \n",
    "de:\n",
    "\n",
    " https://www.w3schools.com/python/python_operators.asp\n",
    "\n",
    "\n",
    "<img src='Imagenes/imagen-1.png' width=700>\n",
    "\n",
    "<span style=\"font-size: 1.5em; color: grey\">Operadores aritméticos</span>\n",
    "\n",
    "```text\n",
    "* Suma (+): a + b\n",
    "* Resta(-): a - b\n",
    "* Multiplicación(*): a * b\n",
    "* División(/): a / b\n",
    "* Módulo (%): a % b\n",
    "* División de piso(//): a // b\n",
    "* Exponenciación(**): a ** b\n",
    "```\n",
    "\n",
    "<img src='Imagenes/imagen-2.png' width=700>\n",
    "\n",
    "<span style=\"font-size: 1.5em; color: grey\">Enteros (Integers)</span>\n",
    "\n",
    "*Ejemplo de operaciones aritméticas en Python con enteros:*"
   ]
  },
  {
   "cell_type": "code",
   "execution_count": null,
   "metadata": {},
   "outputs": [],
   "source": [
    "print('Suma: ', 1 + 2)                      # 3\n",
    "print('Resta: ', 2 - 1)                     # 1\n",
    "print('Multiplicacion: ', 2 * 3)            # 6\n",
    "\n",
    "# 2.0 (La división en Python da un número flotante)\n",
    "print('Division: ', 4 / 2)\n",
    "print('Division: ', 6 / 2)                  # 3.0\n",
    "print('Division: ', 7 / 2)                  # 3.5\n",
    "\n",
    "# 3 (Da sin el número flotante o sin el resto)\n",
    "print('División sin el resto: ', 7 // 2)\n",
    "print('Division sin el resto: ', 7 // 3)    # 2\n",
    "print('Modulo: ', 3 % 2)                    # 1 (Da el resto)\n",
    "print('Exponenciacion: ', 2 ** 3)           # 8 (es lo mismo 2 * 2 * 2)"
   ]
  },
  {
   "cell_type": "markdown",
   "metadata": {},
   "source": [
    "<span style=\"font-size: 1.5em; color: grey\">Números flotantes (float)</span>\n",
    "\n",
    "*Ejemplo:*"
   ]
  },
  {
   "cell_type": "code",
   "execution_count": null,
   "metadata": {},
   "outputs": [],
   "source": [
    "print('Floating Point Number, PI', 3.14)\n",
    "print('Floating Point Number, gravedad', 9.81)"
   ]
  },
  {
   "cell_type": "markdown",
   "metadata": {},
   "source": [
    "<span style=\"font-size: 1.5em; color: grey\">Numeros complejos (Complex)</span>\n",
    "\n",
    "*Ejemplo:*"
   ]
  },
  {
   "cell_type": "code",
   "execution_count": null,
   "metadata": {},
   "outputs": [],
   "source": [
    "print('Numero complejo: ', 1 + 1j)\n",
    "print('Multiples numeros complejos: ', (1 + 1j) * (1 - 1j))"
   ]
  },
  {
   "cell_type": "markdown",
   "metadata": {},
   "source": [
    "Declaremos una variable y asignemos un tipo de dato numérico. Voy a usar una variable de un solo carácter, pero recuerde que no desarrolle el \n",
    "hábito de declarar este tipo de variables. Los nombres de las variables deben ser siempre mnemotécnicos.\n",
    "\n",
    "*Ejemplo:*"
   ]
  },
  {
   "cell_type": "code",
   "execution_count": null,
   "metadata": {},
   "outputs": [],
   "source": [
    "# Primero se declaran las variables en la parte superior del codigo\n",
    "\n",
    "a = 3  # a es el nombre de la variable y 3 es un dato de tipo entero\n",
    "b = 2  # b es el nombre de la variable y 2 es un dato de tipo enteno\n",
    "\n",
    "# Con las variables declaradas antes arriba, se realiza una operacion aritmetica asignando el resultado a otra variable.\n",
    "\n",
    "suma = a + b\n",
    "resta = a - b\n",
    "multiplicacion = a * b\n",
    "division = a / b\n",
    "resto = a % b\n",
    "division_del_piso = a // b\n",
    "exponencial = a ** b\n",
    "\n",
    "# No se debe usar la variable sum, ya que es una palabra reservada, en su lugar usamos suma.\n",
    "\n",
    "print(suma)  # Si no etiqueta su impresión con algun string, nunca sabrá de dónde viene el resultado\n",
    "print('a + b = ', suma)\n",
    "print('a - b = ', resta)\n",
    "print('a * b = ', multiplicacion)\n",
    "print('a / b = ', division)\n",
    "print('a % b = ', resto)\n",
    "print('a // b = ', division_del_piso)\n",
    "print('a ** b = ', exponencial)"
   ]
  },
  {
   "cell_type": "markdown",
   "metadata": {},
   "source": [
    "*Ejemplo:*"
   ]
  },
  {
   "cell_type": "code",
   "execution_count": null,
   "metadata": {},
   "outputs": [],
   "source": [
    "print('== suma, resta, Multiplicacion, Division, Modulo ==')"
   ]
  },
  {
   "cell_type": "markdown",
   "metadata": {},
   "source": [
    "---\n",
    "\n",
    "<span style=\"font-size: 1.5em; color: grey\">Declarando valores</span>\n",
    "\n",
    "```python\n",
    "num_one = 3\n",
    "num_two = 4"
   ]
  },
  {
   "cell_type": "markdown",
   "metadata": {},
   "source": [
    "---\n",
    "\n",
    "<span style=\"font-size: 1.5em; color: grey\">Realizando operaciones aritmeticas</span>"
   ]
  },
  {
   "cell_type": "code",
   "execution_count": null,
   "metadata": {},
   "outputs": [],
   "source": [
    "num_one = 3\n",
    "num_two = 4\n",
    "\n",
    "suma = num_one + num_two\n",
    "resta = num_two - num_one\n",
    "producto = num_one * num_two\n",
    "division = num_two / num_one\n",
    "resto = num_two % num_one"
   ]
  },
  {
   "cell_type": "markdown",
   "metadata": {},
   "source": [
    "---\n",
    "\n",
    "<span style=\"font-size: 1.5em; color: grey\">Imprimiendo por pantalla los resultados</span>"
   ]
  },
  {
   "cell_type": "code",
   "execution_count": null,
   "metadata": {},
   "outputs": [],
   "source": [
    "print('suma: ', suma)\n",
    "print('resta: ', resta)\n",
    "print('multiplicacion: ', multiplicacion)\n",
    "print('division: ', division)\n",
    "print('resto: ', resto)"
   ]
  },
  {
   "cell_type": "markdown",
   "metadata": {},
   "source": [
    "Empecemos a conectar los puntos y empecemos a hacer uso de lo que ya sabemos para calcular (área, volumen, densidad, peso, perímetro, distancia, \n",
    "fuerza).\n",
    "\n",
    "*Ejemplo:*\n",
    "\n",
    "<span style=\"font-size: 1.5em; color: grey\">Calculando el area de un circulo</span>"
   ]
  },
  {
   "cell_type": "code",
   "execution_count": null,
   "metadata": {},
   "outputs": [],
   "source": [
    "radio = 10  # Radio del circulo\n",
    "# Dos signos * significan exponente o potencia\n",
    "area_del_circulo = 3.14 * radio ** 2\n",
    "print('Area del circulo:', area_del_circulo)"
   ]
  },
  {
   "cell_type": "markdown",
   "metadata": {},
   "source": [
    "<span style=\"font-size: 1.5em; color: grey\">Calculando el area de un rectangulo</span>"
   ]
  },
  {
   "cell_type": "code",
   "execution_count": null,
   "metadata": {},
   "outputs": [],
   "source": [
    "length = 10\n",
    "width = 20\n",
    "area_del_rectangulo = length * width\n",
    "print('Area del rectangulo:', area_del_rectangulo)"
   ]
  },
  {
   "cell_type": "markdown",
   "metadata": {},
   "source": [
    "<span style=\"font-size: 1.5em; color: grey\">Cálculo del peso de un objeto</span>"
   ]
  },
  {
   "cell_type": "code",
   "execution_count": null,
   "metadata": {},
   "outputs": [],
   "source": [
    "masa = 75\n",
    "gravedad = 9.81\n",
    "peso = masa * gravedad\n",
    "print(peso, 'Kg')   # Agregar unidad al peso"
   ]
  },
  {
   "cell_type": "markdown",
   "metadata": {},
   "source": [
    "<span style=\"font-size: 1.5em; color: grey\">Calcular la densidad de un liquido</span>"
   ]
  },
  {
   "cell_type": "code",
   "execution_count": null,
   "metadata": {},
   "outputs": [],
   "source": [
    "masa = 75                  # En Kg\n",
    "volumen = 0.075            # En metros cubicos\n",
    "densidad = masa / volumen  # 1000 Kg/m^3"
   ]
  },
  {
   "cell_type": "markdown",
   "metadata": {},
   "source": [
    "---\n",
    "\n",
    "<span style=\"font-size: 2.0em; color: red\">Operadores de comparación</span>\n",
    "\n",
    "En programación comparamos valores, usamos operadores de comparación para comparar dos valores. Comprobamos si un valor es mayor o menor o igual a\n",
    "otro valor. La siguiente tabla muestra los operadores de comparación de Python que se tomaron de:\n",
    "\n",
    "https://www.w3schools.com/python/python_operators.asp\n",
    "\n",
    "<img src='Imagenes/imagen-3.png' width=700>\n",
    "\n",
    "<span style=\"font-size: 1.5em; color: grey\">Operadores de comparacion</span>\n",
    "\n",
    "*Ejemplo:*"
   ]
  },
  {
   "cell_type": "code",
   "execution_count": null,
   "metadata": {},
   "outputs": [],
   "source": [
    "print(3 > 2)     # True, porque 3 es mayor que 2\n",
    "print(3 >= 2)    # True, porque 3 es mayor que 2\n",
    "print(3 < 2)     # False, porque 3 es mayor que 2\n",
    "print(2 < 3)     # True, porque 2 es menor que 3\n",
    "print(2 <= 3)    # True, porque 2 es menor que 3\n",
    "print(3 == 2)    # False, porque 3 no es igual a 2\n",
    "print(3 != 2)    # True, porque 3 no es igual a 2\n",
    "\n",
    "print(len('mango') == len('avocado'))  # False\n",
    "print(len('mango') != len('avocado'))  # True\n",
    "print(len('mango') < len('avocado'))   # True\n",
    "print(len('milk') != len('meat'))      # False\n",
    "print(len('milk') == len('meat'))      # True\n",
    "print(len('tomato') == len('potato'))  # True\n",
    "print(len('python') > len('dragon'))   # False"
   ]
  },
  {
   "cell_type": "markdown",
   "metadata": {},
   "source": [
    "*Comparar algo da un Verdadero o Falso*"
   ]
  },
  {
   "cell_type": "code",
   "execution_count": null,
   "metadata": {},
   "outputs": [],
   "source": [
    "print('True == True: ', True == True)\n",
    "print('True == False: ', True == False)\n",
    "print('False == False:', False == False)"
   ]
  },
  {
   "cell_type": "markdown",
   "metadata": {},
   "source": [
    "*Además del operador de comparación anterior, Python usa:*\n",
    "\n",
    "- `is`: Devuelve verdadero si ambas variables son el mismo objeto (x es y)\n",
    "- `is not`: Devuelve verdadero si ambas variables no son el mismo objeto (x no es y)\n",
    "- `in`: Devuelve True si la lista consultada contiene un determinado elemento (x en y)\n",
    "- `not in`: Devuelve True si la lista consultada no tiene un determinado elemento (x en y)"
   ]
  },
  {
   "cell_type": "code",
   "execution_count": null,
   "metadata": {},
   "outputs": [],
   "source": [
    "# True - porque los valores de los datos son los mismos\n",
    "print('1 is 1', 1 is 1)\n",
    "print('1 is not 2', 1 is not 2)             # True - porque 1 no es 2\n",
    "# True - A encontrado en la cadena (string)\n",
    "print('A in Asabeneh', 'A' in 'Asabeneh')\n",
    "# False - no hay B mayuscula en Asabeneh\n",
    "print('B in Asabeneh', 'B' in 'Asabeneh')\n",
    "# True - porque codificar para todos tiene la palabra codificar\n",
    "print('coding' in 'coding for all')\n",
    "print('a in an:', 'a' in 'an')              # True\n",
    "print('4 is 2 ** 2:', 4 is 2 ** 2)          # True"
   ]
  },
  {
   "cell_type": "markdown",
   "metadata": {},
   "source": [
    "\n",
    "<span style=\"font-size: 1.5em; color: grey\">Operadores logicos</span>\n",
    "\n",
    "A diferencia de otros lenguajes de programación, Python usa palabras clave `and`, `or` y `not` para los operadores lógicos. Los operadores lógicos \n",
    "se utilizan para combinar sentencias condicionales:\n",
    "\n",
    "<img src='Imagenes/imagen-4.png' width=700>"
   ]
  },
  {
   "cell_type": "code",
   "execution_count": null,
   "metadata": {},
   "outputs": [],
   "source": [
    "print(3 > 2 and 4 > 3)                  # True - porque ambas afirmaciones son verdaderas\n",
    "print(3 > 2 and 4 < 3)                  # False - porque la segunda afirmación es falsa\n",
    "print(3 < 2 and 4 < 3)                  # False - porque ambas afirmaciones son falsas\n",
    "print('True y True:', True and True)\n",
    "print(3 > 2 or 4 > 3)                   # True - porque ambas afirmaciones son verdaderas\n",
    "print(3 > 2 or 4 < 3)                   # True - porque una de las afirmaciones es verdadera\n",
    "print(3 < 2 or 4 < 3)                   # False - porque ambas afirmaciones son falsas\n",
    "print('True o False:', True or False)\n",
    "print(not 3 > 2)                        # False - porque 3 > 2 es verdadero, entonces no verdadero da falso\n",
    "print(not True)                         # False - Negación, el operador no se vuelve verdadero a falso\n",
    "print(not False)                        # True\n",
    "print(not not True)                     # True\n",
    "print(not not False)                    # False"
   ]
  }
 ],
 "metadata": {
  "kernelspec": {
   "display_name": "Python 3",
   "language": "python",
   "name": "python3"
  },
  "language_info": {
   "codemirror_mode": {
    "name": "ipython",
    "version": 3
   },
   "file_extension": ".py",
   "mimetype": "text/x-python",
   "name": "python",
   "nbconvert_exporter": "python",
   "pygments_lexer": "ipython3",
   "version": "3.11.5"
  },
  "orig_nbformat": 4
 },
 "nbformat": 4,
 "nbformat_minor": 2
}
