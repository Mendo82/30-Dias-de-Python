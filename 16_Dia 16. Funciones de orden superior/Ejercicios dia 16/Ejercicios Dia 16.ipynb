{
 "cells": [
  {
   "cell_type": "markdown",
   "metadata": {},
   "source": [
    "<font size=6 color=red>Ejercicios - Día 16</font>\n",
    "\n",
    "---\n",
    "\n",
    "### Ejercicios: Nivel 1\n",
    "\n",
    "### 1. Explique la diferencia entre map(), filter() y reduce().\n",
    "\n",
    "1. map(): La función map() toma una función y un iterable como argumentos y devuelve un nuevo iterable con los elementos modificados por la función dada.\n",
    "La función se aplica a cada elemento del iterable original.\n",
    "\n",
    "2. filter(): La función filter() toma una función y un iterable como argumentos y devuelve un nuevo iterable con los elementos que cumplen la condición\n",
    "especificada por la función dada.\n",
    "\n",
    "3. reduce(): La función reduce() de la biblioteca functools toma una función y un iterable como argumentos y devuelve un único valor que es el resultado de\n",
    "aplicar la función a los elementos del iterable de manera secuencial y acumulativa. Reduce realiza una acumulación sucesiva y va reduciendo el iterable a un valor único.\n",
    "\n",
    "En resumen, map() y filter() son funciones que transforman un iterable en otro iterable, mientras que reduce() toma un iterable y lo reduce a un valor único.\n"
   ]
  },
  {
   "cell_type": "markdown",
   "metadata": {},
   "source": [
    "---\n",
    "\n",
    "### 2. Explicar la diferencia entre función de orden superior, cierre y decorador.\n",
    "\n",
    "1. Función de orden superior: Una función de orden superior es una función que toma como entrada otra función o devuelve una función como resultado. Una\n",
    "función de orden superior permite trabajar con funciones como objetos de primera clase, lo que significa que se pueden pasar como argumentos, retornar\n",
    "como valores y asignar a variables.\n",
    "\n",
    "2. Cierre: Un clausura es una función que recuerda valores en el ámbito en el que se ha definido, incluso si esa función se invoca fuera de ese ámbito. Un\n",
    "clausura tiene acceso a las variables en el ámbito en el que se ha definido, incluso si esa función se invoca fuera de ese ámbito.\n",
    "\n",
    "3. Decorador: Un decorador es una función especial que toma otra función como entrada y agrega alguna funcionalidad adicional a la función original. Un\n",
    "decorador se usa para envolver la función original y modificar su comportamiento sin tener que cambiar su código fuente. Los decoradores se representan con el símbolo @ antes del nombre de la función a decorar.\n",
    "\n",
    "En resumen, una función de orden superior permite trabajar con funciones como objetos de primera clase, un clausura es una función que recuerda valores en el\n",
    "ámbito en el que se ha definido, y un decorador es una función que toma otra función como entrada y agrega alguna funcionalidad adicional a la función\n",
    "original.\n"
   ]
  },
  {
   "cell_type": "markdown",
   "metadata": {},
   "source": [
    "---\n",
    "\n",
    "### 4. Use for loop para imprimir cada país en la lista de países."
   ]
  },
  {
   "cell_type": "code",
   "execution_count": null,
   "metadata": {},
   "outputs": [],
   "source": [
    "paises = ['Estonia', 'Finland', 'Sweden', 'Denmark', 'Norway', 'Iceland']\n",
    "\n",
    "for pais in paises:\n",
    "    print(pais)"
   ]
  },
  {
   "cell_type": "markdown",
   "metadata": {},
   "source": [
    "---\n",
    "\n",
    "### 5. Use para para imprimir cada nombre en la lista de nombres.\n"
   ]
  },
  {
   "cell_type": "code",
   "execution_count": null,
   "metadata": {},
   "outputs": [],
   "source": [
    "nombres = ['Asabeneh', 'Lidiya', 'Ermias', 'Abraham']\n",
    "\n",
    "for nombre in nombres:\n",
    "    print(nombre)"
   ]
  },
  {
   "cell_type": "markdown",
   "metadata": {},
   "source": [
    "---\n",
    "\n",
    "### 6. Itera para para imprimir cada número en la lista de números.\n"
   ]
  },
  {
   "cell_type": "code",
   "execution_count": null,
   "metadata": {},
   "outputs": [],
   "source": [
    "numeros = [1, 2, 3, 4, 5, 6, 7, 8, 9, 10]\n",
    "\n",
    "for numero in numeros:\n",
    "    print(numero)"
   ]
  },
  {
   "cell_type": "markdown",
   "metadata": {},
   "source": [
    "---\n",
    "\n",
    "### Ejercicios: Nivel 2\n",
    "\n",
    "### 1. Usa map() para crear una nueva lista cambiando cada país a mayúsculas en la lista de países."
   ]
  },
  {
   "cell_type": "code",
   "execution_count": null,
   "metadata": {},
   "outputs": [],
   "source": [
    "paises = ['Estonia', 'Finland', 'Sweden', 'Denmark', 'Norway', 'Iceland']\n",
    "\n",
    "paises_upper = list(map(str.upper, paises))\n",
    "\n",
    "print(paises_upper)"
   ]
  },
  {
   "cell_type": "markdown",
   "metadata": {},
   "source": [
    "---\n",
    "\n",
    "### 2. Usa map() para crear una nueva lista cambiando cada número a su cuadrado en la lista de números."
   ]
  },
  {
   "cell_type": "code",
   "execution_count": null,
   "metadata": {},
   "outputs": [],
   "source": [
    "numeros = [1, 2, 3, 4, 5, 6, 7, 8, 9, 10]\n",
    "\n",
    "numero_al_cuadrado = list(map(lambda x: x ** 2, numeros))\n",
    "\n",
    "print(numero_al_cuadrado)\n"
   ]
  },
  {
   "cell_type": "markdown",
   "metadata": {},
   "source": [
    "---\n",
    "\n",
    "### 3. Use map() para cambiar cada nombre a mayúsculas en la lista de nombres.\n"
   ]
  },
  {
   "cell_type": "code",
   "execution_count": null,
   "metadata": {},
   "outputs": [],
   "source": [
    "nombres = ['Asabeneh', 'Lidiya', 'Ermias', 'Abraham']\n",
    "\n",
    "nombre_mayuscula = list(map(str.upper, nombres))\n",
    "\n",
    "print(nombre_mayuscula)"
   ]
  },
  {
   "cell_type": "markdown",
   "metadata": {},
   "source": [
    "---\n",
    "\n",
    "### 4. Utilice el filer() para filtrar los países que contienen 'land'."
   ]
  },
  {
   "cell_type": "code",
   "execution_count": null,
   "metadata": {},
   "outputs": [],
   "source": [
    "paises = ['Estonia', 'Finland', 'Sweden', 'Denmark', 'Norway', 'Iceland']\n",
    "\n",
    "paises_land = list(filter(lambda x: 'land' in x, paises))\n",
    "\n",
    "print(paises_land)"
   ]
  },
  {
   "cell_type": "markdown",
   "metadata": {},
   "source": [
    "---\n",
    "\n",
    "### 5. Utilice filter() para filtrar los países que tienen exactamente seis caracteres."
   ]
  },
  {
   "cell_type": "code",
   "execution_count": null,
   "metadata": {},
   "outputs": [],
   "source": [
    "paises = ['Estonia', 'Finland', 'Sweden', 'Denmark', 'Norway', 'Iceland']\n",
    "\n",
    "paises_con_seis_caracteres = list(filter(lambda x: len(x) == 6, paises))\n",
    "\n",
    "print(paises_con_seis_caracteres)"
   ]
  },
  {
   "cell_type": "markdown",
   "metadata": {},
   "source": [
    "---\n",
    "\n",
    "### 6. Utilice filter() para filtrar los países que contienen seis letras o más en la lista de países."
   ]
  },
  {
   "cell_type": "code",
   "execution_count": null,
   "metadata": {},
   "outputs": [],
   "source": [
    "paises = ['Estonia', 'Finland', 'Sweden', 'Denmark', 'Norway', 'Iceland']\n",
    "\n",
    "paises_con_seis_o_mas_caracteres = list(filter(lambda x: len(x) >= 6, paises))\n",
    "\n",
    "print(paises_con_seis_o_mas_caracteres)"
   ]
  },
  {
   "cell_type": "markdown",
   "metadata": {},
   "source": [
    "---\n",
    "\n",
    "### 7. Use el filtro para filtrar los países que comienzan con una 'E'."
   ]
  },
  {
   "cell_type": "code",
   "execution_count": null,
   "metadata": {},
   "outputs": [],
   "source": [
    "paises = ['Estonia', 'Finland', 'Sweden', 'Denmark', 'Norway', 'Iceland']\n",
    "\n",
    "resultado = list(filter(lambda x: x.startswith('E'), paises))\n",
    "\n",
    "print(resultado)"
   ]
  },
  {
   "cell_type": "markdown",
   "metadata": {},
   "source": [
    "---\n",
    "\n",
    "### 8. Encadene dos o más iteradores de lista\n",
    "\n",
    "Ejemplo:\n",
    "\n",
    "```python\n",
    "arr.map(devolución de llamada).filter(devolución de llamada).reduce(devolución de llamada))\n",
    "```"
   ]
  },
  {
   "cell_type": "code",
   "execution_count": null,
   "metadata": {},
   "outputs": [],
   "source": [
    "from functools import reduce\n",
    "\n",
    "paises = ['Estonia', 'Finland', 'Sweden', 'Denmark', 'Norway', 'Iceland']\n",
    "\n",
    "resultado = reduce(lambda x, y: x + y, filter(lambda x: len(x) == 6, map(lambda x: x.upper(), paises)))\n",
    "\n",
    "print(resultado)"
   ]
  },
  {
   "cell_type": "markdown",
   "metadata": {},
   "source": [
    "---\n",
    "\n",
    "### 8. Declare una función llamada get_string_lists que toma una lista como parámetro y luego devuelve una lista que contiene solo elementos de cadena."
   ]
  },
  {
   "cell_type": "code",
   "execution_count": null,
   "metadata": {},
   "outputs": [],
   "source": [
    "def get_string_lists(lst):\n",
    "    return list(filter(lambda x: isinstance(x, str), lst))\n",
    "\n",
    "\n",
    "sample_list = [1, 'apple', 2, 'banana', 3, 'cherry']\n",
    "\n",
    "print(get_string_lists(sample_list))"
   ]
  },
  {
   "cell_type": "markdown",
   "metadata": {},
   "source": [
    "---\n",
    "\n",
    "### 9. Use reduce() para sumar todos los números en la lista de números."
   ]
  },
  {
   "cell_type": "code",
   "execution_count": null,
   "metadata": {},
   "outputs": [],
   "source": [
    "from functools import reduce\n",
    "\n",
    "numeros = [1, 2, 3, 4, 5, 6, 7, 8, 9, 10]\n",
    "\n",
    "resultado = reduce(lambda x, y: x + y, numeros)\n",
    "\n",
    "print(resultado)"
   ]
  },
  {
   "cell_type": "markdown",
   "metadata": {},
   "source": [
    "El método reduce() de la biblioteca functools es una función que se usa para aplicar una función a pares consecutivos de elementos en una lista y reducirlos a un único valor. En este caso, la función reduce se usa para sumar todos los números en la lista numeros. La función de suma se define en una función lambda que toma dos argumentos x y y. Cada vez que se llama a la función reduce, se toman dos elementos consecutivos de la lista numeros y se suman juntos, y el resultado se pasa a la siguiente llamada a la función. La función reduce se ejecuta hasta que se haya procesado toda la lista numeros, y el valor\n",
    "final es la suma de todos los números. En este caso, la salida sería 55."
   ]
  },
  {
   "cell_type": "markdown",
   "metadata": {},
   "source": [
    "---\n",
    "\n",
    "### 10. Use reduce() para concatenar todos los países y producir esta oración: Estonia, Finlandia, Suecia, Dinamarca, Noruega e Islandia son países del norte de Europa."
   ]
  },
  {
   "cell_type": "code",
   "execution_count": null,
   "metadata": {},
   "outputs": [],
   "source": [
    "from functools import reduce\n",
    "\n",
    "paises = ['Estonia', 'Finland', 'Sweden', 'Denmark', 'Norway', 'Iceland']\n",
    "sentence = reduce(lambda a, b: a + ', ' + b, paises) + \\\n",
    "    ' son países del norte de Europa'\n",
    "\n",
    "print(sentence)"
   ]
  }
 ],
 "metadata": {
  "kernelspec": {
   "display_name": "Python 3",
   "language": "python",
   "name": "python3"
  },
  "language_info": {
   "codemirror_mode": {
    "name": "ipython",
    "version": 3
   },
   "file_extension": ".py",
   "mimetype": "text/x-python",
   "name": "python",
   "nbconvert_exporter": "python",
   "pygments_lexer": "ipython3",
   "version": "3.11.8"
  }
 },
 "nbformat": 4,
 "nbformat_minor": 2
}
