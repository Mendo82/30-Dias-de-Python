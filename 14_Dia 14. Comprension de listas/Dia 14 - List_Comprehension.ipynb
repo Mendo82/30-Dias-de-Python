{
 "cells": [
  {
   "cell_type": "markdown",
   "metadata": {},
   "source": [
    "<span style=\"font-size: 2em; color: red\">30 Dias de Python: Dia 13 - Comprension de listas (List Comprehension)</span>\n",
    "\n",
    "---\n",
    "\n",
    "<span style=\"font-size: 1.5em; color: red\">Comprension de listas</span> \n",
    "\n",
    "La comprensión de listas en Python es una forma compacta de crear una lista a partir de una secuencia. \n",
    "Es una forma corta de crear una nueva lista. La comprensión de listas es considerablemente más rápida \n",
    "que procesar una lista usando el bucle for.\n",
    "\n",
    "*Sintaxis:*\n",
    "\n",
    "```python\n",
    "[i for i in iterable if expression]\n",
    "```\n",
    "\n",
    "*Ejemplo 1*\n",
    "\n",
    "Por ejemplo, si desea cambiar una cadena a una lista de caracteres. Puedes usar un par de métodos. Veamos algunos de ellos:\n",
    "\n",
    "<span style=\"font-size: 1.5em; color: grey\">Metodo uno</span>"
   ]
  },
  {
   "cell_type": "code",
   "execution_count": null,
   "metadata": {},
   "outputs": [],
   "source": [
    "cadena = 'Python'\n",
    "lista = list(cadena)   # Cambiando el string a list\n",
    "print(type(lista))     # list\n",
    "print(lista)           # ['P', 'y', 't', 'h', 'o', 'n']"
   ]
  },
  {
   "cell_type": "markdown",
   "metadata": {},
   "source": [
    "<span style=\"font-size: 1.5em; color: grey\">Metodo dos: Comprension de lista</span>\n",
    "\n",
    "*Ejemplo:*"
   ]
  },
  {
   "cell_type": "code",
   "execution_count": null,
   "metadata": {},
   "outputs": [],
   "source": [
    "cadena = 'Python'\n",
    "lista = [i for i in cadena]\n",
    "print(type(lista))  # list\n",
    "print(lista)        # ['P', 'y', 't', 'h', 'o', 'n']"
   ]
  },
  {
   "cell_type": "markdown",
   "metadata": {},
   "source": [
    "*Otro ejemplo:*"
   ]
  },
  {
   "cell_type": "code",
   "execution_count": null,
   "metadata": {},
   "outputs": [],
   "source": [
    "numeros = [1, 2, 3, 4, 5]\n",
    "cuadrados = [numero**2 for numero in numeros]\n",
    "print(cuadrados)  # [1, 4, 9, 16, 25]"
   ]
  },
  {
   "cell_type": "markdown",
   "metadata": {},
   "source": [
    "También se pueden añadir una condicional para filtrar los elementos del iterable.\n",
    "\n",
    "*Ejemplo:*"
   ]
  },
  {
   "cell_type": "code",
   "execution_count": null,
   "metadata": {},
   "outputs": [],
   "source": [
    "numeros = [1, 2, 3, 4, 5, 6, 7, 8, 9, 10]\n",
    "pares = [numero for numero in numeros if numero % 2 == 0]\n",
    "print(pares)  # [2, 4, 6, 8, 10]"
   ]
  },
  {
   "cell_type": "markdown",
   "metadata": {},
   "source": [
    "Comprension de listas (List Comprehension) es una forma concisa y eficiente de crear listas y se utilizan ampliamente en Python debido \n",
    "a su simplicidad y expresividad.\n",
    "\n",
    "---\n",
    "\n",
    "<span style=\"font-size: 1.5em; color: grey\">Función lambda</span>\n",
    "\n",
    "La función Lambda es una pequeña función anónima sin nombre. Puede tomar cualquier número de argumentos, \n",
    "pero solo puede tener una expresión. La función Lambda es similar a las funciones anónimas en JavaScript. \n",
    "Lo necesitamos cuando queremos escribir una función anónima dentro de otra función.\n",
    "\n",
    "<span style=\"font-size: 1.5em; color: grey\">Creación de una función Lambda</span>\n",
    "\n",
    "Para crear una función `lambda`, usamos la palabra clave lambda seguida de un `parámetro`, seguido de una `expresión`. \n",
    "Consulte la sintaxis y el ejemplo a continuación. La función `Lambda no usa return` pero devuelve explícitamente la expresión.\n",
    "\n",
    "*Sintaxis:*\n",
    "\n",
    "```python\n",
    "x = lambda parametros: expresion\n",
    "x = lambda param1, param2, param3: param1 + param2 + param2\n",
    "print(x(arg1, arg2, arg3))\n",
    "```\n",
    "\n",
    "*Ejemplo:*"
   ]
  },
  {
   "cell_type": "code",
   "execution_count": null,
   "metadata": {},
   "outputs": [],
   "source": [
    "def suma(x, y): return x + y\n",
    "\n",
    "\n",
    "print(suma(1, 2))  # 3"
   ]
  },
  {
   "cell_type": "markdown",
   "metadata": {},
   "source": [
    "*Mas ejemplos:*\n",
    "\n",
    "<span style=\"font-size: 1.5em; color: grey\">Funcion con nombre</span>"
   ]
  },
  {
   "cell_type": "code",
   "execution_count": null,
   "metadata": {},
   "outputs": [],
   "source": [
    "def add_two_nums(a, b):\n",
    "    \n",
    "    return a + b\n",
    "\n",
    "\n",
    "print(add_two_nums(2, 3))       # 5\n",
    "# Vamos a cambiar la función anterior a una función lambda\n",
    "def add_two_nums(a, b): return a + b\n",
    "\n",
    "\n",
    "print(add_two_nums(2, 3))        # 5"
   ]
  },
  {
   "cell_type": "markdown",
   "metadata": {},
   "source": [
    "---\n",
    "\n",
    "<span style=\"font-size: 1.5em; color: grey\">Función lambda de invocación automática</span>\n",
    "\n",
    "*Ejemplo:*"
   ]
  },
  {
   "cell_type": "code",
   "execution_count": null,
   "metadata": {},
   "outputs": [],
   "source": [
    "# 5 - Necesita encapsularlo en print() para ver el resultado en la consola\n",
    "(lambda a, b: a + b)(2, 3)\n",
    "\n",
    "\n",
    "def cuadrado(x): return x ** 2\n",
    "\n",
    "\n",
    "print(cuadrado(3))    # 9\n",
    "def cubo(x): return x ** 3\n",
    "\n",
    "\n",
    "print(cubo(3))        # 27"
   ]
  },
  {
   "cell_type": "markdown",
   "metadata": {},
   "source": [
    "<span style=\"font-size: 1.5em; color: grey\">Multiples variables</span>\n",
    "\n",
    "*Ejemplo:*"
   ]
  },
  {
   "cell_type": "code",
   "execution_count": null,
   "metadata": {},
   "outputs": [],
   "source": [
    "def multiples_variables(a, b, c): return a ** 2 - 3 * b + 4 * c\n",
    "\n",
    "\n",
    "print(multiples_variables(5, 5, 3))  # 22"
   ]
  },
  {
   "cell_type": "markdown",
   "metadata": {},
   "source": [
    "---\n",
    "\n",
    "<span style=\"font-size: 1.5em; color: grey\">Función Lambda dentro de otra función</span>\n",
    "\n",
    "Sí, es posible utilizar una función `lambda` dentro de otra función en Python. Esto es útil cuando se quiere pasar una función como argumento a otra función y se quiere evitar la creación de una función con nombre adicional.\n",
    "Por ejemplo, la función `filter()` toma dos argumentos: una función y un iterable. La función se utiliza para filtrar los elementos del iterable. En lugar de definir una función con nombre para pasar como primer argumento, se puede utilizar una función lambda.\n",
    "\n",
    "*Ejemplo:*"
   ]
  },
  {
   "cell_type": "code",
   "execution_count": null,
   "metadata": {},
   "outputs": [],
   "source": [
    "def filtrar_numeros(numeros, condicion):\n",
    "    \n",
    "    return filter(condicion, numeros)\n",
    "\n",
    "\n",
    "numeros = [1, 2, 3, 4, 5, 6, 7, 8, 9, 10]\n",
    "pares = filtrar_numeros(numeros, lambda numero: numero % 2 == 0)\n",
    "print(list(pares))  # [2, 4, 6, 8, 10]\n",
    "\n",
    "\n",
    "def potencia(x):\n",
    "    \n",
    "    return lambda numero: x ** numero\n",
    "\n",
    "\n",
    "# La función potencia ahora necesita 2 argumentos para ejecutarse, en paréntesis redondeados separados\n",
    "cubo = potencia(2)(3)\n",
    "print(cubo)  # 8\n",
    "\n",
    "potencia_de_dos_elevado_cinco = potencia(2)(5)\n",
    "print(potencia_de_dos_elevado_cinco)  # 32"
   ]
  }
 ],
 "metadata": {
  "kernelspec": {
   "display_name": "Unidad5",
   "language": "python",
   "name": "python3"
  },
  "language_info": {
   "codemirror_mode": {
    "name": "ipython",
    "version": 3
   },
   "file_extension": ".py",
   "mimetype": "text/x-python",
   "name": "python",
   "nbconvert_exporter": "python",
   "pygments_lexer": "ipython3",
   "version": "3.11.6"
  }
 },
 "nbformat": 4,
 "nbformat_minor": 2
}
