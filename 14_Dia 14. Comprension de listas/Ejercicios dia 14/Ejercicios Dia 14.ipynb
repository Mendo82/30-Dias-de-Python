{
 "cells": [
  {
   "cell_type": "markdown",
   "metadata": {},
   "source": [
    "<font size=6 color=red>Ejercicios - Día 14</font>\n",
    "\n",
    "---\n",
    "\n",
    "1. Filtre solo negativo y cero en la lista usando la comprensión de lista."
   ]
  },
  {
   "cell_type": "code",
   "execution_count": null,
   "metadata": {},
   "outputs": [],
   "source": [
    "numeros = [-4, -3, -2, -1, 0, 2, 4, 6]\n",
    "\n",
    "x = [y for y in numeros if y > 0]\n",
    "print(x)\n"
   ]
  },
  {
   "cell_type": "markdown",
   "metadata": {},
   "source": [
    "---\n",
    "\n",
    "2. Aplane la siguiente lista de listas de listas a una lista unidimensional:\n",
    "\n",
    "    ```python\n",
    "    lista_de_listas = [[[1, 2, 3]], [[4, 5, 6]], [[7, 8, 9]]]\n",
    "    ```\n",
    "\n",
    "    ```text\n",
    "    Salida:\n",
    "\n",
    "    [1, 2, 3, 4, 5, 6, 7, 8, 9]\n",
    "    ```\n",
    "\n"
   ]
  },
  {
   "cell_type": "code",
   "execution_count": null,
   "metadata": {},
   "outputs": [],
   "source": [
    "\n",
    "lista_de_listas = [[[1, 2, 3]], [[4, 5, 6]], [[7, 8, 9]]]\n",
    "\n",
    "aplanar_lista = [x for sublist1 in lista_de_listas for sublist2 in sublist1 for x in sublist2]\n",
    "print(aplanar_lista)\n"
   ]
  },
  {
   "cell_type": "markdown",
   "metadata": {},
   "source": [
    "Este código utiliza una comprensión de listas para aplanar una lista de listas a una lista unidimensional. A continuación se explica paso a paso lo que hace\n",
    "el código:\n",
    "\n",
    "1. Se define la lista original llamada lista_de_listas que contiene tres listas anidadas.\n",
    "\n",
    "2. Se crea una nueva lista vacía llamada flattened_list donde se agregarán los elementos de la lista original una vez aplanada.\n",
    "\n",
    "3. Se utiliza una comprensión de lista para iterar sobre lista_de_listas.  primera iteración recorre cada sublista en la lista lista_de_listas y la asigna\n",
    "a una variable temporal sublist1.\n",
    "\n",
    "4. Dentro de la primera iteración, se utiliza otra comprensión de lista para iterar sobre sublist1. La segunda iteración recorre cada sublista en la lista\n",
    "sublist1 y la asigna a una variable temporal sublist2.\n",
    "\n",
    "5. Dentro de la segunda iteración, se utiliza una tercera comprensión de lista para iterar sobre sublist2. La tercera iteración recorre cada elemento en la\n",
    "lista sublist2 y lo asigna a una variable temporal x.\n",
    "\n",
    "6. El valor de x se agrega a la lista flattened_list en cada iteración.\n",
    "\n",
    "7. Una vez que se ha recorrido toda la lista original, flattened_list contiene todos los elementos de la lista original unidos en una sola lista.\n",
    "\n",
    "8. Finalmente, se imprime flattened_list en consola."
   ]
  },
  {
   "cell_type": "markdown",
   "metadata": {},
   "source": [
    "---\n",
    "\n",
    "3. Utilizando la comprensión de listas, cree la siguiente lista de tuplas:\n",
    "\n",
    "```python\n",
    "[(0, 1, 0, 0, 0, 0, 0),\n",
    "(1, 1, 1, 1, 1, 1, 1),\n",
    "(2, 1, 2, 4, 8, 16, 32),\n",
    "(3, 1, 3, 9, 27, 81, 243),\n",
    "(4, 1, 4, 16, 64, 256, 1024),\n",
    "(5, 1, 5, 25, 125, 625, 3125),\n",
    "(6, 1, 6, 36, 216, 1296, 7776),\n",
    "(7, 1, 7, 49, 343, 2401, 16807),\n",
    "(8, 1, 8, 64, 512, 4096, 32768),\n",
    "(9, 1, 9, 81, 729, 6561, 59049),\n",
    "(10, 1, 10, 100, 1000, 10000, 100000)]\n",
    "```\n"
   ]
  },
  {
   "cell_type": "code",
   "execution_count": null,
   "metadata": {},
   "outputs": [],
   "source": [
    "lista_de_tuplas = [(x, 1, x, x**2, x**3, x**4, x**5) for x in range(11)]\n",
    "\n",
    "print(lista_de_tuplas)"
   ]
  },
  {
   "cell_type": "markdown",
   "metadata": {},
   "source": [
    "*Aquí se explica cómo funciona el código:*\n",
    "\n",
    "1. Se utiliza una comprensión de listas para iterar sobre el rango de números de 0 a 10 (inclusive) utilizando la función range(11).\n",
    "Cada valor de iteración se asigna a una variable temporal x.\n",
    "\n",
    "2. Se crea una tupla con siete elementos utilizando los valores de x en cada posición.\n",
    "\n",
    "3. La tupla se agrega a una lista vacía llamada lista_de_tuplas en cada iteración.\n",
    "\n",
    "4. Una vez que se ha recorrido todo el rango, lista_de_tuplas contiene las tuplas deseadas.\n",
    "\n",
    "Es importante mencionar que esta comprensión de listas es equivalente a escribir un ciclo for tradicional con una instrucción append dentro del ciclo."
   ]
  },
  {
   "cell_type": "markdown",
   "metadata": {},
   "source": [
    "---\n",
    "\n",
    "4. Aplane la siguiente lista a una nueva lista:\n",
    "\n",
    "    ```python\n",
    "    paises = [[('Finland', 'Helsinki')], [('Sweden', 'Stockholm')], [('Norway', 'Oslo')]]\n",
    "    ```\n",
    "\n",
    "\n",
    "    Salida:\n",
    "\n",
    "    ```text\n",
    "    [['FINLAND','FIN', 'HELSINKI'], ['SWEDEN', 'SWE', 'STOCKHOLM'], ['NORWAY', 'NOR', 'OSLO']]\n",
    "    ```\n",
    "\n"
   ]
  },
  {
   "cell_type": "code",
   "execution_count": null,
   "metadata": {},
   "outputs": [],
   "source": [
    "paises = [[('Finland', 'Helsinki')], [('Sweden', 'Stockholm')], [('Norway', 'Oslo')]]\n",
    "output = [[pais[0].upper(), pais[0][:3].upper(), ciudad.upper()] for pais, ciudad in paises]\n",
    "\n",
    "print(output)"
   ]
  },
  {
   "cell_type": "markdown",
   "metadata": {},
   "source": [
    "---\n",
    "\n",
    "5.Escriba una función lambda que pueda resolver una pendiente o una intersección con el eje y de funciones lineales."
   ]
  },
  {
   "cell_type": "code",
   "execution_count": null,
   "metadata": {},
   "outputs": [],
   "source": [
    "def funcion():\n",
    "    f = lambda m, b, x: m * x + b\n",
    "    \n",
    "    return f"
   ]
  },
  {
   "cell_type": "markdown",
   "metadata": {},
   "source": [
    "Donde m es la pendiente, b es la intersección con el eje y y x es el valor de la variable independiente."
   ]
  }
 ],
 "metadata": {
  "kernelspec": {
   "display_name": "Python 3",
   "language": "python",
   "name": "python3"
  },
  "language_info": {
   "codemirror_mode": {
    "name": "ipython",
    "version": 3
   },
   "file_extension": ".py",
   "mimetype": "text/x-python",
   "name": "python",
   "nbconvert_exporter": "python",
   "pygments_lexer": "ipython3",
   "version": "3.11.8"
  }
 },
 "nbformat": 4,
 "nbformat_minor": 2
}
