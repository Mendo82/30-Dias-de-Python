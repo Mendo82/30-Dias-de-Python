{
 "cells": [
  {
   "cell_type": "markdown",
   "metadata": {},
   "source": [
    "<font size=6 color=red>Ejercicios: Nivel 2</font>\n",
    "\n",
    "---"
   ]
  },
  {
   "cell_type": "markdown",
   "metadata": {},
   "source": [
    "1. Cree una clase llamada PersonAccount. Tiene propiedades de nombre, apellido, ingresos, gastos y tiene los métodos total_ingreso, total_gasto, información_cuenta, agregar_ingreso, agregar_gasto y saldo_cuenta. Rentas es un conjunto de rentas y su descripción. Lo mismo ocurre con los gastos.\n"
   ]
  },
  {
   "cell_type": "code",
   "execution_count": null,
   "metadata": {},
   "outputs": [],
   "source": [
    "class PersonAccount:\n",
    "    def __init__(self, nombre, apellido):\n",
    "        self.nombre = nombre\n",
    "        self.apellido = apellido\n",
    "        self.ingresos = []\n",
    "        self.gastos = []\n",
    "\n",
    "    def total_ingreso(self):\n",
    "        total = sum(ingreso[0] for ingreso in self.ingresos)\n",
    "        \n",
    "        return total\n",
    "\n",
    "    def total_gasto(self):\n",
    "        total = sum(gasto[0] for gasto in self.gastos)\n",
    "        \n",
    "        return total\n",
    "\n",
    "    def agregar_ingreso(self, monto, descripcion=''):\n",
    "        self.ingresos.append((monto, descripcion))\n",
    "\n",
    "    def agregar_gasto(self, monto, descripcion=\"\"):\n",
    "        self.gastos.append((monto, descripcion))\n",
    "\n",
    "    def saldo_cuenta(self):\n",
    "        \n",
    "        return self.total_ingreso() - self.total_gasto()\n",
    "\n",
    "    def informacion_cuenta(self):\n",
    "        print(f\"Información de la cuenta de {self.nombre} {self.apellido}:\")\n",
    "        print(f\"Ingresos: {self.ingresos}\")\n",
    "        print(f\"Gastos: {self.gastos}\")\n",
    "        print(f\"Saldo: {self.saldo_cuenta()}\")\n",
    "\n",
    "\n",
    "# Crear una nueva cuenta para Juan Pérez\n",
    "juan_cuenta = PersonAccount(\"Juan\", \"Pérez\")\n",
    "\n",
    "# Agregar algunos ingresos y gastos\n",
    "juan_cuenta.agregar_ingreso(5000, \"Salario\")\n",
    "juan_cuenta.agregar_gasto(2000, \"Alquiler\")\n",
    "juan_cuenta.agregar_gasto(1000, \"Comida\")\n",
    "\n",
    "\n",
    "# Obtener información detallada sobre la cuenta\n",
    "juan_cuenta.informacion_cuenta()\n",
    "# Información de la cuenta de Juan Pérez:\n",
    "# Ingresos: [(5000, 'Salario')]\n",
    "# Gastos: [(2000, 'Alquiler'), (1000, 'Comida')]\n",
    "# Saldo: 2000\n",
    "\n",
    "# Agregar más ingresos y gastos\n",
    "juan_cuenta.agregar_ingreso(3000, \"Venta de garaje\")\n",
    "juan_cuenta.agregar_gasto(500, \"Gasolina\")\n",
    "juan_cuenta.agregar_gasto(800, \"Entretenimiento\")\n",
    "\n",
    "# Obtener información actualizada de la cuenta\n",
    "juan_cuenta.informacion_cuenta()\n",
    "# Información de la cuenta de Juan Pérez:\n",
    "# Ingresos: [(5000, 'Salario'), (3000, 'Venta de garaje')]\n",
    "# Gastos: [(2000, 'Alquiler'), (1000, 'Comida'), (500, 'Gasolina'), (800, 'Entretenimiento')]\n",
    "# Saldo: 2700\n"
   ]
  }
 ],
 "metadata": {
  "kernelspec": {
   "display_name": "Python 3",
   "language": "python",
   "name": "python3"
  },
  "language_info": {
   "codemirror_mode": {
    "name": "ipython",
    "version": 3
   },
   "file_extension": ".py",
   "mimetype": "text/x-python",
   "name": "python",
   "nbconvert_exporter": "python",
   "pygments_lexer": "ipython3",
   "version": "3.11.8"
  }
 },
 "nbformat": 4,
 "nbformat_minor": 2
}
