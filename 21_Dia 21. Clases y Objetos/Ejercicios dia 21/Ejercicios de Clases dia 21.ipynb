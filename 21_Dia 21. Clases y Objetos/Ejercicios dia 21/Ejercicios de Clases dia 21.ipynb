{
 "cells": [
  {
   "cell_type": "markdown",
   "metadata": {},
   "source": [
    "<font size=6 color=red>Ejercicios - Dia 21</font>\n",
    "\n",
    "---"
   ]
  },
  {
   "cell_type": "markdown",
   "metadata": {},
   "source": [
    "Escribir una clase en python que convierta un número entero a número romano"
   ]
  },
  {
   "cell_type": "code",
   "execution_count": null,
   "metadata": {},
   "outputs": [],
   "source": [
    "class EnteroARomano:\n",
    "    def __init__(self, numero):\n",
    "        self.numero = numero\n",
    "        self.tabla = {\n",
    "            1000: 'M',\n",
    "            900: 'CM',\n",
    "            500: 'D',\n",
    "            400: 'CD',\n",
    "            100: 'C',\n",
    "            90: 'XC',\n",
    "            50: 'L',\n",
    "            40: 'XL',\n",
    "            10: 'X',\n",
    "            9: 'IX',\n",
    "            5: 'V',\n",
    "            4: 'IV',\n",
    "            1: 'I'\n",
    "        }\n",
    "\n",
    "    def convertir(self):\n",
    "        resultado = ''\n",
    "        for valor, letra in self.tabla.items():\n",
    "            while self.numero >= valor:\n",
    "                resultado += letra\n",
    "                self.numero -= valor\n",
    "                \n",
    "        return resultado\n",
    "\n",
    "\n",
    "n = 1234\n",
    "convertidor = EnteroARomano(n)\n",
    "\n",
    "print(f\"{n} en número romano es: {convertidor.convertir()}\")  # Salida: \"1234 en número romano es: MCCXXXIV\"\n"
   ]
  },
  {
   "cell_type": "markdown",
   "metadata": {},
   "source": [
    "*Explicación:*\n",
    "\n",
    "La clase EnteroARomano recibe un número entero en su constructor y lo guarda en la variable self.numero. La variable self.tabla es un diccionario que contiene los valores y letras correspondientes a los símbolos romanos. Por ejemplo, el número 1000 se representa con la letra 'M', y el número 900 se representa con la secuencia de letras 'CM'. El método convertir es el encargado de realizar la conversión. Primero inicializa una cadena vacía resultado. Luego itera sobre los elementos del diccionario self.tabla, empezando por el valor más grande (1000) y terminando en el valor más pequeño (1). En cada iteración, comprueba si el número que se está convirtiendo es mayor o igual que el valor actual. Si es así, le añade la letra correspondiente al resultado y resta el valor del número. Si el número ya es menor que el valor actual, pasa a la siguiente iteración. Finalmente, devuelve la cadena resultado que contiene el número romano correspondiente."
   ]
  },
  {
   "cell_type": "markdown",
   "metadata": {},
   "source": [
    "---\n",
    "\n",
    "Escribir una clase en python que convierta un número romano en un número entero\n"
   ]
  },
  {
   "cell_type": "code",
   "execution_count": null,
   "metadata": {},
   "outputs": [],
   "source": [
    "class RomanoAEntero:\n",
    "    def __init__(self, romano):\n",
    "        self.romano = romano\n",
    "        self.tabla = {\n",
    "            'M': 1000,\n",
    "            'CM': 900,\n",
    "            'D': 500,\n",
    "            'CD': 400,\n",
    "            'C': 100,\n",
    "            'XC': 90,\n",
    "            'L': 50,\n",
    "            'XL': 40,\n",
    "            'X': 10,\n",
    "            'IX': 9,\n",
    "            'V': 5,\n",
    "            'IV': 4,\n",
    "            'I': 1\n",
    "        }\n",
    "\n",
    "    def convertir(self):\n",
    "        resultado = 0\n",
    "        i = 0\n",
    "        while i < len(self.romano):\n",
    "            if i + 1 < len(self.romano) and self.romano[i:i+2] in self.tabla:\n",
    "                resultado += self.tabla[self.romano[i:i+2]]\n",
    "                i += 2\n",
    "            else:\n",
    "                resultado += self.tabla[self.romano[i]]\n",
    "                i += 1\n",
    "        return resultado\n",
    "\n",
    "\n",
    "n = 'MCCXXXIV'\n",
    "convertidor = RomanoAEntero(n)\n",
    "\n",
    "print(f\"{n} en número entero es: {convertidor.convertir()}\") # Salida: \"MCCXXXIV en número entero es: 1234\"\n"
   ]
  },
  {
   "cell_type": "markdown",
   "metadata": {},
   "source": [
    "*Explicación:*\n",
    "\n",
    "La clase RomanoAEntero recibe un número romano en su constructor y lo guarda en la variable self.romano. La variable self.tabla es un diccionario que contiene los valores correspondientes a cada letra o secuencia de letras del número romano. Por ejemplo, la letra 'M' se corresponde con el valor 1000, y la secuencia de letras 'CM' se corresponde con el valor 900. El método convertir es el encargado de realizar la conversión. Primero inicializa una variable resultado a cero. Luego itera sobre los caracteres del número romano, empezando por el primer carácter (índice 0) y avanzando de uno o dos caracteres en cada iteración, según corresponda. En cada iteración, comprueba si el carácter actual y el siguiente forman una secuencia de letras que se corresponde con un valor en la tabla. Si es así, le suma ese valor al resultado y avanza dos posiciones. Si no, suma el valor correspondiente al carácter actual y avanza una posición. Finalmente, devuelve el resultado de la conversión a entero.\n"
   ]
  },
  {
   "cell_type": "markdown",
   "metadata": {},
   "source": [
    "---\n",
    "\n",
    "Escribir una clase en python con 2 métodos: get_string y print_string.\n",
    "\n",
    "get_string acepta una cadena ingresada por el usuario y print_string imprime la cadena en mayúsculas."
   ]
  },
  {
   "cell_type": "code",
   "execution_count": null,
   "metadata": {},
   "outputs": [],
   "source": [
    "class StringManipulator:\n",
    "    def __init__(self):\n",
    "        self.string = \"\"\n",
    "\n",
    "    def get_string(self):\n",
    "        self.string = input(\"Ingrese una cadena: \")\n",
    "\n",
    "    def print_string(self):\n",
    "        print(self.string.upper())\n",
    "\n",
    "\n",
    "# crear una instancia de la clase StringManipulator\n",
    "s = StringManipulator()\n",
    "\n",
    "# llamar al método get_string para ingresar una cadena\n",
    "s.get_string()\n",
    "\n",
    "# llamar al método print_string para imprimir la cadena en mayúsculas\n",
    "s.print_string()\n"
   ]
  },
  {
   "cell_type": "markdown",
   "metadata": {},
   "source": [
    "---\n",
    "\n",
    "Escribir una clase en python llamada rectangulo que contenga una base y una altura, y que contenga un método que devuelva el área del rectángulo.\n"
   ]
  },
  {
   "cell_type": "code",
   "execution_count": null,
   "metadata": {},
   "outputs": [],
   "source": [
    "class Rectangulo():\n",
    "    def __init__(self, base, altura) -> None:\n",
    "        self.base = base\n",
    "        self.altura = altura\n",
    "\n",
    "    def area(self):\n",
    "        return (self.base * self.altura) / 2\n",
    "\n",
    "\n",
    "rentangulo = Rectangulo(20, 10)\n",
    "\n",
    "print(rentangulo.area())"
   ]
  },
  {
   "cell_type": "markdown",
   "metadata": {},
   "source": [
    "---\n",
    "\n",
    "Escribir una clase en python llamada circulo que contenga un radio, con un método que devuelva el área y otro que devuelva el perímetro del circulo.\n"
   ]
  },
  {
   "cell_type": "code",
   "execution_count": null,
   "metadata": {},
   "outputs": [],
   "source": [
    "class Circulo:\n",
    "    def __init__(self, radio) -> None:\n",
    "        self.radio = radio\n",
    "        self.pi = 3.1416\n",
    "\n",
    "    def area(self):\n",
    "        return self.pi * (self.radio ** 2)\n",
    "\n",
    "    def perimetro(self):\n",
    "        return self.pi * (self.radio * 2)\n",
    "\n",
    "\n",
    "circulo = Circulo(10)\n",
    "print(circulo.area())\n",
    "print(circulo.perimetro())"
   ]
  }
 ],
 "metadata": {
  "language_info": {
   "name": "python"
  }
 },
 "nbformat": 4,
 "nbformat_minor": 2
}
