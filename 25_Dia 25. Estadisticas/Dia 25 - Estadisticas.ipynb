{
 "cells": [
  {
   "cell_type": "markdown",
   "metadata": {},
   "source": [
    "<font size=6 color=red>30 Days Of Python: Día 24 - Estadísticas</font>\n",
    "\n",
    "---\n",
    "\n",
    "# Python para análisis estadístico\n",
    "\n",
    "## Estadísticas\n",
    "\n",
    "La estadística es la disciplina que estudia la recopilación , organización , visualización , análisis , interpretación y presentación \n",
    "de datos. La estadística es una rama de las matemáticas que se recomienda como requisito previo para la ciencia de datos y el \n",
    "aprendizaje automático. La estadística es un campo muy amplio pero nos centraremos en esta sección solo en la parte más relevante. \n",
    "Después de completar este desafío, puede pasar al desarrollo web, el análisis de datos, el aprendizaje automático y la ciencia de \n",
    "datos. Cualquiera que sea el camino que pueda seguir, en algún momento de su carrera obtendrá datos en los que puede trabajar. \n",
    "Tener algunos conocimientos estadísticos te ayudará a tomar decisiones basadas en datos,Los datos dicen como dicen .\n"
   ]
  },
  {
   "cell_type": "markdown",
   "metadata": {},
   "source": [
    "---\n",
    "\n",
    "## Datos\n",
    "\n",
    "¿Qué son los datos? Los datos son cualquier conjunto de caracteres que se recopilan y traducen para algún propósito, generalmente \n",
    "análisis. Puede ser cualquier carácter, incluidos texto y números, imágenes, sonido o video. Si los datos no se ponen en un contexto, \n",
    "no tienen ningún sentido para un ser humano o una computadora. Para dar sentido a los datos, necesitamos trabajar en los datos \n",
    "utilizando diferentes herramientas.\n",
    "\n",
    "El flujo de trabajo del análisis de datos, la ciencia de datos o el aprendizaje automático parte de los datos. Los datos se pueden \n",
    "proporcionar desde alguna fuente de datos o se pueden crear. Hay datos estructurados y no estructurados.\n",
    "\n",
    "Los datos se pueden encontrar en formato pequeño o grande. La mayoría de los tipos de datos que obtendremos se han cubierto en la \n",
    "sección de manejo de archivos."
   ]
  },
  {
   "cell_type": "markdown",
   "metadata": {},
   "source": [
    "---\n",
    "\n",
    "## Módulo de estadísticas\n",
    "\n",
    "El módulo de estadísticas de Python proporciona funciones para calcular estadísticas matemáticas de datos numéricos. El módulo no \n",
    "pretende ser un competidor de bibliotecas de terceros, como NumPy, SciPy, o paquetes de estadísticas propietarios completos \n",
    "destinados a estadísticos profesionales, como Minitab, SAS y Matlab. Está dirigido al nivel de graficadores y calculadoras \n",
    "científicas."
   ]
  },
  {
   "cell_type": "markdown",
   "metadata": {},
   "source": [
    "---\n",
    "\n",
    "## NumPy\n",
    "\n",
    "En la primera sección, definimos Python como un gran lenguaje de programación de propósito general por sí solo, pero con la ayuda de \n",
    "otras bibliotecas populares como (numpy, scipy, matplotlib, pandas, etc.) se convierte en un poderoso entorno para la computación \n",
    "científica.\n",
    "\n",
    "NumPy es la biblioteca central para computación científica en Python. Proporciona un objeto de matriz multidimensional de alto \n",
    "rendimiento y herramientas para trabajar con matrices.\n",
    "\n",
    "Hasta ahora, hemos estado usando vscode, pero a partir de ahora recomendaría usar Jupyter Notebook. Para acceder a jupyter notebook, \n",
    "instalemos anaconda . Si está utilizando anaconda, la mayoría de los paquetes comunes están incluidos y no tiene paquetes de \n",
    "instalación si instaló anaconda.\n",
    "\n",
    "```bash\n",
    "asabeneh@Asabeneh:~/Desktop/30DaysOfPython$ pip install numpy\n",
    "```\n",
    "\n"
   ]
  },
  {
   "cell_type": "markdown",
   "metadata": {},
   "source": [
    "---\n",
    "\n",
    "## Importando NumPy\n",
    "\n",
    "Jupyter notebook está disponible si está a favor de jupyter notebook: \n",
    "\n",
    "https://github.com/Asabeneh/data-science-for-everyone/blob/master/numpy/numpy.ipynb\n",
    "\n",
    "```python\n",
    "# How to import numpy\n",
    "import numpy as np\n",
    "# How to check the version of the numpy package\n",
    "print('numpy:', np.__version__)\n",
    "# Checking the available methods\n",
    "print(dir(np))\n",
    "```\n"
   ]
  },
  {
   "cell_type": "markdown",
   "metadata": {},
   "source": [
    "---\n",
    "\n",
    "## Creando una matriz usando numpy\n",
    "\n",
    "*Creación de matrices int numpy:*\n"
   ]
  },
  {
   "cell_type": "code",
   "execution_count": null,
   "metadata": {},
   "outputs": [],
   "source": [
    "# Creando una lista de Python\n",
    "python_list = [1, 2, 3, 4, 5]\n",
    "\n",
    "# Verificando tipos de datos\n",
    "print('Type:', type (python_list)) # <class 'list'>\n",
    "\n",
    "print(python_list)  # [1, 2, 3, 4, 5]\n",
    "\n",
    "two_dimensional_list = [[0, 1, 2], [3, 4, 5], [6, 7, 8]]\n",
    "\n",
    "print(two_dimensional_list)  # [[0, 1, 2], [3, 4, 5], [6, 7, 8]]\n",
    "\n",
    "# Creando un array de NumPy a partir de una lista de Python\n",
    "numpy_array_from_list = np.array(python_list)\n",
    "print(type (numpy_array_from_list))     # <class 'numpy.ndarray'>\n",
    "print(numpy_array_from_list)            # array([1, 2, 3, 4, 5])"
   ]
  },
  {
   "cell_type": "markdown",
   "metadata": {},
   "source": [
    "---\n",
    "\n",
    "## Creación de matrices numpy flotantes\n",
    "\n",
    "*Creación de una matriz numpy flotante de la lista con un parámetro de tipo de datos flotante:*\n"
   ]
  },
  {
   "cell_type": "code",
   "execution_count": null,
   "metadata": {},
   "outputs": [],
   "source": [
    "# Python list\n",
    "python_list = [1, 2, 3, 4, 5]\n",
    "\n",
    "numy_array_from_list2 = np.array(python_list, dtype=float)\n",
    "print(numy_array_from_list2) # array([1., 2., 3., 4., 5.])"
   ]
  },
  {
   "cell_type": "markdown",
   "metadata": {},
   "source": [
    "---\n",
    "\n",
    "## Creación de matrices numpy booleanas\n",
    "\n",
    "*Crear una matriz booleana a numpy de la lista:*\n"
   ]
  },
  {
   "cell_type": "code",
   "execution_count": null,
   "metadata": {},
   "outputs": [],
   "source": [
    "numpy_bool_array = np.array([0, 1, -1, 0, 0], dtype=bool)\n",
    "print(numpy_bool_array) # array([False,  True,  True, False, False])"
   ]
  },
  {
   "cell_type": "markdown",
   "metadata": {},
   "source": [
    "---\n",
    "\n",
    "## Creando una matriz multidimensional usando numpy\n",
    "\n",
    "*Una matriz numpy puede tener una o varias filas y columnas:*"
   ]
  },
  {
   "cell_type": "code",
   "execution_count": null,
   "metadata": {},
   "outputs": [],
   "source": [
    "two_dimensional_list = [[0,1,2], [3,4,5], [6,7,8]]\n",
    "numpy_two_dimensional_list = np.array(two_dimensional_list)\n",
    "\n",
    "print(type (numpy_two_dimensional_list))\n",
    "print(numpy_two_dimensional_list)"
   ]
  },
  {
   "cell_type": "markdown",
   "metadata": {},
   "source": [
    "*Salida:*\n",
    "\n",
    "```text\n",
    "<class 'numpy.ndarray'>\n",
    "[[0 1 2]\n",
    "[3 4 5]\n",
    "[6 7 8]]\n",
    "```\n"
   ]
  },
  {
   "cell_type": "markdown",
   "metadata": {},
   "source": [
    "---\n",
    "\n",
    "## Convertir matriz numpy a lista"
   ]
  },
  {
   "cell_type": "code",
   "execution_count": null,
   "metadata": {},
   "outputs": [],
   "source": [
    "# Siempre podemos convertir un array de NumPy de nuevo a una lista de Python usando el método tolist().\n",
    "np_to_list = numpy_array_from_list.tolist()\n",
    "\n",
    "print(type(np_to_list))\n",
    "print('one dimensional array:', np_to_list)\n",
    "print('two dimensional array: ', numpy_two_dimensional_list.tolist())"
   ]
  },
  {
   "cell_type": "markdown",
   "metadata": {},
   "source": [
    "*Salida:*\n",
    "\n",
    "```text\n",
    "<class 'list'>\n",
    "one dimensional array: [1, 2, 3, 4, 5]\n",
    "two dimensional array:  [[0, 1, 2], [3, 4, 5], [6, 7, 8]]\n",
    "```\n"
   ]
  },
  {
   "cell_type": "markdown",
   "metadata": {},
   "source": [
    "---\n",
    "\n",
    "## Creando una matriz numpy a partir de una tupla\n"
   ]
  },
  {
   "cell_type": "code",
   "execution_count": null,
   "metadata": {},
   "outputs": [],
   "source": [
    "# Numpy array from tuple\n",
    "# Creating tuple in Python\n",
    "python_tuple = (1,2,3,4,5)\n",
    "print(type (python_tuple)) # <class 'tuple'>\n",
    "print('python_tuple: ', python_tuple) # python_tuple:  (1, 2, 3, 4, 5)\n",
    "\n",
    "numpy_array_from_tuple = np.array(python_tuple)\n",
    "print(type (numpy_array_from_tuple)) # <class 'numpy.ndarray'>\n",
    "print('numpy_array_from_tuple: ', numpy_array_from_tuple) # numpy_array_from_tuple:  [1 2 3 4 5]"
   ]
  },
  {
   "cell_type": "markdown",
   "metadata": {},
   "source": [
    "---\n",
    "\n",
    "## Forma de matriz numpy\n",
    "\n",
    "El método de forma proporciona la forma de la matriz como una tupla. La primera es la fila y la segunda es la columna. Si la matriz \n",
    "es solo unidimensional, devuelve el tamaño de la matriz."
   ]
  },
  {
   "cell_type": "code",
   "execution_count": null,
   "metadata": {},
   "outputs": [],
   "source": [
    "nums = np.array([1, 2, 3, 4, 5])\n",
    "\n",
    "print(nums)\n",
    "print('shape of nums: ', nums.shape)\n",
    "print(numpy_two_dimensional_list)\n",
    "print('shape of numpy_two_dimensional_list: ', numpy_two_dimensional_list.shape)\n",
    "three_by_four_array = np.array([[0, 1, 2, 3],\n",
    "    [4,5,6,7],\n",
    "    [8,9,10, 11]])\n",
    "print(three_by_four_array.shape)"
   ]
  },
  {
   "cell_type": "markdown",
   "metadata": {},
   "source": [
    "*Salida:*\n",
    "\n",
    "```text\n",
    "[1 2 3 4 5]\n",
    "shape of nums:  (5,)\n",
    "[[0 1 2]\n",
    "[3 4 5]\n",
    "[6 7 8]]\n",
    "shape of numpy_two_dimensional_list:  (3, 3)\n",
    "(3, 4)\n",
    "```\n"
   ]
  },
  {
   "cell_type": "markdown",
   "metadata": {},
   "source": [
    "---\n",
    "\n",
    "## Tipo de datos de matriz numpy\n",
    "\n",
    "*Tipo de tipos de datos: str, int, float, complex, bool, list, None*"
   ]
  },
  {
   "cell_type": "code",
   "execution_count": null,
   "metadata": {},
   "outputs": [],
   "source": [
    "int_lists = [-3, -2, -1, 0, 1, 2,3]\n",
    "int_array = np.array(int_lists)\n",
    "float_array = np.array(int_lists, dtype=float)\n",
    "\n",
    "print(int_array)\n",
    "print(int_array.dtype)\n",
    "print(float_array)\n",
    "print(float_array.dtype)"
   ]
  },
  {
   "cell_type": "markdown",
   "metadata": {},
   "source": [
    "*Salida:*\n",
    "\n",
    "```text\n",
    "[-3 -2 -1  0  1  2  3]\n",
    "int64\n",
    "[-3. -2. -1.  0.  1.  2.  3.]\n",
    "float64\n",
    "```\n"
   ]
  },
  {
   "cell_type": "markdown",
   "metadata": {},
   "source": [
    "---\n",
    "\n",
    "## Tamaño de una matriz numpy\n",
    "\n",
    "En numpy para saber la cantidad de elementos en una lista de matriz numpy usamos el tamaño."
   ]
  },
  {
   "cell_type": "code",
   "execution_count": null,
   "metadata": {},
   "outputs": [],
   "source": [
    "numpy_array_from_list = np.array([1, 2, 3, 4, 5])\n",
    "two_dimensional_list = np.array([[0, 1, 2],\n",
    "                              [3, 4, 5],\n",
    "                              [6, 7, 8]])\n",
    "\n",
    "print('The size:', numpy_array_from_list.size) # 5\n",
    "print('The size:', two_dimensional_list.size)  # 3"
   ]
  },
  {
   "cell_type": "markdown",
   "metadata": {},
   "source": [
    "\n",
    "*Salida:*\n",
    "\n",
    "```text\n",
    "The size: 5\n",
    "The size: 9\n",
    "```\n"
   ]
  },
  {
   "cell_type": "markdown",
   "metadata": {},
   "source": [
    "---\n",
    "\n",
    "## Operaciones matemáticas usando numpy\n",
    "\n",
    "La matriz NumPy no es exactamente como la lista de python. Para realizar una operación matemática en la lista de Python, \n",
    "tenemos que recorrer los elementos, pero numpy puede permitir realizar cualquier operación matemática sin realizar un bucle. \n",
    "\n",
    "*Operaciones matematicas:*\n",
    "\n",
    "```text\n",
    "suma (+)\n",
    "Resta (-)\n",
    "Multiplicación (*)\n",
    "División (/)\n",
    "Módulos (%)\n",
    "División de piso(//)\n",
    "Exponencial(**)\n",
    "```\n",
    "\n",
    "### Operaciones Matematicas\n",
    "\n",
    "### Suma\n"
   ]
  },
  {
   "cell_type": "code",
   "execution_count": null,
   "metadata": {},
   "outputs": [],
   "source": [
    "# Suma\n",
    "numpy_array_from_list = np.array([1, 2, 3, 4, 5])\n",
    "print('original array: ', numpy_array_from_list)\n",
    "\n",
    "ten_plus_original = numpy_array_from_list  + 10\n",
    "print(ten_plus_original)\n"
   ]
  },
  {
   "cell_type": "markdown",
   "metadata": {},
   "source": [
    "*Salida:*\n",
    "\n",
    "```text\n",
    "original array:  [1 2 3 4 5]\n",
    "[11 12 13 14 15]\n",
    "```\n",
    "\n",
    "\n",
    "### Resta"
   ]
  },
  {
   "cell_type": "code",
   "execution_count": null,
   "metadata": {},
   "outputs": [],
   "source": [
    "# Resta\n",
    "numpy_array_from_list = np.array([1, 2, 3, 4, 5])\n",
    "print('original array: ', numpy_array_from_list)\n",
    "\n",
    "ten_minus_original = numpy_array_from_list  - 10\n",
    "print(ten_minus_original)"
   ]
  },
  {
   "cell_type": "markdown",
   "metadata": {},
   "source": [
    "*Salida:*\n",
    "\n",
    "```text\n",
    "original array:  [1 2 3 4 5]\n",
    "[-9 -8 -7 -6 -5]\n",
    "```\n",
    "\n",
    "### Multiplicación"
   ]
  },
  {
   "cell_type": "code",
   "execution_count": null,
   "metadata": {},
   "outputs": [],
   "source": [
    "# Multiplicacion\n",
    "numpy_array_from_list = np.array([1, 2, 3, 4, 5])\n",
    "print('original array: ', numpy_array_from_list)\n",
    "ten_times_original = numpy_array_from_list * 10\n",
    "print(ten_times_original)"
   ]
  },
  {
   "cell_type": "markdown",
   "metadata": {},
   "source": [
    "*Salida:*\n",
    "\n",
    "```text\n",
    "original array:  [1 2 3 4 5]\n",
    "[10 20 30 40 50]\n",
    "```\n",
    "\n",
    "\n",
    "### División"
   ]
  },
  {
   "cell_type": "code",
   "execution_count": null,
   "metadata": {},
   "outputs": [],
   "source": [
    "# Division\n",
    "numpy_array_from_list = np.array([1, 2, 3, 4, 5])\n",
    "print('original array: ', numpy_array_from_list)\n",
    "ten_times_original = numpy_array_from_list / 10\n",
    "print(ten_times_original)"
   ]
  },
  {
   "cell_type": "markdown",
   "metadata": {},
   "source": [
    "*Salida:*\n",
    "\n",
    "```text\n",
    "original array:  [1 2 3 4 5]\n",
    "[0.1 0.2 0.3 0.4 0.5]\n",
    "```\n",
    "\n",
    "\n",
    "### Módulo"
   ]
  },
  {
   "cell_type": "code",
   "execution_count": null,
   "metadata": {},
   "outputs": [],
   "source": [
    "# Modulus; Finding the remainder\n",
    "numpy_array_from_list = np.array([1, 2, 3, 4, 5])\n",
    "print('original array: ', numpy_array_from_list)\n",
    "\n",
    "ten_times_original = numpy_array_from_list % 3\n",
    "print(ten_times_original)"
   ]
  },
  {
   "cell_type": "markdown",
   "metadata": {},
   "source": [
    "Salida:\n",
    "\n",
    "```text\n",
    "original array:  [1 2 3 4 5]\n",
    "[1 2 0 1 2]\n",
    "```\n",
    "\n",
    "\n",
    "### División de piso"
   ]
  },
  {
   "cell_type": "code",
   "execution_count": null,
   "metadata": {},
   "outputs": [],
   "source": [
    "# División entera (//): el operador que devuelve el cociente entero de la división.\n",
    "numpy_array_from_list = np.array([1, 2, 3, 4, 5])\n",
    "print('original array: ', numpy_array_from_list)\n",
    "\n",
    "ten_times_original = numpy_array_from_list // 10\n",
    "print(ten_times_original)"
   ]
  },
  {
   "cell_type": "markdown",
   "metadata": {},
   "source": [
    "### Exponencial"
   ]
  },
  {
   "cell_type": "code",
   "execution_count": null,
   "metadata": {},
   "outputs": [],
   "source": [
    "# Exponential is finding some number the power of another:\n",
    "numpy_array_from_list = np.array([1, 2, 3, 4, 5])\n",
    "print('original array: ', numpy_array_from_list)\n",
    "\n",
    "ten_times_original = numpy_array_from_list  ** 2\n",
    "print(ten_times_original)"
   ]
  },
  {
   "cell_type": "markdown",
   "metadata": {},
   "source": [
    "*Salida:*\n",
    "\n",
    "```text\n",
    "original array:  [1 2 3 4 5]\n",
    "[ 1  4  9 16 25]\n",
    "```\n",
    "---\n",
    "\n",
    "# Comprobación de tipos de datos\n"
   ]
  },
  {
   "cell_type": "code",
   "execution_count": null,
   "metadata": {},
   "outputs": [],
   "source": [
    "#Int,  Float numbers\n",
    "numpy_int_arr = np.array([1,2,3,4])\n",
    "numpy_float_arr = np.array([1.1, 2.0,3.2])\n",
    "numpy_bool_arr = np.array([-3, -2, 0, 1,2,3], dtype='bool')\n",
    "\n",
    "print(numpy_int_arr.dtype)\n",
    "print(numpy_float_arr.dtype)\n",
    "print(numpy_bool_arr.dtype)"
   ]
  },
  {
   "cell_type": "markdown",
   "metadata": {},
   "source": [
    "*Salida:*\n",
    "\n",
    "```text\n",
    "int64\n",
    "float64\n",
    "bool\n",
    "```\n"
   ]
  },
  {
   "cell_type": "markdown",
   "metadata": {},
   "source": [
    "---\n",
    "\n",
    "## Tipos de conversión\n",
    "\n",
    "Podemos convertir los tipos de datos de la matriz numpy.\n",
    "\n",
    "1. Int a Flotante\n",
    "\n",
    "```python\n",
    "numpy_int_arr = np.array([1,2,3,4], dtype = 'float')\n",
    "numpy_int_arr # array([1., 2., 3., 4.])\n",
    "```\n",
    "\n",
    "2. Flotante a Int\n",
    "\n",
    "```python\n",
    "numpy_int_arr = np.array([1., 2., 3., 4.], dtype = 'int')\n",
    "numpy_int_arr # array([1, 2, 3, 4])\n",
    "```\n",
    "\n",
    "3. Int ot booleano\n",
    "\n",
    "```python\n",
    "np.array([-3, -2, 0, 1,2,3], dtype='bool') # array([ True,  True, False,  True,  True,  True])\n",
    "```\n",
    "\n",
    "4. Int a str\n",
    "\n",
    "```python\n",
    "import numpy\n",
    "\n",
    "numpy_float_list.astype('int').astype('str') # array(['1', '2', '3'], dtype='<U21')\n",
    "```"
   ]
  },
  {
   "cell_type": "markdown",
   "metadata": {},
   "source": [
    "---\n",
    "\n",
    "## Matrices multidimensionales"
   ]
  },
  {
   "cell_type": "code",
   "execution_count": null,
   "metadata": {},
   "outputs": [],
   "source": [
    "# 2 Dimension Array\n",
    "two_dimension_array = np.array([(1,2,3),(4,5,6), (7,8,9)])\n",
    "\n",
    "print(type (two_dimension_array))\n",
    "print(two_dimension_array)\n",
    "print('Shape: ', two_dimension_array.shape)\n",
    "print('Size:', two_dimension_array.size)\n",
    "print('Data type:', two_dimension_array.dtype)"
   ]
  },
  {
   "cell_type": "markdown",
   "metadata": {},
   "source": [
    "Salida:\n",
    "\n",
    "```text\n",
    "<class 'numpy.ndarray'>\n",
    "[[1 2 3]\n",
    "[4 5 6]\n",
    "[7 8 9]]\n",
    "Shape:  (3, 3)\n",
    "Size: 9\n",
    "Data type: int64\n",
    "```\n"
   ]
  },
  {
   "cell_type": "markdown",
   "metadata": {},
   "source": [
    "---\n",
    "\n",
    "## Obtener elementos de una matriz numpy"
   ]
  },
  {
   "cell_type": "code",
   "execution_count": null,
   "metadata": {},
   "outputs": [],
   "source": [
    "# 2 Dimension Array\n",
    "two_dimension_array = np.array([[1,2,3],[4,5,6], [7,8,9]])\n",
    "first_row = two_dimension_array[0]\n",
    "second_row = two_dimension_array[1]\n",
    "third_row = two_dimension_array[2]\n",
    "\n",
    "print('First row:', first_row)\n",
    "print('Second row:', second_row)\n",
    "print('Third row: ', third_row)"
   ]
  },
  {
   "cell_type": "markdown",
   "metadata": {},
   "source": [
    "Salida:\n",
    "\n",
    "```text\n",
    "First row: [1 2 3]\n",
    "Second row: [4 5 6]\n",
    "Third row:  [7 8 9]\n",
    "```\n"
   ]
  },
  {
   "cell_type": "code",
   "execution_count": null,
   "metadata": {},
   "outputs": [],
   "source": [
    "first_column= two_dimension_array[:,0]\n",
    "second_column = two_dimension_array[:,1]\n",
    "third_column = two_dimension_array[:,2]\n",
    "\n",
    "print('First column:', first_column)\n",
    "print('Second column:', second_column)\n",
    "print('Third column: ', third_column)\n",
    "print(two_dimension_array)"
   ]
  },
  {
   "cell_type": "markdown",
   "metadata": {},
   "source": [
    "Salida:\n",
    "\n",
    "```text\n",
    "First column: [1 4 7]\n",
    "Second column: [2 5 8]\n",
    "Third column:  [3 6 9]\n",
    "[[1 2 3]\n",
    " [4 5 6]\n",
    " [7 8 9]]\n",
    "```\n"
   ]
  },
  {
   "cell_type": "markdown",
   "metadata": {},
   "source": [
    "---\n",
    "\n",
    "## Rebanar matriz Numpy\n",
    "\n",
    "Rebanar en numpy es similar a rebanar en la lista de python\n",
    "\n",
    "```python\n",
    "two_dimension_array = np.array([[1,2,3],[4,5,6], [7,8,9]])\n",
    "first_two_rows_and_columns = two_dimension_array[0:2, 0:2]\n",
    "print(first_two_rows_and_columns)\n",
    "```\n",
    "\n",
    "```text\n",
    "[[1 2]\n",
    " [4 5]]\n",
    "```\n",
    "\n",
    "\n",
    "¿Cómo invertir las filas y toda la matriz?"
   ]
  },
  {
   "cell_type": "code",
   "execution_count": null,
   "metadata": {},
   "outputs": [],
   "source": [
    "two_dimension_array[::]"
   ]
  },
  {
   "cell_type": "markdown",
   "metadata": {},
   "source": [
    "*Salida:*\n",
    "\n",
    "```text\n",
    "array([[1, 2, 3],\n",
    "    [4, 5, 6],\n",
    "    [7, 8, 9]])\n",
    "```\n"
   ]
  },
  {
   "cell_type": "markdown",
   "metadata": {},
   "source": [
    "Invertir las posiciones de fila y columna"
   ]
  },
  {
   "cell_type": "code",
   "execution_count": null,
   "metadata": {},
   "outputs": [],
   "source": [
    "two_dimension_array = np.array([[1,2,3],[4,5,6], [7,8,9]])\n",
    "two_dimension_array[::-1,::-1]"
   ]
  },
  {
   "cell_type": "markdown",
   "metadata": {},
   "source": [
    "*Salida:*\n",
    "\n",
    "```text\n",
    "array([[9, 8, 7],\n",
    "      [6, 5, 4],\n",
    "      [3, 2, 1]])\n",
    "```\n",
    "\n",
    "\n",
    "¿Cómo representar los valores perdidos?"
   ]
  },
  {
   "cell_type": "code",
   "execution_count": null,
   "metadata": {},
   "outputs": [],
   "source": [
    "print(two_dimension_array)\n",
    "two_dimension_array[1, 1] = 55\n",
    "two_dimension_array[1, 2] = 44\n",
    "print(two_dimension_array)"
   ]
  },
  {
   "cell_type": "markdown",
   "metadata": {},
   "source": [
    "*Salida:*\n",
    "\n",
    "```text\n",
    "[[1 2 3]\n",
    " [4 5 6]\n",
    " [7 8 9]]\n",
    "[[ 1  2  3]\n",
    " [ 4 55 44]\n",
    " [ 7  8  9]]\n",
    "```\n"
   ]
  },
  {
   "cell_type": "markdown",
   "metadata": {},
   "source": [
    "---\n",
    "\n",
    "## Función Numpy para crear matrices de ceros"
   ]
  },
  {
   "cell_type": "code",
   "execution_count": null,
   "metadata": {},
   "outputs": [],
   "source": [
    "# numpy.zeros(shape, dtype=float, order='C')\n",
    "numpy_zeroes = np.zeros((3,3),dtype=int,order='C')\n",
    "print(numpy_zeroes)"
   ]
  },
  {
   "cell_type": "markdown",
   "metadata": {},
   "source": [
    "*Salida:*\n",
    "\n",
    "```text\n",
    "array([[0, 0, 0],\n",
    "       [0, 0, 0],\n",
    "       [0, 0, 0]])\n",
    "```\n"
   ]
  },
  {
   "cell_type": "markdown",
   "metadata": {},
   "source": [
    "## Función Numpy para crear matrices de unos"
   ]
  },
  {
   "cell_type": "code",
   "execution_count": null,
   "metadata": {},
   "outputs": [],
   "source": [
    "numpy_ones = np.ones((3,3),dtype=int,order='C')\n",
    "print(numpy_ones)"
   ]
  },
  {
   "cell_type": "markdown",
   "metadata": {},
   "source": [
    "*Salida:*\n",
    "\n",
    "```text\n",
    "[[1 1 1]\n",
    " [1 1 1]\n",
    " [1 1 1]]\n",
    "```\n"
   ]
  },
  {
   "cell_type": "code",
   "execution_count": null,
   "metadata": {},
   "outputs": [],
   "source": [
    "twoes = numpy_ones * 2"
   ]
  },
  {
   "cell_type": "markdown",
   "metadata": {},
   "source": [
    "## Reshape (Redimensionar)"
   ]
  },
  {
   "cell_type": "code",
   "execution_count": null,
   "metadata": {},
   "outputs": [],
   "source": [
    "# numpy.reshape(), numpy.flatten()\n",
    "first_shape  = np.array([(1,2,3), (4,5,6)])\n",
    "print(first_shape)\n",
    "\n",
    "reshaped = first_shape.reshape(3,2)\n",
    "print(reshaped)"
   ]
  },
  {
   "cell_type": "markdown",
   "metadata": {},
   "source": [
    "*Salida:*\n",
    "\n",
    "```text\n",
    "[[1 2 3]\n",
    " [4 5 6]]\n",
    "[[1 2]\n",
    " [3 4]\n",
    " [5 6]]\n",
    "```\n"
   ]
  },
  {
   "cell_type": "code",
   "execution_count": null,
   "metadata": {},
   "outputs": [],
   "source": [
    "flattened = reshaped.flatten()\n",
    "print(flattened)"
   ]
  },
  {
   "cell_type": "markdown",
   "metadata": {},
   "source": [
    "*Salida:*\n",
    "\n",
    "```text\n",
    " array([1, 2, 3, 4, 5, 6]) \n",
    "```\n"
   ]
  },
  {
   "cell_type": "markdown",
   "metadata": {},
   "source": [
    "## Horitzontal Stack (Apilado horizontal)\n"
   ]
  },
  {
   "cell_type": "code",
   "execution_count": null,
   "metadata": {},
   "outputs": [],
   "source": [
    "np_list_one = np.array([1, 2, 3])\n",
    "np_list_two = np.array([4, 5, 6])\n",
    "\n",
    "print(np_list_one + np_list_two)\n",
    "\n",
    "print('Horizontal Append:', np.hstack((np_list_one, np_list_two)))"
   ]
  },
  {
   "cell_type": "markdown",
   "metadata": {},
   "source": [
    "*Salida:*\n",
    "\n",
    "```text\n",
    "[5 7 9]\n",
    "Horizontal Append: [1 2 3 4 5 6]\n",
    "```\n"
   ]
  },
  {
   "cell_type": "markdown",
   "metadata": {},
   "source": [
    "## Vertical Stack (Apilado vertical)"
   ]
  },
  {
   "cell_type": "code",
   "execution_count": null,
   "metadata": {},
   "outputs": [],
   "source": [
    "print('Vertical Append:', np.vstack((np_list_one, np_list_two)))"
   ]
  },
  {
   "cell_type": "markdown",
   "metadata": {},
   "source": [
    "*Salida:*\n",
    "\n",
    "```text\n",
    "Vertical Append: [[1 2 3]\n",
    " [4 5 6]]\n",
    "```\n"
   ]
  },
  {
   "cell_type": "markdown",
   "metadata": {},
   "source": [
    "## Generación de números aleatorios\n"
   ]
  },
  {
   "cell_type": "code",
   "execution_count": null,
   "metadata": {},
   "outputs": [],
   "source": [
    "# Generate a random float number\n",
    "random_float = np.random.random()\n",
    "print(random_float)"
   ]
  },
  {
   "cell_type": "markdown",
   "metadata": {},
   "source": [
    "*Salida:*\n",
    "\n",
    "```text\n",
    " 0.018929887384753874 \n",
    "```\n"
   ]
  },
  {
   "cell_type": "markdown",
   "metadata": {},
   "source": [
    "## Generar un número de coma flotante aleatorio"
   ]
  },
  {
   "cell_type": "code",
   "execution_count": null,
   "metadata": {},
   "outputs": [],
   "source": [
    "random_floats = np.random.random(5)\n",
    "print(random_floats)"
   ]
  },
  {
   "cell_type": "markdown",
   "metadata": {},
   "source": [
    "*Salida:*\n",
    "\n",
    "```text\n",
    " array([0.26392192, 0.35842215, 0.87908478, 0.41902195, 0.78926418]) \n",
    "```\n"
   ]
  },
  {
   "cell_type": "markdown",
   "metadata": {},
   "source": [
    "## Generando números enteros aleatorios entre 0 y 10"
   ]
  },
  {
   "cell_type": "code",
   "execution_count": null,
   "metadata": {},
   "outputs": [],
   "source": [
    "random_int = np.random.randint(0, 11)\n",
    "print(random_int)"
   ]
  },
  {
   "cell_type": "markdown",
   "metadata": {},
   "source": [
    "*Salida:*\n",
    "\n",
    "```text\n",
    " 4 \n",
    "```\n"
   ]
  },
  {
   "cell_type": "markdown",
   "metadata": {},
   "source": [
    "## Generando números enteros aleatorios entre 2 y 11, y creando una matriz de una fila"
   ]
  },
  {
   "cell_type": "code",
   "execution_count": null,
   "metadata": {},
   "outputs": [],
   "source": [
    "random_int = np.random.randint(2,10, size=4)\n",
    "print(random_int)"
   ]
  },
  {
   "cell_type": "markdown",
   "metadata": {},
   "source": [
    "*Salida:*\n",
    "\n",
    "```text\n",
    " array([8, 8, 8, 2]) \n",
    "```\n"
   ]
  },
  {
   "cell_type": "markdown",
   "metadata": {},
   "source": [
    "## Generando números enteros aleatorios entre 0 y 10"
   ]
  },
  {
   "cell_type": "code",
   "execution_count": null,
   "metadata": {},
   "outputs": [],
   "source": [
    "random_int = np.random.randint(2,10, size=(3,3))\n",
    "print(random_int)"
   ]
  },
  {
   "cell_type": "markdown",
   "metadata": {},
   "source": [
    "*Salida:*\n",
    "\n",
    "```text\n",
    "array([[3, 5, 3],\n",
    "       [7, 3, 6],\n",
    "       [2, 3, 3]])\n",
    "```\n"
   ]
  },
  {
   "cell_type": "markdown",
   "metadata": {},
   "source": [
    "## Generación de números aleatorios"
   ]
  },
  {
   "cell_type": "code",
   "execution_count": null,
   "metadata": {},
   "outputs": [],
   "source": [
    "# np.random.normal(mu, sigma, size)\n",
    "normal_array = np.random.normal(79, 15, 80)\n",
    "print(normal_array)"
   ]
  },
  {
   "cell_type": "markdown",
   "metadata": {},
   "source": [
    "*Salida:*\n",
    "\n",
    "```text\n",
    "    array([ 89.49990595,  82.06056961, 107.21445842,  38.69307086,\n",
    "            47.85259157,  93.07381061,  76.40724259,  78.55675184,\n",
    "            72.17358173,  47.9888899 ,  65.10370622,  76.29696568,\n",
    "            95.58234254,  68.14897213,  38.75862686, 122.5587927 ,\n",
    "            67.0762565 ,  95.73990864,  81.97454563,  92.54264805,\n",
    "            59.37035153,  77.76828101,  52.30752166,  64.43109931,\n",
    "            62.63695351,  90.04616138,  75.70009094,  49.87586877,\n",
    "            80.22002414,  68.56708848,  76.27791052,  67.24343975,\n",
    "            81.86363935,  78.22703433, 102.85737041,  65.15700341,\n",
    "            84.87033426,  76.7569997 ,  64.61321853,  67.37244562,\n",
    "            74.4068773 ,  58.65119655,  71.66488727,  53.42458179,\n",
    "            70.26872028,  60.96588544,  83.56129414,  72.14255326,\n",
    "            81.00787609,  71.81264853,  72.64168853,  86.56608717,\n",
    "            94.94667321,  82.32676973,  70.5165446 ,  85.43061003,\n",
    "            72.45526212,  87.34681775,  87.69911217, 103.02831489,\n",
    "            75.28598596,  67.17806893,  92.41274447, 101.06662611,\n",
    "            87.70013935,  70.73980645,  46.40368207,  50.17947092,\n",
    "            61.75618542,  90.26191397,  78.63968639,  70.84550744,\n",
    "            88.91826581, 103.91474733,  66.3064638 ,  79.49726264,\n",
    "            70.81087439,  83.90130623,  87.58555972,  59.95462521])\n",
    "```\n"
   ]
  },
  {
   "cell_type": "markdown",
   "metadata": {},
   "source": [
    "## Numpy y estadísticas\n"
   ]
  },
  {
   "cell_type": "code",
   "execution_count": null,
   "metadata": {},
   "outputs": [],
   "source": [
    "import matplotlib.pyplot as plt\n",
    "import seaborn as sns\n",
    "\n",
    "sns.set()\n",
    "plt.hist(normal_array, color=\"grey\", bins=50)"
   ]
  },
  {
   "cell_type": "markdown",
   "metadata": {},
   "source": [
    "*Salida:*\n",
    "\n",
    "```text\n",
    "    (array([2., 0., 0., 0., 1., 2., 2., 0., 2., 0., 0., 1., 2., 2., 1., 4., 3.,\n",
    "            4., 2., 7., 2., 2., 5., 4., 2., 4., 3., 2., 1., 5., 3., 0., 3., 2.,\n",
    "            1., 0., 0., 1., 3., 0., 1., 0., 0., 0., 0., 0., 0., 0., 0., 1.]),\n",
    "     array([ 38.69307086,  40.37038529,  42.04769973,  43.72501417,\n",
    "             45.4023286 ,  47.07964304,  48.75695748,  50.43427191,\n",
    "             52.11158635,  53.78890079,  55.46621523,  57.14352966,\n",
    "             58.8208441 ,  60.49815854,  62.17547297,  63.85278741,\n",
    "             65.53010185,  67.20741628,  68.88473072,  70.56204516,\n",
    "             72.23935959,  73.91667403,  75.59398847,  77.27130291,\n",
    "             78.94861734,  80.62593178,  82.30324622,  83.98056065,\n",
    "             85.65787509,  87.33518953,  89.01250396,  90.6898184 ,\n",
    "             92.36713284,  94.04444727,  95.72176171,  97.39907615,\n",
    "             99.07639058, 100.75370502, 102.43101946, 104.1083339 ,\n",
    "            105.78564833, 107.46296277, 109.14027721, 110.81759164,\n",
    "            112.49490608, 114.17222052, 115.84953495, 117.52684939,\n",
    "            119.20416383, 120.88147826, 122.5587927 ]),\n",
    "     <a list of 50 Patch objects>)\n",
    "```\n"
   ]
  },
  {
   "cell_type": "markdown",
   "metadata": {},
   "source": [
    "## Matriz en numpy"
   ]
  },
  {
   "cell_type": "code",
   "execution_count": null,
   "metadata": {},
   "outputs": [],
   "source": [
    "four_by_four_matrix = np.matrix(np.ones((4,4), dtype=float))\n",
    "print(four_by_four_matrix)"
   ]
  },
  {
   "cell_type": "markdown",
   "metadata": {},
   "source": [
    "*Salida:*\n",
    "\n",
    "```text\n",
    "matrix([[1., 1., 1., 1.],\n",
    "            [1., 1., 1., 1.],\n",
    "            [1., 1., 1., 1.],\n",
    "            [1., 1., 1., 1.]])\n",
    "```\n"
   ]
  },
  {
   "cell_type": "code",
   "execution_count": null,
   "metadata": {},
   "outputs": [],
   "source": [
    "np.asarray(four_by_four_matrix)[2] = 2\n",
    "print(four_by_four_matrix)"
   ]
  },
  {
   "cell_type": "markdown",
   "metadata": {},
   "source": [
    "*Salida:*\n",
    "\n",
    "```text\n",
    "matrix([[1., 1., 1., 1.],\n",
    "            [1., 1., 1., 1.],\n",
    "            [2., 2., 2., 2.],\n",
    "            [1., 1., 1., 1.]])\n",
    "```\n"
   ]
  },
  {
   "cell_type": "markdown",
   "metadata": {},
   "source": [
    "---\n",
    "\n",
    "# Numpy numpy.arange()\n",
    "\n",
    "¿Qué es Organizar?\n",
    "\n",
    "A veces, desea crear valores que estén espaciados uniformemente dentro de un intervalo definido. Por ejemplo, desea crear valores del 1 al 10; puedes usar la función numpy.arange()\n",
    "\n",
    "### Creando una lista usando range(inicio, fin, paso)"
   ]
  },
  {
   "cell_type": "code",
   "execution_count": null,
   "metadata": {},
   "outputs": [],
   "source": [
    "lst = range(0, 11, 2)\n",
    "\n",
    "for l in lst:\n",
    "    print(l)"
   ]
  },
  {
   "cell_type": "markdown",
   "metadata": {},
   "source": [
    "*Salida:*\n",
    "\n",
    "```text\n",
    "    2\n",
    "    4\n",
    "    6\n",
    "    8\n",
    "    10\n",
    "```"
   ]
  },
  {
   "cell_type": "markdown",
   "metadata": {},
   "source": [
    "## Similar to range arange numpy.arange(start, stop, step)"
   ]
  },
  {
   "cell_type": "code",
   "execution_count": null,
   "metadata": {},
   "outputs": [],
   "source": [
    "whole_numbers = np.arange(0, 20, 1)\n",
    "print(whole_numbers)"
   ]
  },
  {
   "cell_type": "markdown",
   "metadata": {},
   "source": [
    "*Salida:*\n",
    "\n",
    "```text\n",
    "array([ 0,  1,  2,  3,  4,  5,  6,  7,  8,  9, 10, 11, 12, 13, 14, 15, 16,\n",
    "           17, 18, 19])\n",
    "```\n"
   ]
  },
  {
   "cell_type": "code",
   "execution_count": null,
   "metadata": {},
   "outputs": [],
   "source": [
    "natural_numbers = np.arange(1, 20, 1)\n",
    "print(natural_numbers)\n",
    "\n",
    "odd_numbers = np.arange(1, 20, 2)\n",
    "print(odd_numbers)"
   ]
  },
  {
   "cell_type": "markdown",
   "metadata": {},
   "source": [
    "*Salida:*\n",
    "\n",
    "```text\n",
    "[ 1  2  3  4  5  6  7  8  9 10 11 12 13 14 15 16 17 18 19]\n",
    "[ 1  3  5  7  9 11 13 15 17 19]\n",
    "```\n",
    "\n"
   ]
  },
  {
   "cell_type": "code",
   "execution_count": null,
   "metadata": {},
   "outputs": [],
   "source": [
    "even_numbers = np.arange(2, 20, 2)\n",
    "print(even_numbers)"
   ]
  },
  {
   "cell_type": "markdown",
   "metadata": {},
   "source": [
    "```text\n",
    " array([ 2,  4,  6,  8, 10, 12, 14, 16, 18]) \n",
    "```\n"
   ]
  },
  {
   "cell_type": "markdown",
   "metadata": {},
   "source": [
    "## Crear secuencia de números usando linspace"
   ]
  },
  {
   "cell_type": "code",
   "execution_count": null,
   "metadata": {},
   "outputs": [],
   "source": [
    "import numpy as np\n",
    "\n",
    "# numpy.linspace()\n",
    "# numpy.logspace() in Python with Example\n",
    "# For instance, it can be used to create 10 values from 1 to 5 evenly spaced.\n",
    "x = np.linspace(1.0, 5.0, num=10)\n",
    "print(x)\n"
   ]
  },
  {
   "cell_type": "markdown",
   "metadata": {},
   "source": [
    "```text\n",
    "    array([1.        , 1.44444444, 1.88888889, 2.33333333, 2.77777778,\n",
    "           3.22222222, 3.66666667, 4.11111111, 4.55555556, 5.        ])\n",
    "```\n"
   ]
  },
  {
   "cell_type": "code",
   "execution_count": null,
   "metadata": {},
   "outputs": [],
   "source": [
    "import numpy as np\n",
    "\n",
    "# not to include the last value in the interval\n",
    "x = np.linspace(1.0, 5.0, num=5, endpoint=False)\n",
    "print(x)"
   ]
  },
  {
   "cell_type": "markdown",
   "metadata": {},
   "source": [
    "*Salida:*\n",
    "\n",
    "```text\n",
    " array([1. , 1.8, 2.6, 3.4, 4.2]) \n",
    "```\n",
    "\n"
   ]
  },
  {
   "cell_type": "markdown",
   "metadata": {},
   "source": [
    "## LogSpace\n",
    "\n",
    "LogSpace genera números espaciados uniformemente en una escala logarítmica. Los parámetros de LogSpace son los mismos que los de np.linspace.\n",
    "\n",
    "*Sintaxis:*\n",
    "\n",
    "```python\n",
    "numpy.logspace(start, stop, num, endpoint)\n",
    "```\n",
    "\n"
   ]
  },
  {
   "cell_type": "code",
   "execution_count": null,
   "metadata": {},
   "outputs": [],
   "source": [
    "import numpy as np\n",
    "\n",
    "x = np.logspace(2, 4.0, num=4)\n",
    "print(x)\n",
    "print(x.itemsize)"
   ]
  },
  {
   "cell_type": "markdown",
   "metadata": {},
   "source": [
    "*Salida:*\n",
    "\n",
    "```text\n",
    " array([  100.        ,   464.15888336,  2154.43469003, 10000.        ])\n",
    "        8\n",
    "```\n"
   ]
  },
  {
   "cell_type": "markdown",
   "metadata": {},
   "source": [
    "## Indexación y Rebanado de Arreglos NumPy en Python"
   ]
  },
  {
   "cell_type": "code",
   "execution_count": null,
   "metadata": {},
   "outputs": [],
   "source": [
    "np_list = np.array([(1,2,3), (4,5,6)])\n",
    "print(np_list)"
   ]
  },
  {
   "cell_type": "markdown",
   "metadata": {},
   "source": [
    "*Salida:*\n",
    "\n",
    "```text\n",
    "    array([[1, 2, 3],\n",
    "           [4, 5, 6]])\n",
    "```\n"
   ]
  },
  {
   "cell_type": "code",
   "execution_count": null,
   "metadata": {},
   "outputs": [],
   "source": [
    "print('First row: ', np_list[0])\n",
    "print('Second row: ', np_list[1])"
   ]
  },
  {
   "cell_type": "markdown",
   "metadata": {},
   "source": [
    "*Salida:*\n",
    "\n",
    "```text\n",
    "First row:  [1 2 3]\n",
    "Second row:  [4 5 6]\n",
    "```\n"
   ]
  },
  {
   "cell_type": "code",
   "execution_count": null,
   "metadata": {},
   "outputs": [],
   "source": [
    "print('First column: ', np_list[:,0])\n",
    "print('Second column: ', np_list[:,1])\n",
    "print('Third column: ', np_list[:,2])"
   ]
  },
  {
   "cell_type": "markdown",
   "metadata": {},
   "source": [
    "*Salida:*\n",
    "\n",
    "```text\n",
    "First column:  [1 4]\n",
    "Second column:  [2 5]\n",
    "Third column:  [3 6]\n",
    "```\n"
   ]
  },
  {
   "cell_type": "markdown",
   "metadata": {},
   "source": [
    "---\n",
    "\n",
    "# Funciones estadísticas NumPy con ejemplo\n",
    "\n",
    "NumPy tiene funciones estadísticas bastante útiles para encontrar el mínimo, el máximo, la media, la mediana, el percentil, la desviación estándar y la varianza, etc. de los elementos dados en la matriz. Las funciones se explican a continuación: La función estadística Numpy está equipada con la función estadística robusta que se enumera a continuación.\n",
    "\n",
    "```text\n",
    "Funciones numéricas\n",
    "\n",
    "Min np.min()\n",
    "Max np.máx()\n",
    "Media np.mean()\n",
    "Mediana np.median()\n",
    "Varianza np.var()\n",
    "Percentil np.percentile()\n",
    "Desviación estándar np.std()\n",
    "```\n",
    "\n"
   ]
  },
  {
   "cell_type": "code",
   "execution_count": null,
   "metadata": {},
   "outputs": [],
   "source": [
    "np_normal_dis = np.random.normal(5, 0.5, 100)\n",
    "np_normal_dis\n",
    "\n",
    "## min, max, mean, median, sd\n",
    "print('min: ', two_dimension_array.min())\n",
    "print('max: ', two_dimension_array.max())\n",
    "print('mean: ',two_dimension_array.mean())\n",
    "# print('median: ', two_dimension_array.median())\n",
    "print('sd: ', two_dimension_array.std())"
   ]
  },
  {
   "cell_type": "markdown",
   "metadata": {},
   "source": [
    "*Salida:*\n",
    "\n",
    "```text\n",
    "min:  1\n",
    "max:  55\n",
    "mean:  14.777777777777779\n",
    "sd:  18.913709183069525\n",
    "```\n"
   ]
  },
  {
   "cell_type": "code",
   "execution_count": null,
   "metadata": {},
   "outputs": [],
   "source": [
    "print(two_dimension_array)\n",
    "print('Column with minimum: ', np.amin(two_dimension_array,axis=0))\n",
    "print('Column with maximum: ', np.amax(two_dimension_array,axis=0))\n",
    "print('=== Row ==')\n",
    "print('Row with minimum: ', np.amin(two_dimension_array,axis=1))\n",
    "print('Row with maximum: ', np.amax(two_dimension_array,axis=1))"
   ]
  },
  {
   "cell_type": "markdown",
   "metadata": {},
   "source": [
    "*Salida:*\n",
    "\n",
    "```text\n",
    "[[ 1  2  3]\n",
    " [ 4 55 44]\n",
    " [ 7  8  9]]\n",
    "Column with minimum:  [1 2 3]\n",
    "Column with maximum:  [ 7 55 44]\n",
    "=== Row ==\n",
    "Row with minimum:  [1 4 7]\n",
    "Row with maximum:  [ 3 55  9]\n",
    "```\n"
   ]
  },
  {
   "cell_type": "markdown",
   "metadata": {},
   "source": [
    "## ¿Cómo crear secuencias repetitivas?"
   ]
  },
  {
   "cell_type": "code",
   "execution_count": null,
   "metadata": {},
   "outputs": [],
   "source": [
    "a = [1,2,3]\n",
    "\n",
    "# Repeat whole of 'a' two times\n",
    "print('Tile:   ', np.tile(a, 2))\n",
    "\n",
    "# Repeat each element of 'a' two times\n",
    "print('Repeat: ', np.repeat(a, 2))"
   ]
  },
  {
   "cell_type": "markdown",
   "metadata": {},
   "source": [
    "*Salida:*\n",
    "\n",
    "```text\n",
    "Tile:    [1 2 3 1 2 3]\n",
    "Repeat:  [1 1 2 2 3 3]\n",
    "```\n"
   ]
  },
  {
   "cell_type": "markdown",
   "metadata": {},
   "source": [
    "## ¿Cómo generar números aleatorios?"
   ]
  },
  {
   "cell_type": "code",
   "execution_count": null,
   "metadata": {},
   "outputs": [],
   "source": [
    "# One random number between [0,1)\n",
    "one_random_num = np.random.random()\n",
    "one_random_in = np.random\n",
    "print(one_random_num)"
   ]
  },
  {
   "cell_type": "markdown",
   "metadata": {},
   "source": [
    "*Salida:*\n",
    "\n",
    "```text\n",
    " 0.6149403282678213 \n",
    "\n",
    " 0.4763968133790438 \n",
    "\n",
    " 0.4763968133790438 \n",
    "```\n"
   ]
  },
  {
   "cell_type": "code",
   "execution_count": null,
   "metadata": {},
   "outputs": [],
   "source": [
    "# Random numbers between [0,1) of shape 2,3\n",
    "r = np.random.random(size=[2,3])\n",
    "print(r)"
   ]
  },
  {
   "cell_type": "markdown",
   "metadata": {},
   "source": [
    "```text\n",
    "[[0.13031737 0.4429537  0.1129527 ]\n",
    " [0.76811539 0.88256594 0.6754075 ]]\n",
    "```\n"
   ]
  },
  {
   "cell_type": "code",
   "execution_count": null,
   "metadata": {},
   "outputs": [],
   "source": [
    "print(np.random.choice(['a', 'e', 'i', 'o', 'u'], size=10))"
   ]
  },
  {
   "cell_type": "markdown",
   "metadata": {},
   "source": [
    "*Salida:*\n",
    "\n",
    "```text\n",
    " ['u' 'o' 'o' 'i' 'e' 'e' 'u' 'o' 'u' 'a'] \n",
    " ['i' 'u' 'e' 'o' 'a' 'i' 'e' 'u' 'o' 'i'] \n",
    " ['iueoaieuoi'] \n",
    "```"
   ]
  },
  {
   "cell_type": "markdown",
   "metadata": {},
   "source": [
    "## Números aleatorios distribuidos uniformemente entre 0 y 1 con forma de matriz 2x2"
   ]
  },
  {
   "cell_type": "code",
   "execution_count": null,
   "metadata": {},
   "outputs": [],
   "source": [
    "rand = np.random.rand(2,2)\n",
    "print(rand)"
   ]
  },
  {
   "cell_type": "markdown",
   "metadata": {},
   "source": [
    "*Salida:*\n",
    "\n",
    "```text\n",
    "array([[0.97992598, 0.79642484],\n",
    "       [0.65263629, 0.55763145]])\n",
    "```"
   ]
  },
  {
   "cell_type": "code",
   "execution_count": null,
   "metadata": {},
   "outputs": [],
   "source": [
    "rand2 = np.random.randn(2,2)\n",
    "print(rand2)"
   ]
  },
  {
   "cell_type": "markdown",
   "metadata": {},
   "source": [
    "*Salida:*\n",
    "\n",
    "```text\n",
    "array([[ 1.65593322, -0.52326621],\n",
    "       [ 0.39071179, -2.03649407]])\n",
    "```"
   ]
  },
  {
   "cell_type": "markdown",
   "metadata": {},
   "source": [
    "## Números enteros aleatorios entre (0, 10) de forma 2,5"
   ]
  },
  {
   "cell_type": "code",
   "execution_count": null,
   "metadata": {},
   "outputs": [],
   "source": [
    "rand_int = np.random.randint(0, 10, size=[5,3])\n",
    "print(rand_int)"
   ]
  },
  {
   "cell_type": "markdown",
   "metadata": {},
   "source": [
    "*Salida:*\n",
    "\n",
    "```text\n",
    "array([[0, 7, 5],\n",
    "       [4, 1, 4],\n",
    "       [3, 5, 3],\n",
    "       [4, 3, 8],\n",
    "       [4, 6, 7]])\n",
    "```"
   ]
  },
  {
   "cell_type": "code",
   "execution_count": null,
   "metadata": {},
   "outputs": [],
   "source": [
    "from scipy import stats\n",
    "\n",
    "np_normal_dis = np.random.normal(5, 0.5, 1000) # mean, standard deviation, number of samples\n",
    "np_normal_dis\n",
    "\n",
    "## min, max, mean, median, sd\n",
    "print('min: ', np.min(np_normal_dis))\n",
    "print('max: ', np.max(np_normal_dis))\n",
    "print('mean: ', np.mean(np_normal_dis))\n",
    "print('median: ', np.median(np_normal_dis))\n",
    "print('mode: ', stats.mode(np_normal_dis))\n",
    "print('sd: ', np.std(np_normal_dis))"
   ]
  },
  {
   "cell_type": "markdown",
   "metadata": {},
   "source": [
    "*Salida:*\n",
    "\n",
    "```text\n",
    "    min:  3.557811005458804\n",
    "    max:  6.876317743643499\n",
    "    mean:  5.035832048106663\n",
    "    median:  5.020161980441937\n",
    "    mode:  ModeResult(mode=array([3.55781101]), count=array([1]))\n",
    "    sd:  0.489682424165213\n",
    "```\n"
   ]
  },
  {
   "cell_type": "code",
   "execution_count": null,
   "metadata": {},
   "outputs": [],
   "source": [
    "plt.hist(np_normal_dis, color=\"grey\", bins=21)\n",
    "plt.show()"
   ]
  },
  {
   "cell_type": "markdown",
   "metadata": {},
   "source": [
    "<img src='Imagenes/imagen_1.png'>"
   ]
  },
  {
   "cell_type": "markdown",
   "metadata": {},
   "source": [
    "---\n",
    "\n",
    "## Producto punto en Python usando NumPy\n",
    "\n",
    "### Producto punto\n",
    "\n",
    "NumPy es una biblioteca poderosa para el cálculo de matrices. Por ejemplo, puedes calcular el producto punto con `np.dot`.\n",
    "\n",
    "*Sintaxis:*\n",
    "\n",
    "```python\n",
    "numpy.dot(x, y, out=None)\n",
    "```\n"
   ]
  },
  {
   "cell_type": "markdown",
   "metadata": {},
   "source": [
    "---\n",
    "\n",
    "### Álgebra lineal\n",
    "\n",
    "1. Producto escalar\n",
    "\n",
    "Algebra linear\n",
    "\n",
    "*Producto punto: producto de dos arreglos*"
   ]
  },
  {
   "cell_type": "code",
   "execution_count": null,
   "metadata": {},
   "outputs": [],
   "source": [
    "f = np.array([1,2,3])\n",
    "g = np.array([4,5,3])\n",
    "### 1*4+2*5 + 3*6\n",
    "np.dot(f, g)  # 23"
   ]
  },
  {
   "cell_type": "markdown",
   "metadata": {},
   "source": [
    "### Multiplicación de matrices NumPy con np.matmul()\n",
    "\n",
    "*Producto matricial de dos matrices:*"
   ]
  },
  {
   "cell_type": "code",
   "execution_count": null,
   "metadata": {},
   "outputs": [],
   "source": [
    "h = [[1,2],[3,4]]\n",
    "i = [[5,6],[7,8]]\n",
    "\n",
    "### 1*5+2*7 = 19\n",
    "np.matmul(h, i)"
   ]
  },
  {
   "cell_type": "markdown",
   "metadata": {},
   "source": [
    "*Salida*:\n",
    "\n",
    "```text\n",
    "    array([[19, 22],\n",
    "           [43, 50]])\n",
    "```"
   ]
  },
  {
   "cell_type": "code",
   "execution_count": null,
   "metadata": {},
   "outputs": [],
   "source": [
    "np.linalg.det(i)"
   ]
  },
  {
   "cell_type": "markdown",
   "metadata": {},
   "source": [
    "*Salida:*\n",
    "\n",
    "```text\n",
    "-1.999999999999999\n",
    "```"
   ]
  },
  {
   "cell_type": "code",
   "execution_count": null,
   "metadata": {},
   "outputs": [],
   "source": [
    "Z = np.zeros((8,8))\n",
    "Z[1::2,::2] = 1\n",
    "Z[::2,1::2] = 1"
   ]
  },
  {
   "cell_type": "markdown",
   "metadata": {},
   "source": [
    "*Salida:*\n",
    "\n",
    "```text\n",
    "array([[0., 1., 0., 1., 0., 1., 0., 1.],\n",
    "       [1., 0., 1., 0., 1., 0., 1., 0.],\n",
    "       [0., 1., 0., 1., 0., 1., 0., 1.],\n",
    "       [1., 0., 1., 0., 1., 0., 1., 0.],\n",
    "       [0., 1., 0., 1., 0., 1., 0., 1.],\n",
    "       [1., 0., 1., 0., 1., 0., 1., 0.],\n",
    "       [0., 1., 0., 1., 0., 1., 0., 1.],\n",
    "       [1., 0., 1., 0., 1., 0., 1., 0.]])\n",
    "```\n"
   ]
  },
  {
   "cell_type": "code",
   "execution_count": null,
   "metadata": {},
   "outputs": [],
   "source": [
    "new_list = [ x + 2 for x in range(0, 11)]"
   ]
  },
  {
   "cell_type": "markdown",
   "metadata": {},
   "source": [
    "*Salida:*\n",
    "\n",
    "```text\n",
    "new_list\n",
    "[2, 3, 4, 5, 6, 7, 8, 9, 10, 11, 12]\n",
    "[2, 3, 4, 5, 6, 7, 8, 9, 10, 11, 12]\n",
    "[2, 3, 4, 5, 6, 7, 8, 9, 10, 11, 12]\n",
    "```\n"
   ]
  },
  {
   "cell_type": "code",
   "execution_count": null,
   "metadata": {},
   "outputs": [],
   "source": [
    "np_arr = np.array(range(0, 11))\n",
    "np_arr + 2"
   ]
  },
  {
   "cell_type": "markdown",
   "metadata": {},
   "source": [
    "*Salida:*\n",
    "\n",
    "```text\n",
    "matriz ([ 2, 3, 4, 5, 6, 7, 8, 9, 10, 11, 12])\n",
    "```\n"
   ]
  },
  {
   "cell_type": "markdown",
   "metadata": {},
   "source": [
    "Usamos ecuaciones lineales para cantidades que tienen una relación lineal.\n",
    "\n",
    "*Veamos el ejemplo a continuación:*"
   ]
  },
  {
   "cell_type": "code",
   "execution_count": null,
   "metadata": {},
   "outputs": [],
   "source": [
    "temp = np.array([1, 2, 3, 4, 5])\n",
    "pressure = temp * 2 + 5\n",
    "print(pressure)"
   ]
  },
  {
   "cell_type": "markdown",
   "metadata": {},
   "source": [
    "*Salida:*\n",
    "\n",
    "```text\n",
    "matriz ([ 7, 9, 11, 13, 15]) \n",
    "```\n"
   ]
  },
  {
   "cell_type": "code",
   "execution_count": null,
   "metadata": {},
   "outputs": [],
   "source": [
    "plt.plot(temp,pressure)\n",
    "plt.xlabel('Temperature in oC')\n",
    "plt.ylabel('Pressure in atm')\n",
    "plt.title('Temperature vs Pressure')\n",
    "plt.xticks(np.arange(0, 6, step=0.5))\n",
    "plt.show()"
   ]
  },
  {
   "cell_type": "markdown",
   "metadata": {},
   "source": [
    "<img src='Imagenes/imagen_2.png'>"
   ]
  },
  {
   "cell_type": "markdown",
   "metadata": {},
   "source": [
    "Para dibujar la distribución normal de Gauss usando numpy. Como puede ver a continuación, el numpy puede generar números aleatorios. \n",
    "Para crear una muestra aleatoria, necesitamos la media (mu), sigma (desviación estándar), número de puntos de datos."
   ]
  },
  {
   "cell_type": "code",
   "execution_count": null,
   "metadata": {},
   "outputs": [],
   "source": [
    "mu = 28\n",
    "sigma = 15\n",
    "samples = 100000\n",
    "\n",
    "x = np.random.normal(mu, sigma, samples)\n",
    "ax = sns.distplot(x);\n",
    "ax.set(xlabel=\"x\", ylabel='y')\n",
    "plt.show()"
   ]
  },
  {
   "cell_type": "markdown",
   "metadata": {},
   "source": [
    "<img src='Imagenes/imagen_3.png'>"
   ]
  },
  {
   "cell_type": "markdown",
   "metadata": {},
   "source": [
    "---\n",
    "\n",
    "# Resumen\n",
    "\n",
    "Para resumir, las principales diferencias con las listas de python son:\n",
    "\n",
    "* Las matrices admiten operaciones vectorizadas, mientras que las listas no.\n",
    "* Una vez que se crea una matriz, no puede cambiar su tamaño. Deberá crear una nueva matriz o sobrescribir la existente.\n",
    "* Cada matriz tiene uno y solo uno dtype. Todos los elementos que contiene deben ser de ese tipo.\n",
    "* Una matriz numpy equivalente ocupa mucho menos espacio que una lista de listas de Python.\n",
    "* Las matrices numpy admiten la indexación booleana."
   ]
  }
 ],
 "metadata": {
  "language_info": {
   "name": "python"
  }
 },
 "nbformat": 4,
 "nbformat_minor": 2
}
