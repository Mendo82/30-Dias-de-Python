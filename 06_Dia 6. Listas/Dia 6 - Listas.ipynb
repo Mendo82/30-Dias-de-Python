{
 "cells": [
  {
   "cell_type": "markdown",
   "metadata": {},
   "source": [
    "<span style=\"font-size: 2em; color: red\">30 Days de Python: Day 6 - Listas</span>\n",
    "\n",
    "---\n",
    "\n",
    "<span style=\"font-size: 1.5em; color: red\">Listas</span>\n",
    "\n",
    "La clase `list` en Python es una de las más utilizadas por su naturaleza, dinamismo, fácil manejo y potencia. Tengo que decir que el \n",
    "tipo lista de Python me sorprende gratamente y es uno de los grandes aciertos del lenguaje. Descubre en este tutorial qué es el tipo \n",
    "list y cuáles son sus operaciones más comunes para sacarle el máximo provecho.\n",
    "\n",
    "Las listas en Python son un tipo contenedor, compuesto, que se usan para almacenar conjuntos de elementos relacionados del mismo tipo \n",
    "o de tipos distintos.\n",
    "Junto a las clases tuple, range y str, son uno de los tipos de secuencia en Python, con la particularidad de que son mutables. \n",
    "Esto último quiere decir que su contenido se puede modificar después de haber sido creada.\n",
    "Para crear una lista en Python, simplemente hay que encerrar una secuencia de elementos separados por comas entre corchetes `[ ]`.\n",
    "\n",
    "Por ejemplo, para crear una lista con los números del 1 al 10 se haría del siguiente modo:"
   ]
  },
  {
   "cell_type": "code",
   "execution_count": null,
   "metadata": {},
   "outputs": [],
   "source": [
    "numeros = [1, 2, 3, 4, 5, 6, 7, 8, 9, 10]"
   ]
  },
  {
   "cell_type": "markdown",
   "metadata": {},
   "source": [
    "*Hay cuatro tipos de datos de colección en Python:*\n",
    "\n",
    "1. `Lista`: Es una colección ordenada y mutable (modificable). Permite elementos duplicados.\n",
    "\n",
    "2. `Tupla`: Es una colección ordenada e inmutable o (inmodificable). Permite elementos duplicados.\n",
    "\n",
    "3. `Set`: Es una colección desordenada, no indexada y no modificable, pero podemos agregar nuevos elementos al conjunto, no se permiten \n",
    "   elementos duplicados.\n",
    "\n",
    "4. `Diccionario`: Es una colección desordenada, mutable (modificable) e indexada. No hay elementos duplicados.\n",
    " \n",
    "Una lista es una colección de diferentes tipos de datos ordenados y modificables (`mutables`). \n",
    "\n",
    "Una lista puede estar vacía o puede tener diferentes elementos de tipo de datos.\n",
    "\n",
    "---\n",
    "\n",
    "<span style=\"font-size: 1.5em; color: grey\">Cómo crear una lista</span>\n",
    "\n",
    "En Python podemos crear listas de dos formas. "
   ]
  },
  {
   "cell_type": "markdown",
   "metadata": {},
   "source": [
    "#### 1. Usando la función incorporada de lista\n",
    "\n",
    "*Sintaxis:*"
   ]
  },
  {
   "cell_type": "code",
   "execution_count": null,
   "metadata": {},
   "outputs": [],
   "source": [
    "lista = list()\n",
    "\n",
    "lista_vacia = list()     # Esta es una lista vacía, no hay ningún elemento en la lista\n",
    "\n",
    "print(len(lista_vacia))  # 0"
   ]
  },
  {
   "cell_type": "markdown",
   "metadata": {},
   "source": [
    "#### 2. Usando corchetes, `[ ]`\n",
    "\n",
    "*Sintaxis:*"
   ]
  },
  {
   "cell_type": "code",
   "execution_count": null,
   "metadata": {},
   "outputs": [],
   "source": [
    "lista = []"
   ]
  },
  {
   "cell_type": "markdown",
   "metadata": {},
   "source": [
    "---\n",
    "\n",
    "<span style=\"font-size: 1.5em; color: grey\">Listas con valores iniciales. Usamos `len()` para conocer la longitud de una lista</span>"
   ]
  },
  {
   "cell_type": "code",
   "execution_count": null,
   "metadata": {},
   "outputs": [],
   "source": [
    "frutas = ['banana', 'orange', 'mango', 'lemon']                          # Lista de frutas\n",
    "vegetales = ['Tomato', 'Potato', 'Cabbage', 'Onion', 'Carrot']           # Lista de vegetales\n",
    "animal_products = ['milk', 'meat', 'butter', 'yoghurt']                  # Listas de alimentos de origen animal\n",
    "web_techs = ['HTML', 'CSS', 'JS', 'React','Redux', 'Node', 'MongDB']     # Lista de web tecnologicas\n",
    "ciudades = ['Finland', 'Estonia', 'Denmark', 'Sweden', 'Norway']         # Lista de ciudades"
   ]
  },
  {
   "cell_type": "markdown",
   "metadata": {},
   "source": [
    "<span style=\"font-size: 1.5em; color: grey\">Imprimir las listas y su longitud</span>\n",
    "\n",
    "*Ejemplo:*"
   ]
  },
  {
   "cell_type": "code",
   "execution_count": null,
   "metadata": {},
   "outputs": [],
   "source": [
    "print('frutas:', frutas)\n",
    "print('Numeros de frutas:', len(frutas))\n",
    "print('vegetales:', vegetales)\n",
    "print('Numeros de vegetales:', len(vegetales))\n",
    "print('Productos animales:',animal_products)\n",
    "print('Numeros de productos animales:', len(animal_products))\n",
    "print('Web technologies:', web_techs)\n",
    "print('Numeros de web technologies:', len(web_techs))\n",
    "print('Ciudades:', ciudades)\n",
    "print('Numeros de ciudades:', len(ciudades))"
   ]
  },
  {
   "cell_type": "markdown",
   "metadata": {},
   "source": [
    "*Salida:*\n",
    "\n",
    "```text\n",
    "frutas: ['banana', 'orange', 'mango', 'lemon']\n",
    "Numeros de frutas: 4\n",
    "vegetales: ['Tomato', 'Potato', 'Cabbage', 'Onion', 'Carrot']\n",
    "Numeros de vegetales: 5\n",
    "Productos animales: ['milk', 'meat', 'butter', 'yoghurt']\n",
    "Numeros de productos animales: 4\n",
    "Web technologies: ['HTML', 'CSS', 'JS', 'React', 'Redux', 'Node', 'MongDB']\n",
    "Numeros de web technologies: 7\n",
    "Ciudades: ['Finland', 'Estonia', 'Denmark', 'Sweden', 'Norway']\n",
    "Numeros de ciudades: 5\n",
    "```"
   ]
  },
  {
   "cell_type": "markdown",
   "metadata": {},
   "source": [
    "*Las listas pueden tener elementos de diferentes tipos de datos*\n",
    "\n",
    "*Ejemplo:*"
   ]
  },
  {
   "cell_type": "code",
   "execution_count": null,
   "metadata": {},
   "outputs": [],
   "source": [
    "lista = ['Asabeneh', 250, True, {'pais': 'Finland', 'ciudad': 'Helsinki'}]  # Lista que contiene diferentes tipos de datos"
   ]
  },
  {
   "cell_type": "markdown",
   "metadata": {},
   "source": [
    "---\n",
    "\n",
    "<span style=\"font-size: 1.5em; color: grey\">Acceder a los elementos de la lista mediante la indexación positiva</span>\n",
    "\n",
    "Accedemos a cada elemento de una lista utilizando su índice. El `índice` de una lista comienza por `0`."
   ]
  },
  {
   "cell_type": "code",
   "execution_count": null,
   "metadata": {},
   "outputs": [],
   "source": [
    "frutas = ['banana', 'orange', 'mango', 'lemon']\n",
    "primera_fruta = frutas[0] # Estamos accediendo al primer elemento usando su índice\n",
    "print(primera_fruta)      # banana\n",
    "segunda_fruta = frutas[1]\n",
    "print(segunda_fruta)      # orange\n",
    "ultima_fruta = frutas[3]\n",
    "print(ultima_fruta)       # lemon"
   ]
  },
  {
   "cell_type": "markdown",
   "metadata": {},
   "source": [
    "*Salida:*\n",
    "\n",
    "```text\n",
    "banana\n",
    "orange\n",
    "lemon\n",
    "```\n"
   ]
  },
  {
   "cell_type": "markdown",
   "metadata": {},
   "source": [
    "**Ultimo indice**"
   ]
  },
  {
   "cell_type": "code",
   "execution_count": 13,
   "metadata": {},
   "outputs": [],
   "source": [
    "ultimo_indice = len(frutas) - 1\n",
    "ultima_fruta = frutas[ultimo_indice]"
   ]
  },
  {
   "cell_type": "markdown",
   "metadata": {},
   "source": [
    "<span style=\"font-size: 1.5em; color: grey\">Acceder a los elementos de la lista mediante la indexación negativa</span>\n",
    "\n",
    "La indexación negativa significa comenzar desde el final, `-1` se refiere al último elemento, `-2` se refiere al penúltimo elemento."
   ]
  },
  {
   "cell_type": "code",
   "execution_count": null,
   "metadata": {},
   "outputs": [],
   "source": [
    "frutas = ['banana', 'orange', 'mango', 'lemon']\n",
    "\n",
    "primera_fruta = frutas[-4]\n",
    "ultima_fruta = frutas[-1]\n",
    "penultima = frutas[-2]\n",
    "\n",
    "print(primera_fruta)      # banana\n",
    "print(ultima_fruta)       # lemon\n",
    "print(penultima)          # mango"
   ]
  },
  {
   "cell_type": "markdown",
   "metadata": {},
   "source": [
    "*Salida:*\n",
    "\n",
    "```text\n",
    "banana\n",
    "lemon\n",
    "mango\n",
    "```\n"
   ]
  },
  {
   "cell_type": "markdown",
   "metadata": {},
   "source": [
    "---\n",
    "\n",
    "<span style=\"font-size: 1.5em; color: grey\">Desempaquetar elementos de la lista</span>"
   ]
  },
  {
   "cell_type": "code",
   "execution_count": null,
   "metadata": {},
   "outputs": [],
   "source": [
    "lista = ['elemento1','elemento2','elemento3', 'elemento4', 'elemento5']\n",
    "\n",
    "primer_elemento, segundo_elemento, tercer_elemento, *resto = lista\n",
    "\n",
    "print(primer_elemento)     # elemento1\n",
    "print(segundo_elemento)    # elemento2\n",
    "print(tercer_elemento)     # elemento3\n",
    "print(resto)               # ['elemento4', 'elemento5']"
   ]
  },
  {
   "cell_type": "markdown",
   "metadata": {},
   "source": [
    "*Salida:*\n",
    "\n",
    "```text\n",
    "elemento1\n",
    "elemento2\n",
    "elemento3\n",
    "['elemento4', 'elemento5']\n",
    "```\n"
   ]
  },
  {
   "cell_type": "markdown",
   "metadata": {},
   "source": [
    "*Primer ejemplo:*"
   ]
  },
  {
   "cell_type": "code",
   "execution_count": null,
   "metadata": {},
   "outputs": [],
   "source": [
    "frutas = ['banana', 'orange', 'mango', 'lemon', 'lime', 'apple']\n",
    "\n",
    "primera_fruta, segunda_fruta, tercera_fruta, *resto = lista\n",
    "\n",
    "print(primera_fruta)     # banana\n",
    "print(segunda_fruta)     # orange\n",
    "print(tercera_fruta)     # mango\n",
    "print(resto)             # ['lemon','lime','apple']"
   ]
  },
  {
   "cell_type": "markdown",
   "metadata": {},
   "source": [
    "*Salida:*\n",
    "\n",
    "```text\n",
    "elemento1\n",
    "elemento2\n",
    "elemento3\n",
    "['elemento4', 'elemento5']\n",
    "```\n"
   ]
  },
  {
   "cell_type": "markdown",
   "metadata": {},
   "source": [
    "*Segundo ejemplo sobre desempaquetar listas:*"
   ]
  },
  {
   "cell_type": "code",
   "execution_count": null,
   "metadata": {},
   "outputs": [],
   "source": [
    "primero, segundo, tercero,*resto, decimo = [1, 2, 3, 4, 5, 6, 7, 8, 9, 10]\n",
    "\n",
    "print(primero)          # 1\n",
    "print(segundo)          # 2\n",
    "print(tercero)          # 3\n",
    "print(resto)            # [4, 5, 6, 7, 8, 9]\n",
    "print(decimo)           # 10"
   ]
  },
  {
   "cell_type": "markdown",
   "metadata": {},
   "source": [
    "```text\n",
    "1\n",
    "2\n",
    "3\n",
    "[4, 5, 6, 7, 8, 9]\n",
    "10\n",
    "```\n"
   ]
  },
  {
   "cell_type": "markdown",
   "metadata": {},
   "source": [
    "*Tercer Ejemplo sobre desempaquetar listas:*"
   ]
  },
  {
   "cell_type": "code",
   "execution_count": null,
   "metadata": {},
   "outputs": [],
   "source": [
    "ciudades = ['Germany', 'France', 'Belgium', 'Sweden', 'Denmark', 'Finland', 'Norway', 'Iceland', 'Estonia']\n",
    "\n",
    "gr, fr, bg, sw, *scandic, es = ciudades\n",
    "\n",
    "print(gr)\n",
    "print(fr)\n",
    "print(bg)\n",
    "print(sw)\n",
    "print(scandic)\n",
    "print(es)"
   ]
  },
  {
   "cell_type": "markdown",
   "metadata": {},
   "source": [
    "```text\n",
    "Germany\n",
    "France\n",
    "Belgium\n",
    "Sweden\n",
    "['Denmark', 'Finland', 'Norway', 'Iceland']\n",
    "Estonia\n",
    "```\n"
   ]
  },
  {
   "cell_type": "markdown",
   "metadata": {},
   "source": [
    "---\n",
    "\n",
    "<span style=\"font-size: 1.5em; color: grey\">Rebanar elementos de una lista</span>\n",
    "\n",
    "**`Indexación positiva:`** podemos especificar un rango de índices positivos especificando el inicio, el final y el paso, el valor de \n",
    "retorno será una nueva lista. \n",
    "(valores predeterminados para \"`inicio = 0`\",  \"`final = len (lista) - 1 (último elemento)`\",  \"`paso = 1`\")"
   ]
  },
  {
   "cell_type": "code",
   "execution_count": 19,
   "metadata": {},
   "outputs": [],
   "source": [
    "frutas = ['banana', 'orange', 'mango', 'lemon']\n",
    "todas_las_frutas = frutas[0:4]  # Devuelve toda la lista de frutas"
   ]
  },
  {
   "cell_type": "markdown",
   "metadata": {},
   "source": [
    "Esto también dará el mismo resultado que el anterior."
   ]
  },
  {
   "cell_type": "code",
   "execution_count": 20,
   "metadata": {},
   "outputs": [],
   "source": [
    "todas_las_frutas = frutas[0:]       # Si no se establece dónde detenerse, toma todo lo demás\n",
    "orange_and_mango = frutas[1:3]      # No incluye el primer índice, el inidice [0]\n",
    "orange_mango_lemon = frutas[1:]\n",
    "orange_and_lemon = frutas[::2]      # Aquí utilizamos un tercer argumento, paso. Tomará cada segundo elemento - ['banana', 'mango']"
   ]
  },
  {
   "cell_type": "markdown",
   "metadata": {},
   "source": [
    "**`Indexación negativa:`** podemos especificar un rango de índices negativos especificando el inicio, el final y el paso, el valor de \n",
    "retorno será una nueva lista."
   ]
  },
  {
   "cell_type": "code",
   "execution_count": 8,
   "metadata": {},
   "outputs": [],
   "source": [
    "frutas = ['banana', 'orange', 'mango', 'lemon']\n",
    "todas_las_frutas = frutas[-4:]      # Devuelve todas las frutas de la lista\n",
    "orange_and_mango = frutas[-3:-1]    # Esto no incluye el ultimo elemento,['orange', 'mango']\n",
    "orange_mango_lemon = frutas[-3:]    # Esto devuelve desde -3 hasta el final,['orange', 'mango', 'lemon']\n",
    "inverso_frutas = frutas[::-1]       # Un paso negativo tomará la lista en orden inverso,['lemon', 'mango', 'orange', 'banana']"
   ]
  },
  {
   "cell_type": "markdown",
   "metadata": {},
   "source": [
    "---\n",
    "\n",
    "<span style=\"font-size: 1.5em; color: grey\">Modificación de listas</span>\n",
    "\n",
    "Las listas son una colección ordenada mutable o modificable de elementos. Vamos a modificar la lista de frutas."
   ]
  },
  {
   "cell_type": "code",
   "execution_count": null,
   "metadata": {},
   "outputs": [],
   "source": [
    "frutas = ['banana', 'orange', 'mango', 'lemon']\n",
    "frutas[0] = 'avocado'\n",
    "print(frutas)       #  ['avocado', 'orange', 'mango', 'lemon']\n",
    "\n",
    "frutas[1] = 'apple'\n",
    "print(frutas)       #  ['avocado', 'apple', 'mango', 'lemon']\n",
    "\n",
    "ultimo_indice = len(frutas) - 1\n",
    "frutas[ultimo_indice] = 'lime'\n",
    "print(frutas)       #  ['avocado', 'apple', 'mango', 'lime']"
   ]
  },
  {
   "cell_type": "markdown",
   "metadata": {},
   "source": [
    "*Salida:*\n",
    "\n",
    "```text\n",
    "['avocado', 'orange', 'mango', 'lemon']\n",
    "['avocado', 'apple', 'mango', 'lemon']\n",
    "['avocado', 'apple', 'mango', 'lime']\n",
    "```\n"
   ]
  },
  {
   "cell_type": "markdown",
   "metadata": {},
   "source": [
    "---\n",
    "\n",
    "<span style=\"font-size: 1.5em; color: grey\">Comprobación de elementos en una lista</span>\n",
    "\n",
    "Operador `in`: Comprueba si un elemento es miembro de una lista.\n",
    "\n",
    "*Ejemplo:*"
   ]
  },
  {
   "cell_type": "code",
   "execution_count": null,
   "metadata": {},
   "outputs": [],
   "source": [
    "frutas = ['banana', 'orange', 'mango', 'lemon']\n",
    "existe = 'banana' in frutas\n",
    "print(existe)  # True\n",
    "\n",
    "existe = 'lime' in frutas\n",
    "print(existe)  # False"
   ]
  },
  {
   "cell_type": "markdown",
   "metadata": {},
   "source": [
    "*Salida:*\n",
    "\n",
    "```text\n",
    "True\n",
    "False\n",
    "```\n"
   ]
  },
  {
   "cell_type": "markdown",
   "metadata": {},
   "source": [
    "---\n",
    "\n",
    "<span style=\"font-size: 1.5em; color: grey\">Añadir elementos al final de una lista</span>\n",
    "\n",
    "`append()`: Para agregar un elemento al final de una lista existente.\n",
    "\n",
    "*Sintaxis*:\n",
    "\n",
    "```python\n",
    "lista = list()\n",
    "lista.append(elemento)\n",
    "```\n",
    "\n",
    "*Ejemplo:*"
   ]
  },
  {
   "cell_type": "code",
   "execution_count": null,
   "metadata": {},
   "outputs": [],
   "source": [
    "frutas = ['banana', 'orange', 'mango', 'lemon']\n",
    "frutas.append('apple')\n",
    "print(frutas)           # ['banana', 'orange', 'mango', 'lemon', 'apple']\n",
    "\n",
    "frutas.append('lime')   # ['banana', 'orange', 'mango', 'lemon', 'apple', 'lime']\n",
    "print(frutas)"
   ]
  },
  {
   "cell_type": "markdown",
   "metadata": {},
   "source": [
    "*Salida:*\n",
    "\n",
    "```text\n",
    "['banana', 'orange', 'mango', 'lemon', 'apple']\n",
    "['banana', 'orange', 'mango', 'lemon', 'apple', 'lime']\n",
    "```\n"
   ]
  },
  {
   "cell_type": "markdown",
   "metadata": {},
   "source": [
    "---\n",
    "\n",
    "<span style=\"font-size: 1.5em; color: grey\">Insertar elementos en una lista</span>\n",
    "\n",
    "`insert()`: Para insertar un solo elemento en un índice específico en una lista.\n",
    "\n",
    "Tenga en cuenta que otros elementos se desplazan a la derecha. Los métodos insert() toman dos argumentos: Indice y un elemento para \n",
    "insertar. \n",
    "\n",
    "*Sintaxis:*\n",
    "\n",
    "```python\n",
    "lista = ['elemento1', 'elemento2']\n",
    "lista.insert(indice, elemento)\n",
    "```\n",
    "\n",
    "*Ejemplo:*"
   ]
  },
  {
   "cell_type": "code",
   "execution_count": null,
   "metadata": {},
   "outputs": [],
   "source": [
    "lista = ['elemento1', 'elemento2']\n",
    "lista.insert(0, 'elemento')\n",
    "print(lista)\n",
    "\n",
    "frutas = ['banana', 'orange', 'mango', 'lemon']\n",
    "frutas.insert(2, 'apple')   # Insertar apple entre orange y mango\n",
    "print(frutas)               # ['banana', 'orange', 'apple', 'mango', 'lemon']\n",
    "\n",
    "frutas.insert(3, 'lime')    # Insartar lime entre aple y mango\n",
    "print(frutas)               # ['banana', 'orange', 'apple', 'lime', 'mango', 'lemon']"
   ]
  },
  {
   "cell_type": "markdown",
   "metadata": {},
   "source": [
    "*Salida:*\n",
    "\n",
    "```text\n",
    "['elemento', 'elemento1', 'elemento2']\n",
    "['banana', 'orange', 'apple', 'mango', 'lemon']\n",
    "['banana', 'orange', 'apple', 'lime', 'mango', 'lemon']\n",
    "```\n"
   ]
  },
  {
   "cell_type": "markdown",
   "metadata": {},
   "source": [
    "---\n",
    "\n",
    "<span style=\"font-size: 1.5em; color: grey\">Eliminación de elementos de una lista</span>\n",
    "\n",
    "`remove()`: Elimina un elemento específico de una lista.\n",
    "\n",
    "*Sintaxis:*\n",
    "\n",
    "```python\n",
    "lista = ['elemento1', 'elemento2']\n",
    "lista.remove(elemento)\n",
    "```\n",
    "\n",
    "*Ejemplo:*"
   ]
  },
  {
   "cell_type": "code",
   "execution_count": null,
   "metadata": {},
   "outputs": [],
   "source": [
    "frutas = ['banana', 'orange', 'mango', 'lemon', 'banana']\n",
    "frutas.remove('banana')\n",
    "print(frutas)  # ['orange', 'mango', 'lemon', 'banana'] - Este método elimina la primera aparición del elemento en la lista\n",
    "\n",
    "frutas.remove('lemon')\n",
    "print(frutas)  # ['orange', 'mango', 'banana']"
   ]
  },
  {
   "cell_type": "markdown",
   "metadata": {},
   "source": [
    "*Salida:*\n",
    "\n",
    "```text\n",
    "['orange', 'mango', 'lemon', 'banana']\n",
    "['orange', 'mango', 'banana']\n",
    "```\n"
   ]
  },
  {
   "cell_type": "markdown",
   "metadata": {},
   "source": [
    "---\n",
    "\n",
    "<span style=\"font-size: 1.5em; color: grey\">Eliminación de elementos mediante `pop()`</span>\n",
    "\n",
    "`pop()`: Elimina el índice especificado (o el último elemento si no se especifica el índice).\n",
    "\n",
    "*Sintaxis:*\n",
    "\n",
    "```python\n",
    "lista = ['elemento1', 'elemento2']\n",
    "lista.pop()  # Elimina el ultimo elemento\n",
    "lista.pop(indice)\n",
    "```\n",
    "\n",
    "*Ejemplo:*"
   ]
  },
  {
   "cell_type": "code",
   "execution_count": null,
   "metadata": {},
   "outputs": [],
   "source": [
    "frutas = ['banana', 'orange', 'mango', 'lemon']\n",
    "\n",
    "frutas.pop()\n",
    "print(frutas)       # ['banana', 'orange', 'mango']\n",
    "\n",
    "frutas.pop(0)\n",
    "print(frutas)       # ['orange', 'mango']"
   ]
  },
  {
   "cell_type": "markdown",
   "metadata": {},
   "source": [
    "*Salida:*\n",
    "\n",
    "```text\n",
    "['banana', 'orange', 'mango']\n",
    "['orange', 'mango']\n",
    "```\n",
    "\n"
   ]
  },
  {
   "cell_type": "markdown",
   "metadata": {},
   "source": [
    "---\n",
    "\n",
    "<span style=\"font-size: 1.5em; color: grey\">Eliminación de elementos mediante `del`</span>\n",
    "\n",
    "`del`: La palabra clave del elimina el índice especificado y también se puede usar para eliminar elementos dentro del rango del índice. \n",
    "También puede eliminar la lista por completo.\n",
    "\n",
    "*Sintaxis:*\n",
    "\n",
    "```python\n",
    "lista = ['elemento1', 'elemento2']\n",
    "del lista[indice]   # Elimina solo un unico elemento\n",
    "del lista           # Elimina la lista completamente\n",
    "```\n",
    "\n",
    "*Ejemplo:*"
   ]
  },
  {
   "cell_type": "code",
   "execution_count": null,
   "metadata": {},
   "outputs": [],
   "source": [
    "frutas = ['banana', 'orange', 'mango', 'lemon', 'kiwi', 'lime']\n",
    "\n",
    "del frutas[0]\n",
    "print(frutas)       # ['orange', 'mango', 'lemon', 'kiwi', 'lime']\n",
    "del frutas[1]\n",
    "print(frutas)       # ['orange', 'lemon', 'kiwi', 'lime']\n",
    "del frutas[1:3]     # Esto elimina los elementos entre los índices dados, ¡así que no elimina el elemento con el índice 3!\n",
    "print(frutas)       # ['orange', 'lime']\n",
    "del frutas\n",
    "print(frutas)       # Esto daria: NameError: name 'frutas' is not defined"
   ]
  },
  {
   "cell_type": "markdown",
   "metadata": {},
   "source": [
    "*Salida:*\n",
    "\n",
    "```text\n",
    "['orange', 'mango', 'lemon', 'kiwi', 'lime']\n",
    "['orange', 'lemon', 'kiwi', 'lime']\n",
    "['orange', 'lime']\n",
    "---------------------------------------------------------------------------\n",
    "NameError                                 Traceback (most recent call last)\n",
    "Cell In[2], line 10\n",
    "      8 print(frutas)       # ['orange', 'lime']\n",
    "      9 del frutas\n",
    "---> 10 print(frutas)       # Esto daria: NameError: name 'frutas' is not defined\n",
    "\n",
    "NameError: name 'frutas' is not defined\n",
    "```\n"
   ]
  },
  {
   "cell_type": "markdown",
   "metadata": {},
   "source": [
    "---\n",
    "\n",
    "<span style=\"font-size: 1.5em; color: grey\">Vaciar una lista</span>\n",
    "\n",
    "`clear()`: Vacía la lista.\n",
    "\n",
    "*Sintaxis:*\n",
    "\n",
    "```python\n",
    "lista = ['elemento1', 'elemento2']\n",
    "lista.clear()\n",
    "```\n",
    "\n",
    "*Ejemplo:*"
   ]
  },
  {
   "cell_type": "code",
   "execution_count": null,
   "metadata": {},
   "outputs": [],
   "source": [
    "frutas = ['banana', 'orange', 'mango', 'lemon']\n",
    "frutas.clear()\n",
    "\n",
    "print(frutas)  # []"
   ]
  },
  {
   "cell_type": "markdown",
   "metadata": {},
   "source": [
    "*Salida:*\n",
    "\n",
    "```text\n",
    "[]\n",
    "```\n"
   ]
  },
  {
   "cell_type": "markdown",
   "metadata": {},
   "source": [
    "---\n",
    "\n",
    "<span style=\"font-size: 1.5em; color: grey\">Copiar una lista</span>\n",
    "\n",
    "Es posible copiar una lista reasignándola a una nueva variable de la siguiente forma:\n",
    "\n",
    "lista2 = lista1. Ahora, list2 es una referencia de list1, cualquier cambio que hagamos en list2 también modificará el original, \n",
    "list1. Pero hay muchos casos en los que no nos gusta modificar el original sino que nos gusta tener una copia diferente. Una forma de \n",
    "evitar el problema anterior es usar copy().\n",
    "\n",
    "`copy()`\n",
    "\n",
    "*Sintaxis:*\n",
    "\n",
    "```python\n",
    "lista = ['elemento1', 'elemento2']\n",
    "lista_copy = lista.copy()\n",
    "```\n",
    "\n",
    "*Ejemplo:*"
   ]
  },
  {
   "cell_type": "code",
   "execution_count": null,
   "metadata": {},
   "outputs": [],
   "source": [
    "frutas = ['banana', 'orange', 'mango', 'lemon']\n",
    "frutas_copy = frutas.copy()\n",
    "\n",
    "print(frutas_copy)       # ['banana', 'orange', 'mango', 'lemon']"
   ]
  },
  {
   "cell_type": "markdown",
   "metadata": {},
   "source": [
    "*Salida:*\n",
    "\n",
    "```text\n",
    "['banana', 'orange', 'mango', 'lemon']\n",
    "```\n"
   ]
  },
  {
   "cell_type": "markdown",
   "metadata": {},
   "source": [
    "---\n",
    "\n",
    "<span style=\"font-size: 1.5em; color: grey\">Unir listas</span>\n",
    "\n",
    "Hay varias formas de unir o concatenar dos o más listas en Python. Con el operador más (+).\n",
    "\n",
    "*Sintaxis:*\n",
    "\n",
    "```python\n",
    "list3 = list1 + list2\n",
    "```\n",
    "\n",
    "*Ejemplo:*"
   ]
  },
  {
   "cell_type": "code",
   "execution_count": null,
   "metadata": {},
   "outputs": [],
   "source": [
    "numeros_Positivos = [1, 2, 3, 4, 5]\n",
    "zero = [0]\n",
    "numeros_Negativos = [-5, -4, -3, -2, -1]\n",
    "enteros = numeros_Negativos + zero + numeros_Positivos\n",
    "\n",
    "print(enteros)  # [-5, -4, -3, -2, -1, 0, 1, 2, 3, 4, 5]\n",
    "\n",
    "frutas = ['banana', 'orange', 'mango', 'lemon']\n",
    "vegetales = ['Tomato', 'Potato', 'Cabbage', 'Onion', 'Carrot']\n",
    "frutas_and_vegetales = frutas + vegetales\n",
    "\n",
    "print(frutas_and_vegetales )  # ['banana', 'orange', 'mango', 'lemon', 'Tomato', 'Potato', 'Cabbage', 'Onion', 'Carrot']"
   ]
  },
  {
   "cell_type": "markdown",
   "metadata": {},
   "source": [
    "*Salida:*\n",
    "\n",
    "```text\n",
    "[-5, -4, -3, -2, -1, 0, 1, 2, 3, 4, 5]\n",
    "['banana', 'orange', 'mango', 'lemon', 'Tomato', 'Potato', 'Cabbage', 'Onion', 'Carrot']\n",
    "```\n"
   ]
  },
  {
   "cell_type": "markdown",
   "metadata": {},
   "source": [
    "---\n",
    "\n",
    "<span style=\"font-size: 1.5em; color: grey\">Extender listas</span>\n",
    "\n",
    "*`extend()`*: Permite agregar una lista en una lista.\n",
    "\n",
    "*Sintaxis:*\n",
    "\n",
    "```python\n",
    "list1 = ['elemento1', 'elemento2']\n",
    "list2 = ['elemento3', 'elemento4', 'elemento5']\n",
    "list1.extend(list2)\n",
    "```\n",
    "\n",
    "*Ejemplo:*"
   ]
  },
  {
   "cell_type": "code",
   "execution_count": null,
   "metadata": {},
   "outputs": [],
   "source": [
    "num1 = [0, 1, 2, 3]\n",
    "num2= [4, 5, 6]\n",
    "num1.extend(num2)\n",
    "\n",
    "print('Numeros:', num1)  # Numeros: [0, 1, 2, 3, 4, 5, 6]\n",
    "\n",
    "numeros_Negativos = [-5, -4, -3, -2, -1]\n",
    "numeros_Positivos = [1, 2, 3, 4, 5]\n",
    "zero = [0]\n",
    "\n",
    "numeros_Negativos.extend(zero)\n",
    "numeros_Negativos.extend(numeros_Positivos)\n",
    "\n",
    "print('Enteros:', numeros_Negativos)  # Enteros: [-5, -4, -3, -2, -1, 0, 1, 2, 3, 4, 5]\n",
    "\n",
    "frutas = ['banana', 'orange', 'mango', 'lemon']\n",
    "vegetales = ['Tomato', 'Potato', 'Cabbage', 'Onion', 'Carrot']\n",
    "frutas.extend(vegetales)\n",
    "\n",
    "print('frutas and vegetales:', frutas ) \n",
    "# frutas and vegetales: ['banana', 'orange', 'mango', 'lemon', 'Tomato', 'Potato', Cabbage', 'Onion', 'Carrot']"
   ]
  },
  {
   "cell_type": "markdown",
   "metadata": {},
   "source": [
    "*Salida:*\n",
    "\n",
    "```text\n",
    "Numeros: [0, 1, 2, 3, 4, 5, 6]\n",
    "Enteros: [-5, -4, -3, -2, -1, 0, 1, 2, 3, 4, 5]\n",
    "frutas and vegetales: ['banana', 'orange', 'mango', 'lemon', 'Tomato', 'Potato', 'Cabbage', 'Onion', 'Carrot']\n",
    "```\n"
   ]
  },
  {
   "cell_type": "markdown",
   "metadata": {},
   "source": [
    "---\n",
    "\n",
    "<span style=\"font-size: 1.5em; color: grey\">Contar elementos en una lista</span>\n",
    "\n",
    "*`count()`:* Devuelve el número de veces que aparece un elemento en una lista.\n",
    "\n",
    "*Sintaxis:*\n",
    "\n",
    "```python\n",
    "lista = ['elemento1', 'elemento2']\n",
    "lista.count(elemento)\n",
    "```\n",
    "\n",
    "*Ejemplo:*"
   ]
  },
  {
   "cell_type": "code",
   "execution_count": null,
   "metadata": {},
   "outputs": [],
   "source": [
    "frutas = ['banana', 'orange', 'mango', 'lemon']\n",
    "\n",
    "print(frutas.count('orange'))   # 1\n",
    "\n",
    "edades = [22, 19, 24, 25, 26, 24, 25, 24]\n",
    "\n",
    "print(edades.count(24))         # 3"
   ]
  },
  {
   "cell_type": "markdown",
   "metadata": {},
   "source": [
    "*Salida:*\n",
    "\n",
    "```text\n",
    "1\n",
    "3\n",
    "```\n"
   ]
  },
  {
   "cell_type": "markdown",
   "metadata": {},
   "source": [
    "---\n",
    "\n",
    "<span style=\"font-size: 1.5em; color: grey\">Encontrar el índice de un artículo</span>\n",
    "\n",
    "*`index():`* Devuelve el índice de un elemento de la lista.\n",
    "\n",
    "*Sintaxis:*\n",
    "\n",
    "```python\n",
    "lista = ['elemento1', 'elemento2']\n",
    "lista.index(elemento)\n",
    "```\n",
    "\n",
    "*Ejemplo:*"
   ]
  },
  {
   "cell_type": "code",
   "execution_count": null,
   "metadata": {},
   "outputs": [],
   "source": [
    "frutas = ['banana', 'orange', 'mango', 'lemon']\n",
    "\n",
    "print(frutas.index('orange'))       # 1\n",
    "\n",
    "edades = [22, 19, 24, 25, 26, 24, 25, 24]\n",
    "\n",
    "print(edades.index(24))             # 2, la primera ocurrencia"
   ]
  },
  {
   "cell_type": "markdown",
   "metadata": {},
   "source": [
    "*Salida:*\n",
    "\n",
    "```text\n",
    "1\n",
    "2\n",
    "```\n"
   ]
  },
  {
   "cell_type": "markdown",
   "metadata": {},
   "source": [
    "---\n",
    "\n",
    "<span style=\"font-size: 1.5em; color: grey\">Invertir una lista</span>\n",
    "\n",
    "*`reverse()`*: Invierte el orden de una lista.\n",
    "\n",
    "*Sintaxis:*\n",
    "\n",
    "```python\n",
    "lista = ['elemento1', 'elemento2']\n",
    "lista.reverse()\n",
    "```\n",
    "\n",
    "*Ejemplo:*"
   ]
  },
  {
   "cell_type": "code",
   "execution_count": null,
   "metadata": {},
   "outputs": [],
   "source": [
    "frutas = ['banana', 'orange', 'mango', 'lemon']\n",
    "frutas.reverse()\n",
    "\n",
    "print(frutas)  # ['lemon', 'mango', 'orange', 'banana']\n",
    "\n",
    "edades = [22, 19, 24, 25, 26, 24, 25, 24]\n",
    "edades.reverse()\n",
    "\n",
    "print(edades)  # [24, 25, 24, 26, 25, 24, 19, 22]"
   ]
  },
  {
   "cell_type": "markdown",
   "metadata": {},
   "source": [
    "*Salida:*\n",
    "\n",
    "```text\n",
    "['lemon', 'mango', 'orange', 'banana']\n",
    "[24, 25, 24, 26, 25, 24, 19, 22]\n",
    "```\n"
   ]
  },
  {
   "cell_type": "markdown",
   "metadata": {},
   "source": [
    "---\n",
    "\n",
    "<span style=\"font-size: 1.5em; color: grey\">Clasificación de elementos de la lista</span>\n",
    "\n",
    "Para ordenar listas, podemos usar el método `sort()` o las funciones integradas `sorted()`. \n",
    "El método `sort()` reordena los elementos de la lista en orden ascendente y modifica la lista original. \n",
    "Si un argumento del método `sort()` `reverse` es igual a `True`, ordenará la lista en orden descendente.\n",
    "\n",
    "*`sort()`*: Este método modifica la lista original, la ordena.\n",
    "\n",
    "*Sintaxis:*\n",
    "\n",
    "```python\n",
    "lista = ['elemento1', 'elemento2']\n",
    "lista.sort()              # Ascendente\n",
    "lista.sort(reverse=True)  # Descendente\n",
    "```\n",
    "\n",
    "*Ejemplo:*"
   ]
  },
  {
   "cell_type": "code",
   "execution_count": null,
   "metadata": {},
   "outputs": [],
   "source": [
    "frutas = ['banana', 'orange', 'mango', 'lemon']\n",
    "frutas.sort()\n",
    "print(frutas)             # Ordenados en orden alfabético, ['banana', 'lemon', 'mango', 'orange']\n",
    "\n",
    "frutas.sort(reverse=True)\n",
    "print(frutas)             # ['orange', 'mango', 'lemon', 'banana']\n",
    "\n",
    "edades = [22, 19, 24, 25, 26, 24, 25, 24]\n",
    "edades.sort()\n",
    "print(edades)             # [19, 22, 24, 24, 24, 25, 25, 26]\n",
    "\n",
    "edades.sort(reverse=True)\n",
    "print(edades)             # [26, 25, 25, 24, 24, 24, 22, 19]"
   ]
  },
  {
   "cell_type": "markdown",
   "metadata": {},
   "source": [
    "*Salida:*\n",
    "\n",
    "```text\n",
    "['banana', 'lemon', 'mango', 'orange']\n",
    "['orange', 'mango', 'lemon', 'banana']\n",
    "[19, 22, 24, 24, 24, 25, 25, 26]\n",
    "[26, 25, 25, 24, 24, 24, 22, 19]\n",
    "```\n"
   ]
  },
  {
   "cell_type": "markdown",
   "metadata": {},
   "source": [
    "*`sorted()`*: Devuelve la lista ordenada sin modificar la lista original.\n",
    "\n",
    "*Ejemplo:*"
   ]
  },
  {
   "cell_type": "code",
   "execution_count": null,
   "metadata": {},
   "outputs": [],
   "source": [
    "frutas = ['banana', 'orange', 'mango', 'lemon']\n",
    "print(sorted(frutas))     # ['banana', 'lemon', 'mango', 'orange']\n",
    "\n",
    "# Orden inverso\n",
    "frutas = ['banana', 'orange', 'mango', 'lemon']\n",
    "frutas = sorted(frutas, reverse=True)\n",
    "print(frutas) # ['orange', 'mango', 'lemon', 'banana']"
   ]
  },
  {
   "cell_type": "markdown",
   "metadata": {},
   "source": [
    "*Salida:*\n",
    "\n",
    "```text\n",
    "['banana', 'lemon', 'mango', 'orange']\n",
    "['orange', 'mango', 'lemon', 'banana']\n",
    "```\n"
   ]
  }
 ],
 "metadata": {
  "kernelspec": {
   "display_name": "Python 3",
   "language": "python",
   "name": "python3"
  },
  "language_info": {
   "codemirror_mode": {
    "name": "ipython",
    "version": 3
   },
   "file_extension": ".py",
   "mimetype": "text/x-python",
   "name": "python",
   "nbconvert_exporter": "python",
   "pygments_lexer": "ipython3",
   "version": "3.11.7"
  },
  "orig_nbformat": 4
 },
 "nbformat": 4,
 "nbformat_minor": 2
}
