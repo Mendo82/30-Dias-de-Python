{
 "cells": [
  {
   "cell_type": "markdown",
   "metadata": {},
   "source": [
    "<font size=6 color=red>Ejercicios - Día 12</font>\n",
    "\n",
    "---"
   ]
  },
  {
   "cell_type": "markdown",
   "metadata": {},
   "source": [
    "## Ejercicios: Nivel 1\n",
    "\n",
    "1. Declara una función suma_dos_números. Toma dos parámetros y devuelve una suma."
   ]
  },
  {
   "cell_type": "code",
   "execution_count": null,
   "metadata": {},
   "outputs": [],
   "source": [
    "def suma_dos_numeros(x, y):\n",
    "    suma = x + y\n",
    "    return suma\n",
    "\n",
    "\n",
    "print(suma_dos_numeros(5, 5))"
   ]
  },
  {
   "cell_type": "markdown",
   "metadata": {},
   "source": [
    "---\n",
    "\n",
    "2. El área de un círculo se calcula de la siguiente manera:\n",
    "\n",
    "```python\n",
    "área = π * r * r\n",
    "```\n",
    "\n",
    "Escribe una función que calcule area_of_circle."
   ]
  },
  {
   "cell_type": "code",
   "execution_count": null,
   "metadata": {},
   "outputs": [],
   "source": [
    "def area_of_circle(radio):\n",
    "    PI = 3.14\n",
    "    area = PI * radio * radio\n",
    "    return area\n",
    "\n",
    "\n",
    "print(area_of_circle(10))"
   ]
  },
  {
   "cell_type": "markdown",
   "metadata": {},
   "source": [
    "---\n",
    "\n",
    "3. Escriba una función llamada add_all_nums que tome un número arbitrario de argumentos y los sume todos. Compruebe si todos los elementos de la lista son tipos de números. Si no, dé una respuesta razonable."
   ]
  },
  {
   "cell_type": "code",
   "execution_count": null,
   "metadata": {},
   "outputs": [],
   "source": [
    "def add_all_nums(*args):\n",
    "    if all(isinstance(arg, (int, float)) for arg in args):\n",
    "        return sum(args)\n",
    "    else:\n",
    "        return \"Todos los elementos deben ser números\"\n",
    "\n",
    "\n",
    "print(add_all_nums(1, 2, 3, 4, 5))"
   ]
  },
  {
   "cell_type": "markdown",
   "metadata": {},
   "source": [
    "La función add_all_nums toma un número arbitrario de argumentos mediante el uso de *args. Luego, utiliza una comprensión de lista y la función isinstance() para verificar si todos los argumentos son instancias de int o float. Si es así, la función devuelve la suma de todos los argumentos mediante la función sum(). Si no, se devuelve un mensaje de error indicando que todos los elementos deben ser números."
   ]
  },
  {
   "cell_type": "markdown",
   "metadata": {},
   "source": [
    "---\n",
    "\n",
    "4. La temperatura en °C se puede convertir a °F usando esta fórmula:\n",
    "\n",
    "```text\n",
    "°F = (°C * 9/5) + 32\n",
    "```\n",
    "\n",
    "Escribe una función que convierta °C a °F, convert_celsius_to_fahrenheit"
   ]
  },
  {
   "cell_type": "code",
   "execution_count": null,
   "metadata": {},
   "outputs": [],
   "source": [
    "def convert_celsius_to_fahrenheit(c):\n",
    "    fahrenheit = (c * 9 / 5) + 32\n",
    "    return fahrenheit\n",
    "\n",
    "\n",
    "print(convert_celsius_to_fahrenheit(30))"
   ]
  },
  {
   "cell_type": "markdown",
   "metadata": {},
   "source": [
    "---\n",
    "\n",
    "5. Escribe una función llamada check_temporada, toma un parámetro de mes y devuelve la estación: Otoño, Invierno, Primavera o Verano."
   ]
  },
  {
   "cell_type": "code",
   "execution_count": null,
   "metadata": {},
   "outputs": [],
   "source": [
    "def check_temporada(mes):\n",
    "    if mes in ('enero', 'febrero', 'marzo'):\n",
    "        return \"Invierno\"\n",
    "    elif mes in ('abril', 'mayo', 'junio'):\n",
    "        return \"Primavera\"\n",
    "    elif mes in ('julio', 'agosto', 'septiembre'):\n",
    "        return \"Verano\"\n",
    "    elif mes in ('octubre', 'noviembre', 'diciembre'):\n",
    "        return \"Otoño\"\n",
    "    else:\n",
    "        return \"Mes no válido\"\n",
    "\n",
    "\n",
    "print(check_temporada('enero'))"
   ]
  },
  {
   "cell_type": "markdown",
   "metadata": {},
   "source": [
    "---\n",
    "\n",
    "6. Escriba una función llamada calcular_pendiente que devuelva la pendiente de una ecuación lineal."
   ]
  },
  {
   "cell_type": "code",
   "execution_count": null,
   "metadata": {},
   "outputs": [],
   "source": [
    "def calcular_pendiente(y2, y1, x2, x1):\n",
    "    pendiente = (y2 - y1) / (x2 - x1)\n",
    "    return pendiente\n",
    "\n",
    "\n",
    "print(calcular_pendiente(3, 7, 8, 9))"
   ]
  },
  {
   "cell_type": "markdown",
   "metadata": {},
   "source": [
    "---\n",
    "\n",
    "7. La ecuación cuadrática se calcula de la siguiente manera:\n",
    "\n",
    "```text\n",
    "ax² + bx + c = 0\n",
    "```\n",
    "\n",
    "\n",
    "Escriba una función que calcule el conjunto de soluciones de una ecuación cuadrática, solve_quadratic_eqn"
   ]
  },
  {
   "cell_type": "code",
   "execution_count": null,
   "metadata": {},
   "outputs": [],
   "source": [
    "import math\n",
    "\n",
    "\n",
    "def solve_quadratic_eqn(a, b, c):\n",
    "    if a == 0:\n",
    "        return \"La ecuación no es cuadrática\"\n",
    "    else:\n",
    "        discriminante = b ** 2 - 4 * a * c\n",
    "        if discriminante < 0:\n",
    "            return \"La ecuación no tiene solución real\"\n",
    "        elif discriminante == 0:\n",
    "            x = -b / (2 * a)\n",
    "            return x\n",
    "        else:\n",
    "            x1 = (-b + math.sqrt(discriminante)) / (2 * a)\n",
    "            x2 = (-b - math.sqrt(discriminante)) / (2 * a)\n",
    "            return x1, x2\n",
    "\n",
    "\n",
    "print(solve_quadratic_eqn(5, 4, 3))\n"
   ]
  },
  {
   "cell_type": "markdown",
   "metadata": {},
   "source": [
    "La función solve_quadratic_eqn toma 3 argumentos: a, b y c, que representan los coeficientes de la ecuación cuadrática ax² + bx + c = 0. Utiliza la fórmula\n",
    "general para calcular las soluciones de una ecuación cuadrática\n",
    "\n",
    "```text\n",
    "x = (-b ± √(b² - 4ac))/ 2a\n",
    "```\n",
    "\n",
    "\n",
    "Primero, verifica si a es cero para asegurarse de que la ecuación es cuadrática, de lo contrario devuelve un mensaje de error \"La ecuación no es cuadrática\". Luego, calcula el discriminante (b²-4ac) para determinar el número de soluciones reales. Si el discriminante es menor que cero, devuelve un mensaje de error \"La ecuación no tiene solución real\" ya que las soluciones son imaginarias. Si el discriminante es igual a cero, devuelve una sola solución (x1 = x2) y si es mayor a cero, devuelve dos soluciones distintas."
   ]
  },
  {
   "cell_type": "markdown",
   "metadata": {},
   "source": [
    "---\n",
    "\n",
    "8. Declare una función llamada print_list. Toma una lista como parámetro e imprime cada elemento de la lista."
   ]
  },
  {
   "cell_type": "code",
   "execution_count": null,
   "metadata": {},
   "outputs": [],
   "source": [
    "def print_list(lista):\n",
    "    for elemento in lista:\n",
    "        print(elemento)\n",
    "\n",
    "\n",
    "print_list([1, 2, 3, 4, 5, 6, 7, 8, 9, 10])"
   ]
  },
  {
   "cell_type": "markdown",
   "metadata": {},
   "source": [
    "---\n",
    "\n",
    "9. Declare una función llamada lista_inversa. Toma una matriz como parámetro y devuelve el reverso de la matriz (uso de bucles).\n",
    "\n",
    "```python\n",
    "print(reverse_list([1, 2, 3, 4, 5]))\n",
    "# [5, 4, 3, 2, 1]\n",
    "print(reverse_list1([\"A\", \"B\", \"C\"]))\n",
    "# [\"C\", \"B\", \"A\"]\n",
    "```\n"
   ]
  },
  {
   "cell_type": "code",
   "execution_count": null,
   "metadata": {},
   "outputs": [],
   "source": [
    "def reverse_list(matrix):\n",
    "    reversed_list = []\n",
    "    for i in range(len(matrix) - 1, -1, -1):\n",
    "        reversed_list.append(matrix[i])\n",
    "    return reversed_list\n",
    "\n",
    "\n",
    "print(reverse_list([1, 2, 3, 4, 5]))\n",
    "# [5, 4, 3, 2, 1]\n",
    "print(reverse_list([\"A\", \"B\", \"C\"]))\n",
    "# [\"C\", \"B\", \"A\"]"
   ]
  },
  {
   "cell_type": "markdown",
   "metadata": {},
   "source": [
    "---\n",
    "\n",
    "10. Declare una función llamada capitalize_list_items. Toma una lista como parámetro y devuelve una lista de elementos en mayúscula."
   ]
  },
  {
   "cell_type": "code",
   "execution_count": null,
   "metadata": {},
   "outputs": [],
   "source": [
    "def capitalize_list_items(lst):\n",
    "    return [item.upper() for item in lst]\n",
    "\n",
    "\n",
    "print(capitalize_list_items(['a', 'b']))"
   ]
  },
  {
   "cell_type": "markdown",
   "metadata": {},
   "source": [
    "---\n",
    "\n",
    "11. Declare una función llamada add_item. Toma una lista y los parámetros de un elemento. Devuelve una lista con el elemento agregado al final.\n",
    "\n",
    "```python\n",
    "food_staff = ['Potato', 'Tomato', 'Mango', 'Milk'];\n",
    "print(add_item(food_staff, 'Meat'))  # ['Potato', 'Tomato', 'Mango', 'Milk','Meat'];\n",
    "numbers = [2, 3, 7, 9];\n",
    "\n",
    "print(add_item(numbers, 5))   # [2, 3, 7, 9, 5]\n",
    "```\n"
   ]
  },
  {
   "cell_type": "code",
   "execution_count": null,
   "metadata": {},
   "outputs": [],
   "source": [
    "def add_item(lista, elemento):\n",
    "    lista.append(elemento)\n",
    "    return lista\n",
    "\n",
    "\n",
    "print(add_item([1, 2, 3, 4, 5], 6))"
   ]
  },
  {
   "cell_type": "markdown",
   "metadata": {},
   "source": [
    "---\n",
    "\n",
    "12. Declare una función llamada remove_item. Toma una lista y los parámetros de un elemento. Devuelve una lista con el elemento eliminado de ella.\n",
    "\n",
    "```python\n",
    "food_staff = ['Potato', 'Tomato', 'Mango', 'Milk'];\n",
    "print(remove_item(food_staff, 'Mango'))  # ['Potato', 'Tomato', 'Milk'];\n",
    "numbers = [2, 3, 7, 9];\n",
    "print(remove_item(numbers, 3))  # [2, 7, 9]\n",
    "```\n"
   ]
  },
  {
   "cell_type": "code",
   "execution_count": null,
   "metadata": {},
   "outputs": [],
   "source": [
    "def remove_item(lista, elemento_a_eliminar):\n",
    "    lista.remove(elemento_a_eliminar)\n",
    "    return lista\n",
    "\n",
    "\n",
    "food_staff = ['Potato', 'Tomato', 'Mango', 'Milk']\n",
    "print(remove_item(food_staff, 'Mango'))\n",
    "\n",
    "numbers = [2, 3, 7, 9]\n",
    "print(remove_item(numbers, 3))\n"
   ]
  },
  {
   "cell_type": "markdown",
   "metadata": {},
   "source": [
    "---\n",
    "\n",
    "13. Declare una función llamada sum_of_numbers. Toma un parámetro numérico y suma todos los números en ese rango.\n",
    "\n",
    "```python\n",
    "print(sum_of_numbers(5))    # 15\n",
    "print(sum_all_numbers(10))  # 55\n",
    "print(sum_all_numbers(100)) # 5050\n",
    "```\n"
   ]
  },
  {
   "cell_type": "code",
   "execution_count": null,
   "metadata": {},
   "outputs": [],
   "source": [
    "def sum_of_numbers(n):\n",
    "    return sum(range(1, n + 1))\n",
    "\n",
    "\n",
    "print(sum_of_numbers(5))    # 15\n",
    "print(sum_of_numbers(10))   # 55\n",
    "print(sum_of_numbers(100))  # 5050"
   ]
  },
  {
   "cell_type": "markdown",
   "metadata": {},
   "source": [
    "---\n",
    "\n",
    "14. Declare una función llamada suma_impares. Toma un parámetro numérico y suma todos los números impares en ese rango."
   ]
  },
  {
   "cell_type": "code",
   "execution_count": null,
   "metadata": {},
   "outputs": [],
   "source": [
    "def suma_impares(n):\n",
    "    return sum(range(1, n + 1, 2))\n",
    "\n",
    "\n",
    "print(suma_impares(5))      # 9\n",
    "print(suma_impares(10))     # 25\n",
    "print(suma_impares(100))    # 2500"
   ]
  },
  {
   "cell_type": "markdown",
   "metadata": {},
   "source": [
    "15. Declare una función llamada sum_of_even. Toma un parámetro numérico y suma todos los números pares en ese rango."
   ]
  },
  {
   "cell_type": "code",
   "execution_count": null,
   "metadata": {},
   "outputs": [],
   "source": [
    "def suma_pares(n):\n",
    "    return sum(range(2, n + 1, 2))\n",
    "\n",
    "\n",
    "print(suma_pares(5))    # 6\n",
    "print(suma_pares(10))   # 30\n",
    "print(suma_pares(100))  # 2450"
   ]
  },
  {
   "cell_type": "markdown",
   "metadata": {},
   "source": [
    "---\n",
    "\n",
    "# Ejercicios: Nivel 2"
   ]
  },
  {
   "cell_type": "markdown",
   "metadata": {},
   "source": [
    "1. Declare una función llamada evens_and_odds. Toma un entero positivo como parámetro y cuenta el número de pares e impares en el número.\n",
    "\n",
    "```python\n",
    "    print(evens_and_odds(100))\n",
    "    # The number of odds are 50.\n",
    "    # The number of evens are 51.\n",
    "```\n"
   ]
  },
  {
   "cell_type": "code",
   "execution_count": null,
   "metadata": {},
   "outputs": [],
   "source": [
    "def evens_and_odds(n):\n",
    "    pares = len(range(2, n + 1, 2))\n",
    "    print(pares)\n",
    "    impares = len(range(1, n + 1, 2))\n",
    "    print(impares)\n",
    "\n",
    "\n",
    "evens_and_odds(10)\n",
    "\n",
    "\n",
    "def evens_and_odds(num):\n",
    "    even_count = 0\n",
    "    odd_count = 0\n",
    "    for i in range(1, num + 1):\n",
    "        if i % 2 == 0:\n",
    "            even_count += 1\n",
    "        else:\n",
    "            odd_count += 1\n",
    "\n",
    "\n",
    "print(\"The number of odds are {}.\".format(odd_count))\n",
    "print(\"The number of evens are {}.\".format(even_count))\n",
    "\n",
    "print(evens_and_odds(100))\n"
   ]
  },
  {
   "cell_type": "markdown",
   "metadata": {},
   "source": [
    "---\n",
    "\n",
    "2. Llame a su función factorial, toma un número entero como parámetro y devuelve un factorial del número"
   ]
  },
  {
   "cell_type": "code",
   "execution_count": null,
   "metadata": {},
   "outputs": [],
   "source": [
    "def factorial(n):\n",
    "    if n == 0:\n",
    "        return 1\n",
    "    else:\n",
    "        return n * factorial(n - 1)\n",
    "\n",
    "\n",
    "print(factorial(5))"
   ]
  },
  {
   "cell_type": "markdown",
   "metadata": {},
   "source": [
    "---\n",
    "\n",
    "3. Llame a su función is_empty, toma un parámetro y verifica si está vacío o no.\n"
   ]
  },
  {
   "cell_type": "code",
   "execution_count": null,
   "metadata": {},
   "outputs": [],
   "source": [
    "def is_empty(item):\n",
    "    if item:\n",
    "        return False\n",
    "    else:\n",
    "        return True\n",
    "\n",
    "\n",
    "\n",
    "is_empty('') # will return True\n",
    "is_empty([]) # will return True\n",
    "is_empty({}) # will return True\n",
    "is_empty(0) # will return False\n",
    "is_empty('a') #will return False\n",
    "is_empty([1]) # will return False\n",
    "is_empty({'a':1}) # will return False"
   ]
  },
  {
   "cell_type": "markdown",
   "metadata": {},
   "source": [
    "---\n",
    "\n",
    "4. Escribe diferentes funciones que toman listas. Deben calcular_media, calcular_mediana, calcular_modo, calcular_rango, calcular_varianza, calcular_std (desviación estándar)."
   ]
  },
  {
   "cell_type": "code",
   "execution_count": null,
   "metadata": {},
   "outputs": [],
   "source": [
    "from statistics import mean, median, mode, stdev\n",
    "\n",
    "\n",
    "def calculate_mean(numbers):\n",
    "    return mean(numbers)\n",
    "\n",
    "\n",
    "def calculate_median(numbers):\n",
    "    return median(numbers)\n",
    "\n",
    "\n",
    "def calculate_mode(numbers):\n",
    "    return mode(numbers)\n",
    "\n",
    "\n",
    "def calculate_range(numbers):\n",
    "    return max(numbers) - min(numbers)\n",
    "\n",
    "\n",
    "def calculate_variance(numbers):\n",
    "    return statistics.pvariance(numbers)\n",
    "\n",
    "\n",
    "def calculate_std(numbers):\n",
    "    return stdev(numbers)\n"
   ]
  }
 ],
 "metadata": {
  "language_info": {
   "name": "python"
  }
 },
 "nbformat": 4,
 "nbformat_minor": 2
}
