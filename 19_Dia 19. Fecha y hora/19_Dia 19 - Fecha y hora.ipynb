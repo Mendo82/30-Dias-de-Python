{
 "cells": [
  {
   "cell_type": "markdown",
   "metadata": {},
   "source": [
    "\n",
    "<font size=6 color=red>30 días de Python: Día 19 - Python Fecha y hora</font>\n",
    "\n",
    "---\n",
    "\n",
    "## Fecha y hora en Python\n",
    "\n",
    "Python tiene el módulo `datetime` para manejar la fecha y la hora."
   ]
  },
  {
   "cell_type": "markdown",
   "metadata": {},
   "source": [
    "`Datetime` es un módulo en la biblioteca estándar de Python que proporciona clases para trabajar con fechas y horas. \n",
    "La clase `datetime` es una de las más importantes y representa una fecha y hora específicas.\n",
    "\n",
    "Esta clase toma los siguientes argumentos:\n",
    "\n",
    "```text\n",
    "year: año (por ejemplo, 2022)\n",
    "month: mes (1 a 12)\n",
    "day: día (1 a 31)\n",
    "hour (opcional): hora (0 a 23)\n",
    "minute (opcional): minuto (0 a 59)\n",
    "second (opcional): segundo (0 a 59)\n",
    "microsecond (opcional): microsegundo (0 a 999999)\n",
    "tzinfo (opcional): información de zona horaria\n",
    "```\n",
    "\n",
    "\n",
    "*Ejemplo:*"
   ]
  },
  {
   "cell_type": "code",
   "execution_count": null,
   "metadata": {},
   "outputs": [],
   "source": [
    "from datetime import datetime\n",
    "\n",
    "dt = datetime(2022, 1, 1, 12, 0, 0)\n",
    "\n",
    "print(dt)"
   ]
  },
  {
   "cell_type": "markdown",
   "metadata": {},
   "source": [
    "*Salida:*\n",
    "\n",
    "```text\n",
    "2022-01-01 12:00:00\n",
    "```"
   ]
  },
  {
   "cell_type": "markdown",
   "metadata": {},
   "source": [
    "Con los comandos integrados `dir()` o `help()` es posible conocer las funciones disponibles en un determinado módulo. \n",
    "Como puedes ver, en el módulo `datetime` hay muchas funciones, pero nos centraremos en `date`, `datetime`, `time` y `timedelta`. \n",
    "Vamos a verlos uno por uno."
   ]
  },
  {
   "cell_type": "code",
   "execution_count": null,
   "metadata": {},
   "outputs": [],
   "source": [
    "import datetime\n",
    "\n",
    "print(dir(datetime))\n",
    "[\n",
    "    'MAXYEAR', \n",
    "    'MINYEAR', \n",
    "    '__builtins__', \n",
    "    '__cached__', \n",
    "    '__doc__', \n",
    "    '__file__', \n",
    "    '__loader__', \n",
    "    '__name__', \n",
    "    '__package__', \n",
    "    '__spec__', \n",
    "    'date', \n",
    "    'datetime', \n",
    "    'datetime_CAPI', \n",
    "    'sys', \n",
    "    'time', \n",
    "    'timedelta', \n",
    "    'timezone', \n",
    "    'tzinfo'\n",
    "]"
   ]
  },
  {
   "cell_type": "markdown",
   "metadata": {},
   "source": [
    "---\n",
    "\n",
    "## Obtener información de fecha y hora"
   ]
  },
  {
   "cell_type": "code",
   "execution_count": null,
   "metadata": {},
   "outputs": [],
   "source": [
    "from datetime import datetime\n",
    "\n",
    "now = datetime.now()\n",
    "print(now)                      # 2021-07-08 07:34:46.549883\n",
    "day = now.day                   # 8\n",
    "month = now.month               # 7\n",
    "year = now.year                 # 2021\n",
    "hour = now.hour                 # 7\n",
    "minute = now.minute             # 38\n",
    "second = now.second\n",
    "timestamp = now.timestamp()\n",
    "\n",
    "print(day, month, year, hour, minute)\n",
    "print('timestamp', timestamp)\n",
    "print(f'{day}/{month}/{year}, {hour}:{minute}')  # 8/7/2021, 7:38"
   ]
  },
  {
   "cell_type": "markdown",
   "metadata": {},
   "source": [
    "*Salida:*\n",
    "\n",
    "```text\n",
    "2024-02-11 19:38:42.633371\n",
    "11 2 2024 19 38\n",
    "timestamp 1707676722.633371\n",
    "11/2/2024, 19:38\n",
    "```\n"
   ]
  },
  {
   "cell_type": "markdown",
   "metadata": {},
   "source": [
    "\n",
    "Un `timestamp` es una marca de tiempo que indica un momento específico en tiempo. En Python, un `timestamp` se puede representar como un valor de tiempo en segundos desde la época Unix (1 de enero de 1970, a las 00:00:00 UTC). Estos valores de tiempo se pueden manipular y convertir en representaciones más humanamente legibles mediante el uso de la biblioteca \"`datetime`\" en Python."
   ]
  },
  {
   "cell_type": "markdown",
   "metadata": {},
   "source": [
    "---\n",
    "\n",
    "## Formato de salida de fecha usando <font color=grey>strftime</font>"
   ]
  },
  {
   "cell_type": "code",
   "execution_count": null,
   "metadata": {},
   "outputs": [],
   "source": [
    "from datetime import datetime\n",
    "\n",
    "new_year = datetime(2020, 1, 1)\n",
    "print(new_year)                                 # 2020-01-01 00:00:00\n",
    "\n",
    "day = new_year.day\n",
    "month = new_year.month\n",
    "year = new_year.year\n",
    "hour = new_year.hour\n",
    "minute = new_year.minute\n",
    "second = new_year.second\n",
    "\n",
    "print(day, month, year, hour, minute)            # 1 1 2020 0 0\n",
    "print(f'{day}/{month}/{year}, {hour}:{minute}')  # 1/1/2020, 0:0"
   ]
  },
  {
   "cell_type": "markdown",
   "metadata": {},
   "source": [
    "*Salida:*\n",
    "\n",
    "```text\n",
    "2020-01-01 00:00:00\n",
    "1 1 2020 0 0\n",
    "1/1/2020, 0:0\n",
    "```"
   ]
  },
  {
   "cell_type": "markdown",
   "metadata": {},
   "source": [
    "`Strftime` es una función en la biblioteca `datetime` de Python que se utiliza para formatear un objeto `datetime` en una cadena de caracteres con un formato específico. La función `strftime` proviene del inglés \"String Format Time\", lo que significa que toma un objeto de fecha y hora y lo convierte en una cadena de caracteres con un formato determinado.\n",
    "\n",
    "*Aquí hay un ejemplo de cómo utilizar strftime en Python:*"
   ]
  },
  {
   "cell_type": "code",
   "execution_count": null,
   "metadata": {},
   "outputs": [],
   "source": [
    "import datetime\n",
    "\n",
    "# Obtenga la fecha y hora actual\n",
    "now = datetime.datetime.now()\n",
    "\n",
    "# Formatee la fecha y hora actual en una cadena\n",
    "formatted_date = now.strftime(\"%Y-%m-%d %H:%M:%S\")\n",
    "\n",
    "print(\"La fecha y hora actual son:\", formatted_date)"
   ]
  },
  {
   "cell_type": "markdown",
   "metadata": {},
   "source": [
    "*Salida:*\n",
    "\n",
    "```text\n",
    "La fecha y hora actual son: 2024-02-11 19:42:26\n",
    "```"
   ]
  },
  {
   "cell_type": "markdown",
   "metadata": {},
   "source": [
    "En este ejemplo, se utiliza el formato `%Y-%m-%d %H:%M:%S` para formatear la fecha y hora actual en una cadena con el siguiente formato: \"`YYYY-MM-DD HH:MM:SS`\". Hay muchos otros formatos disponibles que se pueden usar con strftime para producir una variedad de representaciones de fechas y horas.\n",
    "\n",
    "El formato de fecha y hora usando el método strftime y la documentación se pueden encontrar aquí: https://strftime.org/.\n"
   ]
  },
  {
   "cell_type": "code",
   "execution_count": null,
   "metadata": {},
   "outputs": [],
   "source": [
    "from datetime import datetime\n",
    "\n",
    "# Fecha y hora actual\n",
    "\n",
    "now = datetime.now()\n",
    "t = now.strftime(\"%H:%M:%S\")\n",
    "print(\"time:\", t)\n",
    "time_one = now.strftime(\"%m/%d/%Y, %H:%M:%S\")\n",
    "\n",
    "# mm/dd/YY H:M:S format\n",
    "print(\"time one:\", time_one)\n",
    "time_two = now.strftime(\"%d/%m/%Y, %H:%M:%S\")\n",
    "\n",
    "# dd/mm/YY H:M:S format\n",
    "print(\"time two:\", time_two)\n"
   ]
  },
  {
   "cell_type": "markdown",
   "metadata": {},
   "source": [
    "*Salida:*\n",
    "\n",
    "```text\n",
    "time: 01:05:01\n",
    "time one: 12/05/2019, 01:05:01\n",
    "time two: 05/12/2019, 01:05:01\n",
    "```"
   ]
  },
  {
   "cell_type": "markdown",
   "metadata": {},
   "source": [
    "Aquí están todos los símbolos strftime que usamos para formatear el tiempo. Un ejemplo de todos los formatos para este módulo."
   ]
  },
  {
   "cell_type": "markdown",
   "metadata": {},
   "source": [
    "<img src='Imagenes/strftime.png'>"
   ]
  },
  {
   "cell_type": "markdown",
   "metadata": {},
   "source": [
    "---\n",
    "\n",
    "# Funcion <font color=grey>strptime()</font>\n",
    "\n",
    "`Strptime()` es una función en el módulo `datetime` de la biblioteca estándar de Python que se utiliza para analizar una representación de cadena de fecha y hora y devolver un objeto datetime correspondiente. La función toma dos argumentos: El primero es la cadena a analizar y el segundo es una cadena de formato que especifica el formato esperado de la cadena de entrada.\n",
    "\n",
    "Aquí hay una documentación: https://www.programiz.com/python-programming/datetime/strptimet que ayuda a entender el formato.\n",
    "\n",
    "*Ejemplo:*"
   ]
  },
  {
   "cell_type": "code",
   "execution_count": null,
   "metadata": {},
   "outputs": [],
   "source": [
    "from datetime import datetime\n",
    "\n",
    "date_string = \"2022-01-01 12:00:00\"\n",
    "date_format = \"%Y-%m-%d %H:%M:%S\"\n",
    "\n",
    "dt = datetime.strptime(date_string, date_format)\n",
    "\n",
    "print(dt)"
   ]
  },
  {
   "cell_type": "markdown",
   "metadata": {},
   "source": [
    "*Salida:*\n",
    "\n",
    "```text\n",
    "2022-01-01 12:00:00\n",
    "```\n",
    "\n",
    "\n",
    "*Otro ejemplo:*"
   ]
  },
  {
   "cell_type": "code",
   "execution_count": null,
   "metadata": {},
   "outputs": [],
   "source": [
    "from datetime import datetime\n",
    "\n",
    "date_string = \"5 December, 2019\"\n",
    "print(\"date_string =\", date_string)\n",
    "date_object = datetime.strptime(date_string, \"%d %B, %Y\")\n",
    "print(\"date_object =\", date_object)"
   ]
  },
  {
   "cell_type": "markdown",
   "metadata": {},
   "source": [
    "*Salida:*\n",
    "\n",
    "```text\n",
    "date_string = 5 December, 2019\n",
    "date_object = 2019-12-05 00:00:00\n",
    "```\n"
   ]
  },
  {
   "cell_type": "markdown",
   "metadata": {},
   "source": [
    "---\n",
    "\n",
    "# Usando <font color=grey>date</font> de <font color=grey>datetime</font>\n",
    "\n",
    "`date` es una clase dentro del módulo `datetime` en la biblioteca estándar de Python que se utiliza para representar una fecha específica (año, mes y día).\n",
    "\n",
    "Esta clase toma los siguientes argumentos:\n",
    "\n",
    "* `year`: año (por ejemplo, 2022)\n",
    "* `month`: mes (1 a 12)\n",
    "* `day`: día (1 a 31)\n",
    "\n",
    "*Ejemplo:*"
   ]
  },
  {
   "cell_type": "code",
   "execution_count": null,
   "metadata": {},
   "outputs": [],
   "source": [
    "from datetime import date\n",
    "\n",
    "d = date(2022, 1, 1)\n",
    "print(d)"
   ]
  },
  {
   "cell_type": "markdown",
   "metadata": {},
   "source": [
    "*Salida:*\n",
    "\n",
    "```text\n",
    "2022-01-01\n",
    "```"
   ]
  },
  {
   "cell_type": "markdown",
   "metadata": {},
   "source": [
    "*Otro ejemplo:*"
   ]
  },
  {
   "cell_type": "code",
   "execution_count": null,
   "metadata": {},
   "outputs": [],
   "source": [
    "from datetime import date\n",
    "\n",
    "d = date(2020, 1, 1)\n",
    "print(d)\n",
    "print('Current date:', d.today())     # 2019-12-05\n",
    "\n",
    "# Objeto date de la fecha de hoy\n",
    "\n",
    "today = date.today()\n",
    "print(\"Current year:\", today.year)    # 2019\n",
    "print(\"Current month:\", today.month)  # 12\n",
    "print(\"Current day:\", today.day)      # 5"
   ]
  },
  {
   "cell_type": "markdown",
   "metadata": {},
   "source": [
    "*Salida:*\n",
    "\n",
    "```text\n",
    "2020-01-01\n",
    "Current date: 2024-02-11\n",
    "Current year: 2024\n",
    "Current month: 2\n",
    "Current day: 11\n",
    "```"
   ]
  },
  {
   "cell_type": "markdown",
   "metadata": {},
   "source": [
    "---\n",
    "\n",
    "## Objetos de tiempo para representar el tiempo"
   ]
  },
  {
   "cell_type": "code",
   "execution_count": null,
   "metadata": {},
   "outputs": [],
   "source": [
    "from datetime import time\n",
    "\n",
    "# time(hour = 0, minute = 0, second = 0)\n",
    "a = time()\n",
    "print(\"a =\", a)\n",
    "\n",
    "# time(hour, minute and second)\n",
    "b = time(10, 30, 50)\n",
    "print(\"b =\", b)\n",
    "\n",
    "# time(hour, minute and second)\n",
    "c = time(hour=10, minute=30, second=50)\n",
    "print(\"c =\", c)\n",
    "\n",
    "# time(hour, minute, second, microsecond)\n",
    "d = time(10, 30, 50, 200555)\n",
    "print(\"d =\", d)"
   ]
  },
  {
   "cell_type": "markdown",
   "metadata": {},
   "source": [
    "*Salida:*\n",
    "\n",
    "```text\n",
    "a = 00:00:00\n",
    "b = 10:30:50\n",
    "c = 10:30:50\n",
    "d = 10:30:50.200555\n",
    "```"
   ]
  },
  {
   "cell_type": "markdown",
   "metadata": {},
   "source": [
    "---\n",
    "\n",
    "## Diferencia entre dos puntos en el tiempo"
   ]
  },
  {
   "cell_type": "code",
   "execution_count": null,
   "metadata": {},
   "outputs": [],
   "source": [
    "from datetime import date, datetime\n",
    "\n",
    "today = date(year=2019, month=12, day=5)\n",
    "new_year = date(year=2020, month=1, day=1)\n",
    "time_left_for_newyear = new_year - today\n",
    "\n",
    "# Time left for new year: 27 days\n",
    "print('Time left for new year:', time_left_for_newyear.days, 'days')\n",
    "\n",
    "t1 = datetime(year=2019, month=12, day=5, hour=0, minute=59, second=0)\n",
    "t2 = datetime(year=2020, month=1, day=1, hour=0, minute=0, second=0)\n",
    "diff = t2 - t1\n",
    "\n",
    "print('Time left for new year:', diff)  # Time left for new year: 26 days, 23:01:00\n"
   ]
  },
  {
   "cell_type": "markdown",
   "metadata": {},
   "source": [
    "*Salida:*\n",
    "\n",
    "```text\n",
    "Time left for new year: 27 days\n",
    "Time left for new year: 26 days, 23:01:00\n",
    "```"
   ]
  },
  {
   "cell_type": "markdown",
   "metadata": {},
   "source": [
    "---\n",
    "\n",
    "## Diferencia entre dos puntos en el tiempo utilizando <font color=grey>timedelta</font>\n",
    "\n",
    "Para encontrar la diferencia entre dos puntos en el tiempo en Python, puedes restar un objeto `datetime` con otro.\n",
    "Esto dará como resultado un objeto `timedelta`, que representa la duración entre los dos puntos en el tiempo.\n",
    "\n",
    "*Ejemplo:*"
   ]
  },
  {
   "cell_type": "code",
   "execution_count": null,
   "metadata": {},
   "outputs": [],
   "source": [
    "from datetime import timedelta\n",
    "\n",
    "t1 = timedelta(weeks=12, days=10, hours=4, seconds=20)\n",
    "t2 = timedelta(days=7, hours=5, minutes=3, seconds=30)\n",
    "t3 = t1 - t2\n",
    "\n",
    "print(\"t3 =\", t3)"
   ]
  },
  {
   "cell_type": "markdown",
   "metadata": {},
   "source": [
    "*Salida:*\n",
    "\n",
    "```text\n",
    "t3 = 86 days, 22:56:50\n",
    "```"
   ]
  }
 ],
 "metadata": {
  "kernelspec": {
   "display_name": "Python 3",
   "language": "python",
   "name": "python3"
  },
  "language_info": {
   "codemirror_mode": {
    "name": "ipython",
    "version": 3
   },
   "file_extension": ".py",
   "mimetype": "text/x-python",
   "name": "python",
   "nbconvert_exporter": "python",
   "pygments_lexer": "ipython3",
   "version": "3.11.6"
  }
 },
 "nbformat": 4,
 "nbformat_minor": 2
}
