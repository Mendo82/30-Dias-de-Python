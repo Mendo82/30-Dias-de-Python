{
 "cells": [
  {
   "cell_type": "markdown",
   "metadata": {},
   "source": [
    "<font size=6 color=red>Ejercicios - Día 19</font>\n",
    "\n",
    "---\n",
    "\n",
    "1. Obtenga el día, mes, año, hora, minuto y marca de tiempo actual del módulo datetime."
   ]
  },
  {
   "cell_type": "code",
   "execution_count": null,
   "metadata": {},
   "outputs": [],
   "source": [
    "from datetime import datetime\n",
    "\n",
    "now = datetime.now()\n",
    "print(now)"
   ]
  },
  {
   "cell_type": "markdown",
   "metadata": {},
   "source": [
    "---\n",
    "\n",
    "2. Formatee la fecha actual usando este formato: \"%d/%m/%Y, %H:%M:%S\")"
   ]
  },
  {
   "cell_type": "code",
   "execution_count": null,
   "metadata": {},
   "outputs": [],
   "source": [
    "formato_fecha = now.strftime(\"%d/%m/%Y, %H:%M:%S\")\n",
    "print(formato_fecha)\n"
   ]
  },
  {
   "cell_type": "markdown",
   "metadata": {},
   "source": [
    "---\n",
    "\n",
    "3. Hoy es 5 de diciembre de 2019. Cambie esta cadena de tiempo a time."
   ]
  },
  {
   "cell_type": "code",
   "execution_count": null,
   "metadata": {},
   "outputs": [],
   "source": [
    "from datetime import datetime\n",
    "\n",
    "time_string = \"5 de December, de 2019\"\n",
    "time_format = \"%d de %B, de %Y\"\n",
    "\n",
    "time = datetime.strptime(time_string, time_format)\n",
    "\n",
    "print(time)  # Output: 2019-12-05 00:00:00\n"
   ]
  },
  {
   "cell_type": "markdown",
   "metadata": {},
   "source": [
    "Para convertir la cadena de texto \"5 de diciembre de 2019\" a un objeto datetime en Python, puedes usar el método datetime.strptime. Este método te permite\n",
    "parsear una representación de cadena de una fecha y hora en un objeto datetime, especificando el formato de la cadena.\n",
    "\n",
    "En este ejemplo, el formato \"%d de %B de %Y\" especifica la estructura de la cadena, con %d que representa el día del mes, %B que representa el nombre\n",
    "completo del mes y %Y que representa el año."
   ]
  },
  {
   "cell_type": "markdown",
   "metadata": {},
   "source": [
    "---\n",
    "\n",
    "4. Calcula la diferencia horaria entre ahora y el año nuevo.\n",
    "\n",
    "Para calcular la diferencia de tiempo entre ahora y el Año Nuevo (1 de enero) en Python, puedes usar el módulo datetime. Primero, puedes obtener la fecha y hora actual utilizando el método datetime.now, y luego puedes crear un objeto datetime que represente el Año Nuevo. Finalmente, puedes restar un objeto datetime del otro para obtener la diferencia de tiempo.\n"
   ]
  },
  {
   "cell_type": "code",
   "execution_count": null,
   "metadata": {},
   "outputs": [],
   "source": [
    "from datetime import datetime, timedelta\n",
    "\n",
    "# Obtener la fecha y hora actual\n",
    "ahora = datetime.now()\n",
    "\n",
    "# Crear un objeto datetime que represente el Año Nuevo\n",
    "año_nuevo = datetime(ahora.year, 1, 1)\n",
    "\n",
    "# Calcular la diferencia de tiempo entre ahora y el Año Nuevo\n",
    "diferencia_tiempo = ahora - año_nuevo\n",
    "\n",
    "print(diferencia_tiempo)"
   ]
  },
  {
   "cell_type": "markdown",
   "metadata": {},
   "source": [
    "La salida será un objeto timedelta que representa la diferencia de tiempo entre ahora y el Año Nuevo. Puedes extraer varias partes del objeto timedelta, como los días, segundos o segundos totales, para obtener la duración exacta entre los dos puntos en el tiempo."
   ]
  },
  {
   "cell_type": "markdown",
   "metadata": {},
   "source": [
    "---\n",
    "\n",
    "5. Calcula la diferencia horaria entre el 1 de enero de 1970 y ahora.\n",
    "\n",
    "Para calcular la diferencia de tiempo entre el 1 de enero de 1970 y ahora en Python, puedes usar el módulo datetime. Primero, puedes crear un objeto datetime que represente el 1 de enero de 1970, y luego puedes obtener la fecha y hora actual utilizando el método datetime.now. Finalmente, puedes restar un objeto datetime del otro para obtener la diferencia de tiempo."
   ]
  },
  {
   "cell_type": "code",
   "execution_count": null,
   "metadata": {},
   "outputs": [],
   "source": [
    "from datetime import datetime, timedelta\n",
    "\n",
    "# Crear un objeto datetime que represente el 1 de enero de 1970\n",
    "primero_de_enero_1970 = datetime(1970, 1, 1)\n",
    "\n",
    "# Obtener la fecha y hora actual\n",
    "ahora = datetime.now()\n",
    "\n",
    "# Calcular la diferencia de tiempo entre el 1 de enero de 1970 y ahora\n",
    "diferencia_tiempo = ahora - primero_de_enero_1970\n",
    "\n",
    "print(diferencia_tiempo)"
   ]
  },
  {
   "cell_type": "markdown",
   "metadata": {},
   "source": [
    "La salida será un objeto timedelta que representa la diferencia de tiempo entre el 1 de enero de 1970 y ahora. Puedes extraer varias partes del objeto timedelta, como los días, segundos, o segundos totales, para obtener la duración exacta entre los dos puntos en el tiempo."
   ]
  }
 ],
 "metadata": {
  "kernelspec": {
   "display_name": "Python 3",
   "language": "python",
   "name": "python3"
  },
  "language_info": {
   "codemirror_mode": {
    "name": "ipython",
    "version": 3
   },
   "file_extension": ".py",
   "mimetype": "text/x-python",
   "name": "python",
   "nbconvert_exporter": "python",
   "pygments_lexer": "ipython3",
   "version": "3.11.8"
  }
 },
 "nbformat": 4,
 "nbformat_minor": 2
}
