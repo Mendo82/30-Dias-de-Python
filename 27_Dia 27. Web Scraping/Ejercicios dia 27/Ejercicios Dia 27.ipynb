{
 "cells": [
  {
   "cell_type": "markdown",
   "metadata": {},
   "source": [
    "<font size=6 color=red>Ejercicios - Día 27</font>\n",
    "\n",
    "---\n",
    "\n",
    "1. Extraiga el siguiente sitio web y almacene los datos como un archivo json (url = 'http://www.bu.edu/president/boston-university-facts-stats/').\n"
   ]
  },
  {
   "cell_type": "code",
   "execution_count": null,
   "metadata": {},
   "outputs": [],
   "source": [
    "import requests\n",
    "import json\n",
    "from bs4 import BeautifulSoup\n",
    "import urllib.request\n",
    "\n",
    "\n",
    "# Enviar una solicitud al sitio web y obtener su contenido\n",
    "url = 'http://www.bu.edu/president/boston-university-facts-stats/'\n",
    "\n",
    "# datos = urllib.request.urlopen(url).read().decode()\n",
    "datos = urllib.request.urlopen(url)\n",
    "\n",
    "soup = BeautifulSoup(datos, 'html.parser')\n",
    "print(soup.prettify())\n",
    "tags = soup('a')\n",
    "for tag in tags:\n",
    "    print(tag.get('href'))"
   ]
  }
 ],
 "metadata": {
  "language_info": {
   "name": "python"
  }
 },
 "nbformat": 4,
 "nbformat_minor": 2
}
