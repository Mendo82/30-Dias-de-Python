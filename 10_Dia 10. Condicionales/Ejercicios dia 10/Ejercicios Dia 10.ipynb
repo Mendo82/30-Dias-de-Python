{
 "cells": [
  {
   "cell_type": "markdown",
   "metadata": {},
   "source": [
    "<font size=5 color=red>Ejercicios - Día 10</font>\n",
    "\n",
    "---"
   ]
  },
  {
   "cell_type": "markdown",
   "metadata": {},
   "source": [
    "Obtenga la entrada del usuario usando input (\"Ingrese su edad:\"). Si el usuario tiene 18 años o más, dé su opinión: tiene edad suficiente para conducir. Si es menor de 18, dé su opinión para esperar la cantidad de años que faltan.\n",
    "\n",
    "```text\n",
    "Producción:\n",
    "\n",
    "Enter your age: 30\n",
    "You are old enough to learn to drive.\n",
    "\n",
    "Output:\n",
    "\n",
    "Enter your age: 15\n",
    "You need 3 more years to learn to drive.\n",
    "```\n"
   ]
  },
  {
   "cell_type": "code",
   "execution_count": null,
   "metadata": {},
   "outputs": [],
   "source": [
    "edad = int(input('Introduce tu edad: '))\n",
    "if edad >= 18:\n",
    "    print('Tienes la edad suficiente para conducir')\n",
    "else:\n",
    "    print('No puedes conducir, todavia te faltan', 18 - edad, 'años.')\n"
   ]
  },
  {
   "cell_type": "markdown",
   "metadata": {},
   "source": [
    "---\n",
    "\n",
    "Compara los valores de mi_edad y tu_edad usando if... else. ¿Quién es mayor (tú o yo)? Use input (\"Ingrese su edad:\") para obtener la edad como entrada.\n",
    "Puede usar una condición anidada para imprimir 'año' para una diferencia de edad de 1 año, 'años' para diferencias mayores y un texto personalizado si mi_edad = su_edad.\n",
    "\n",
    "```text\n",
    "Producción:\n",
    "\n",
    "Enter your age: 30\n",
    "\n",
    "You are 5 years older than me.\n",
    "```\n"
   ]
  },
  {
   "cell_type": "code",
   "execution_count": null,
   "metadata": {},
   "outputs": [],
   "source": [
    "mi_edad = 47\n",
    "tu_edad = int(input('Introduce tu edad: '))\n",
    "\n",
    "if tu_edad > mi_edad:\n",
    "    print('Tu eres mayor que yo', tu_edad - mi_edad, 'años')\n",
    "elif tu_edad < mi_edad:\n",
    "    print('Tu eres mas joven que yo', mi_edad - tu_edad, 'años')\n",
    "else:\n",
    "    print('Tenemos la misma edad.')"
   ]
  },
  {
   "cell_type": "markdown",
   "metadata": {},
   "source": [
    "---\n",
    "\n",
    "Obtenga dos números del usuario mediante el indicador de entrada. Si a es mayor que b, devuelve a es mayor que b, si a es menor, b devuelve a es menor que b, de lo contrario, a es igual a b.\n",
    "\n",
    "```text\n",
    "Producción:\n",
    "\n",
    "Enter number one: 4\n",
    "Enter number two: 3\n",
    "\n",
    "4 is greater than 3\n",
    "```\n"
   ]
  },
  {
   "cell_type": "code",
   "execution_count": null,
   "metadata": {},
   "outputs": [],
   "source": [
    "a = int(input('Introduce el primer numero: '))\n",
    "b = int(input('Introduce el segundo numero: '))\n",
    "\n",
    "if a > b:\n",
    "    print('El primer numero es mayor que el segundo.')\n",
    "elif a < b:\n",
    "    print('El primer numero es menor que el segundo.')\n",
    "else:\n",
    "    print('Los dos numeros son iguales.')\n"
   ]
  },
  {
   "cell_type": "markdown",
   "metadata": {},
   "source": [
    "---\n",
    "\n",
    "<font size=5 color=red>Ejercicios: Nivel 2</font>\n",
    "\n",
    "Escriba un código que califique a los estudiantes de acuerdo con sus puntajes:\n",
    "\n",
    "```text\n",
    "90-100, A\n",
    "70-89, B\n",
    "60-69, C\n",
    "50-59, D\n",
    "0-49, F\n",
    "```\n"
   ]
  },
  {
   "cell_type": "code",
   "execution_count": null,
   "metadata": {},
   "outputs": [],
   "source": [
    "puntuacion = int(input('Introduce tu puntuacion: '))\n",
    "\n",
    "if puntuacion >= 90 and puntuacion <= 100:\n",
    "    print('A')\n",
    "elif puntuacion >= 70 and puntuacion <= 89:\n",
    "    print('B')\n",
    "elif puntuacion >= 60 and puntuacion <= 69:\n",
    "    print('C')\n",
    "elif puntuacion >= 50 and puntuacion <= 59:\n",
    "    print('D')\n",
    "else:\n",
    "    print('F')"
   ]
  },
  {
   "cell_type": "markdown",
   "metadata": {},
   "source": [
    "---\n",
    "\n",
    "Consulta si la temporada es Otoño, Invierno, Primavera o Verano. Si la entrada del usuario es: septiembre, octubre o noviembre, la estación es otoño.\n",
    "Diciembre, enero o febrero, la temporada es invierno. Marzo, Abril o Mayo, la temporada es Primavera Junio, Julio o Agosto, la temporada es Verano."
   ]
  },
  {
   "cell_type": "code",
   "execution_count": null,
   "metadata": {},
   "outputs": [],
   "source": [
    "otoño = {'septiembre', 'octubre', 'noviembre'}\n",
    "invierno = {'diciembre', 'enero', 'febrero'}\n",
    "primavera = {'marzo', 'abril', 'mayo'}\n",
    "verano = {'junio', 'julio', 'agosto'}\n",
    "\n",
    "mes = input('Introduce un mes: ')\n",
    "\n",
    "if mes in otoño:\n",
    "    print('Estamos en otoño')\n",
    "elif mes in invierno:\n",
    "    print('Estamos en invierno.')\n",
    "elif mes in primavera:\n",
    "    print('Estamos en primavera.')\n",
    "elif mes in verano:\n",
    "    print('Estamos en  verano.')"
   ]
  },
  {
   "cell_type": "markdown",
   "metadata": {},
   "source": [
    "---\n",
    "\n",
    "La siguiente lista contiene algunas frutas:\n",
    "\n",
    "```python\n",
    "frutas = ['platano', 'naranja', 'mango', 'limon']\n",
    "```\n",
    "\n",
    "Si una fruta no existe en la lista, agregue la fruta a la lista e imprima la lista modificada. Si la fruta existe print('Esa fruta ya existe en la lista')"
   ]
  },
  {
   "cell_type": "code",
   "execution_count": null,
   "metadata": {},
   "outputs": [],
   "source": [
    "frutas = ['platano', 'naranja', 'mango', 'limon']\n",
    "\n",
    "fruta = input('Introduce el nombre de una fruta: ')\n",
    "\n",
    "if fruta in frutas:\n",
    "    print('Lo siento, esa fruta ya esta en la lista.')\n",
    "else:\n",
    "    frutas.append(fruta)\n",
    "    print(frutas)"
   ]
  },
  {
   "cell_type": "markdown",
   "metadata": {},
   "source": [
    "---\n",
    "\n",
    "<font size=6 color=red>Ejercicios: Nivel 3</font>\n",
    "\n",
    "Aquí tenemos un diccionario de personas. ¡Siéntete libre de modificarlo!\n"
   ]
  },
  {
   "cell_type": "code",
   "execution_count": null,
   "metadata": {},
   "outputs": [],
   "source": [
    "personas = {\n",
    "    'nombre': 'Asabeneh',\n",
    "    'apellido': 'Yetayeh',\n",
    "    'años': 250,\n",
    "    'pais': 'Finland',\n",
    "    'casado': True,\n",
    "    'habilidades': ['JavaScript', 'React', 'Node', 'MongoDB', 'Python'],\n",
    "    'direccion': {\n",
    "        'calle': 'Space street',\n",
    "        'codigo_postal': '02210'\n",
    "    }\n",
    "}"
   ]
  },
  {
   "cell_type": "markdown",
   "metadata": {},
   "source": [
    "---\n",
    "\n",
    "Verifique si el diccionario de personas tiene una clave de habilidades, si es así, imprima la habilidad intermedia en la lista de habilidades."
   ]
  },
  {
   "cell_type": "code",
   "execution_count": null,
   "metadata": {},
   "outputs": [],
   "source": [
    "if 'habilidades' in personas:\n",
    "    mitad = (len(personas['habilidades']) // 2)\n",
    "    print('El diccionario personas continene una clave de habilidades, y la \\\n",
    "           habilidad intermedia en la lista de habilidades es:\\\n",
    "           ', personas['habilidades'][mitad])"
   ]
  },
  {
   "cell_type": "markdown",
   "metadata": {},
   "source": [
    "---\n",
    "\n",
    "Verifique si el diccionario de personas tiene la clave de habilidades, si es así, verifique si la persona tiene la habilidad 'Python' e imprima el resultado."
   ]
  },
  {
   "cell_type": "code",
   "execution_count": null,
   "metadata": {},
   "outputs": [],
   "source": [
    "personas = {\n",
    "    'nombre': 'Asabeneh',\n",
    "    'apellido': 'Yetayeh',\n",
    "    'años': 250,\n",
    "    'pais': 'Finland',\n",
    "    'casado': True,\n",
    "    'habilidades': ['JavaScript', 'React', 'Node', 'MongoDB', 'Python'],\n",
    "    'direccion': {\n",
    "        'calle': 'Space street',\n",
    "        'codigo_postal': '02210'\n",
    "    }\n",
    "}\n",
    "\n",
    "if 'habilidades' in personas and 'Python' in personas['habilidades']:\n",
    "    print(\"\"\"\n",
    "          Dentro del diccionario personas se encuentra la clave habilidades,\n",
    "          y dentro de ella se encuentra la habilidad Python.\n",
    "          \"\"\")"
   ]
  },
  {
   "cell_type": "markdown",
   "metadata": {},
   "source": [
    "---\n",
    "\n",
    "Si las habilidades de una persona solo tienen JavaScript y React, print('Es un desarrollador front-end'), si las habilidades de la persona tienen Node, Python, MongoDB, print('Es un desarrollador backend'),\n",
    "si las habilidades de la persona tienen React, Node y MongoDB, Print('Él es un desarrollador fullstack'), else print('título desconocido') - ¡para obtener resultados más precisos, se pueden anidar más condiciones!"
   ]
  },
  {
   "cell_type": "code",
   "execution_count": null,
   "metadata": {},
   "outputs": [],
   "source": [
    "personas = {\n",
    "    'nombre': 'Asabeneh',\n",
    "    'apellido': 'Yetayeh',\n",
    "    'años': 250,\n",
    "    'pais': 'Finland',\n",
    "    'casado': True,\n",
    "    'habilidades': ['JavaScript', 'React', 'Node', 'MongoDB', 'Python'],\n",
    "    'direccion': {\n",
    "        'calle': 'Space street',\n",
    "        'codigo_postal': '02210'\n",
    "    }\n",
    "}\n",
    "\n",
    "if 'JavaScript' in personas['habilidades'] and 'React' in personas['habilidades']:\n",
    "    print('Es un desarrollador front-end')\n",
    "if 'Node' in personas['habilidades'] and 'Python' in personas['habilidades'] and 'MongoDB' in personas['habilidades']:\n",
    "    print('Es un desarrollador backend')"
   ]
  },
  {
   "cell_type": "markdown",
   "metadata": {},
   "source": [
    "---\n",
    "\n",
    "Si la persona está casada y si vive en Finlandia, imprima la información en el siguiente formato:\n",
    "\n",
    "```text\n",
    "Asabeneh Yetayeh vive en Finland. El esta casado.\n",
    "```\n"
   ]
  },
  {
   "cell_type": "code",
   "execution_count": null,
   "metadata": {},
   "outputs": [],
   "source": [
    "personas = {\n",
    "    'nombre': 'Asabeneh',\n",
    "    'apellido': 'Yetayeh',\n",
    "    'años': 250,\n",
    "    'pais': 'Finland',\n",
    "    'casado': True,\n",
    "    'habilidades': ['JavaScript', 'React', 'Node', 'MongoDB', 'Python'],\n",
    "    'direccion': {\n",
    "        'calle': 'Space street',\n",
    "        'codigo_postal': '02210'\n",
    "    }\n",
    "}\n",
    "\n",
    "if personas['casado'] is True and personas['pais'] is 'Finland':\n",
    "    print(\n",
    "        f\"{personas['nombre']} {personas['apellido']},vive en Finland. El esta casado.\")\n"
   ]
  }
 ],
 "metadata": {
  "language_info": {
   "name": "python"
  }
 },
 "nbformat": 4,
 "nbformat_minor": 2
}
